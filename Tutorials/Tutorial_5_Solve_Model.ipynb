{
 "cells": [
  {
   "cell_type": "markdown",
   "id": "7161bdf0",
   "metadata": {},
   "source": [
    "# Tutorial 5: Solving the Model"
   ]
  },
  {
   "cell_type": "markdown",
   "id": "0d97a9c1",
   "metadata": {},
   "source": [
    "In Tutorial 4, we went over how the model is generated when GenX is run using `Run.jl`. In the function `run_genx_case_simple` (or multistage), after `generate_model` is called, `solve_model` is called to solve the EP."
   ]
  },
  {
   "cell_type": "markdown",
   "id": "8b7ec72c",
   "metadata": {},
   "source": [
    "<img src=\"./files/runcase.png\" style=\"width: 805px; height: auto\" align=\"left\">"
   ]
  },
  {
   "cell_type": "markdown",
   "id": "22ba8a3f",
   "metadata": {},
   "source": [
    "In this tutorial, we go over how to use JuMP to solve a model, what it looks like to solve GenX, and how to edit the solver settings."
   ]
  },
  {
   "cell_type": "markdown",
   "id": "20f797de",
   "metadata": {},
   "source": [
    "## Table of Contents\n",
    "* [A Simple Example](#Simple)\n",
    "* [GenX](#GenX)\n",
    "* [Infeasibility](#Infeasibility)"
   ]
  },
  {
   "cell_type": "markdown",
   "id": "085065e0",
   "metadata": {},
   "source": [
    "## A Simple Example <a id=\"Simple\"></a>"
   ]
  },
  {
   "cell_type": "markdown",
   "id": "db597630",
   "metadata": {},
   "source": [
    "From Tutorial 4, we have the model:"
   ]
  },
  {
   "cell_type": "markdown",
   "id": "5da85c6b",
   "metadata": {},
   "source": [
    "\\begin{align}\n",
    "& \\min 10 x + 15 y &\\text{Objective function (cost)}\\\\ \n",
    "& \\text{s.t.} & \\\\\n",
    "& x + y \\geq 10 &\\text{Grid Demand}\\\\\n",
    "& 55x + 70y \\leq \\ 1000 &\\text{Construction constraint}\\\\\n",
    "& 40 x + 5 y \\leq 200 &\\text{Emissions constraint} \\\\\n",
    "& x, y \\geq 0 &\\text{Non-negativity constraints}\\\\\n",
    "\\end{align}\n",
    "\n",
    "\n"
   ]
  },
  {
   "cell_type": "code",
   "execution_count": 8,
   "id": "13b279e3",
   "metadata": {},
   "outputs": [],
   "source": [
    "using JuMP\n",
    "using HiGHS"
   ]
  },
  {
   "cell_type": "code",
   "execution_count": 9,
   "id": "2fd185bf",
   "metadata": {},
   "outputs": [
    {
     "data": {
      "text/latex": [
       "$ 10 x + 15 y $"
      ],
      "text/plain": [
       "10 x + 15 y"
      ]
     },
     "execution_count": 9,
     "metadata": {},
     "output_type": "execute_result"
    }
   ],
   "source": [
    "power = Model(HiGHS.Optimizer)\n",
    "\n",
    "@variable(power,x,Int) # Coal\n",
    "@variable(power,y,Int) # Wind\n",
    "\n",
    "@constraint(power, non_neg_x, x >= 0) # Non-negativity constraint (can't have negative power plants!)\n",
    "@constraint(power, non_neg_y, y >= 0) # Non-negativity constraint\n",
    "\n",
    "@constraint(power, emissions, 40x + 5y <= 200) # Emisisons constraint\n",
    "@constraint(power, construction_costs, 55x + 70y <= 1000) # Cost of constructing a new plant\n",
    "\n",
    "@constraint(power, demand, x + y >= 10) # Grid demand\n",
    "\n",
    "@expression(power,objective,10x+15y)\n",
    "\n",
    "@objective(power, Min, objective)"
   ]
  },
  {
   "cell_type": "markdown",
   "id": "e257e3b9",
   "metadata": {},
   "source": [
    "JuMP uses the function `optimize!(model)` to solve the LP:"
   ]
  },
  {
   "cell_type": "code",
   "execution_count": 10,
   "id": "25105600",
   "metadata": {},
   "outputs": [
    {
     "name": "stdout",
     "output_type": "stream",
     "text": [
      "Running HiGHS 1.6.0: Copyright (c) 2023 HiGHS under MIT licence terms\n",
      "Presolving model\n",
      "3 rows, 2 cols, 6 nonzeros\n",
      "3 rows, 2 cols, 6 nonzeros\n",
      "Objective function is integral with scale 0.2\n",
      "\n",
      "Solving MIP model with:\n",
      "   3 rows\n",
      "   2 cols (0 binary, 2 integer, 0 implied int., 0 continuous)\n",
      "   6 nonzeros\n",
      "\n",
      "        Nodes      |    B&B Tree     |            Objective Bounds              |  Dynamic Constraints |       Work      \n",
      "     Proc. InQueue |  Leaves   Expl. | BestBound       BestSol              Gap |   Cuts   InLp Confl. | LpIters     Time\n",
      "\n",
      "         0       0         0   0.00%   90              inf                  inf        0      0      0         0     0.0s\n",
      "\n",
      "Solving report\n",
      "  Status            Optimal\n",
      "  Primal bound      130\n",
      "  Dual bound        130\n",
      "  Gap               0% (tolerance: 0.01%)\n",
      "  Solution status   feasible\n",
      "                    130 (objective)\n",
      "                    0 (bound viol.)\n",
      "                    0 (int. viol.)\n",
      "                    0 (row viol.)\n",
      "  Timing            0.00 (total)\n",
      "                    0.00 (presolve)\n",
      "                    0.00 (postsolve)\n",
      "  Nodes             1\n",
      "  LP iterations     1 (total)\n",
      "                    0 (strong br.)\n",
      "                    0 (separation)\n",
      "                    0 (heuristics)\n"
     ]
    }
   ],
   "source": [
    "optimize!(power)"
   ]
  },
  {
   "cell_type": "markdown",
   "id": "e372f674",
   "metadata": {},
   "source": [
    "We can use the function `value.()` to get the value of each variable, and `objective_value()` to get the total objective value."
   ]
  },
  {
   "cell_type": "code",
   "execution_count": 11,
   "id": "0872674d",
   "metadata": {},
   "outputs": [
    {
     "name": "stdout",
     "output_type": "stream",
     "text": [
      "# Coal Plants: 4.0\n",
      "# Wind Farms: 6.0\n",
      "Cost: 130.0\n"
     ]
    }
   ],
   "source": [
    "println(\"# Coal Plants: \", value.(x))\n",
    "println(\"# Wind Farms: \", value.(y))\n",
    "println(\"Cost: \", objective_value(power))"
   ]
  },
  {
   "cell_type": "markdown",
   "id": "8ae7342c",
   "metadata": {},
   "source": [
    "We can also use the JuMP function `solution_summary` to see more details of the <a href=\"https://jump.dev/JuMP.jl/stable/manual/solutions/\" target=\"_blank\">solution</a>:"
   ]
  },
  {
   "cell_type": "code",
   "execution_count": 12,
   "id": "57f6e13d",
   "metadata": {},
   "outputs": [
    {
     "data": {
      "text/plain": [
       "* Solver : HiGHS\n",
       "\n",
       "* Status\n",
       "  Result count       : 1\n",
       "  Termination status : OPTIMAL\n",
       "  Message from the solver:\n",
       "  \"kHighsModelStatusOptimal\"\n",
       "\n",
       "* Candidate solution (result #1)\n",
       "  Primal status      : FEASIBLE_POINT\n",
       "  Dual status        : NO_SOLUTION\n",
       "  Objective value    : 1.30000e+02\n",
       "  Objective bound    : 1.30000e+02\n",
       "  Relative gap       : 0.00000e+00\n",
       "\n",
       "* Work counters\n",
       "  Solve time (sec)   : 3.36621e-03\n",
       "  Simplex iterations : 1\n",
       "  Barrier iterations : -1\n",
       "  Node count         : 1\n"
      ]
     },
     "execution_count": 12,
     "metadata": {},
     "output_type": "execute_result"
    }
   ],
   "source": [
    "solution_summary(power)"
   ]
  },
  {
   "cell_type": "markdown",
   "id": "783f846b",
   "metadata": {},
   "source": [
    "## GenX <a id=\"GenX\"></a>"
   ]
  },
  {
   "cell_type": "markdown",
   "id": "c0bfb0c3",
   "metadata": {},
   "source": [
    "Let's optimize the GenX model created in the last Tutorial. To do so, we'll create the inputs for `generate_model` and run it. "
   ]
  },
  {
   "cell_type": "code",
   "execution_count": 13,
   "id": "a980e3ce",
   "metadata": {},
   "outputs": [],
   "source": [
    "using GenX"
   ]
  },
  {
   "cell_type": "code",
   "execution_count": 11,
   "id": "10c64a36",
   "metadata": {},
   "outputs": [
    {
     "name": "stdout",
     "output_type": "stream",
     "text": [
      "Configuring Settings\n",
      "Time Series Data Already Clustered.\n"
     ]
    },
    {
     "ename": "LoadError",
     "evalue": "KeyError: key \"Solver\" not found",
     "output_type": "error",
     "traceback": [
      "KeyError: key \"Solver\" not found",
      "",
      "Stacktrace:",
      " [1] getindex(h::Dict{Any, Any}, key::String)",
      "   @ Base ./dict.jl:484",
      " [2] top-level scope",
      "   @ In[11]:21"
     ]
    }
   ],
   "source": [
    "case = joinpath(\"example_systems/1_three_zones\") \n",
    "\n",
    "genx_settings = GenX.get_settings_path(case, \"genx_settings.yml\");\n",
    "writeoutput_settings = GenX.get_settings_path(case, \"output_settings.yml\")\n",
    "setup = GenX.configure_settings(genx_settings,writeoutput_settings)\n",
    "\n",
    "settings_path = GenX.get_settings_path(case)\n",
    "### Create TDR_Results\n",
    "TDRpath = joinpath(case, setup[\"TimeDomainReductionFolder\"])\n",
    "\n",
    "if setup[\"TimeDomainReduction\"] == 1\n",
    "    GenX.prevent_doubled_timedomainreduction(case)\n",
    "    if !GenX.time_domain_reduced_files_exist(TDRpath)\n",
    "        println(\"Clustering Time Series Data (Grouped)...\")\n",
    "        GenX.cluster_inputs(case, settings_path, setup)\n",
    "    else\n",
    "        println(\"Time Series Data Already Clustered.\")\n",
    "    end\n",
    "end\n",
    "\n",
    "\n",
    "OPTIMIZER =  GenX.configure_solver(settings_path,HiGHS.Optimizer);\n",
    "\n",
    "inputs = GenX.load_inputs(setup, case)"
   ]
  },
  {
   "cell_type": "code",
   "execution_count": 15,
   "id": "d8e0ba09",
   "metadata": {},
   "outputs": [
    {
     "name": "stdout",
     "output_type": "stream",
     "text": [
      "Discharge Module\n",
      "Non-served Energy Module\n",
      "Investment Discharge Module\n",
      "Unit Commitment Module\n",
      "Emissions Module (for CO2 Policy modularization\n",
      "Dispatchable Resources Module\n",
      "Storage Resources Module\n",
      "Storage Investment Module\n",
      "Storage Core Resources Module\n",
      "Storage Resources with Symmetric Charge/Discharge Capacity Module\n",
      "Thermal (Unit Commitment) Resources Module\n",
      "C02 Policies Module\n",
      "Energy Share Requirement Policies Module\n",
      "Capacity Reserve Margin Policies Module\n",
      "Minimum Capacity Requirement Module\n",
      "Maximum Capacity Requirement Module\n"
     ]
    },
    {
     "data": {
      "text/plain": [
       "A JuMP Model\n",
       "Minimization problem with:\n",
       "Variables: 18492\n",
       "Objective function type: AffExpr\n",
       "`AffExpr`-in-`MathOptInterface.EqualTo{Float64}`: 5544 constraints\n",
       "`AffExpr`-in-`MathOptInterface.GreaterThan{Float64}`: 7398 constraints\n",
       "`AffExpr`-in-`MathOptInterface.LessThan{Float64}`: 27730 constraints\n",
       "`VariableRef`-in-`MathOptInterface.EqualTo{Float64}`: 2 constraints\n",
       "`VariableRef`-in-`MathOptInterface.GreaterThan{Float64}`: 18490 constraints\n",
       "Model mode: AUTOMATIC\n",
       "CachingOptimizer state: EMPTY_OPTIMIZER\n",
       "Solver name: HiGHS\n",
       "Names registered in the model: cCO2Emissions_systemwide, cCapacityResMargin, cESRShare, cMaxCap, cMaxCapEnergy, cMaxCapEnergyDuration, cMaxNSE, cMaxRetCommit, cMaxRetEnergy, cMaxRetNoCommit, cMinCap, cMinCapEnergy, cMinCapEnergyDuration, cNSEPerSeg, cPowerBalance, cSoCBalInterior, cSoCBalStart, cZoneMaxCapReq, cZoneMinCapReq, eCFix, eCFixEnergy, eCNSE, eCStart, eCVar_in, eCVar_out, eCapResMarBalance, eCapResMarBalanceStor, eCapResMarBalanceThermal, eCapResMarBalanceVRE, eELOSS, eELOSSByZone, eESR, eESRDischarge, eEmissionsByPlant, eEmissionsByZone, eExistingCap, eExistingCapEnergy, eGenerationByThermAll, eGenerationByVRE, eGenerationByZone, eMaxCapRes, eMaxCapResInvest, eMinCapRes, eMinCapResInvest, eObj, ePowerBalance, ePowerBalanceDisp, ePowerBalanceNse, ePowerBalanceStor, ePowerBalanceThermCommit, eTotalCFix, eTotalCFixEnergy, eTotalCNSE, eTotalCNSET, eTotalCNSETS, eTotalCStart, eTotalCStartT, eTotalCVarIn, eTotalCVarInT, eTotalCVarOut, eTotalCVarOutT, eTotalCap, eTotalCapEnergy, vCAP, vCAPENERGY, vCHARGE, vCO2Cap_slack, vCOMMIT, vNSE, vP, vRETCAP, vRETCAPENERGY, vS, vSHUT, vSTART, vZERO"
      ]
     },
     "execution_count": 15,
     "metadata": {},
     "output_type": "execute_result"
    }
   ],
   "source": [
    "EP = GenX.generate_model(setup,inputs,OPTIMIZER)"
   ]
  },
  {
   "cell_type": "markdown",
   "id": "a1c6d2d8",
   "metadata": {},
   "source": [
    "The function `solve_model(model, setup)` uses `optimize` to optimize the model:"
   ]
  },
  {
   "cell_type": "code",
   "execution_count": 16,
   "id": "f2b02c73",
   "metadata": {},
   "outputs": [
    {
     "name": "stdout",
     "output_type": "stream",
     "text": [
      "Running HiGHS 1.6.0: Copyright (c) 2023 HiGHS under MIT licence terms\n",
      "Presolving model\n",
      "36002 rows, 17519 cols, 136507 nonzeros\n",
      "34537 rows, 16058 cols, 136301 nonzeros\n",
      "Presolve : Reductions: rows 34537(-6135); columns 16058(-2434); elements 136301(-29877)\n",
      "Solving the presolved LP\n",
      "Using EKK dual simplex solver - serial\n",
      "  Iteration        Objective     Infeasibilities num(sum)\n",
      "          0    -6.1414103898e-01 Ph1: 31(126.489); Du: 3(0.614141) 0s\n",
      "      17289     1.0127828422e+04 Pr: 0(0); Du: 0(3.1797e-13) 4s\n",
      "Solving the original LP from the solution after postsolve\n",
      "Model   status      : Optimal\n",
      "Simplex   iterations: 17289\n",
      "Objective value     :  1.0127828422e+04\n",
      "HiGHS run time      :          4.56\n"
     ]
    }
   ],
   "source": [
    "solution = optimize!(EP) # GenX.solve_model(EP,setup)"
   ]
  },
  {
   "cell_type": "code",
   "execution_count": 9,
   "id": "06af66b3",
   "metadata": {},
   "outputs": [
    {
     "data": {
      "text/plain": [
       "9776.57688838726"
      ]
     },
     "execution_count": 9,
     "metadata": {},
     "output_type": "execute_result"
    }
   ],
   "source": [
    "objective_value(EP)"
   ]
  },
  {
   "cell_type": "markdown",
   "id": "f1a61ea2",
   "metadata": {},
   "source": [
    "Note that regardless of solver settings, the folder `TDR_Results` stays the same, so we won't change it throughout the tutorial."
   ]
  },
  {
   "cell_type": "markdown",
   "id": "48fb60a7",
   "metadata": {},
   "source": [
    "## Infeasibility <a id=\"Infeasibility\"></a>"
   ]
  },
  {
   "cell_type": "markdown",
   "id": "74fdaee2",
   "metadata": {},
   "source": [
    "In some cases, your model may not be able to return a value. This happens when no value can be found that satisfies all constraints. To see this, let's go back to our simple example and change one of the parameters to break the model."
   ]
  },
  {
   "cell_type": "markdown",
   "id": "391c65e6",
   "metadata": {},
   "source": [
    "\\begin{align}\n",
    "& \\min 10 x + 15 y &\\text{Objective function (cost)}\\\\ \n",
    "& \\text{s.t.} & \\\\\n",
    "& x + y \\geq 10 &\\text{Grid Demand}\\\\\n",
    "& 55x + 70y \\leq \\ 1000 &\\text{Construction constraint}\\\\\n",
    "& 40 x + 5 y \\leq 200 &\\text{Emissions constraint} \\\\\n",
    "& 7 x + 30 y \\geq 500 &\\textbf{New Constraint} \\\\\n",
    "& x, y \\geq 0 &\\text{Non-negativity constraints}\\\\\n",
    "\\end{align}"
   ]
  },
  {
   "cell_type": "code",
   "execution_count": 35,
   "id": "df231496",
   "metadata": {},
   "outputs": [
    {
     "data": {
      "text/latex": [
       "$$ 7 x + 30 y \\geq 500 $$"
      ],
      "text/plain": [
       "new1 : 7 x + 30 y ≥ 500"
      ]
     },
     "execution_count": 35,
     "metadata": {},
     "output_type": "execute_result"
    }
   ],
   "source": [
    "@constraint(power, new, 7x + 30y >= 500)\n"
   ]
  },
  {
   "cell_type": "code",
   "execution_count": 39,
   "id": "a1aee5e2",
   "metadata": {},
   "outputs": [
    {
     "data": {
      "text/latex": [
       "$$ \\begin{aligned}\n",
       "\\min\\quad & 10 x + 15 y\\\\\n",
       "\\text{Subject to} \\quad & x \\geq 0\\\\\n",
       " & y \\geq 0\\\\\n",
       " & x + y \\geq 10\\\\\n",
       " & 7 x + 30 y \\geq 500\\\\\n",
       " & 40 x + 5 y \\leq 200\\\\\n",
       " & 55 x + 70 y \\leq 1000\\\\\n",
       " & x \\in \\mathbb{Z}\\\\\n",
       " & y \\in \\mathbb{Z}\\\\\n",
       "\\end{aligned} $$"
      ]
     },
     "metadata": {},
     "output_type": "display_data"
    }
   ],
   "source": [
    "print(power)"
   ]
  },
  {
   "cell_type": "code",
   "execution_count": 37,
   "id": "2c9d376a",
   "metadata": {},
   "outputs": [
    {
     "name": "stdout",
     "output_type": "stream",
     "text": [
      "Presolving model\n",
      "Presolve: Infeasible\n",
      "\n",
      "Solving report\n",
      "  Status            Infeasible\n",
      "  Primal bound      inf\n",
      "  Dual bound        -inf\n",
      "  Gap               inf\n",
      "  Solution status   -\n",
      "  Timing            0.00 (total)\n",
      "                    0.00 (presolve)\n",
      "                    0.00 (postsolve)\n",
      "  Nodes             0\n",
      "  LP iterations     0 (total)\n",
      "                    0 (strong br.)\n",
      "                    0 (separation)\n",
      "                    0 (heuristics)\n"
     ]
    }
   ],
   "source": [
    "optimize!(power)"
   ]
  },
  {
   "cell_type": "markdown",
   "id": "0635a527",
   "metadata": {},
   "source": [
    "In this case, the infeasibility was detected on the presovle since it's clear no solution would fit within all constraints. For information on how to debug an infeasible solution, see the <a href=\"https://jump.dev/JuMP.jl/stable/manual/solutions/#Conflicts\" target=\"_blank\">JuMP documentaion</a>. Some solvers, such as Gurobi, will compute what is causing the conflict, e.g. which constraints are infeasible with one another (HiGHS does not do this). "
   ]
  },
  {
   "cell_type": "code",
   "execution_count": null,
   "id": "f61cac91",
   "metadata": {},
   "outputs": [],
   "source": []
  }
 ],
 "metadata": {
  "@webio": {
   "lastCommId": "2f4f0a183ed6436aa37da396bdae586b",
   "lastKernelId": "a5f65dbd-a77a-4cdc-aadc-16d252658e19"
  },
  "kernelspec": {
   "display_name": "Julia 1.9.2",
   "language": "julia",
   "name": "julia-1.9"
  },
  "language_info": {
   "file_extension": ".jl",
   "mimetype": "application/julia",
   "name": "julia",
   "version": "1.9.2"
  }
 },
 "nbformat": 4,
 "nbformat_minor": 5
}
