{
 "cells": [
  {
   "cell_type": "markdown",
   "id": "388f8773",
   "metadata": {},
   "source": [
    "# Tutorial 6: Solver Settings"
   ]
  },
  {
   "cell_type": "markdown",
   "id": "5abaf64b",
   "metadata": {},
   "source": [
    "Though solving the model relies on the JuMP function `optimize`, there are a number of ways to change the way in which the model is optimized. This tutorial goes over solver parameters and how they affect the model solution. For more information on configuring the solver, see <a href=\"https://genxproject.github.io/GenX.jl/dev/User_Guide/solver_configuration/\" target=\"_blank\">here</a> in the GenX documentation."
   ]
  },
  {
   "cell_type": "markdown",
   "id": "8827a8c7",
   "metadata": {},
   "source": [
    "## Table of Contents\n",
    "* [The HiGHs Solver](#HiGHs)\n",
    "* [Feasibility Tolerance](#Feasibility)\n",
    "* [PreSolve](#PreSolve)\n",
    "* [Crossover](#Crossover)"
   ]
  },
  {
   "cell_type": "code",
   "execution_count": 1,
   "id": "d0c78f3d",
   "metadata": {},
   "outputs": [
    {
     "name": "stderr",
     "output_type": "stream",
     "text": [
      "\u001b[36m\u001b[1m[ \u001b[22m\u001b[39m\u001b[36m\u001b[1mInfo: \u001b[22m\u001b[39mPrecompiling Plotly [58dd65bb-95f3-509e-9936-c39a10fdeae7]\n"
     ]
    },
    {
     "data": {
      "application/vnd.webio.node+json": {
       "children": [],
       "instanceArgs": {
        "namespace": "html",
        "tag": "div"
       },
       "nodeType": "DOM",
       "props": {},
       "type": "node"
      },
      "text/html": [
       "<div style=\"padding: 1em; background-color: #f8d6da; border: 1px solid #f5c6cb; font-weight: bold;\">\n",
       "<p>The WebIO Jupyter extension was not detected. See the\n",
       "<a href=\"https://juliagizmos.github.io/WebIO.jl/latest/providers/ijulia/\" target=\"_blank\">\n",
       "    WebIO Jupyter integration documentation\n",
       "</a>\n",
       "for more information.\n",
       "</div>\n"
      ],
      "text/plain": [
       "WebIO._IJuliaInit()"
      ]
     },
     "metadata": {
      "application/vnd.webio.node+json": {
       "kernelId": "41c7e890-52eb-43ea-8cd0-70012271ce1b"
      }
     },
     "output_type": "display_data"
    }
   ],
   "source": [
    "using YAML\n",
    "using GenX\n",
    "using JuMP\n",
    "using HiGHS\n",
    "using DataFrames\n",
    "using Plots\n",
    "using Plotly"
   ]
  },
  {
   "cell_type": "code",
   "execution_count": 2,
   "id": "629e30df",
   "metadata": {},
   "outputs": [
    {
     "name": "stdout",
     "output_type": "stream",
     "text": [
      "Configuring Settings\n"
     ]
    },
    {
     "data": {
      "text/plain": [
       "\"example_systems/1_three_zones/settings\""
      ]
     },
     "execution_count": 2,
     "metadata": {},
     "output_type": "execute_result"
    }
   ],
   "source": [
    "case = joinpath(\"example_systems/1_three_zones\") \n",
    "\n",
    "genx_settings = GenX.get_settings_path(case, \"genx_settings.yml\");\n",
    "writeoutput_settings = GenX.get_settings_path(case, \"output_settings.yml\")\n",
    "setup = GenX.configure_settings(genx_settings,writeoutput_settings) \n",
    "settings_path = GenX.get_settings_path(case)"
   ]
  },
  {
   "cell_type": "code",
   "execution_count": 3,
   "id": "43281fdc",
   "metadata": {},
   "outputs": [
    {
     "name": "stdout",
     "output_type": "stream",
     "text": [
      "Reading Input CSV Files\n",
      "Network.csv Successfully Read!\n",
      "Demand (load) data Successfully Read!\n",
      "Fuels_data.csv Successfully Read!\n"
     ]
    },
    {
     "name": "stderr",
     "output_type": "stream",
     "text": [
      "\u001b[36m\u001b[1m[ \u001b[22m\u001b[39m\u001b[36m\u001b[1mInfo: \u001b[22m\u001b[39mThermal.csv Successfully Read.\n",
      "\u001b[36m\u001b[1m[ \u001b[22m\u001b[39m\u001b[36m\u001b[1mInfo: \u001b[22m\u001b[39mVre.csv Successfully Read.\n",
      "\u001b[36m\u001b[1m[ \u001b[22m\u001b[39m\u001b[36m\u001b[1mInfo: \u001b[22m\u001b[39mStorage.csv Successfully Read.\n",
      "\u001b[36m\u001b[1m[ \u001b[22m\u001b[39m\u001b[36m\u001b[1mInfo: \u001b[22m\u001b[39mResource_energy_share_requirement.csv Successfully Read.\n",
      "\u001b[36m\u001b[1m[ \u001b[22m\u001b[39m\u001b[36m\u001b[1mInfo: \u001b[22m\u001b[39mResource_capacity_reserve_margin.csv Successfully Read.\n",
      "\u001b[36m\u001b[1m[ \u001b[22m\u001b[39m\u001b[36m\u001b[1mInfo: \u001b[22m\u001b[39mResource_minimum_capacity_requirement.csv Successfully Read.\n"
     ]
    },
    {
     "name": "stdout",
     "output_type": "stream",
     "text": [
      "\n",
      "Summary of resources loaded into the model:\n",
      "-------------------------------------------------------\n",
      "\tResource type \t\tNumber of resources\n",
      "=======================================================\n",
      "\tThermal        \t\t3\n",
      "\tVRE            \t\t4\n",
      "\tStorage        \t\t3\n",
      "=======================================================\n",
      "Total number of resources: 10\n",
      "-------------------------------------------------------\n",
      "Generators_variability.csv Successfully Read!\n",
      "Validating time basis\n",
      "Minimum_capacity_requirement.csv Successfully Read!\n",
      "CO2_cap.csv Successfully Read!\n",
      "CSV Files Successfully Read In From example_systems/1_three_zones\n"
     ]
    },
    {
     "data": {
      "text/plain": [
       "Dict{Any, Any} with 73 entries:\n",
       "  \"Z\"                         => 3\n",
       "  \"LOSS_LINES\"                => [1, 2]\n",
       "  \"STOR_HYDRO_SHORT_DURATION\" => Int64[]\n",
       "  \"RET_CAP_CHARGE\"            => Set{Int64}()\n",
       "  \"pC_D_Curtail\"              => [50.0, 45.0, 27.5, 10.0]\n",
       "  \"pTrans_Max_Possible\"       => [5.9, 4.0]\n",
       "  \"pNet_Map\"                  => [1.0 -1.0 0.0; 1.0 0.0 -1.0]\n",
       "  \"omega\"                     => [1.0, 1.0, 1.0, 1.0, 1.0, 1.0, 1.0, 1.0, 1.0, …\n",
       "  \"pMax_Line_Reinforcement\"   => [2.95, 2.0]\n",
       "  \"RET_CAP_ENERGY\"            => Int64[]\n",
       "  \"RESOURCES\"                 => AbstractResource[…\n",
       "  \"COMMIT\"                    => [1, 2, 3]\n",
       "  \"pMax_D_Curtail\"            => [1.0, 0.04, 0.024, 0.003]\n",
       "  \"STOR_ALL\"                  => [8, 9, 10]\n",
       "  \"THERM_ALL\"                 => [1, 2, 3]\n",
       "  \"dfCO2CapZones\"             => [1 0 0; 0 1 0; 0 0 1]\n",
       "  \"REP_PERIOD\"                => 1\n",
       "  \"MinCapReq\"                 => [5.0, 10.0, 6.0]\n",
       "  \"PWFU_Num_Segments\"         => 0\n",
       "  \"STOR_LONG_DURATION\"        => Int64[]\n",
       "  \"THERM_COMMIT_PWFU\"         => Int64[]\n",
       "  \"STOR_SYMMETRIC\"            => [8, 9, 10]\n",
       "  \"VRE\"                       => [4, 5, 6, 7]\n",
       "  \"RETRO\"                     => Int64[]\n",
       "  \"THERM_COMMIT\"              => [1, 2, 3]\n",
       "  ⋮                           => ⋮"
      ]
     },
     "execution_count": 3,
     "metadata": {},
     "output_type": "execute_result"
    }
   ],
   "source": [
    "### Create TDR_Results\n",
    "if \"TDR_results\" in cd(readdir,case)\n",
    "    rm(joinpath(case,\"TDR_results\"), recursive=true) \n",
    "end\n",
    "\n",
    "TDRpath = joinpath(case, setup[\"TimeDomainReductionFolder\"])\n",
    "system_path = joinpath(case, setup[\"SystemFolder\"])\n",
    "\n",
    "if setup[\"TimeDomainReduction\"] == 1\n",
    "    GenX.prevent_doubled_timedomainreduction(system_path)\n",
    "    if !GenX.time_domain_reduced_files_exist(TDRpath)\n",
    "        println(\"Clustering Time Series Data (Grouped)...\")\n",
    "        GenX.cluster_inputs(case, settings_path, setup)\n",
    "    else\n",
    "        println(\"Time Series Data Already Clustered.\")\n",
    "    end\n",
    "end\n",
    "\n",
    "inputs = GenX.load_inputs(setup, case)"
   ]
  },
  {
   "cell_type": "markdown",
   "id": "1e717c64",
   "metadata": {},
   "source": [
    "### The HiGHS Solver"
   ]
  },
  {
   "cell_type": "markdown",
   "id": "0958dc5c",
   "metadata": {},
   "source": [
    "In the example files, the solver <a href=\"https://highs.dev\" target=\"_blank\">HiGHS</a>. HiGHS is freely available for all to use. Other solvers, such as  <a href=\"https://www.gurobi.com\" target=\"_blank\">Gurobi</a>, are available for free for academics, and some <a href=\"https://genxproject.github.io/GenX.jl/dev/Getting_Started/commercial_solvers/\" target=\"_blank\">commercial solvers </a> such as CPLEX are also available. For the purpose of this tutorial, we will be focusing on HiGHS. \n",
    "\n",
    "To set the solver preferences, go into the settings folder of your case and select the YAML file of the solver you're using.\n",
    "\n"
   ]
  },
  {
   "cell_type": "code",
   "execution_count": 4,
   "id": "d13445c3",
   "metadata": {},
   "outputs": [
    {
     "data": {
      "text/plain": [
       "7-element Vector{String}:\n",
       " \".DS_Store\"\n",
       " \"clp_settings.yml\"\n",
       " \"cplex_settings.yml\"\n",
       " \"genx_settings.yml\"\n",
       " \"gurobi_settings.yml\"\n",
       " \"highs_settings.yml\"\n",
       " \"time_domain_reduction_settings.yml\""
      ]
     },
     "execution_count": 4,
     "metadata": {},
     "output_type": "execute_result"
    }
   ],
   "source": [
    "settings_folder = cd(readdir,joinpath(case,\"settings\")) # Print Settings folder"
   ]
  },
  {
   "cell_type": "code",
   "execution_count": 5,
   "id": "fe389e01",
   "metadata": {},
   "outputs": [
    {
     "data": {
      "text/plain": [
       "Dict{Any, Any} with 6 entries:\n",
       "  \"Method\"        => \"ipm\"\n",
       "  \"Feasib_Tol\"    => 1.0e-5\n",
       "  \"run_crossover\" => \"on\"\n",
       "  \"TimeLimit\"     => 1.0e23\n",
       "  \"Optimal_Tol\"   => 1.0e-5\n",
       "  \"Pre_Solve\"     => \"choose\""
      ]
     },
     "execution_count": 5,
     "metadata": {},
     "output_type": "execute_result"
    }
   ],
   "source": [
    "highs_settings = YAML.load(open(joinpath(case,\"settings/highs_settings.yml\")))"
   ]
  },
  {
   "cell_type": "markdown",
   "id": "74828287",
   "metadata": {},
   "source": [
    "The function <a href=\"https://genxproject.github.io/GenX/dev/solver_configuration/#Configuring-HiGHS\" target=\"_blank\">`configure_highs`</a> in `src/configure_solver` contains a list of default settings for the HiGHS solver\n",
    "\n"
   ]
  },
  {
   "cell_type": "markdown",
   "id": "0d29fa11",
   "metadata": {},
   "source": [
    "<img src=\"./files/highs_defaults.png\" style=\"width: auto; height: 500px\" align=\"left\">\n",
    "\n"
   ]
  },
  {
   "cell_type": "markdown",
   "id": "7ed7658a",
   "metadata": {},
   "source": [
    "There are about 80, so we'll only focus on a few for now. In most cases, you can leave the other settings on default. \n",
    "\n",
    "The default settings are combined with the settings you specify in `highs_settings.yml` in `configure_highs`, which is called from `configure_solver` in `run_genx_case_simple` right before the model is generated.\n",
    "\n"
   ]
  },
  {
   "cell_type": "markdown",
   "id": "27ba49f8",
   "metadata": {},
   "source": [
    "### Feasibility Tolerance <a id=\"Feasibility\"></a>"
   ]
  },
  {
   "cell_type": "markdown",
   "id": "26b41294",
   "metadata": {},
   "source": [
    "The parameters `Feasib_Tol` and `Optimal_Tol` represent the feasibility of the primal and dual functions respectively. Without going into too much detail, a  <a href=\"https://en.wikipedia.org/wiki/Duality_(optimization)\" target=\"_blank\">__dual function__</a> is an analagous formulation of the original (\"primal\") function whose objective value acts as a lower bound to the primal function. The objective value of the primal function is then the upper bound of the dual function. HiGHS will solve the dual and primal at each time step, then terminate when the solutions of the two are within a certain tolerance range. For more information on how this works specifically in HiGHS, see the  <a href=\"https://ergo-code.github.io/HiGHS/dev/terminology/\" target=\"_blank\">HiGHS documentaion</a>. \n",
    "\n",
    "If we decrease the tolerance parameters, the objective value becomes closer to the \"true\" optimal value. Note: The following cell will take a few minutes to run.\n",
    "\n"
   ]
  },
  {
   "cell_type": "code",
   "execution_count": null,
   "id": "d9757ed1",
   "metadata": {},
   "outputs": [
    {
     "name": "stdout",
     "output_type": "stream",
     "text": [
      " \n",
      "----------------------------------------------------\n",
      "Iteration 1\n",
      "Tolerance = 1.0e-7\n",
      "----------------------------------------------------\n",
      "Discharge Module\n",
      "Non-served Energy Module\n",
      "Investment Discharge Module\n",
      "Unit Commitment Module\n",
      "Fuel Module\n",
      "CO2 Module\n",
      "Investment Transmission Module\n",
      "Transmission Module\n",
      "Dispatchable Resources Module\n",
      "Storage Resources Module\n",
      "Storage Investment Module\n",
      "Storage Core Resources Module\n",
      "Storage Resources with Symmetric Charge/Discharge Capacity Module\n",
      "Thermal (Unit Commitment) Resources Module\n",
      "CO2 Policies Module\n",
      "Minimum Capacity Requirement Module\n",
      "Running HiGHS 1.6.0: Copyright (c) 2023 HiGHS under MIT licence terms\n",
      "Presolving model\n",
      "560114 rows, 384919 cols, 2214687 nonzeros\n",
      "526027 rows, 350832 cols, 2217597 nonzeros\n",
      "Presolve : Reductions: rows 526027(-201067); columns 350832(-218587); elements 2217597(-225929)\n",
      "Solving the presolved LP\n",
      "IPX model has 526027 rows, 350832 columns and 2217597 nonzeros\n",
      "Input\n",
      "    Number of variables:                                350832\n",
      "    Number of free variables:                           17520\n",
      "    Number of constraints:                              526027\n",
      "    Number of equality constraints:                     79793\n",
      "    Number of matrix entries:                           2217597\n",
      "    Matrix range:                                       [4e-07, 1e+01]\n",
      "    RHS range:                                          [7e-01, 4e+03]\n",
      "    Objective range:                                    [1e-04, 1e+02]\n",
      "    Bounds range:                                       [2e-03, 2e+01]\n",
      "Preprocessing\n",
      "    Dualized model:                                     no\n",
      "    Number of dense columns:                            15\n",
      "    Range of scaling factors:                           [5.00e-01, 8.00e+00]\n",
      "IPX version 1.0\n",
      "Interior Point Solve\n",
      " Iter     P.res    D.res            P.obj           D.obj        mu     Time\n",
      "   0   8.11e+02 4.65e+01   2.48759248e+06 -1.16216867e+06  3.71e+04       1s\n",
      "   1   5.42e+02 1.59e+01  -2.51664442e+08 -4.88235776e+06  2.32e+04       4s\n",
      "   2   5.05e+02 1.16e+01  -2.54402441e+08 -1.71582474e+07  2.49e+04       8s\n",
      "   3   1.93e+02 4.97e+00  -1.40306689e+08 -1.94745370e+07  1.00e+04      15s\n",
      " Constructing starting basis...\n",
      " 11441 fixed variables remaining\n",
      " 11024 fixed variables remaining\n",
      " 10658 fixed variables remaining\n",
      " 10190 fixed variables remaining\n",
      " 9870 fixed variables remaining\n",
      " 9386 fixed variables remaining\n",
      " 9054 fixed variables remaining\n",
      " 8555 fixed variables remaining\n",
      " 8162 fixed variables remaining\n",
      " 7657 fixed variables remaining\n",
      " 7132 fixed variables remaining\n",
      " 6015 fixed variables remaining\n",
      " 4415 fixed variables remaining\n",
      " 2458 fixed variables remaining\n",
      " 188 fixed variables remaining\n",
      "   4   1.36e+02 2.63e+00  -9.91313916e+07 -2.08192662e+07  6.44e+03     225s\n",
      "   5   1.28e+02 2.51e+00  -9.55594133e+07 -2.13479845e+07  6.31e+03     273s\n",
      "   6   3.73e+01 1.37e+00  -4.97640122e+06 -2.10230284e+07  2.58e+03     313s\n",
      "   7   5.39e+00 3.92e-01   6.22302513e+06 -2.00936638e+07  6.50e+02     358s\n",
      "   8   4.99e-01 1.26e-01   7.24805156e+06 -1.53496992e+07  2.00e+02     385s\n",
      "   9   2.88e-01 9.32e-02   7.57184846e+06 -1.53420160e+07  1.72e+02     412s\n",
      "  10   1.63e-01 6.63e-02   7.73553146e+06 -1.46046840e+07  1.41e+02     436s\n",
      "  11   9.52e-02 5.23e-02   7.80383229e+06 -1.38263298e+07  1.23e+02     460s\n",
      "  12   5.21e-02 4.00e-02   7.64086129e+06 -1.25528286e+07  1.02e+02     484s\n",
      "  13   2.95e-02 2.85e-02   7.46644720e+06 -1.11290279e+07  8.01e+01     508s\n",
      "  14   1.60e-02 2.12e-02   7.17421828e+06 -9.91514082e+06  6.46e+01     540s\n",
      "  15   8.02e-03 1.44e-02   6.69903541e+06 -8.33798469e+06  4.78e+01     577s\n",
      "  16   3.95e-03 1.01e-02   5.96540068e+06 -6.89650069e+06  3.53e+01     612s\n",
      "  17   1.56e-03 7.03e-03   5.11283407e+06 -5.71119333e+06  2.58e+01     714s\n",
      "  18   7.23e-04 4.96e-03   4.03231618e+06 -4.45112785e+06  1.79e+01     751s\n",
      "  19   2.30e-04 2.69e-03   2.68751504e+06 -2.77243754e+06  9.63e+00     771s\n",
      "  20   1.43e-04 1.04e-03   2.00999235e+06 -1.19092619e+06  4.70e+00     792s\n",
      "  21   7.63e-05 6.53e-04   1.32009176e+06 -8.17697954e+05  2.89e+00     818s\n",
      "  22   1.08e-05 5.12e-05   2.91371295e+05 -6.76605581e+04  4.17e-01     838s\n",
      "  23   3.52e-06 1.06e-05   1.06979104e+05 -2.11866029e+04  1.46e-01     858s\n",
      "  24   1.95e-06 4.28e-06   7.71181023e+04 -1.56836561e+04  1.05e-01     877s\n",
      "  25   7.98e-07 2.64e-06   4.74559754e+04 -1.11193285e+04  6.63e-02     906s\n",
      "  26   6.34e-07 1.76e-06   4.27324490e+04 -8.13243109e+03  5.75e-02     937s\n",
      "  27   3.97e-07 1.00e-06   3.36237195e+04 -3.98285468e+03  4.25e-02     962s\n",
      "  28   3.18e-07 8.09e-07   3.14871994e+04 -3.35409326e+03  3.94e-02    1003s\n",
      "  29   1.98e-07 4.79e-07   2.48797002e+04 -1.32205441e+02  2.83e-02    1032s\n",
      "  30   1.46e-07 3.00e-07   2.25309853e+04  1.36809877e+03  2.39e-02    1100s\n",
      "  31   9.82e-08 1.94e-07   1.95360763e+04  2.89697881e+03  1.88e-02    1150s\n",
      "  32   8.95e-08 1.53e-07   1.89781388e+04  3.55801812e+03  1.74e-02    1223s\n",
      "  33   8.57e-08 1.12e-07   1.86969812e+04  4.31723205e+03  1.63e-02    1247s\n",
      "  34   6.47e-08 8.10e-08   1.68679518e+04  5.15239075e+03  1.32e-02    1267s\n",
      "  35   5.48e-08 5.59e-08   1.61203420e+04  5.68572363e+03  1.18e-02    1313s\n",
      "  36   4.64e-08 4.50e-08   1.53923146e+04  6.03038864e+03  1.06e-02    1348s\n",
      "  37   2.87e-08 2.75e-08   1.40346823e+04  6.47210117e+03  8.55e-03    1411s\n",
      "  38   2.23e-08 2.29e-08   1.33444423e+04  6.72601072e+03  7.48e-03    1520s\n",
      "  39   2.00e-08 1.64e-08   1.30985294e+04  7.07611497e+03  6.81e-03    1583s\n",
      "  40   1.73e-08 1.31e-08   1.27680335e+04  7.31625978e+03  6.16e-03    1623s\n",
      "  41   1.44e-08 9.87e-09   1.24139017e+04  7.55726763e+03  5.49e-03    1660s\n",
      "  42   1.22e-08 7.24e-09   1.21911414e+04  7.71398971e+03  5.06e-03    1695s\n",
      "  43   1.14e-08 6.68e-09   1.20971954e+04  7.76091415e+03  4.90e-03    1735s\n",
      "  44   7.61e-09 4.49e-09   1.15802896e+04  8.02091818e+03  4.02e-03    1765s\n",
      "  45   5.27e-09 3.38e-09   1.12119638e+04  8.21659598e+03  3.39e-03    1810s\n",
      "  46   4.74e-09 3.23e-09   1.11391059e+04  8.24174635e+03  3.28e-03    1859s\n",
      "  47   4.57e-09 2.64e-09   1.11126636e+04  8.35498106e+03  3.12e-03    1897s\n",
      "  48   3.76e-09 2.41e-09   1.09666979e+04  8.40725506e+03  2.89e-03    1931s\n",
      "  49   2.34e-09 1.81e-09   1.06106911e+04  8.63154248e+03  2.24e-03    1962s\n",
      "  50   2.09e-09 1.74e-09   1.05818880e+04  8.64755500e+03  2.19e-03    2012s\n",
      "  51   2.01e-09 1.61e-09   1.05763705e+04  8.66683728e+03  2.16e-03    2039s\n",
      "  52   1.98e-09 1.43e-09   1.05718769e+04  8.70725614e+03  2.11e-03    2056s\n",
      "  53   1.78e-09 1.37e-09   1.05371910e+04  8.72487885e+03  2.05e-03    2074s\n",
      "  54   1.58e-09 1.22e-09   1.04901182e+04  8.78376413e+03  1.93e-03    2093s\n",
      "  55   1.51e-09 1.12e-09   1.04796139e+04  8.80961634e+03  1.89e-03    2110s\n",
      "  56   1.42e-09 1.03e-09   1.04604194e+04  8.84331799e+03  1.83e-03    2126s\n",
      "  57   1.19e-09 8.09e-10   1.04335000e+04  8.87893751e+03  1.76e-03    2142s\n",
      "  58   9.48e-10 6.78e-10   1.03684264e+04  8.94121266e+03  1.61e-03    2160s\n",
      "  59   8.16e-10 5.54e-10   1.03285920e+04  9.00754251e+03  1.49e-03    2181s\n",
      "  60   6.39e-10 4.80e-10   1.02716250e+04  9.05052250e+03  1.38e-03    2212s\n",
      "  61   5.54e-10 3.83e-10   1.02289724e+04  9.09735100e+03  1.28e-03    2244s\n",
      "  62   5.40e-10 3.47e-10   1.02096462e+04  9.12421353e+03  1.23e-03    2264s\n",
      "  63   2.37e-10 2.59e-10   1.00971029e+04  9.20224535e+03  1.01e-03    2288s\n",
      "  64   1.93e-10 2.33e-10   1.00846196e+04  9.22793342e+03  9.68e-04    2316s\n",
      "  65   1.90e-10 2.05e-10   1.00826696e+04  9.25511076e+03  9.35e-04    2343s\n",
      "  66   1.83e-10 1.81e-10   1.00786235e+04  9.27896087e+03  9.04e-04    2363s\n",
      "  67   1.57e-10 1.58e-10   1.00607359e+04  9.30390225e+03  8.56e-04    2385s\n",
      "  68   4.06e-10 1.23e-10   1.00251777e+04  9.34791627e+03  7.66e-04    2400s\n",
      "  69   1.17e-10 9.54e-11   9.99610267e+03  9.40054524e+03  6.73e-04    2421s\n",
      "  70   7.30e-10 8.68e-11   9.98340190e+03  9.40994716e+03  6.48e-04    2447s\n",
      "  71   8.52e-11 6.73e-11   9.95720979e+03  9.46627820e+03  5.55e-04    2466s\n",
      "  72   3.59e-10 6.43e-11   9.95146868e+03  9.46816641e+03  5.46e-04    2480s\n",
      "  73   7.57e-11 4.52e-11   9.92633439e+03  9.52290479e+03  4.56e-04    2492s\n",
      "  74   2.00e-10 4.05e-11   9.91599082e+03  9.52951028e+03  4.37e-04    2505s\n",
      "  75   4.37e-10 3.00e-11   9.88217144e+03  9.55862813e+03  3.66e-04    2520s\n",
      "  76   1.85e-10 2.55e-11   9.87746680e+03  9.57366363e+03  3.43e-04    2540s\n",
      "  77   2.19e-10 2.31e-11   9.87505143e+03  9.57774339e+03  3.36e-04    2558s\n",
      "  78   7.56e-11 1.90e-11   9.85388345e+03  9.60110155e+03  2.86e-04    2577s\n",
      "  79   5.69e-10 1.34e-11   9.84712905e+03  9.62675868e+03  2.49e-04    2595s\n",
      "  80   2.74e-10 8.61e-12   9.83650621e+03  9.64762624e+03  2.14e-04    2619s\n",
      "  81   2.94e-10 8.44e-12   9.83026104e+03  9.65130133e+03  2.02e-04    2640s\n",
      "  82   2.57e-10 5.54e-12   9.81311564e+03  9.67265891e+03  1.59e-04    2650s\n",
      "  83   4.18e-10 5.31e-12   9.81102650e+03  9.67489246e+03  1.54e-04    2663s\n",
      "  84   4.73e-10 4.12e-12   9.79593420e+03  9.68638952e+03  1.24e-04    2672s\n",
      "  85   1.77e-10 3.03e-12   9.79405908e+03  9.69475900e+03  1.12e-04    2685s\n",
      "  86   2.23e-10 2.27e-12   9.78800260e+03  9.71201800e+03  8.59e-05    2696s\n",
      "  87   4.96e-10 1.66e-12   9.78778377e+03  9.71487741e+03  8.24e-05    2706s\n",
      "  88   1.08e-10 1.85e-12   9.78398158e+03  9.71901673e+03  7.34e-05    2715s\n",
      "  89   5.02e-10 1.10e-12   9.78337445e+03  9.72375826e+03  6.74e-05    2726s\n",
      "  90   1.27e-10 1.17e-12   9.77736326e+03  9.73354552e+03  4.95e-05    2734s\n",
      "  91   9.00e-11 9.38e-13   9.77512191e+03  9.73752658e+03  4.25e-05    2748s\n",
      "  92   6.31e-11 4.26e-13   9.77103532e+03  9.74405874e+03  3.05e-05    2759s\n",
      "  93   2.05e-09 5.90e-13   9.76961724e+03  9.74735298e+03  2.52e-05    2771s\n",
      "  94   4.21e-09 8.81e-13   9.76788907e+03  9.75109834e+03  1.90e-05    2781s\n",
      "  95   1.62e-09 1.19e-12   9.76716151e+03  9.75395650e+03  1.49e-05    2792s\n",
      "  96   2.72e-09 6.82e-13   9.76603492e+03  9.75527391e+03  1.22e-05    2802s\n",
      "  97   2.04e-09 5.40e-13   9.76535302e+03  9.75722758e+03  9.18e-06    2810s\n",
      "  98   5.17e-09 3.69e-13   9.76470022e+03  9.75753839e+03  8.10e-06    2819s\n",
      "  99   5.46e-10 1.73e-12   9.76412209e+03  9.75921450e+03  5.55e-06    2826s\n",
      " 100   4.66e-09 4.55e-13   9.76376806e+03  9.75947960e+03  4.85e-06    2834s\n",
      " 101   8.68e-10 6.82e-13   9.76348975e+03  9.76028015e+03  3.63e-06    2841s\n",
      " 102   6.87e-09 4.83e-13   9.76322229e+03  9.76103329e+03  2.47e-06    2848s\n",
      " 103   1.80e-09 4.83e-13   9.76304417e+03  9.76115161e+03  2.14e-06    2856s\n",
      " 104   7.78e-09 5.40e-13   9.76301308e+03  9.76126585e+03  1.98e-06    2864s\n",
      " 105   1.70e-08 7.39e-13   9.76274488e+03  9.76155953e+03  1.34e-06    2872s\n",
      " 106   1.52e-09 6.25e-13   9.76271595e+03  9.76166866e+03  1.18e-06    2881s\n",
      " 107   1.80e-09 4.55e-13   9.76262785e+03  9.76198378e+03  7.28e-07    2889s\n",
      " 108   4.26e-09 8.81e-13   9.76259558e+03  9.76205747e+03  6.08e-07    2899s\n",
      " 109   2.80e-09 9.95e-13   9.76255188e+03  9.76219281e+03  4.06e-07    2907s\n",
      " 110   1.43e-09 1.19e-12   9.76251174e+03  9.76234638e+03  1.87e-07    2916s\n",
      " 111   1.53e-08 1.81e-12   9.76247806e+03  9.76239595e+03  9.28e-08    2928s\n",
      " 112   3.58e-09 3.19e-12   9.76246937e+03  9.76239982e+03  7.86e-08    2940s\n",
      " 113   2.67e-08 1.75e-12   9.76246448e+03  9.76240389e+03  6.85e-08    2947s\n",
      " 114   3.74e-09 7.34e-12   9.76244989e+03  9.76241737e+03  3.68e-08    2955s\n",
      " 115   2.49e-08 3.42e-12   9.76244709e+03  9.76242530e+03  2.46e-08    2963s\n",
      " 116   1.43e-08 1.02e-11   9.76244319e+03  9.76242949e+03  1.55e-08    2971s\n",
      " 117   2.21e-08 1.61e-11   9.76244276e+03  9.76242971e+03  1.48e-08    2979s\n",
      " 118   4.86e-08 1.00e-11   9.76243856e+03  9.76243103e+03  8.51e-09    2986s\n",
      " 119   4.37e-09 1.38e-11   9.76243759e+03  9.76243267e+03  5.55e-09    2993s\n",
      " 120   5.22e-08 3.55e-11   9.76243681e+03  9.76243503e+03  2.01e-09    3001s\n",
      " 121   3.88e-08 3.24e-12   9.76243664e+03  9.76243621e+03  4.84e-10    3010s\n",
      " 122   5.24e-09 3.08e-11   9.76243661e+03  9.76243649e+03  1.38e-10    3037s\n",
      " 123*  1.87e-09 2.14e-11   9.76243659e+03  9.76243656e+03  3.42e-11    3076s\n",
      " 124*  9.49e-09 3.20e-11   9.76243659e+03  9.76243659e+03  4.77e-12    3090s\n",
      " 125*  4.15e-09 2.95e-11   9.76243659e+03  9.76243659e+03  6.91e-13    3099s\n",
      "Running crossover as requested\n",
      "    Primal residual before push phase:                  3.73e-06\n",
      "    Dual residual before push phase:                    4.36e-07\n",
      "    Number of dual pushes required:                     119652\n",
      "    97225 dual pushes remaining (    320 pivots)\n",
      "    Number of primal pushes required:                   17699\n",
      "    16474 primal pushes remaining (    100 pivots)\n",
      "    15092 primal pushes remaining (    532 pivots)\n",
      "    13584 primal pushes remaining (   1102 pivots)\n",
      "    12247 primal pushes remaining (   1483 pivots)\n",
      "    11093 primal pushes remaining (   1957 pivots)\n",
      "     9838 primal pushes remaining (   2384 pivots)\n",
      "     8773 primal pushes remaining (   2657 pivots)\n",
      "     7599 primal pushes remaining (   2905 pivots)\n",
      "     6163 primal pushes remaining (   3439 pivots)\n",
      "     4924 primal pushes remaining (   4120 pivots)\n",
      "     3778 primal pushes remaining (   4563 pivots)\n",
      "     2554 primal pushes remaining (   5185 pivots)\n",
      "     1345 primal pushes remaining (   5816 pivots)\n",
      "       87 primal pushes remaining (   6504 pivots)\n",
      "Summary\n",
      "    Runtime:                                            3177.04s\n",
      "    Status interior point solve:                        optimal\n",
      "    Status crossover:                                   optimal\n",
      "    objective value:                                    9.76243659e+03\n",
      "    interior solution primal residual (abs/rel):        2.27e-08 / 5.51e-12\n",
      "    interior solution dual residual (abs/rel):          2.88e-09 / 2.04e-11\n",
      "    interior solution objective gap (abs/rel):          6.44e-07 / 6.60e-11\n",
      "    basic solution primal infeasibility:                1.04e-11\n",
      "    basic solution dual infeasibility:                  2.02e-15\n",
      "Ipx: IPM       optimal\n",
      "Ipx: Crossover optimal\n",
      "Solving the original LP from the solution after postsolve\n",
      "Model   status      : Optimal\n",
      "IPM       iterations: 125\n",
      "Crossover iterations: 14577\n",
      "Objective value     :  9.7624365896e+03\n",
      "HiGHS run time      :       3179.83\n",
      "LP solved for primal\n"
     ]
    },
    {
     "name": "stdout",
     "output_type": "stream",
     "text": [
      " \n",
      "----------------------------------------------------\n",
      "Iteration 2\n",
      "Tolerance = 0.0001\n",
      "----------------------------------------------------\n",
      "Discharge Module\n",
      "Non-served Energy Module\n",
      "Investment Discharge Module\n",
      "Unit Commitment Module\n",
      "Fuel Module\n",
      "CO2 Module\n",
      "Investment Transmission Module\n",
      "Transmission Module\n",
      "Dispatchable Resources Module\n",
      "Storage Resources Module\n",
      "Storage Investment Module\n",
      "Storage Core Resources Module\n",
      "Storage Resources with Symmetric Charge/Discharge Capacity Module\n",
      "Thermal (Unit Commitment) Resources Module\n",
      "CO2 Policies Module\n",
      "Minimum Capacity Requirement Module\n",
      "Running HiGHS 1.6.0: Copyright (c) 2023 HiGHS under MIT licence terms\n",
      "Presolving model\n",
      "560114 rows, 384919 cols, 2214687 nonzeros\n",
      "526027 rows, 350832 cols, 2217597 nonzeros\n",
      "Presolve : Reductions: rows 526027(-201067); columns 350832(-218587); elements 2217597(-225929)\n",
      "Solving the presolved LP\n",
      "IPX model has 526027 rows, 350832 columns and 2217597 nonzeros\n",
      "Input\n",
      "    Number of variables:                                350832\n",
      "    Number of free variables:                           17520\n",
      "    Number of constraints:                              526027\n",
      "    Number of equality constraints:                     79793\n",
      "    Number of matrix entries:                           2217597\n",
      "    Matrix range:                                       [4e-07, 1e+01]\n",
      "    RHS range:                                          [7e-01, 4e+03]\n",
      "    Objective range:                                    [1e-04, 1e+02]\n",
      "    Bounds range:                                       [2e-03, 2e+01]\n",
      "Preprocessing\n",
      "    Dualized model:                                     no\n",
      "    Number of dense columns:                            15\n",
      "    Range of scaling factors:                           [5.00e-01, 8.00e+00]\n",
      "IPX version 1.0\n",
      "Interior Point Solve\n",
      " Iter     P.res    D.res            P.obj           D.obj        mu     Time\n",
      "   0   8.11e+02 4.65e+01   2.48759248e+06 -1.16216867e+06  3.71e+04       0s\n",
      "   1   5.42e+02 1.59e+01  -2.51664442e+08 -4.88235776e+06  2.32e+04       2s\n",
      "   2   5.05e+02 1.16e+01  -2.54402441e+08 -1.71582474e+07  2.49e+04       4s\n",
      "   3   1.93e+02 4.97e+00  -1.40306689e+08 -1.94745370e+07  1.00e+04       7s\n",
      " Constructing starting basis...\n",
      " 11424 fixed variables remaining\n",
      " 10707 fixed variables remaining\n",
      " 10125 fixed variables remaining\n",
      " 9543 fixed variables remaining\n",
      " 8957 fixed variables remaining\n",
      " 8367 fixed variables remaining\n",
      " 7657 fixed variables remaining\n",
      " 6854 fixed variables remaining\n",
      " 4942 fixed variables remaining\n",
      " 2883 fixed variables remaining\n",
      " 521 fixed variables remaining\n",
      "   4   1.36e+02 2.63e+00  -9.91313916e+07 -2.08192662e+07  6.44e+03     150s\n",
      "   5   1.28e+02 2.51e+00  -9.55594133e+07 -2.13479845e+07  6.31e+03     177s\n",
      "   6   3.73e+01 1.37e+00  -4.97640122e+06 -2.10230284e+07  2.58e+03     204s\n",
      "   7   5.39e+00 3.92e-01   6.22302513e+06 -2.00936638e+07  6.50e+02     228s\n",
      "   8   4.99e-01 1.26e-01   7.24805156e+06 -1.53496992e+07  2.00e+02     254s\n",
      "   9   2.88e-01 9.32e-02   7.57184846e+06 -1.53420160e+07  1.72e+02     281s\n",
      "  10   1.63e-01 6.63e-02   7.73553146e+06 -1.46046840e+07  1.41e+02     304s\n",
      "  11   9.52e-02 5.23e-02   7.80383229e+06 -1.38263298e+07  1.23e+02     327s\n",
      "  12   5.21e-02 4.00e-02   7.64086129e+06 -1.25528286e+07  1.02e+02     349s\n",
      "  13   2.95e-02 2.85e-02   7.46644720e+06 -1.11290279e+07  8.01e+01     372s\n",
      "  14   1.60e-02 2.12e-02   7.17421828e+06 -9.91514082e+06  6.46e+01     391s\n",
      "  15   8.02e-03 1.44e-02   6.69903541e+06 -8.33798469e+06  4.78e+01     414s\n",
      "  16   3.95e-03 1.01e-02   5.96540068e+06 -6.89650069e+06  3.53e+01     444s\n",
      "  17   1.56e-03 7.03e-03   5.11283407e+06 -5.71119333e+06  2.58e+01     504s\n",
      "  18   7.23e-04 4.96e-03   4.03231618e+06 -4.45112785e+06  1.79e+01     531s\n",
      "  19   2.30e-04 2.69e-03   2.68751504e+06 -2.77243754e+06  9.63e+00     552s\n",
      "  20   1.43e-04 1.04e-03   2.00999235e+06 -1.19092619e+06  4.70e+00     572s\n",
      "  21   7.63e-05 6.53e-04   1.32009176e+06 -8.17697954e+05  2.89e+00     596s\n",
      "  22   1.08e-05 5.12e-05   2.91371295e+05 -6.76605581e+04  4.17e-01     616s\n",
      "  23   3.52e-06 1.06e-05   1.06979104e+05 -2.11866029e+04  1.46e-01     635s\n",
      "  24   1.95e-06 4.28e-06   7.71181023e+04 -1.56836561e+04  1.05e-01     654s\n",
      "  25   7.98e-07 2.64e-06   4.74559754e+04 -1.11193285e+04  6.63e-02     718s\n",
      "  26   6.34e-07 1.76e-06   4.27324490e+04 -8.13243109e+03  5.75e-02     737s\n",
      "  27   3.97e-07 1.00e-06   3.36237195e+04 -3.98285468e+03  4.25e-02     759s\n",
      "  28   3.18e-07 8.09e-07   3.14871994e+04 -3.35409326e+03  3.94e-02     792s\n",
      "  29   1.98e-07 4.79e-07   2.48797002e+04 -1.32205441e+02  2.83e-02     814s\n",
      "  30   1.46e-07 3.00e-07   2.25309853e+04  1.36809877e+03  2.39e-02     856s\n",
      "  31   9.82e-08 1.94e-07   1.95360763e+04  2.89697881e+03  1.88e-02     883s\n",
      "  32   8.95e-08 1.53e-07   1.89781388e+04  3.55801812e+03  1.74e-02     951s\n",
      "  33   8.57e-08 1.12e-07   1.86969812e+04  4.31723205e+03  1.63e-02     975s\n",
      "  34   6.47e-08 8.10e-08   1.68679518e+04  5.15239075e+03  1.32e-02     995s\n",
      "  35   5.48e-08 5.59e-08   1.61203420e+04  5.68572363e+03  1.18e-02    1041s\n",
      "  36   4.64e-08 4.50e-08   1.53923146e+04  6.03038864e+03  1.06e-02    1075s\n",
      "  37   2.87e-08 2.75e-08   1.40346823e+04  6.47210117e+03  8.55e-03    1117s\n",
      "  38   2.23e-08 2.29e-08   1.33444423e+04  6.72601072e+03  7.48e-03    1186s\n",
      "  39   2.00e-08 1.64e-08   1.30985294e+04  7.07611497e+03  6.81e-03    1248s\n",
      "  40   1.73e-08 1.31e-08   1.27680335e+04  7.31625978e+03  6.16e-03    1285s\n",
      "  41   1.44e-08 9.87e-09   1.24139017e+04  7.55726763e+03  5.49e-03    1318s\n",
      "  42   1.22e-08 7.24e-09   1.21911414e+04  7.71398971e+03  5.06e-03    1347s\n",
      "  43   1.14e-08 6.68e-09   1.20971954e+04  7.76091415e+03  4.90e-03    1368s\n",
      "  44   7.61e-09 4.49e-09   1.15802896e+04  8.02091818e+03  4.02e-03    1391s\n",
      "  45   5.27e-09 3.38e-09   1.12119638e+04  8.21659598e+03  3.39e-03    1430s\n",
      "  46   4.74e-09 3.23e-09   1.11391059e+04  8.24174635e+03  3.28e-03    1463s\n",
      "  47   4.57e-09 2.64e-09   1.11126636e+04  8.35498106e+03  3.12e-03    1484s\n",
      "  48   3.76e-09 2.41e-09   1.09666979e+04  8.40725506e+03  2.89e-03    1503s\n",
      "  49   2.34e-09 1.81e-09   1.06106911e+04  8.63154248e+03  2.24e-03    1524s\n",
      "  50   2.09e-09 1.74e-09   1.05818880e+04  8.64755500e+03  2.19e-03    1572s\n",
      "  51   2.01e-09 1.61e-09   1.05763705e+04  8.66683728e+03  2.16e-03    1598s\n",
      "  52   1.98e-09 1.43e-09   1.05718769e+04  8.70725614e+03  2.11e-03    1614s\n",
      "  53   1.78e-09 1.37e-09   1.05371910e+04  8.72487885e+03  2.05e-03    1632s\n",
      "  54   1.58e-09 1.22e-09   1.04901182e+04  8.78376413e+03  1.93e-03    1649s\n",
      "  55   1.51e-09 1.12e-09   1.04796139e+04  8.80961634e+03  1.89e-03    1665s\n",
      "  56   1.42e-09 1.03e-09   1.04604194e+04  8.84331799e+03  1.83e-03    1678s\n",
      "  57   1.19e-09 8.09e-10   1.04335000e+04  8.87893751e+03  1.76e-03    1692s\n",
      "  58   9.48e-10 6.78e-10   1.03684264e+04  8.94121266e+03  1.61e-03    1707s\n",
      "  59   8.16e-10 5.54e-10   1.03285920e+04  9.00754251e+03  1.49e-03    1723s\n",
      "  60   6.39e-10 4.80e-10   1.02716250e+04  9.05052250e+03  1.38e-03    1738s\n",
      "  61   5.54e-10 3.83e-10   1.02289724e+04  9.09735100e+03  1.28e-03    1755s\n",
      "  62   5.40e-10 3.47e-10   1.02096462e+04  9.12421353e+03  1.23e-03    1773s\n",
      "  63   2.37e-10 2.59e-10   1.00971029e+04  9.20224535e+03  1.01e-03    1791s\n",
      "  64   1.93e-10 2.33e-10   1.00846196e+04  9.22793342e+03  9.68e-04    1814s\n",
      "  65   1.90e-10 2.05e-10   1.00826696e+04  9.25511076e+03  9.35e-04    1829s\n",
      "  66   1.83e-10 1.81e-10   1.00786235e+04  9.27896087e+03  9.04e-04    1842s\n",
      "  67   1.57e-10 1.58e-10   1.00607359e+04  9.30390225e+03  8.56e-04    1854s\n",
      "  68   4.06e-10 1.23e-10   1.00251777e+04  9.34791627e+03  7.66e-04    1865s\n",
      "  69   1.17e-10 9.54e-11   9.99610267e+03  9.40054524e+03  6.73e-04    1878s\n",
      "  70   7.30e-10 8.68e-11   9.98340190e+03  9.40994716e+03  6.48e-04    1891s\n",
      "  71   8.52e-11 6.73e-11   9.95720979e+03  9.46627820e+03  5.55e-04    1903s\n",
      "  72   3.59e-10 6.43e-11   9.95146868e+03  9.46816641e+03  5.46e-04    1916s\n",
      "  73   7.57e-11 4.52e-11   9.92633439e+03  9.52290479e+03  4.56e-04    1927s\n",
      "  74   2.00e-10 4.05e-11   9.91599082e+03  9.52951028e+03  4.37e-04    1940s\n",
      "  75   4.37e-10 3.00e-11   9.88217144e+03  9.55862813e+03  3.66e-04    1952s\n",
      "  76   1.85e-10 2.55e-11   9.87746680e+03  9.57366363e+03  3.43e-04    1964s\n",
      "  77   2.19e-10 2.31e-11   9.87505143e+03  9.57774339e+03  3.36e-04    1975s\n",
      "  78   7.56e-11 1.90e-11   9.85388345e+03  9.60110155e+03  2.86e-04    1984s\n",
      "  79   5.69e-10 1.34e-11   9.84712905e+03  9.62675868e+03  2.49e-04    1996s\n",
      "  80   2.74e-10 8.61e-12   9.83650621e+03  9.64762624e+03  2.14e-04    2008s\n",
      "  81   2.94e-10 8.44e-12   9.83026104e+03  9.65130133e+03  2.02e-04    2020s\n",
      "  82   2.57e-10 5.54e-12   9.81311564e+03  9.67265891e+03  1.59e-04    2030s\n",
      "  83   4.18e-10 5.31e-12   9.81102650e+03  9.67489246e+03  1.54e-04    2042s\n",
      "  84   4.73e-10 4.12e-12   9.79593420e+03  9.68638952e+03  1.24e-04    2051s\n",
      "  85   1.77e-10 3.03e-12   9.79405908e+03  9.69475900e+03  1.12e-04    2064s\n",
      "  86   2.23e-10 2.27e-12   9.78800260e+03  9.71201800e+03  8.59e-05    2075s\n",
      "  87   4.96e-10 1.66e-12   9.78778377e+03  9.71487741e+03  8.24e-05    2085s\n",
      "  88   1.08e-10 1.85e-12   9.78398158e+03  9.71901673e+03  7.34e-05    2094s\n",
      "  89   5.02e-10 1.10e-12   9.78337445e+03  9.72375826e+03  6.74e-05    2105s\n",
      "  90   1.27e-10 1.17e-12   9.77736326e+03  9.73354552e+03  4.95e-05    2114s\n",
      "  91   9.00e-11 9.38e-13   9.77512191e+03  9.73752658e+03  4.25e-05    2128s\n",
      "  92   6.31e-11 4.26e-13   9.77103532e+03  9.74405874e+03  3.05e-05    2138s\n",
      "  93   2.05e-09 5.90e-13   9.76961724e+03  9.74735298e+03  2.52e-05    2151s\n",
      "  94   4.21e-09 8.81e-13   9.76788907e+03  9.75109834e+03  1.90e-05    2162s\n",
      "  95   1.62e-09 1.19e-12   9.76716151e+03  9.75395650e+03  1.49e-05    2172s\n",
      "  96   2.72e-09 6.82e-13   9.76603492e+03  9.75527391e+03  1.22e-05    2182s\n",
      "  97   2.04e-09 5.40e-13   9.76535302e+03  9.75722758e+03  9.18e-06    2191s\n",
      "  98   5.17e-09 3.69e-13   9.76470022e+03  9.75753839e+03  8.10e-06    2200s\n",
      "  99   5.46e-10 1.73e-12   9.76412209e+03  9.75921450e+03  5.55e-06    2207s\n",
      " 100   4.66e-09 4.55e-13   9.76376806e+03  9.75947960e+03  4.85e-06    2214s\n",
      " 101   8.68e-10 6.82e-13   9.76348975e+03  9.76028015e+03  3.63e-06    2222s\n",
      " 102   6.87e-09 4.83e-13   9.76322229e+03  9.76103329e+03  2.47e-06    2229s\n",
      " 103   1.80e-09 4.83e-13   9.76304417e+03  9.76115161e+03  2.14e-06    2237s\n",
      " 104   7.78e-09 5.40e-13   9.76301308e+03  9.76126585e+03  1.98e-06    2245s\n",
      " 105   1.70e-08 7.39e-13   9.76274488e+03  9.76155953e+03  1.34e-06    2253s\n",
      " 106   1.52e-09 6.25e-13   9.76271595e+03  9.76166866e+03  1.18e-06    2263s\n",
      " 107   1.80e-09 4.55e-13   9.76262785e+03  9.76198378e+03  7.28e-07    2271s\n",
      " 108   4.26e-09 8.81e-13   9.76259558e+03  9.76205747e+03  6.08e-07    2280s\n",
      " 109   2.80e-09 9.95e-13   9.76255188e+03  9.76219281e+03  4.06e-07    2289s\n",
      " 110   1.43e-09 1.19e-12   9.76251174e+03  9.76234638e+03  1.87e-07    2298s\n",
      " 111   1.53e-08 1.81e-12   9.76247806e+03  9.76239595e+03  9.28e-08    2309s\n",
      " 112   3.58e-09 3.19e-12   9.76246937e+03  9.76239982e+03  7.86e-08    2321s\n",
      " 113   2.67e-08 1.75e-12   9.76246448e+03  9.76240389e+03  6.85e-08    2329s\n",
      " 114   3.74e-09 7.34e-12   9.76244989e+03  9.76241737e+03  3.68e-08    2337s\n",
      " 115   2.49e-08 3.42e-12   9.76244709e+03  9.76242530e+03  2.46e-08    2345s\n",
      " 116   1.43e-08 1.02e-11   9.76244319e+03  9.76242949e+03  1.55e-08    2353s\n",
      " 117   2.21e-08 1.61e-11   9.76244276e+03  9.76242971e+03  1.48e-08    2361s\n",
      " 118   4.86e-08 1.00e-11   9.76243856e+03  9.76243103e+03  8.51e-09    2368s\n",
      " 119   4.37e-09 1.38e-11   9.76243759e+03  9.76243267e+03  5.55e-09    2375s\n",
      " 120   5.22e-08 3.55e-11   9.76243681e+03  9.76243503e+03  2.01e-09    2383s\n",
      " 121   3.88e-08 3.24e-12   9.76243664e+03  9.76243621e+03  4.84e-10    2392s\n",
      " 122   5.24e-09 3.08e-11   9.76243661e+03  9.76243649e+03  1.38e-10    2421s\n",
      " 123*  1.87e-09 2.14e-11   9.76243659e+03  9.76243656e+03  3.42e-11    2461s\n",
      " 124*  9.49e-09 3.20e-11   9.76243659e+03  9.76243659e+03  4.77e-12    2476s\n",
      " 125*  4.15e-09 2.95e-11   9.76243659e+03  9.76243659e+03  6.91e-13    2485s\n",
      "Running crossover as requested\n",
      "    Primal residual before push phase:                  3.73e-06\n",
      "    Dual residual before push phase:                    4.36e-07\n",
      "    Number of dual pushes required:                     119652\n",
      "    97338 dual pushes remaining (    320 pivots)\n",
      "    Number of primal pushes required:                   17699\n",
      "    16518 primal pushes remaining (     94 pivots)\n",
      "    15210 primal pushes remaining (    470 pivots)\n",
      "    13722 primal pushes remaining (   1070 pivots)\n",
      "    12413 primal pushes remaining (   1416 pivots)\n",
      "    11234 primal pushes remaining (   1895 pivots)\n",
      "     9984 primal pushes remaining (   2321 pivots)\n",
      "     9070 primal pushes remaining (   2591 pivots)\n",
      "     7820 primal pushes remaining (   2867 pivots)\n",
      "     6521 primal pushes remaining (   3285 pivots)\n",
      "     5414 primal pushes remaining (   3883 pivots)\n",
      "     4305 primal pushes remaining (   4325 pivots)\n",
      "     3129 primal pushes remaining (   4876 pivots)\n",
      "     1854 primal pushes remaining (   5548 pivots)\n",
      "      551 primal pushes remaining (   6269 pivots)\n",
      "Summary\n",
      "    Runtime:                                            2565.87s\n",
      "    Status interior point solve:                        optimal\n",
      "    Status crossover:                                   optimal\n",
      "    objective value:                                    9.76243659e+03\n",
      "    interior solution primal residual (abs/rel):        2.27e-08 / 5.51e-12\n",
      "    interior solution dual residual (abs/rel):          2.88e-09 / 2.04e-11\n",
      "    interior solution objective gap (abs/rel):          6.44e-07 / 6.60e-11\n",
      "    basic solution primal infeasibility:                1.04e-11\n",
      "    basic solution dual infeasibility:                  2.02e-15\n",
      "Ipx: IPM       optimal\n",
      "Ipx: Crossover optimal\n",
      "Solving the original LP from the solution after postsolve\n",
      "Model   status      : Optimal\n",
      "IPM       iterations: 125\n",
      "Crossover iterations: 14577\n",
      "Objective value     :  9.7624365896e+03\n",
      "HiGHS run time      :       2567.64\n",
      "LP solved for primal\n"
     ]
    },
    {
     "name": "stdout",
     "output_type": "stream",
     "text": [
      " \n",
      "----------------------------------------------------\n",
      "Iteration 3\n",
      "Tolerance = 0.01\n",
      "----------------------------------------------------\n",
      "Discharge Module\n",
      "Non-served Energy Module\n",
      "Investment Discharge Module\n",
      "Unit Commitment Module\n",
      "Fuel Module\n",
      "CO2 Module\n",
      "Investment Transmission Module\n",
      "Transmission Module\n",
      "Dispatchable Resources Module\n",
      "Storage Resources Module\n",
      "Storage Investment Module\n",
      "Storage Core Resources Module\n",
      "Storage Resources with Symmetric Charge/Discharge Capacity Module\n",
      "Thermal (Unit Commitment) Resources Module\n",
      "CO2 Policies Module\n"
     ]
    }
   ],
   "source": [
    "# Change tolerance, generate and solve model`\n",
    "tols = [1e-7,1e-4,1e-2,1e-1]\n",
    "OV = zeros(1,4)\n",
    "\n",
    "for i in range(1,length(tols))\n",
    "    println(\" \")\n",
    "    println(\"----------------------------------------------------\")\n",
    "    println(\"Iteration \",i)\n",
    "    println(\"Tolerance = \",tols[i])\n",
    "    println(\"----------------------------------------------------\")\n",
    "    highs_settings[\"Feasib_Tol\"] = tols[i]\n",
    "    highs_settings[\"Optimal_Tol\"] = tols[i]\n",
    "    YAML.write_file(joinpath(case,\"settings/highs_settings.yml\"), highs_settings)\n",
    "    OPTIMIZER1 = GenX.configure_solver(settings_path,HiGHS.Optimizer)\n",
    "    EP = GenX.generate_model(setup,inputs,OPTIMIZER1)\n",
    "    GenX.solve_model(EP,setup)\n",
    "    OV[i] = objective_value(EP)\n",
    "end\n",
    "\n"
   ]
  },
  {
   "cell_type": "markdown",
   "id": "0bb401b7",
   "metadata": {},
   "source": [
    "Using the smallest tolerance as our base, we can see the error as the tolerance increases:\n",
    "\n"
   ]
  },
  {
   "cell_type": "code",
   "execution_count": null,
   "id": "aafa724a",
   "metadata": {},
   "outputs": [],
   "source": [
    "DataFrame([tols[2:end] abs.(OV[2:end] .- OV[1])],[\"Tolerance\", \"Error\"])"
   ]
  },
  {
   "cell_type": "code",
   "execution_count": null,
   "id": "6435ad63",
   "metadata": {},
   "outputs": [],
   "source": [
    "using Plots\n",
    "using Plotly"
   ]
  },
  {
   "cell_type": "code",
   "execution_count": null,
   "id": "9a6835e5",
   "metadata": {},
   "outputs": [],
   "source": [
    "# Plot the error as a function of the tolerance\n",
    "plotlyjs()\n",
    "Plots.scatter(tols[2:end], abs.(OV[2:end] .- OV[1]),legend=:topleft,\n",
    "                ylabel=\"Error\", xlabel=\"Tolerance\",size=(920,400),label=:\"Error\",title=\"Tolerance of Solver vs Error\")\n",
    "ygrid!(:on, :dashdot, 0.1)"
   ]
  },
  {
   "cell_type": "markdown",
   "id": "e9b12090",
   "metadata": {},
   "source": [
    "### PreSolve <a id=\"PreSolve\"></a>"
   ]
  },
  {
   "cell_type": "markdown",
   "id": "03d28785",
   "metadata": {},
   "source": [
    "In optimization, presolve is a stage at the beginning of the solver in which the problem is simplified to remove redunant constraints and otherwise streamline the problem before the optimization itself begins. The default for presolve in GenX is \"choose\", allowing the solver to use presolve only if it will reduce computation time. \n",
    "\n",
    "Let's try setting presolve to off and on, then compare computation times.\n",
    "\n"
   ]
  },
  {
   "cell_type": "code",
   "execution_count": null,
   "id": "cbadd539",
   "metadata": {},
   "outputs": [],
   "source": [
    "# First, set tolerances back to original\n",
    "highs_settings[\"Feasib_Tol\"] = 1e-5\n",
    "highs_settings[\"Optimal_Tol\"] = 1e-5\n",
    "YAML.write_file(joinpath(case,\"settings/highs_settings.yml\"), highs_settings)    "
   ]
  },
  {
   "cell_type": "code",
   "execution_count": null,
   "id": "8900aa79",
   "metadata": {},
   "outputs": [],
   "source": [
    "highs_settings[\"Pre_Solve\"] = \"off\"\n",
    "YAML.write_file(joinpath(case,\"settings/highs_settings.yml\"), highs_settings)\n",
    "OPTIMIZER2 = GenX.configure_solver(settings_path, HiGHS.Optimizer);\n",
    "EP2 = GenX.generate_model(setup, inputs, OPTIMIZER2)"
   ]
  },
  {
   "cell_type": "code",
   "execution_count": null,
   "id": "dc1c7bd6",
   "metadata": {},
   "outputs": [],
   "source": [
    "solution2 = @elapsed GenX.solve_model(EP2,setup)"
   ]
  },
  {
   "cell_type": "code",
   "execution_count": null,
   "id": "cefed99c",
   "metadata": {},
   "outputs": [],
   "source": [
    "highs_settings[\"Pre_Solve\"] = \"on\"\n",
    "YAML.write_file(joinpath(case,\"settings/highs_settings.yml\"), highs_settings)\n",
    "OPTIMIZER3 = GenX.configure_solver(settings_path,HiGHS.Optimizer);\n",
    "EP3 = GenX.generate_model(setup,inputs,OPTIMIZER3)"
   ]
  },
  {
   "cell_type": "code",
   "execution_count": null,
   "id": "d9160cce",
   "metadata": {},
   "outputs": [],
   "source": [
    "solution3 = @elapsed GenX.solve_model(EP3,setup)"
   ]
  },
  {
   "cell_type": "markdown",
   "id": "ce8bb7ce",
   "metadata": {},
   "source": [
    "As we can see, the runtime with PreSolve is shorter, and would be even shorter for a larger system. However, PreSolve can sometimes introduce numerical inaccuracies. If you find the model is struggling to converge, try turning PreSolve off.\n",
    "\n"
   ]
  },
  {
   "cell_type": "code",
   "execution_count": null,
   "id": "0ca89de7",
   "metadata": {},
   "outputs": [],
   "source": [
    "# Write PreSolve back to choose\n",
    "highs_settings[\"Pre_Solve\"] = \"choose\"\n",
    "YAML.write_file(joinpath(case,\"settings/highs_settings.yml\"), highs_settings)"
   ]
  },
  {
   "cell_type": "markdown",
   "id": "c342b7d0",
   "metadata": {},
   "source": [
    "### Crossover <a id=\"Crossover\"></a>"
   ]
  },
  {
   "cell_type": "markdown",
   "id": "16081f05",
   "metadata": {},
   "source": [
    "Crossover is a method in which, at each step of the optimization algorithm, the solution is pushed to the boundary of the solution space. This allows for a potentially more accurate solution, but can be computationally intensive. The default for `1_three_zones` is \"on\". Let's try turning crossover on and off and see what solutions we get:"
   ]
  },
  {
   "cell_type": "code",
   "execution_count": null,
   "id": "5c97f63f",
   "metadata": {},
   "outputs": [],
   "source": [
    "highs_settings[\"run_crossover\"] = \"off\"\n",
    "YAML.write_file(joinpath(case,\"settings/highs_settings.yml\"), highs_settings)\n",
    "OPTIMIZER4 = GenX.configure_solver(settings_path,HiGHS.Optimizer);\n",
    "EP4 = GenX.generate_model(setup,inputs,OPTIMIZER4)"
   ]
  },
  {
   "cell_type": "code",
   "execution_count": null,
   "id": "24f6b219",
   "metadata": {},
   "outputs": [],
   "source": [
    "solution4 = @elapsed GenX.solve_model(EP4,setup)"
   ]
  },
  {
   "cell_type": "code",
   "execution_count": null,
   "id": "c0f1b70e",
   "metadata": {},
   "outputs": [],
   "source": [
    "highs_settings[\"run_crossover\"] = \"on\"\n",
    "YAML.write_file(joinpath(case,\"settings/highs_settings.yml\"), highs_settings)\n",
    "OPTIMIZER5 =  GenX.configure_solver(settings_path,HiGHS.Optimizer);\n",
    "EP5 = GenX.generate_model(setup,inputs,OPTIMIZER5)"
   ]
  },
  {
   "cell_type": "code",
   "execution_count": null,
   "id": "1f944449",
   "metadata": {},
   "outputs": [],
   "source": [
    "solution5 = @elapsed GenX.solve_model(EP5,setup)"
   ]
  },
  {
   "cell_type": "code",
   "execution_count": null,
   "id": "b3704489",
   "metadata": {},
   "outputs": [],
   "source": []
  }
 ],
 "metadata": {
  "@webio": {
   "lastCommId": "44b89111ed83420ea9f1a3774ccc915d",
   "lastKernelId": "20a78e9f-7ea1-4fe1-b370-deefd2c853ca"
  },
  "kernelspec": {
   "display_name": "Julia 1.9.2",
   "language": "julia",
   "name": "julia-1.9"
  },
  "language_info": {
   "file_extension": ".jl",
   "mimetype": "application/julia",
   "name": "julia",
   "version": "1.9.2"
  }
 },
 "nbformat": 4,
 "nbformat_minor": 5
}
