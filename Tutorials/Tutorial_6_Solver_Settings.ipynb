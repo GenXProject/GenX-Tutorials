{
 "cells": [
  {
   "cell_type": "markdown",
   "id": "388f8773",
   "metadata": {},
   "source": [
    "# Tutorial 6: Solver Settings"
   ]
  },
  {
   "cell_type": "markdown",
   "id": "5abaf64b",
   "metadata": {},
   "source": [
    "Though solving the model relies on the JuMP function `optimize`, there are a number of ways to change the way in which the model is optimized. This tutorial goes over solver parameters and how they affect the model solution. For more information on configuring the solver, see <a href=\"https://genxproject.github.io/GenX.jl/dev/User_Guide/solver_configuration/\" target=\"_blank\">here</a> in the GenX documentation."
   ]
  },
  {
   "cell_type": "markdown",
   "id": "8827a8c7",
   "metadata": {},
   "source": [
    "## Table of Contents\n",
    "* [The HiGHs Solver](#HiGHs)\n",
    "* [Feasibility Tolerance](#Feasibility)\n",
    "* [PreSolve](#PreSolve)\n",
    "* [Crossover](#Crossover)"
   ]
  },
  {
   "cell_type": "code",
   "execution_count": 1,
   "id": "d0c78f3d",
   "metadata": {},
   "outputs": [
    {
     "name": "stderr",
     "output_type": "stream",
     "text": [
      "\u001b[36m\u001b[1m[ \u001b[22m\u001b[39m\u001b[36m\u001b[1mInfo: \u001b[22m\u001b[39mPrecompiling Plotly [58dd65bb-95f3-509e-9936-c39a10fdeae7]\n"
     ]
    },
    {
     "data": {
      "application/vnd.webio.node+json": {
       "children": [],
       "instanceArgs": {
        "namespace": "html",
        "tag": "div"
       },
       "nodeType": "DOM",
       "props": {},
       "type": "node"
      },
      "text/html": [
       "<div style=\"padding: 1em; background-color: #f8d6da; border: 1px solid #f5c6cb; font-weight: bold;\">\n",
       "<p>The WebIO Jupyter extension was not detected. See the\n",
       "<a href=\"https://juliagizmos.github.io/WebIO.jl/latest/providers/ijulia/\" target=\"_blank\">\n",
       "    WebIO Jupyter integration documentation\n",
       "</a>\n",
       "for more information.\n",
       "</div>\n"
      ],
      "text/plain": [
       "WebIO._IJuliaInit()"
      ]
     },
     "metadata": {
      "application/vnd.webio.node+json": {
       "kernelId": "41c7e890-52eb-43ea-8cd0-70012271ce1b"
      }
     },
     "output_type": "display_data"
    }
   ],
   "source": [
    "using YAML\n",
    "using GenX\n",
    "using JuMP\n",
    "using HiGHS\n",
    "using DataFrames\n",
    "using Plots\n",
    "using Plotly"
   ]
  },
  {
   "cell_type": "code",
   "execution_count": 2,
   "id": "629e30df",
   "metadata": {},
   "outputs": [
    {
     "name": "stdout",
     "output_type": "stream",
     "text": [
      "Configuring Settings\n"
     ]
    },
    {
     "data": {
      "text/plain": [
       "\"example_systems/1_three_zones/settings\""
      ]
     },
     "execution_count": 2,
     "metadata": {},
     "output_type": "execute_result"
    }
   ],
   "source": [
    "case = joinpath(\"example_systems/1_three_zones\") \n",
    "\n",
    "genx_settings = GenX.get_settings_path(case, \"genx_settings.yml\");\n",
    "writeoutput_settings = GenX.get_settings_path(case, \"output_settings.yml\")\n",
    "setup = GenX.configure_settings(genx_settings,writeoutput_settings) \n",
    "settings_path = GenX.get_settings_path(case)"
   ]
  },
  {
   "cell_type": "code",
   "execution_count": 3,
   "id": "43281fdc",
   "metadata": {},
   "outputs": [
    {
     "name": "stdout",
     "output_type": "stream",
     "text": [
      "Reading Input CSV Files\n",
      "Network.csv Successfully Read!\n",
      "Demand (load) data Successfully Read!\n",
      "Fuels_data.csv Successfully Read!\n"
     ]
    },
    {
     "name": "stderr",
     "output_type": "stream",
     "text": [
      "\u001b[36m\u001b[1m[ \u001b[22m\u001b[39m\u001b[36m\u001b[1mInfo: \u001b[22m\u001b[39mThermal.csv Successfully Read.\n",
      "\u001b[36m\u001b[1m[ \u001b[22m\u001b[39m\u001b[36m\u001b[1mInfo: \u001b[22m\u001b[39mVre.csv Successfully Read.\n",
      "\u001b[36m\u001b[1m[ \u001b[22m\u001b[39m\u001b[36m\u001b[1mInfo: \u001b[22m\u001b[39mStorage.csv Successfully Read.\n",
      "\u001b[36m\u001b[1m[ \u001b[22m\u001b[39m\u001b[36m\u001b[1mInfo: \u001b[22m\u001b[39mResource_energy_share_requirement.csv Successfully Read.\n",
      "\u001b[36m\u001b[1m[ \u001b[22m\u001b[39m\u001b[36m\u001b[1mInfo: \u001b[22m\u001b[39mResource_capacity_reserve_margin.csv Successfully Read.\n",
      "\u001b[36m\u001b[1m[ \u001b[22m\u001b[39m\u001b[36m\u001b[1mInfo: \u001b[22m\u001b[39mResource_minimum_capacity_requirement.csv Successfully Read.\n"
     ]
    },
    {
     "name": "stdout",
     "output_type": "stream",
     "text": [
      "\n",
      "Summary of resources loaded into the model:\n",
      "-------------------------------------------------------\n",
      "\tResource type \t\tNumber of resources\n",
      "=======================================================\n",
      "\tThermal        \t\t3\n",
      "\tVRE            \t\t4\n",
      "\tStorage        \t\t3\n",
      "=======================================================\n",
      "Total number of resources: 10\n",
      "-------------------------------------------------------\n",
      "Generators_variability.csv Successfully Read!\n",
      "Validating time basis\n",
      "Minimum_capacity_requirement.csv Successfully Read!\n",
      "CO2_cap.csv Successfully Read!\n",
      "CSV Files Successfully Read In From example_systems/1_three_zones\n"
     ]
    },
    {
     "data": {
      "text/plain": [
       "Dict{Any, Any} with 73 entries:\n",
       "  \"Z\"                         => 3\n",
       "  \"LOSS_LINES\"                => [1, 2]\n",
       "  \"STOR_HYDRO_SHORT_DURATION\" => Int64[]\n",
       "  \"RET_CAP_CHARGE\"            => Set{Int64}()\n",
       "  \"pC_D_Curtail\"              => [50.0, 45.0, 27.5, 10.0]\n",
       "  \"pTrans_Max_Possible\"       => [5.9, 4.0]\n",
       "  \"pNet_Map\"                  => [1.0 -1.0 0.0; 1.0 0.0 -1.0]\n",
       "  \"omega\"                     => [1.0, 1.0, 1.0, 1.0, 1.0, 1.0, 1.0, 1.0, 1.0, …\n",
       "  \"pMax_Line_Reinforcement\"   => [2.95, 2.0]\n",
       "  \"RET_CAP_ENERGY\"            => Int64[]\n",
       "  \"RESOURCES\"                 => AbstractResource[…\n",
       "  \"COMMIT\"                    => [1, 2, 3]\n",
       "  \"pMax_D_Curtail\"            => [1.0, 0.04, 0.024, 0.003]\n",
       "  \"STOR_ALL\"                  => [8, 9, 10]\n",
       "  \"THERM_ALL\"                 => [1, 2, 3]\n",
       "  \"dfCO2CapZones\"             => [1 0 0; 0 1 0; 0 0 1]\n",
       "  \"REP_PERIOD\"                => 1\n",
       "  \"MinCapReq\"                 => [5.0, 10.0, 6.0]\n",
       "  \"PWFU_Num_Segments\"         => 0\n",
       "  \"STOR_LONG_DURATION\"        => Int64[]\n",
       "  \"THERM_COMMIT_PWFU\"         => Int64[]\n",
       "  \"STOR_SYMMETRIC\"            => [8, 9, 10]\n",
       "  \"VRE\"                       => [4, 5, 6, 7]\n",
       "  \"RETRO\"                     => Int64[]\n",
       "  \"THERM_COMMIT\"              => [1, 2, 3]\n",
       "  ⋮                           => ⋮"
      ]
     },
     "execution_count": 3,
     "metadata": {},
     "output_type": "execute_result"
    }
   ],
   "source": [
    "### Create TDR_Results\n",
    "if \"TDR_results\" in cd(readdir,case)\n",
    "    rm(joinpath(case,\"TDR_results\"), recursive=true) \n",
    "end\n",
    "\n",
    "TDRpath = joinpath(case, setup[\"TimeDomainReductionFolder\"])\n",
    "system_path = joinpath(case, setup[\"SystemFolder\"])\n",
    "\n",
    "if setup[\"TimeDomainReduction\"] == 1\n",
    "    GenX.prevent_doubled_timedomainreduction(system_path)\n",
    "    if !GenX.time_domain_reduced_files_exist(TDRpath)\n",
    "        println(\"Clustering Time Series Data (Grouped)...\")\n",
    "        GenX.cluster_inputs(case, settings_path, setup)\n",
    "    else\n",
    "        println(\"Time Series Data Already Clustered.\")\n",
    "    end\n",
    "end\n",
    "\n",
    "inputs = GenX.load_inputs(setup, case)"
   ]
  },
  {
   "cell_type": "markdown",
   "id": "1e717c64",
   "metadata": {},
   "source": [
    "### The HiGHS Solver"
   ]
  },
  {
   "cell_type": "markdown",
   "id": "0958dc5c",
   "metadata": {},
   "source": [
    "In the example files, the solver <a href=\"https://highs.dev\" target=\"_blank\">HiGHS</a>. HiGHS is freely available for all to use. Other solvers, such as  <a href=\"https://www.gurobi.com\" target=\"_blank\">Gurobi</a>, are available for free for academics, and some <a href=\"https://genxproject.github.io/GenX.jl/dev/Getting_Started/commercial_solvers/\" target=\"_blank\">commercial solvers </a> such as CPLEX are also available. For the purpose of this tutorial, we will be focusing on HiGHS. \n",
    "\n",
    "To set the solver preferences, go into the settings folder of your case and select the YAML file of the solver you're using.\n",
    "\n"
   ]
  },
  {
   "cell_type": "code",
   "execution_count": 4,
   "id": "d13445c3",
   "metadata": {},
   "outputs": [
    {
     "data": {
      "text/plain": [
       "7-element Vector{String}:\n",
       " \".DS_Store\"\n",
       " \"clp_settings.yml\"\n",
       " \"cplex_settings.yml\"\n",
       " \"genx_settings.yml\"\n",
       " \"gurobi_settings.yml\"\n",
       " \"highs_settings.yml\"\n",
       " \"time_domain_reduction_settings.yml\""
      ]
     },
     "execution_count": 4,
     "metadata": {},
     "output_type": "execute_result"
    }
   ],
   "source": [
    "settings_folder = cd(readdir,joinpath(case,\"settings\")) # Print Settings folder"
   ]
  },
  {
   "cell_type": "code",
   "execution_count": 5,
   "id": "fe389e01",
   "metadata": {},
   "outputs": [
    {
     "data": {
      "text/plain": [
       "Dict{Any, Any} with 6 entries:\n",
       "  \"Method\"        => \"ipm\"\n",
       "  \"Feasib_Tol\"    => 1.0e-5\n",
       "  \"run_crossover\" => \"on\"\n",
       "  \"TimeLimit\"     => 1.0e23\n",
       "  \"Optimal_Tol\"   => 1.0e-5\n",
       "  \"Pre_Solve\"     => \"choose\""
      ]
     },
     "execution_count": 5,
     "metadata": {},
     "output_type": "execute_result"
    }
   ],
   "source": [
    "highs_settings = YAML.load(open(joinpath(case,\"settings/highs_settings.yml\")))"
   ]
  },
  {
   "cell_type": "markdown",
   "id": "74828287",
   "metadata": {},
   "source": [
    "The function <a href=\"https://genxproject.github.io/GenX/dev/solver_configuration/#Configuring-HiGHS\" target=\"_blank\">`configure_highs`</a> in `src/configure_solver` contains a list of default settings for the HiGHS solver\n",
    "\n"
   ]
  },
  {
   "cell_type": "markdown",
   "id": "0d29fa11",
   "metadata": {},
   "source": [
    "<img src=\"./files/highs_defaults.png\" style=\"width: auto; height: 500px\" align=\"left\">\n",
    "\n"
   ]
  },
  {
   "cell_type": "markdown",
   "id": "7ed7658a",
   "metadata": {},
   "source": [
    "There are about 80, so we'll only focus on a few for now. In most cases, you can leave the other settings on default. \n",
    "\n",
    "The default settings are combined with the settings you specify in `highs_settings.yml` in `configure_highs`, which is called from `configure_solver` in `run_genx_case_simple` right before the model is generated.\n",
    "\n"
   ]
  },
  {
   "cell_type": "markdown",
   "id": "27ba49f8",
   "metadata": {},
   "source": [
    "### Feasibility Tolerance <a id=\"Feasibility\"></a>"
   ]
  },
  {
   "cell_type": "markdown",
   "id": "26b41294",
   "metadata": {},
   "source": [
    "The parameters `Feasib_Tol` and `Optimal_Tol` represent the feasibility of the primal and dual functions respectively. Without going into too much detail, a  <a href=\"https://en.wikipedia.org/wiki/Duality_(optimization)\" target=\"_blank\">__dual function__</a> is an analagous formulation of the original (\"primal\") function whose objective value acts as a lower bound to the primal function. The objective value of the primal function is then the upper bound of the dual function. HiGHS will solve the dual and primal at each time step, then terminate when the solutions of the two are within a certain tolerance range. For more information on how this works specifically in HiGHS, see the  <a href=\"https://ergo-code.github.io/HiGHS/dev/terminology/\" target=\"_blank\">HiGHS documentaion</a>. \n",
    "\n",
    "If we decrease the tolerance parameters, the objective value becomes closer to the \"true\" optimal value. Note: The following cell will take a few minutes to run.\n",
    "\n"
   ]
  },
  {
   "cell_type": "code",
   "execution_count": null,
   "id": "d9757ed1",
   "metadata": {},
   "outputs": [
    {
     "name": "stdout",
     "output_type": "stream",
     "text": [
      " \n",
      "----------------------------------------------------\n",
      "Iteration 1\n",
      "Tolerance = 1.0e-7\n",
      "----------------------------------------------------\n",
      "Discharge Module\n",
      "Non-served Energy Module\n",
      "Investment Discharge Module\n",
      "Unit Commitment Module\n",
      "Fuel Module\n",
      "CO2 Module\n",
      "Investment Transmission Module\n",
      "Transmission Module\n",
      "Dispatchable Resources Module\n",
      "Storage Resources Module\n",
      "Storage Investment Module\n",
      "Storage Core Resources Module\n",
      "Storage Resources with Symmetric Charge/Discharge Capacity Module\n",
      "Thermal (Unit Commitment) Resources Module\n",
      "CO2 Policies Module\n"
     ]
    }
   ],
   "source": [
    "# Change tolerance, generate and solve model`\n",
    "tols = [1e-7,1e-4,1e-2,1e-1]\n",
    "OV = zeros(1,4)\n",
    "\n",
    "for i in range(1,length(tols))\n",
    "    println(\" \")\n",
    "    println(\"----------------------------------------------------\")\n",
    "    println(\"Iteration \",i)\n",
    "    println(\"Tolerance = \",tols[i])\n",
    "    println(\"----------------------------------------------------\")\n",
    "    highs_settings[\"Feasib_Tol\"] = tols[i]\n",
    "    highs_settings[\"Optimal_Tol\"] = tols[i]\n",
    "    YAML.write_file(joinpath(case,\"settings/highs_settings.yml\"), highs_settings)\n",
    "    OPTIMIZER1 = GenX.configure_solver(settings_path,HiGHS.Optimizer)\n",
    "    EP = GenX.generate_model(setup,inputs,OPTIMIZER1)\n",
    "    GenX.solve_model(EP,setup)\n",
    "    OV[i] = objective_value(EP)\n",
    "end\n",
    "\n"
   ]
  },
  {
   "cell_type": "markdown",
   "id": "0bb401b7",
   "metadata": {},
   "source": [
    "Using the smallest tolerance as our base, we can see the error as the tolerance increases:\n",
    "\n"
   ]
  },
  {
   "cell_type": "code",
   "execution_count": null,
   "id": "aafa724a",
   "metadata": {},
   "outputs": [],
   "source": [
    "DataFrame([tols[2:end] abs.(OV[2:end] .- OV[1])],[\"Tolerance\", \"Error\"])"
   ]
  },
  {
   "cell_type": "code",
   "execution_count": null,
   "id": "6435ad63",
   "metadata": {},
   "outputs": [],
   "source": [
    "using Plots\n",
    "using Plotly"
   ]
  },
  {
   "cell_type": "code",
   "execution_count": null,
   "id": "9a6835e5",
   "metadata": {},
   "outputs": [],
   "source": [
    "# Plot the error as a function of the tolerance\n",
    "plotlyjs()\n",
    "Plots.scatter(tols[2:end], abs.(OV[2:end] .- OV[1]),legend=:topleft,\n",
    "                ylabel=\"Error\", xlabel=\"Tolerance\",size=(920,400),label=:\"Error\",title=\"Tolerance of Solver vs Error\")\n",
    "ygrid!(:on, :dashdot, 0.1)"
   ]
  },
  {
   "cell_type": "markdown",
   "id": "e9b12090",
   "metadata": {},
   "source": [
    "### PreSolve <a id=\"PreSolve\"></a>"
   ]
  },
  {
   "cell_type": "markdown",
   "id": "03d28785",
   "metadata": {},
   "source": [
    "In optimization, presolve is a stage at the beginning of the solver in which the problem is simplified to remove redunant constraints and otherwise streamline the problem before the optimization itself begins. The default for presolve in GenX is \"choose\", allowing the solver to use presolve only if it will reduce computation time. \n",
    "\n",
    "Let's try setting presolve to off and on, then compare computation times.\n",
    "\n"
   ]
  },
  {
   "cell_type": "code",
   "execution_count": null,
   "id": "cbadd539",
   "metadata": {},
   "outputs": [],
   "source": [
    "# First, set tolerances back to original\n",
    "highs_settings[\"Feasib_Tol\"] = 1e-5\n",
    "highs_settings[\"Optimal_Tol\"] = 1e-5\n",
    "YAML.write_file(joinpath(case,\"settings/highs_settings.yml\"), highs_settings)    "
   ]
  },
  {
   "cell_type": "code",
   "execution_count": null,
   "id": "8900aa79",
   "metadata": {},
   "outputs": [],
   "source": [
    "highs_settings[\"Pre_Solve\"] = \"off\"\n",
    "YAML.write_file(joinpath(case,\"settings/highs_settings.yml\"), highs_settings)\n",
    "OPTIMIZER2 = GenX.configure_solver(settings_path, HiGHS.Optimizer);\n",
    "EP2 = GenX.generate_model(setup, inputs, OPTIMIZER2)"
   ]
  },
  {
   "cell_type": "code",
   "execution_count": null,
   "id": "dc1c7bd6",
   "metadata": {},
   "outputs": [],
   "source": [
    "solution2 = @elapsed GenX.solve_model(EP2,setup)"
   ]
  },
  {
   "cell_type": "code",
   "execution_count": null,
   "id": "cefed99c",
   "metadata": {},
   "outputs": [],
   "source": [
    "highs_settings[\"Pre_Solve\"] = \"on\"\n",
    "YAML.write_file(joinpath(case,\"settings/highs_settings.yml\"), highs_settings)\n",
    "OPTIMIZER3 = GenX.configure_solver(settings_path,HiGHS.Optimizer);\n",
    "EP3 = GenX.generate_model(setup,inputs,OPTIMIZER3)"
   ]
  },
  {
   "cell_type": "code",
   "execution_count": null,
   "id": "d9160cce",
   "metadata": {},
   "outputs": [],
   "source": [
    "solution3 = @elapsed GenX.solve_model(EP3,setup)"
   ]
  },
  {
   "cell_type": "markdown",
   "id": "ce8bb7ce",
   "metadata": {},
   "source": [
    "As we can see, the runtime with PreSolve is shorter, and would be even shorter for a larger system. However, PreSolve can sometimes introduce numerical inaccuracies. If you find the model is struggling to converge, try turning PreSolve off.\n",
    "\n"
   ]
  },
  {
   "cell_type": "code",
   "execution_count": null,
   "id": "0ca89de7",
   "metadata": {},
   "outputs": [],
   "source": [
    "# Write PreSolve back to choose\n",
    "highs_settings[\"Pre_Solve\"] = \"choose\"\n",
    "YAML.write_file(joinpath(case,\"settings/highs_settings.yml\"), highs_settings)"
   ]
  },
  {
   "cell_type": "markdown",
   "id": "c342b7d0",
   "metadata": {},
   "source": [
    "### Crossover <a id=\"Crossover\"></a>"
   ]
  },
  {
   "cell_type": "markdown",
   "id": "16081f05",
   "metadata": {},
   "source": [
    "Crossover is a method in which, at each step of the optimization algorithm, the solution is pushed to the boundary of the solution space. This allows for a potentially more accurate solution, but can be computationally intensive. The default for `1_three_zones` is \"on\". Let's try turning crossover on and off and see what solutions we get:"
   ]
  },
  {
   "cell_type": "code",
   "execution_count": null,
   "id": "5c97f63f",
   "metadata": {},
   "outputs": [],
   "source": [
    "highs_settings[\"run_crossover\"] = \"off\"\n",
    "YAML.write_file(joinpath(case,\"settings/highs_settings.yml\"), highs_settings)\n",
    "OPTIMIZER4 = GenX.configure_solver(settings_path,HiGHS.Optimizer);\n",
    "EP4 = GenX.generate_model(setup,inputs,OPTIMIZER4)"
   ]
  },
  {
   "cell_type": "code",
   "execution_count": null,
   "id": "24f6b219",
   "metadata": {},
   "outputs": [],
   "source": [
    "solution4 = @elapsed GenX.solve_model(EP4,setup)"
   ]
  },
  {
   "cell_type": "code",
   "execution_count": null,
   "id": "c0f1b70e",
   "metadata": {},
   "outputs": [],
   "source": [
    "highs_settings[\"run_crossover\"] = \"on\"\n",
    "YAML.write_file(joinpath(case,\"settings/highs_settings.yml\"), highs_settings)\n",
    "OPTIMIZER5 =  GenX.configure_solver(settings_path,HiGHS.Optimizer);\n",
    "EP5 = GenX.generate_model(setup,inputs,OPTIMIZER5)"
   ]
  },
  {
   "cell_type": "code",
   "execution_count": null,
   "id": "1f944449",
   "metadata": {},
   "outputs": [],
   "source": [
    "solution5 = @elapsed GenX.solve_model(EP5,setup)"
   ]
  },
  {
   "cell_type": "code",
   "execution_count": null,
   "id": "b3704489",
   "metadata": {},
   "outputs": [],
   "source": []
  }
 ],
 "metadata": {
  "@webio": {
   "lastCommId": "e61d84b30f45401c974776ba2efd1371",
   "lastKernelId": "41c7e890-52eb-43ea-8cd0-70012271ce1b"
  },
  "kernelspec": {
   "display_name": "Julia 1.9.2",
   "language": "julia",
   "name": "julia-1.9"
  },
  "language_info": {
   "file_extension": ".jl",
   "mimetype": "application/julia",
   "name": "julia",
   "version": "1.9.2"
  }
 },
 "nbformat": 4,
 "nbformat_minor": 5
}
