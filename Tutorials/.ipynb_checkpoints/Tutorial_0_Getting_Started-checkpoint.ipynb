{
 "cells": [
  {
   "cell_type": "markdown",
   "id": "f8b3c984",
   "metadata": {},
   "source": [
    "# Tutorial 0: Getting Started"
   ]
  },
  {
   "cell_type": "markdown",
   "id": "5fe615ef",
   "metadata": {},
   "source": [
    "Welcome to the GenX tutorials! In the following tutorials, we outline some important features of GenX and how to run them."
   ]
  },
  {
   "cell_type": "markdown",
   "id": "283cfb5a",
   "metadata": {},
   "source": [
    "Running these notebooks follows similar steps to those in the GenX documentation <a href=\"https://genxproject.github.io/GenX/dev/how_to_run_genx/\" target=\"_blank\">here</a>. In this tutorial, we go through setting up GenX on Jupyter and navigating to the `Tutorials` file from there."
   ]
  },
  {
   "cell_type": "markdown",
   "id": "4984f841",
   "metadata": {},
   "source": [
    "First, as in the documentation, open a terminal window on your computer and navigate to GenX. Then, navigate to Julia and open a project using the command `julia --project=.`.\n"
   ]
  },
  {
   "cell_type": "markdown",
   "id": "906b7b33",
   "metadata": {},
   "source": [
    "<img src=\"files/Julia.png\" style=\"width: 625px; height: auto\" align=\"left\">"
   ]
  },
  {
   "cell_type": "markdown",
   "id": "14bd5e78",
   "metadata": {},
   "source": [
    "If you don't already have the package IJulia, add it here using `import(Pkg); Pkg.add(\"IJulia\")`:"
   ]
  },
  {
   "cell_type": "markdown",
   "id": "50fe200d",
   "metadata": {},
   "source": [
    "<img src=\"files/addIJulia.png\" style=\"width: 625px; height: auto\" align=\"left\">"
   ]
  },
  {
   "cell_type": "markdown",
   "id": "d1dba53d",
   "metadata": {},
   "source": [
    "Next, add the GenX package by pressing the \"]\" key and typing `add https://github.com/GenXProject/GenX.git`"
   ]
  },
  {
   "cell_type": "markdown",
   "id": "19041fe1",
   "metadata": {},
   "source": [
    "<img src=\"files/addGenX.png\" style=\"width: 625px; height: auto\" align=\"left\">"
   ]
  },
  {
   "cell_type": "markdown",
   "id": "0e1b2998",
   "metadata": {},
   "source": [
    "After IJulia is added, open a Jupyter notebook with `using IJulia; notebook()`:"
   ]
  },
  {
   "cell_type": "markdown",
   "id": "af32af4d",
   "metadata": {},
   "source": [
    "<img src=\"files/opennotebook.png\" style=\"width: 625px; height: auto\" align=\"left\">"
   ]
  },
  {
   "cell_type": "markdown",
   "id": "762ecdbb",
   "metadata": {},
   "source": [
    "This will open a notebook in your default browser. From there, navigate through the GenX directory to the `Tutorials` folder and you're good to go!"
   ]
  },
  {
   "cell_type": "markdown",
   "id": "97b2b84b",
   "metadata": {},
   "source": [
    "<img src=\"files/jupyter_screen.png\" style=\"width: 825px; height: auto\" align=\"left\">"
   ]
  },
  {
   "cell_type": "markdown",
   "id": "c6ada492",
   "metadata": {},
   "source": [
    "**For a more detailed explanation of IJulia, Jupyter, and downloading packages, see <a href=\"https://docs.google.com/document/d/1Qb9yQL1McZGCiFb8yoO4Evrh8oATE2Fias_FvuuEirs/edit\" target=\"_blank\">here</a>.**"
   ]
  }
 ],
 "metadata": {
  "kernelspec": {
   "display_name": "Julia 1.9.2",
   "language": "julia",
   "name": "julia-1.9"
  },
  "language_info": {
   "file_extension": ".jl",
   "mimetype": "application/julia",
   "name": "julia",
   "version": "1.9.2"
  }
 },
 "nbformat": 4,
 "nbformat_minor": 5
}
