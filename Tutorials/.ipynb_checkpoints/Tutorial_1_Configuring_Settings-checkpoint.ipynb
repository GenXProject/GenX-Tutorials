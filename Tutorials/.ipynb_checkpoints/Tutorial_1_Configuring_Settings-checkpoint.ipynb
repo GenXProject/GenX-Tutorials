{
 "cells": [
  {
   "cell_type": "markdown",
   "id": "78a5ccd4-f602-4381-aadc-d468cff03ba3",
   "metadata": {},
   "source": [
    "# Tutorial 1: Configuring Settings"
   ]
  },
  {
   "cell_type": "markdown",
   "id": "c78bfdbd",
   "metadata": {},
   "source": [
    "GenX is easy to customize to fit a variety of problems. In this tutorial, we show which settings are available to change, what their defaults are, and how to change them in your code."
   ]
  },
  {
   "cell_type": "markdown",
   "id": "d6814a53",
   "metadata": {},
   "source": [
    "## What settings are there?"
   ]
  },
  {
   "cell_type": "markdown",
   "id": "69655945",
   "metadata": {},
   "source": [
    "There are 21 settings available to edit in GenX, found in the file `genx_settings.yml`. These settings are described <a href=\"https://genxproject.github.io/GenX/dev/data_documentation/\" target=\"_blank\">here</a> in the documentation. The file is located in the `Settings` folder in the working directory. To change the location of the file, edit the `settings_path` variable in `Run.jl` within your directory."
   ]
  },
  {
   "cell_type": "markdown",
   "id": "6e11cc81",
   "metadata": {},
   "source": [
    "Most settings are set as either 0 or 1, which correspond to whether or not to include a specifc feature. For example, to use `TimeDomainReduction`, you would set its parameter to 0 within `genx_settings.yml`. If you would like to run GenX without it, you would set its parameter to 1."
   ]
  },
  {
   "cell_type": "markdown",
   "id": "4c88b3b9",
   "metadata": {},
   "source": [
    "Other settings, such as `CO2Cap`, have more options corresponding to integers, while some settings such as `ModelingtoGenerateAlternativeSlack` take a numerical input directly (in this case, the slack value). Two settings, `Solver` and `TimeDomainReductionFolder` take in text as input. To learn more about different solvers, read here. For `TimeDomainReductionFolder`, specify the name of the directory you wish to see the results in. For a more comprehensive description of the input options, see the documentation linked above."
   ]
  },
  {
   "cell_type": "markdown",
   "id": "a007c7cc",
   "metadata": {},
   "source": [
    "To see how changing the settings affects the outputs, see Tutorials 3 and 7."
   ]
  },
  {
   "cell_type": "markdown",
   "id": "bbd18f76",
   "metadata": {},
   "source": [
    "Below is the settings file for `example_systems/1_three_zones`:"
   ]
  },
  {
   "cell_type": "markdown",
   "id": "57ee59c3",
   "metadata": {},
   "source": [
    "<img src=\"./files/genxsettings.png\" align=\"center\"/>"
   ]
  },
  {
   "cell_type": "markdown",
   "id": "c37c756e",
   "metadata": {},
   "source": [
    "All `genx_settings.yml` files in `Example_Systems` specify most parameters. When configuring your own settings, however, it is not necessary to input all parameters as defaults are specified for each one in `configure_settings.jl`."
   ]
  },
  {
   "cell_type": "markdown",
   "id": "16ec73eb",
   "metadata": {},
   "source": [
    "<img src=\"./files/default_settings.png\" align=\"center\">"
   ]
  },
  {
   "cell_type": "markdown",
   "id": "527e600d",
   "metadata": {},
   "source": [
    "To open `genx_settings.yml` in Jupyter, use the function `YAML.load(open(...))` and navigate to file in the desired directory:"
   ]
  },
  {
   "cell_type": "code",
   "execution_count": 1,
   "id": "751b0e46",
   "metadata": {},
   "outputs": [
    {
     "data": {
      "text/plain": [
       "Dict{Any, Any} with 19 entries:\n",
       "  \"NetworkExpansion\"                        => 1\n",
       "  \"ModelingToGenerateAlternativeIterations\" => 3\n",
       "  \"ParameterScale\"                          => 1\n",
       "  \"EnergyShareRequirement\"                  => 0\n",
       "  \"PrintModel\"                              => 0\n",
       "  \"TimeDomainReduction\"                     => 1\n",
       "  \"Trans_Loss_Segments\"                     => 1\n",
       "  \"CapacityReserveMargin\"                   => 0\n",
       "  \"ModelingtoGenerateAlternativeSlack\"      => 0.1\n",
       "  \"MethodofMorris\"                          => 0\n",
       "  \"StorageLosses\"                           => 1\n",
       "  \"MultiStage\"                              => 0\n",
       "  \"OverwriteResults\"                        => 0\n",
       "  \"UCommit\"                                 => 2\n",
       "  \"ModelingToGenerateAlternatives\"          => 0\n",
       "  \"MaxCapReq\"                               => 0\n",
       "  \"MinCapReq\"                               => 1\n",
       "  \"CO2Cap\"                                  => 2\n",
       "  \"WriteShadowPrices\"                       => 1"
      ]
     },
     "execution_count": 1,
     "metadata": {},
     "output_type": "execute_result"
    }
   ],
   "source": [
    "using YAML\n",
    "genx_settings_SNE = YAML.load(open(\"example_systems/1_three_zones/settings/genx_settings.yml\"))"
   ]
  },
  {
   "cell_type": "markdown",
   "id": "dcdd15fd",
   "metadata": {},
   "source": [
    "Since all settings have defaults, you only need to specify the settings you would like to change. In fact, you can leave your settings file completely blank and it will still run! Let's try editing `genx_settings` in `SmallNewEngland/OneZone` to contain no parameters:"
   ]
  },
  {
   "cell_type": "code",
   "execution_count": 2,
   "id": "f1ea1703",
   "metadata": {},
   "outputs": [],
   "source": [
    "new_params = Dict() # Empty dictionary\n",
    "YAML.write_file(\"example_systems/1_three_zones/settings/genx_settings.yml\", new_params)"
   ]
  },
  {
   "cell_type": "markdown",
   "id": "fbc6ce5d",
   "metadata": {},
   "source": [
    "The empty file will look like this:"
   ]
  },
  {
   "cell_type": "markdown",
   "id": "e24980d7",
   "metadata": {},
   "source": [
    "<img src=\"./files/genx_settings_none.png\" align=\"center\">"
   ]
  },
  {
   "cell_type": "markdown",
   "id": "67a336a9",
   "metadata": {},
   "source": [
    "Now, we run GenX and output the file `capacity.csv` from the `Results` folder. To do this, we use the function `include`, which takes a .jl file and runs it in jupyter notebook:"
   ]
  },
  {
   "cell_type": "code",
   "execution_count": 3,
   "id": "236c0180",
   "metadata": {},
   "outputs": [
    {
     "name": "stderr",
     "output_type": "stream",
     "text": [
      "\u001b[36m\u001b[1m[ \u001b[22m\u001b[39m\u001b[36m\u001b[1mInfo: \u001b[22m\u001b[39mPrecompiling Gurobi [2e9cd046-0924-5485-92f1-d5272153d98b]\n"
     ]
    },
    {
     "name": "stdout",
     "output_type": "stream",
     "text": [
      "Configuring Settings\n",
      "Configuring Solver\n",
      "Loading Inputs\n",
      "Reading Input CSV Files\n"
     ]
    },
    {
     "ename": "LoadError",
     "evalue": "LoadError: File Demand_data.csv was not found in the directory, \"/Users/mayamutic/Desktop/GenX-Tutorials/Tutorials/example_systems/1_three_zones\".\nTry checking the spelling.\nThe files in the directory are [\".DS_Store\", \"README.md\", \"Run.jl\", \"policies\", \"resources\", \"settings\", \"system\"].\nin expression starting at /Users/mayamutic/Desktop/GenX-Tutorials/Tutorials/example_systems/1_three_zones/Run.jl:4",
     "output_type": "error",
     "traceback": [
      "LoadError: File Demand_data.csv was not found in the directory, \"/Users/mayamutic/Desktop/GenX-Tutorials/Tutorials/example_systems/1_three_zones\".\nTry checking the spelling.\nThe files in the directory are [\".DS_Store\", \"README.md\", \"Run.jl\", \"policies\", \"resources\", \"settings\", \"system\"].\nin expression starting at /Users/mayamutic/Desktop/GenX-Tutorials/Tutorials/example_systems/1_three_zones/Run.jl:4",
      "",
      "Stacktrace:",
      "  [1] error(s::String)",
      "    @ Base ./error.jl:35",
      "  [2] throw_filenotfound_error(dir::String, base::String)",
      "    @ GenX ~/.julia/packages/GenX/o3fha/src/load_inputs/load_dataframe.jl:80",
      "  [3] load_dataframe(dir::String, basenames::Vector{String})",
      "    @ GenX ~/.julia/packages/GenX/o3fha/src/load_inputs/load_dataframe.jl:72",
      "  [4] get_demand_dataframe(path::String)",
      "    @ GenX ~/.julia/packages/GenX/o3fha/src/load_inputs/load_demand_data.jl:4",
      "  [5] load_demand_data!(setup::Dict{Any, Any}, path::String, inputs::Dict{Any, Any})",
      "    @ GenX ~/.julia/packages/GenX/o3fha/src/load_inputs/load_demand_data.jl:36",
      "  [6] load_inputs(setup::Dict{Any, Any}, path::String)",
      "    @ GenX ~/.julia/packages/GenX/o3fha/src/load_inputs/load_inputs.jl:27",
      "  [7] run_genx_case_simple!(case::String, mysetup::Dict{Any, Any}, optimizer::Type)",
      "    @ GenX ~/.julia/packages/GenX/o3fha/src/case_runners/case_runner.jl:59",
      "  [8] run_genx_case!(case::String, optimizer::Type)",
      "    @ GenX ~/.julia/packages/GenX/o3fha/src/case_runners/case_runner.jl:22",
      "  [9] top-level scope",
      "    @ ~/Desktop/GenX-Tutorials/Tutorials/example_systems/1_three_zones/Run.jl:4",
      " [10] include(fname::String)",
      "    @ Base.MainInclude ./client.jl:478",
      " [11] top-level scope",
      "    @ In[3]:1"
     ]
    }
   ],
   "source": [
    "include(\"example_systems/1_three_zones/Run.jl\")"
   ]
  },
  {
   "cell_type": "code",
   "execution_count": 4,
   "id": "b8ea6030",
   "metadata": {},
   "outputs": [
    {
     "ename": "LoadError",
     "evalue": "SystemError: opening file \"example_systems/1_three_zones/Results/capacity.csv\": No such file or directory",
     "output_type": "error",
     "traceback": [
      "SystemError: opening file \"example_systems/1_three_zones/Results/capacity.csv\": No such file or directory",
      "",
      "Stacktrace:",
      " [1] systemerror(p::String, errno::Int32; extrainfo::Nothing)",
      "   @ Base ./error.jl:176",
      " [2] #systemerror#82",
      "   @ ./error.jl:175 [inlined]",
      " [3] systemerror",
      "   @ ./error.jl:175 [inlined]",
      " [4] open(fname::String; lock::Bool, read::Nothing, write::Nothing, create::Nothing, truncate::Nothing, append::Nothing)",
      "   @ Base ./iostream.jl:293",
      " [5] open(fname::String)",
      "   @ Base ./iostream.jl:275",
      " [6] top-level scope",
      "   @ In[4]:3"
     ]
    }
   ],
   "source": [
    "using CSV\n",
    "using DataFrames\n",
    "results = CSV.read(open(\"example_systems/1_three_zones/Results/capacity.csv\"),DataFrame)"
   ]
  },
  {
   "cell_type": "markdown",
   "id": "75d31b5a",
   "metadata": {},
   "source": [
    "As you can see, this runs without a problem! To try with your own parameters, edit the `new_params` dictionary with whatever parameters you'd like to try and run the cells again."
   ]
  },
  {
   "cell_type": "markdown",
   "id": "f4f9679f",
   "metadata": {},
   "source": [
    "Finally, let's rewite `genx_settings.yml` to put the original settings in the example back: "
   ]
  },
  {
   "cell_type": "code",
   "execution_count": 5,
   "id": "41b5d0c7",
   "metadata": {},
   "outputs": [],
   "source": [
    "YAML.write_file(\"example_systems/1_three_zones/settings/genx_settings.yml\", genx_settings_SNE)"
   ]
  },
  {
   "cell_type": "code",
   "execution_count": null,
   "id": "97e2522d",
   "metadata": {},
   "outputs": [],
   "source": []
  }
 ],
 "metadata": {
  "@webio": {
   "lastCommId": null,
   "lastKernelId": null
  },
  "kernelspec": {
   "display_name": "Julia 1.9.2",
   "language": "julia",
   "name": "julia-1.9"
  },
  "language_info": {
   "file_extension": ".jl",
   "mimetype": "application/julia",
   "name": "julia",
   "version": "1.9.2"
  }
 },
 "nbformat": 4,
 "nbformat_minor": 5
}
