{
 "cells": [
  {
   "cell_type": "markdown",
   "id": "388f8773",
   "metadata": {},
   "source": [
    "# Tutorial 6: Solver Settings"
   ]
  },
  {
   "cell_type": "markdown",
   "id": "5abaf64b",
   "metadata": {},
   "source": [
    "Though solving the model relies only on `optimize`, there are a number of ways to change the way in which the model is optimized. This tutorial goes over solver parameters and how they affect the model solution."
   ]
  },
  {
   "cell_type": "markdown",
   "id": "8827a8c7",
   "metadata": {},
   "source": [
    "## Table of Contents\n",
    "* [The HiGHs Solver](#HiGHs)\n",
    "* [Feasibility Tolerance](#Feasibility)\n",
    "* [PreSolve](#PreSolve)\n",
    "* [Crossover](#Crossover)"
   ]
  },
  {
   "cell_type": "code",
   "execution_count": 1,
   "id": "d0c78f3d",
   "metadata": {},
   "outputs": [],
   "source": [
    "using YAML\n",
    "using GenX\n",
    "using JuMP\n",
    "using DataFrames"
   ]
  },
  {
   "cell_type": "code",
   "execution_count": 31,
   "id": "629e30df",
   "metadata": {},
   "outputs": [
    {
     "name": "stdout",
     "output_type": "stream",
     "text": [
      "Configuring Settings\n",
      "Clustering Time Series Data (Grouped)...\n",
      "Reading Input CSV Files\n",
      "Network.csv Successfully Read!\n",
      "Load_data.csv Successfully Read!\n",
      "Fuels_data.csv Successfully Read!\n",
      "Generators_data.csv Successfully Read!\n",
      "Generators_variability.csv Successfully Read!\n",
      "Validating time basis\n",
      "Capacity_reserve_margin.csv Successfully Read!\n",
      "Minimum_capacity_requirement.csv Successfully Read!\n",
      "Maximum_capacity_requirement.csv Successfully Read!\n",
      "Energy_share_requirement.csv Successfully Read!\n",
      "CO2_cap.csv Successfully Read!\n",
      "CSV Files Successfully Read In From Example_Systems_Tutorials/SmallNewEngland/OneZone\n",
      "Reading Input CSV Files\n",
      "Network.csv Successfully Read!\n",
      "Load_data.csv Successfully Read!\n",
      "Fuels_data.csv Successfully Read!\n",
      "Generators_data.csv Successfully Read!\n",
      "Generators_variability.csv Successfully Read!\n",
      "Validating time basis\n",
      "Capacity_reserve_margin.csv Successfully Read!\n",
      "Minimum_capacity_requirement.csv Successfully Read!\n",
      "Maximum_capacity_requirement.csv Successfully Read!\n",
      "Energy_share_requirement.csv Successfully Read!\n",
      "CO2_cap.csv Successfully Read!\n",
      "CSV Files Successfully Read In From Example_Systems_Tutorials/SmallNewEngland/OneZone\n"
     ]
    },
    {
     "data": {
      "text/plain": [
       "Dict{Any, Any} with 66 entries:\n",
       "  \"Z\"                   => 1\n",
       "  \"LOSS_LINES\"          => [1]\n",
       "  \"RET_CAP_CHARGE\"      => Int64[]\n",
       "  \"pC_D_Curtail\"        => [50.0]\n",
       "  \"dfGen\"               => \u001b[1m4×68 DataFrame\u001b[0m\u001b[0m…\n",
       "  \"pTrans_Max_Possible\" => [2.95]\n",
       "  \"pNet_Map\"            => [1.0;;]\n",
       "  \"omega\"               => [4.01099, 4.01099, 4.01099, 4.01099, 4.01099, 4.0109…\n",
       "  \"RET_CAP_ENERGY\"      => [4]\n",
       "  \"RESOURCES\"           => String31[\"natural_gas_combined_cycle\", \"solar_pv\", \"…\n",
       "  \"COMMIT\"              => [1]\n",
       "  \"pMax_D_Curtail\"      => [1]\n",
       "  \"STOR_ALL\"            => [4]\n",
       "  \"THERM_ALL\"           => [1]\n",
       "  \"dfCO2CapZones\"       => [1;;]\n",
       "  \"REP_PERIOD\"          => 11\n",
       "  \"MinCapReq\"           => [5.0, 10.0, 6.0]\n",
       "  \"STOR_LONG_DURATION\"  => Int64[]\n",
       "  \"dfCapRes\"            => [0.156;;]\n",
       "  \"STOR_SYMMETRIC\"      => [4]\n",
       "  \"VRE\"                 => [2, 3]\n",
       "  \"RETRO\"               => Int64[]\n",
       "  \"THERM_COMMIT\"        => [1]\n",
       "  \"TRANS_LOSS_SEGS\"     => 1\n",
       "  \"H\"                   => 168\n",
       "  ⋮                     => ⋮"
      ]
     },
     "execution_count": 31,
     "metadata": {},
     "output_type": "execute_result"
    }
   ],
   "source": [
    "case = joinpath(\"Example_Systems_Tutorials/SmallNewEngland/OneZone\") \n",
    "\n",
    "genx_settings = GenX.get_settings_path(case, \"genx_settings.yml\");\n",
    "setup = GenX.configure_settings(genx_settings);\n",
    "settings_path = GenX.get_settings_path(case)\n"
   ]
  },
  {
   "cell_type": "markdown",
   "id": "1e717c64",
   "metadata": {},
   "source": [
    "### The HiGHS Solver"
   ]
  },
  {
   "cell_type": "markdown",
   "id": "0958dc5c",
   "metadata": {},
   "source": [
    "In the example files, the solver <a href=\"https://highs.dev\" target=\"_blank\">HiGHS</a>. HiGHS is freely available for all to use. Other solvers, such as  <a href=\"https://www.gurobi.com\" target=\"_blank\">Gurobi</a>, are available for free for academics. For the purpose of this tutorial, we will be focusing on HiGHS. \n",
    "\n",
    "To set the solver preferences, go into the settings folder of your case and select the YAML file of the solver you're using.\n",
    "\n"
   ]
  },
  {
   "cell_type": "code",
   "execution_count": 5,
   "id": "fe389e01",
   "metadata": {},
   "outputs": [
    {
     "data": {
      "text/plain": [
       "Dict{Any, Any} with 6 entries:\n",
       "  \"Method\"        => \"choose\"\n",
       "  \"Feasib_Tol\"    => 0.1\n",
       "  \"run_crossover\" => \"on\"\n",
       "  \"TimeLimit\"     => 1.0e23\n",
       "  \"Optimal_Tol\"   => 0.1\n",
       "  \"Pre_Solve\"     => \"choose\""
      ]
     },
     "execution_count": 5,
     "metadata": {},
     "output_type": "execute_result"
    }
   ],
   "source": [
    "settings_folder = cd(readdir,joinpath(case,\"Settings\")) # Print Settings folder\n",
    "\n",
    "highs_settings = YAML.load(open(joinpath(case,\"Settings/highs_settings.yml\")))\n"
   ]
  },
  {
   "cell_type": "markdown",
   "id": "74828287",
   "metadata": {},
   "source": [
    "The function <a href=\"https://genxproject.github.io/GenX/dev/solver_configuration/#Configuring-HiGHS\" target=\"_blank\">`configure_highs`</a> in `src/configure_solver` contains a list of default settings for the HiGHS solver\n",
    "\n"
   ]
  },
  {
   "cell_type": "markdown",
   "id": "0d29fa11",
   "metadata": {},
   "source": [
    "<img src=\"files/highs_defaults.png\" style=\"width: auto; height: 500px\" align=\"left\">\n",
    "\n"
   ]
  },
  {
   "cell_type": "markdown",
   "id": "7ed7658a",
   "metadata": {},
   "source": [
    "There are about 80, so we'll only focus on a few for now. In most cases, you can leave the other settings on default. \n",
    "\n",
    "The default settings are combined with the settings you specify in `highs_settings.yml` in `configure_highs`, which is called from `configure_solver` in `run_genx_case_simple` right before the model is generated.\n",
    "\n"
   ]
  },
  {
   "cell_type": "markdown",
   "id": "27ba49f8",
   "metadata": {},
   "source": [
    "### Feasibility Tolerance <a id=\"Feasibility\"></a>"
   ]
  },
  {
   "cell_type": "markdown",
   "id": "26b41294",
   "metadata": {},
   "source": [
    "The parameters `Feasib_Tol` and `Optimal_Tol` represent the feasibility of the primal and dual functions respectively. Without going into too much detail, a  <a href=\"https://en.wikipedia.org/wiki/Duality_(optimization)\" target=\"_blank\">__dual function__</a> is an analagous formulation of the original (\"primal\") function whose objective value acts as a lower bound to the primal function. The objective value of the primal function is then the upper bound of the dual function. HiGHS will solve the dual and primal at each time step, then terminate when the solutions of the two are within a certain tolerance range. For more information on how this works specifically in HiGHS, see the  <a href=\"https://ergo-code.github.io/HiGHS/dev/terminology/\" target=\"_blank\">HiGHS documentaion</a>. \n",
    "\n",
    "If we decrease the tolerance parameters, the objective value becomes closer to the \"true\" optimal value.\n",
    "\n"
   ]
  },
  {
   "cell_type": "code",
   "execution_count": null,
   "id": "d9757ed1",
   "metadata": {},
   "outputs": [],
   "source": [
    "# Change tolerance, generate and solve model`\n",
    "tols = [1e-7,1e-5,1e-4,1e-3,1e-2,1e-1]\n",
    "OV = [0.0,0.0,0.0,0.0,0.0,0.0]\n",
    "times = [0.0,0.0,0.0,0.0,0.0,0.0]\n",
    "#highs_settings[\"Method\"] = \"ipm\"\n",
    "#YAML.write_file(joinpath(case,\"Settings/highs_settings.yml\"), highs_settings)\n",
    "\n",
    "for i in range(1,length(tols))\n",
    "    println(\" \")\n",
    "    println(\"----------------------------------------------------\")\n",
    "    println(\"Iteration \",i)\n",
    "    println(\"Tolerance = \",tols[i])\n",
    "    println(\"----------------------------------------------------\")\n",
    "    highs_settings[\"Feasib_Tol\"] = tols[i]\n",
    "    highs_settings[\"Optimal_Tol\"] = tols[i]\n",
    "    YAML.write_file(joinpath(case,\"Settings/highs_settings.yml\"), highs_settings)\n",
    "    OPTIMIZER1 = GenX.configure_solver(setup[\"Solver\"], settings_path);\n",
    "    EP = GenX.generate_model(setup,inputs,OPTIMIZER1)\n",
    "    time = @elapsed GenX.solve_model(EP,setup)\n",
    "    OV[i] = objective_value(EP)\n",
    "    times[i] = time\n",
    "end\n",
    "\n"
   ]
  },
  {
   "cell_type": "markdown",
   "id": "0bb401b7",
   "metadata": {},
   "source": [
    "Using the smallest tolerance as our base, we can see the error as the tolerance increases:\n",
    "\n"
   ]
  },
  {
   "cell_type": "code",
   "execution_count": null,
   "id": "aafa724a",
   "metadata": {},
   "outputs": [],
   "source": [
    "DataFrame([tols[2:end] abs.(OV[2:end] .- OV[1]) times[2:end]],[\"Tolerance\", \"Error\", \"Time\"])"
   ]
  },
  {
   "cell_type": "code",
   "execution_count": null,
   "id": "6435ad63",
   "metadata": {},
   "outputs": [],
   "source": [
    "using Plots\n",
    "using Plotly\n",
    "import Pkg; Pkg.add(\"PyPlot\")"
   ]
  },
  {
   "cell_type": "code",
   "execution_count": null,
   "id": "9a6835e5",
   "metadata": {},
   "outputs": [],
   "source": [
    "# Plot the run time as a function of the tolerance\n",
    "plotlyjs()\n",
    "Plots.scatter(tols[2:end], abs.(OV[2:end] .- OV[1]),legend=:topleft,\n",
    "                ylabel=\"Error\", xlabel=\"Tolerance\",size=(920,400),label=:\"Error\")\n",
    "scatter!(twinx(),tols[2:end],times[2:end],color=:red,markeralpha=.5,label=:\"Time\",legend=:topleft,\n",
    "    yaxis=(label=\"Time\"))\n",
    "ygrid!(:on, :dashdot, 0.1)"
   ]
  },
  {
   "cell_type": "markdown",
   "id": "e9b12090",
   "metadata": {},
   "source": [
    "### PreSolve <a id=\"PreSolve\"></a>"
   ]
  },
  {
   "cell_type": "markdown",
   "id": "03d28785",
   "metadata": {},
   "source": [
    "In optimization, presolve is a stage at the beginning of the solver in which the problem is simplified to remove redunant constraints and otherwise simplify the problem before the optimization itself begins. The default for presolve in GenX is \"choose\", allowing the solver to use presolve only if it will reduce computation time. \n",
    "\n",
    "Let's try setting presolve to off and on, then compare computation times.\n",
    "\n"
   ]
  },
  {
   "cell_type": "code",
   "execution_count": 6,
   "id": "cbadd539",
   "metadata": {},
   "outputs": [],
   "source": [
    "# First, set tolerances back to original\n",
    "highs_settings[\"Feasib_Tol\"] = 1e-5\n",
    "highs_settings[\"Optimal_Tol\"] = 1e-5\n",
    "YAML.write_file(joinpath(case,\"Settings/highs_settings.yml\"), highs_settings)    "
   ]
  },
  {
   "cell_type": "code",
   "execution_count": 7,
   "id": "8900aa79",
   "metadata": {},
   "outputs": [
    {
     "name": "stdout",
     "output_type": "stream",
     "text": [
      "Discharge Module\n",
      "Non-served Energy Module\n",
      "Investment Discharge Module\n",
      "Unit Commitment Module\n",
      "Emissions Module (for CO2 Policy modularization\n",
      "Dispatchable Resources Module\n",
      "Storage Resources Module\n",
      "Storage Investment Module\n",
      "Storage Core Resources Module\n",
      "Storage Resources with Symmetric Charge/Discharge Capacity Module\n",
      "Thermal (Unit Commitment) Resources Module\n",
      "C02 Policies Module\n",
      "Energy Share Requirement Policies Module\n",
      "Capacity Reserve Margin Policies Module\n",
      "Minimum Capacity Requirement Module\n",
      "Maximum Capacity Requirement Module\n"
     ]
    },
    {
     "data": {
      "text/plain": [
       "A JuMP Model\n",
       "Minimization problem with:\n",
       "Variables: 18492\n",
       "Objective function type: AffExpr\n",
       "`AffExpr`-in-`MathOptInterface.EqualTo{Float64}`: 5544 constraints\n",
       "`AffExpr`-in-`MathOptInterface.GreaterThan{Float64}`: 7398 constraints\n",
       "`AffExpr`-in-`MathOptInterface.LessThan{Float64}`: 27730 constraints\n",
       "`VariableRef`-in-`MathOptInterface.EqualTo{Float64}`: 2 constraints\n",
       "`VariableRef`-in-`MathOptInterface.GreaterThan{Float64}`: 18490 constraints\n",
       "Model mode: AUTOMATIC\n",
       "CachingOptimizer state: EMPTY_OPTIMIZER\n",
       "Solver name: HiGHS\n",
       "Names registered in the model: cCO2Emissions_systemwide, cCapacityResMargin, cESRShare, cMaxCap, cMaxCapEnergy, cMaxCapEnergyDuration, cMaxNSE, cMaxRetCommit, cMaxRetEnergy, cMaxRetNoCommit, cMinCap, cMinCapEnergy, cMinCapEnergyDuration, cNSEPerSeg, cPowerBalance, cSoCBalInterior, cSoCBalStart, cZoneMaxCapReq, cZoneMinCapReq, eCFix, eCFixEnergy, eCNSE, eCStart, eCVar_in, eCVar_out, eCapResMarBalance, eCapResMarBalanceStor, eCapResMarBalanceThermal, eCapResMarBalanceVRE, eELOSS, eELOSSByZone, eESR, eESRDischarge, eEmissionsByPlant, eEmissionsByZone, eExistingCap, eExistingCapEnergy, eGenerationByThermAll, eGenerationByVRE, eGenerationByZone, eMaxCapRes, eMaxCapResInvest, eMinCapRes, eMinCapResInvest, eObj, ePowerBalance, ePowerBalanceDisp, ePowerBalanceNse, ePowerBalanceStor, ePowerBalanceThermCommit, eTotalCFix, eTotalCFixEnergy, eTotalCNSE, eTotalCNSET, eTotalCNSETS, eTotalCStart, eTotalCStartT, eTotalCVarIn, eTotalCVarInT, eTotalCVarOut, eTotalCVarOutT, eTotalCap, eTotalCapEnergy, vCAP, vCAPENERGY, vCHARGE, vCO2Cap_slack, vCOMMIT, vNSE, vP, vRETCAP, vRETCAPENERGY, vS, vSHUT, vSTART, vZERO"
      ]
     },
     "execution_count": 7,
     "metadata": {},
     "output_type": "execute_result"
    }
   ],
   "source": [
    "highs_settings[\"Pre_Solve\"] = \"off\"\n",
    "YAML.write_file(joinpath(case,\"Settings/highs_settings.yml\"), highs_settings)\n",
    "OPTIMIZER2 = GenX.configure_solver(setup[\"Solver\"], settings_path);\n",
    "EP2 = GenX.generate_model(setup,inputs,OPTIMIZER2)"
   ]
  },
  {
   "cell_type": "code",
   "execution_count": 8,
   "id": "dc1c7bd6",
   "metadata": {},
   "outputs": [
    {
     "name": "stdout",
     "output_type": "stream",
     "text": [
      "Running HiGHS 1.6.0: Copyright (c) 2023 HiGHS under MIT licence terms\n",
      "Solving LP without presolve or with basis\n",
      "Using EKK dual simplex solver - serial\n",
      "  Iteration        Objective     Infeasibilities num(sum)\n",
      "          0    -4.3842305368e+02 Ph1: 19318(12391.6); Du: 5(438.423) 0s\n",
      "      18662     9.5083526285e+03 Pr: 3142(5018.36); Du: 0(0.000872182) 5s\n",
      "      23359     9.8583752055e+03 Pr: 0(0); Du: 0(1.27565e-13) 6s\n",
      "Model   status      : Optimal\n",
      "Simplex   iterations: 23359\n",
      "Objective value     :  9.8583752055e+03\n",
      "HiGHS run time      :          6.77\n",
      "LP solved for primal\n"
     ]
    },
    {
     "data": {
      "text/plain": [
       "6.84933975"
      ]
     },
     "execution_count": 8,
     "metadata": {},
     "output_type": "execute_result"
    }
   ],
   "source": [
    "solution2 = @elapsed GenX.solve_model(EP2,setup)"
   ]
  },
  {
   "cell_type": "code",
   "execution_count": 9,
   "id": "cefed99c",
   "metadata": {},
   "outputs": [
    {
     "name": "stdout",
     "output_type": "stream",
     "text": [
      "Discharge Module\n",
      "Non-served Energy Module\n",
      "Investment Discharge Module\n",
      "Unit Commitment Module\n",
      "Emissions Module (for CO2 Policy modularization\n",
      "Dispatchable Resources Module\n",
      "Storage Resources Module\n",
      "Storage Investment Module\n",
      "Storage Core Resources Module\n",
      "Storage Resources with Symmetric Charge/Discharge Capacity Module\n",
      "Thermal (Unit Commitment) Resources Module\n",
      "C02 Policies Module\n",
      "Energy Share Requirement Policies Module\n",
      "Capacity Reserve Margin Policies Module\n",
      "Minimum Capacity Requirement Module\n",
      "Maximum Capacity Requirement Module\n"
     ]
    },
    {
     "data": {
      "text/plain": [
       "A JuMP Model\n",
       "Minimization problem with:\n",
       "Variables: 18492\n",
       "Objective function type: AffExpr\n",
       "`AffExpr`-in-`MathOptInterface.EqualTo{Float64}`: 5544 constraints\n",
       "`AffExpr`-in-`MathOptInterface.GreaterThan{Float64}`: 7398 constraints\n",
       "`AffExpr`-in-`MathOptInterface.LessThan{Float64}`: 27730 constraints\n",
       "`VariableRef`-in-`MathOptInterface.EqualTo{Float64}`: 2 constraints\n",
       "`VariableRef`-in-`MathOptInterface.GreaterThan{Float64}`: 18490 constraints\n",
       "Model mode: AUTOMATIC\n",
       "CachingOptimizer state: EMPTY_OPTIMIZER\n",
       "Solver name: HiGHS\n",
       "Names registered in the model: cCO2Emissions_systemwide, cCapacityResMargin, cESRShare, cMaxCap, cMaxCapEnergy, cMaxCapEnergyDuration, cMaxNSE, cMaxRetCommit, cMaxRetEnergy, cMaxRetNoCommit, cMinCap, cMinCapEnergy, cMinCapEnergyDuration, cNSEPerSeg, cPowerBalance, cSoCBalInterior, cSoCBalStart, cZoneMaxCapReq, cZoneMinCapReq, eCFix, eCFixEnergy, eCNSE, eCStart, eCVar_in, eCVar_out, eCapResMarBalance, eCapResMarBalanceStor, eCapResMarBalanceThermal, eCapResMarBalanceVRE, eELOSS, eELOSSByZone, eESR, eESRDischarge, eEmissionsByPlant, eEmissionsByZone, eExistingCap, eExistingCapEnergy, eGenerationByThermAll, eGenerationByVRE, eGenerationByZone, eMaxCapRes, eMaxCapResInvest, eMinCapRes, eMinCapResInvest, eObj, ePowerBalance, ePowerBalanceDisp, ePowerBalanceNse, ePowerBalanceStor, ePowerBalanceThermCommit, eTotalCFix, eTotalCFixEnergy, eTotalCNSE, eTotalCNSET, eTotalCNSETS, eTotalCStart, eTotalCStartT, eTotalCVarIn, eTotalCVarInT, eTotalCVarOut, eTotalCVarOutT, eTotalCap, eTotalCapEnergy, vCAP, vCAPENERGY, vCHARGE, vCO2Cap_slack, vCOMMIT, vNSE, vP, vRETCAP, vRETCAPENERGY, vS, vSHUT, vSTART, vZERO"
      ]
     },
     "execution_count": 9,
     "metadata": {},
     "output_type": "execute_result"
    }
   ],
   "source": [
    "highs_settings[\"Pre_Solve\"] = \"on\"\n",
    "YAML.write_file(joinpath(case,\"Settings/highs_settings.yml\"), highs_settings)\n",
    "OPTIMIZER3 = GenX.configure_solver(setup[\"Solver\"], settings_path);\n",
    "EP3 = GenX.generate_model(setup,inputs,OPTIMIZER3)"
   ]
  },
  {
   "cell_type": "code",
   "execution_count": 10,
   "id": "d9160cce",
   "metadata": {},
   "outputs": [
    {
     "name": "stdout",
     "output_type": "stream",
     "text": [
      "Running HiGHS 1.6.0: Copyright (c) 2023 HiGHS under MIT licence terms\n",
      "Presolving model\n",
      "35947 rows, 17464 cols, 136177 nonzeros\n",
      "34470 rows, 15991 cols, 136110 nonzeros\n",
      "Presolve : Reductions: rows 34470(-6202); columns 15991(-2501); elements 136110(-29848)\n",
      "Solving the presolved LP\n",
      "Using EKK dual simplex solver - serial\n",
      "  Iteration        Objective     Infeasibilities num(sum)\n",
      "          0    -2.9011432493e+00 Ph1: 118(557.293); Du: 15(2.90114) 0s\n",
      "      16445     9.8583752055e+03 Pr: 0(0); Du: 0(1.25316e-13) 4s\n",
      "Solving the original LP from the solution after postsolve\n",
      "Model   status      : Optimal\n",
      "Simplex   iterations: 16445\n",
      "Objective value     :  9.8583752055e+03\n",
      "HiGHS run time      :          4.55\n",
      "LP solved for primal\n"
     ]
    },
    {
     "data": {
      "text/plain": [
       "4.655439792"
      ]
     },
     "execution_count": 10,
     "metadata": {},
     "output_type": "execute_result"
    }
   ],
   "source": [
    "solution3 = @elapsed GenX.solve_model(EP3,setup)"
   ]
  },
  {
   "cell_type": "markdown",
   "id": "ce8bb7ce",
   "metadata": {},
   "source": [
    "As we can see, the runtime with PreSolve is shorter, and would be even shorter for a larger system. However, it could introduce numerical inaccuracies. If you find the model is struggling to converge, try turn PreSolve off.\n",
    "\n"
   ]
  },
  {
   "cell_type": "code",
   "execution_count": 11,
   "id": "0ca89de7",
   "metadata": {},
   "outputs": [],
   "source": [
    "# Write PreSolve back to choose\n",
    "highs_settings[\"Pre_Solve\"] = \"choose\"\n",
    "YAML.write_file(joinpath(case,\"Settings/highs_settings.yml\"), highs_settings)"
   ]
  },
  {
   "cell_type": "markdown",
   "id": "c342b7d0",
   "metadata": {},
   "source": [
    "### Crossover <a id=\"Crossover\"></a>"
   ]
  },
  {
   "cell_type": "markdown",
   "id": "16081f05",
   "metadata": {},
   "source": [
    "Crossover is a method in which, at each step of the optimization algorithm, the solution is pushed to the boundary of the solution space. This allows for a potentially more accurate solution, but can be computationally intensive. Let's try turning crossover on and off and see what solutions we get:"
   ]
  },
  {
   "cell_type": "code",
   "execution_count": 27,
   "id": "5c97f63f",
   "metadata": {},
   "outputs": [
    {
     "name": "stdout",
     "output_type": "stream",
     "text": [
      "Discharge Module\n",
      "Non-served Energy Module\n",
      "Investment Discharge Module\n",
      "Unit Commitment Module\n",
      "Emissions Module (for CO2 Policy modularization\n",
      "Transmission Module\n",
      "Dispatchable Resources Module\n",
      "Storage Resources Module\n",
      "Storage Investment Module\n",
      "Storage Core Resources Module\n",
      "Storage Resources with Symmetric Charge/Discharge Capacity Module\n",
      "Thermal (Unit Commitment) Resources Module\n",
      "C02 Policies Module\n",
      "Minimum Capacity Requirement Module\n"
     ]
    },
    {
     "data": {
      "text/plain": [
       "A JuMP Model\n",
       "Minimization problem with:\n",
       "Variables: 83192\n",
       "Objective function type: AffExpr\n",
       "`AffExpr`-in-`MathOptInterface.EqualTo{Float64}`: 24024 constraints\n",
       "`AffExpr`-in-`MathOptInterface.GreaterThan{Float64}`: 20334 constraints\n",
       "`AffExpr`-in-`MathOptInterface.LessThan{Float64}`: 103509 constraints\n",
       "`VariableRef`-in-`MathOptInterface.EqualTo{Float64}`: 4 constraints\n",
       "`VariableRef`-in-`MathOptInterface.GreaterThan{Float64}`: 79492 constraints\n",
       "Model mode: AUTOMATIC\n",
       "CachingOptimizer state: EMPTY_OPTIMIZER\n",
       "Solver name: HiGHS\n",
       "Names registered in the model: cCO2Emissions_systemwide, cMaxCap, cMaxCapEnergy, cMaxCapEnergyDuration, cMaxFlow_in, cMaxFlow_out, cMaxLineReinforcement, cMaxNSE, cMaxRetCommit, cMaxRetEnergy, cMaxRetNoCommit, cMinCap, cMinCapEnergy, cMinCapEnergyDuration, cNSEPerSeg, cPowerBalance, cSoCBalInterior, cSoCBalStart, cTAuxLimit, cTAuxSum, cTLoss, cZoneMinCapReq, eAvail_Trans_Cap, eCFix, eCFixEnergy, eCNSE, eCStart, eCVar_in, eCVar_out, eELOSS, eELOSSByZone, eEmissionsByPlant, eEmissionsByZone, eExistingCap, eExistingCapEnergy, eGenerationByThermAll, eGenerationByVRE, eGenerationByZone, eLosses_By_Zone, eMinCapRes, eMinCapResInvest, eNet_Export_Flows, eObj, ePowerBalance, ePowerBalanceDisp, ePowerBalanceLossesByZone, ePowerBalanceNetExportFlows, ePowerBalanceNse, ePowerBalanceStor, ePowerBalanceThermCommit, eTotalCFix, eTotalCFixEnergy, eTotalCNSE, eTotalCNSET, eTotalCNSETS, eTotalCNetworkExp, eTotalCStart, eTotalCStartT, eTotalCVarIn, eTotalCVarInT, eTotalCVarOut, eTotalCVarOutT, eTotalCap, eTotalCapEnergy, eTransMax, vCAP, vCAPENERGY, vCHARGE, vCO2Cap_slack, vCOMMIT, vFLOW, vNEW_TRANS_CAP, vNSE, vP, vRETCAP, vRETCAPENERGY, vS, vSHUT, vSTART, vTAUX_NEG, vTAUX_POS, vTLOSS, vZERO"
      ]
     },
     "execution_count": 27,
     "metadata": {},
     "output_type": "execute_result"
    }
   ],
   "source": [
    "highs_settings[\"run_crossover\"] = \"off\"\n",
    "YAML.write_file(joinpath(case,\"Settings/highs_settings.yml\"), highs_settings)\n",
    "OPTIMIZER4 = GenX.configure_solver(setup[\"Solver\"], settings_path);\n",
    "EP4 = GenX.generate_model(setup,inputs,OPTIMIZER4)"
   ]
  },
  {
   "cell_type": "code",
   "execution_count": 28,
   "id": "24f6b219",
   "metadata": {},
   "outputs": [
    {
     "name": "stdout",
     "output_type": "stream",
     "text": [
      "Running HiGHS 1.6.0: Copyright (c) 2023 HiGHS under MIT licence terms\n",
      "Presolving model\n",
      "123675 rows, 81174 cols, 478190 nonzeros\n",
      "116575 rows, 74076 cols, 478470 nonzeros\n",
      "Presolve : Reductions: rows 116575(-31292); columns 74076(-9116); elements 478470(-75676)\n",
      "Solving the presolved LP\n",
      "Using EKK dual simplex solver - serial\n",
      "  Iteration        Objective     Infeasibilities num(sum)\n",
      "          0     1.9243583242e+03 Pr: 5545(9397.81); Du: 0(3.92542e-09) 0s\n",
      "      13530     2.9999821788e+03 Pr: 30131(9.49605e+06); Du: 0(0.0013131) 5s\n",
      "      17547     3.5484267823e+03 Pr: 19414(952045); Du: 0(0.00175439) 10s\n",
      "      20723     4.7298157079e+03 Pr: 29321(991206); Du: 0(0.00183106) 15s\n",
      "      23580     5.7123748112e+03 Pr: 32150(7.12339e+06); Du: 0(0.00148821) 21s\n",
      "      26170     6.1864339355e+03 Pr: 23825(7.35638e+06); Du: 0(0.00149712) 26s\n",
      "      29149     6.6441899572e+03 Pr: 27775(3.51868e+06); Du: 0(0.00148729) 31s\n",
      "      31348     6.8846964690e+03 Pr: 35484(2.8051e+06); Du: 0(0.00139557) 36s\n",
      "      33603     6.9920173954e+03 Pr: 24118(2.03558e+06); Du: 0(0.00124593) 42s\n",
      "      35671     7.2015870783e+03 Pr: 34108(1.48506e+07); Du: 0(0.00155189) 47s\n",
      "      37885     7.4048679609e+03 Pr: 31619(4.35123e+07); Du: 0(0.00179926) 52s\n",
      "      40109     7.6356641465e+03 Pr: 25843(2.88592e+06); Du: 0(0.00205301) 58s\n",
      "      42353     7.8375259516e+03 Pr: 31443(8.49023e+06); Du: 0(0.00226205) 64s\n",
      "      45258     8.1692860958e+03 Pr: 37870(5.26412e+06); Du: 0(0.00255441) 69s\n",
      "      48083     8.3152673717e+03 Pr: 40961(1.14875e+07); Du: 0(0.00294817) 75s\n",
      "      50545     8.4510258333e+03 Pr: 30790(3.72272e+08); Du: 0(0.00304629) 80s\n",
      "      52861     8.5807507297e+03 Pr: 22492(930796); Du: 0(0.00320519) 85s\n",
      "      54980     8.6629986832e+03 Pr: 30776(2.08885e+07); Du: 0(0.00337039) 91s\n",
      "      57333     8.7549581833e+03 Pr: 26257(1.13046e+06); Du: 0(0.00357615) 96s\n",
      "      59389     8.8000584935e+03 Pr: 36678(2.40379e+06); Du: 0(0.00364701) 101s\n",
      "      61669     8.8767323679e+03 Pr: 35715(2.44371e+06); Du: 0(0.00390224) 107s\n",
      "      63914     8.9782186363e+03 Pr: 43654(3.60725e+06); Du: 0(0.00423026) 113s\n",
      "      66084     9.0603325781e+03 Pr: 22220(2.48776e+06); Du: 0(0.00410399) 118s\n",
      "      69022     9.1231092369e+03 Pr: 22727(1.78641e+06); Du: 0(0.00444875) 124s\n",
      "      71953     9.1538574545e+03 Pr: 22264(5.37124e+06); Du: 0(0.00461629) 129s\n",
      "      74846     9.1867207120e+03 Pr: 26970(1.49142e+06); Du: 0(0.00477614) 135s\n",
      "      77129     9.2058130738e+03 Pr: 0(0); Du: 0(0.00107487) 140s\n",
      "      77129     9.2058130738e+03 Pr: 0(0); Du: 0(0.00107487) 140s\n",
      "Using EKK dual simplex solver - serial\n",
      "  Iteration        Objective     Infeasibilities num(sum)\n",
      "      77129     9.2058130738e+03 Pr: 1(0.000235421); Du: 0(0.000836801) 140s\n",
      "      77136     9.2058130749e+03 Pr: 0(0); Du: 0(0.000836801) 140s\n",
      "      77136     9.2058130749e+03 Pr: 0(0); Du: 0(0.000836801) 140s\n",
      "Solving the original LP from the solution after postsolve\n",
      "Model   status      : Optimal\n",
      "Simplex   iterations: 77136\n",
      "Objective value     :  9.2058130749e+03\n",
      "HiGHS run time      :        140.51\n",
      "LP solved for primal\n"
     ]
    },
    {
     "data": {
      "text/plain": [
       "140.762363"
      ]
     },
     "execution_count": 28,
     "metadata": {},
     "output_type": "execute_result"
    }
   ],
   "source": [
    "solution4 = @elapsed GenX.solve_model(EP4,setup)"
   ]
  },
  {
   "cell_type": "code",
   "execution_count": 29,
   "id": "c0f1b70e",
   "metadata": {},
   "outputs": [
    {
     "name": "stdout",
     "output_type": "stream",
     "text": [
      "Discharge Module\n",
      "Non-served Energy Module\n",
      "Investment Discharge Module\n",
      "Unit Commitment Module\n",
      "Emissions Module (for CO2 Policy modularization\n",
      "Transmission Module\n",
      "Dispatchable Resources Module\n",
      "Storage Resources Module\n",
      "Storage Investment Module\n",
      "Storage Core Resources Module\n",
      "Storage Resources with Symmetric Charge/Discharge Capacity Module\n",
      "Thermal (Unit Commitment) Resources Module\n",
      "C02 Policies Module\n",
      "Minimum Capacity Requirement Module\n"
     ]
    },
    {
     "data": {
      "text/plain": [
       "A JuMP Model\n",
       "Minimization problem with:\n",
       "Variables: 83192\n",
       "Objective function type: AffExpr\n",
       "`AffExpr`-in-`MathOptInterface.EqualTo{Float64}`: 24024 constraints\n",
       "`AffExpr`-in-`MathOptInterface.GreaterThan{Float64}`: 20334 constraints\n",
       "`AffExpr`-in-`MathOptInterface.LessThan{Float64}`: 103509 constraints\n",
       "`VariableRef`-in-`MathOptInterface.EqualTo{Float64}`: 4 constraints\n",
       "`VariableRef`-in-`MathOptInterface.GreaterThan{Float64}`: 79492 constraints\n",
       "Model mode: AUTOMATIC\n",
       "CachingOptimizer state: EMPTY_OPTIMIZER\n",
       "Solver name: HiGHS\n",
       "Names registered in the model: cCO2Emissions_systemwide, cMaxCap, cMaxCapEnergy, cMaxCapEnergyDuration, cMaxFlow_in, cMaxFlow_out, cMaxLineReinforcement, cMaxNSE, cMaxRetCommit, cMaxRetEnergy, cMaxRetNoCommit, cMinCap, cMinCapEnergy, cMinCapEnergyDuration, cNSEPerSeg, cPowerBalance, cSoCBalInterior, cSoCBalStart, cTAuxLimit, cTAuxSum, cTLoss, cZoneMinCapReq, eAvail_Trans_Cap, eCFix, eCFixEnergy, eCNSE, eCStart, eCVar_in, eCVar_out, eELOSS, eELOSSByZone, eEmissionsByPlant, eEmissionsByZone, eExistingCap, eExistingCapEnergy, eGenerationByThermAll, eGenerationByVRE, eGenerationByZone, eLosses_By_Zone, eMinCapRes, eMinCapResInvest, eNet_Export_Flows, eObj, ePowerBalance, ePowerBalanceDisp, ePowerBalanceLossesByZone, ePowerBalanceNetExportFlows, ePowerBalanceNse, ePowerBalanceStor, ePowerBalanceThermCommit, eTotalCFix, eTotalCFixEnergy, eTotalCNSE, eTotalCNSET, eTotalCNSETS, eTotalCNetworkExp, eTotalCStart, eTotalCStartT, eTotalCVarIn, eTotalCVarInT, eTotalCVarOut, eTotalCVarOutT, eTotalCap, eTotalCapEnergy, eTransMax, vCAP, vCAPENERGY, vCHARGE, vCO2Cap_slack, vCOMMIT, vFLOW, vNEW_TRANS_CAP, vNSE, vP, vRETCAP, vRETCAPENERGY, vS, vSHUT, vSTART, vTAUX_NEG, vTAUX_POS, vTLOSS, vZERO"
      ]
     },
     "execution_count": 29,
     "metadata": {},
     "output_type": "execute_result"
    }
   ],
   "source": [
    "highs_settings[\"run_crossover\"] = \"on\"\n",
    "YAML.write_file(joinpath(case,\"Settings/highs_settings.yml\"), highs_settings)\n",
    "OPTIMIZER5 = GenX.configure_solver(setup[\"Solver\"], settings_path);\n",
    "EP5 = GenX.generate_model(setup,inputs,OPTIMIZER5)"
   ]
  },
  {
   "cell_type": "code",
   "execution_count": 30,
   "id": "1f944449",
   "metadata": {},
   "outputs": [
    {
     "name": "stdout",
     "output_type": "stream",
     "text": [
      "Running HiGHS 1.6.0: Copyright (c) 2023 HiGHS under MIT licence terms\n",
      "Presolving model\n",
      "123675 rows, 81174 cols, 478190 nonzeros\n",
      "116575 rows, 74076 cols, 478470 nonzeros\n",
      "Presolve : Reductions: rows 116575(-31292); columns 74076(-9116); elements 478470(-75676)\n",
      "Solving the presolved LP\n",
      "Using EKK dual simplex solver - serial\n",
      "  Iteration        Objective     Infeasibilities num(sum)\n",
      "          0     1.9243583242e+03 Pr: 5545(9397.81); Du: 0(3.92542e-09) 0s\n",
      "      13530     2.9999821788e+03 Pr: 30131(9.49605e+06); Du: 0(0.0013131) 5s\n",
      "      17547     3.5484267823e+03 Pr: 19414(952045); Du: 0(0.00175439) 10s\n",
      "      20723     4.7298157079e+03 Pr: 29321(991206); Du: 0(0.00183106) 15s\n",
      "      23580     5.7123748112e+03 Pr: 32150(7.12339e+06); Du: 0(0.00148821) 21s\n",
      "      26170     6.1864339355e+03 Pr: 23825(7.35638e+06); Du: 0(0.00149712) 26s\n",
      "      29149     6.6441899572e+03 Pr: 27775(3.51868e+06); Du: 0(0.00148729) 31s\n",
      "      31348     6.8846964690e+03 Pr: 35484(2.8051e+06); Du: 0(0.00139557) 36s\n",
      "      33603     6.9920173954e+03 Pr: 24118(2.03558e+06); Du: 0(0.00124593) 42s\n",
      "      35671     7.2015870783e+03 Pr: 34108(1.48506e+07); Du: 0(0.00155189) 47s\n",
      "      37885     7.4048679609e+03 Pr: 31619(4.35123e+07); Du: 0(0.00179926) 52s\n",
      "      40109     7.6356641465e+03 Pr: 25843(2.88592e+06); Du: 0(0.00205301) 58s\n",
      "      42353     7.8375259516e+03 Pr: 31443(8.49023e+06); Du: 0(0.00226205) 63s\n",
      "      45258     8.1692860958e+03 Pr: 37870(5.26412e+06); Du: 0(0.00255441) 69s\n",
      "      48083     8.3152673717e+03 Pr: 40961(1.14875e+07); Du: 0(0.00294817) 75s\n",
      "      50545     8.4510258333e+03 Pr: 30790(3.72272e+08); Du: 0(0.00304629) 80s\n",
      "      52861     8.5807507297e+03 Pr: 22492(930796); Du: 0(0.00320519) 85s\n",
      "      54980     8.6629986832e+03 Pr: 30776(2.08885e+07); Du: 0(0.00337039) 91s\n",
      "      57333     8.7549581833e+03 Pr: 26257(1.13046e+06); Du: 0(0.00357615) 96s\n",
      "      59389     8.8000584935e+03 Pr: 36678(2.40379e+06); Du: 0(0.00364701) 101s\n",
      "      61669     8.8767323679e+03 Pr: 35715(2.44371e+06); Du: 0(0.00390224) 107s\n",
      "      63914     8.9782186363e+03 Pr: 43654(3.60725e+06); Du: 0(0.00423026) 113s\n",
      "      66084     9.0603325781e+03 Pr: 22220(2.48776e+06); Du: 0(0.00410399) 118s\n",
      "      69022     9.1231092369e+03 Pr: 22727(1.78641e+06); Du: 0(0.00444875) 124s\n",
      "      71953     9.1538574545e+03 Pr: 22264(5.37124e+06); Du: 0(0.00461629) 129s\n",
      "      74408     9.1814081583e+03 Pr: 29329(5.2193e+06); Du: 0(0.00473215) 134s\n",
      "      77012     9.2060247446e+03 Pr: 0(0); Du: 0(0.00509972) 140s\n",
      "      77129     9.2058130738e+03 Pr: 0(0); Du: 0(0.00107487) 140s\n",
      "      77129     9.2058130738e+03 Pr: 0(0); Du: 0(0.00107487) 140s\n",
      "Using EKK dual simplex solver - serial\n",
      "  Iteration        Objective     Infeasibilities num(sum)\n",
      "      77129     9.2058130738e+03 Pr: 1(0.000235421); Du: 0(0.000836801) 140s\n",
      "      77136     9.2058130749e+03 Pr: 0(0); Du: 0(0.000836801) 140s\n",
      "      77136     9.2058130749e+03 Pr: 0(0); Du: 0(0.000836801) 140s\n",
      "Solving the original LP from the solution after postsolve\n",
      "Model   status      : Optimal\n",
      "Simplex   iterations: 77136\n",
      "Objective value     :  9.2058130749e+03\n",
      "HiGHS run time      :        140.44\n",
      "LP solved for primal\n"
     ]
    },
    {
     "data": {
      "text/plain": [
       "140.74829025"
      ]
     },
     "execution_count": 30,
     "metadata": {},
     "output_type": "execute_result"
    }
   ],
   "source": [
    "solution5 = @elapsed GenX.solve_model(EP5,setup)"
   ]
  },
  {
   "cell_type": "code",
   "execution_count": null,
   "id": "be1218ea",
   "metadata": {},
   "outputs": [],
   "source": []
  },
  {
   "cell_type": "code",
   "execution_count": null,
   "id": "ab1aafe4",
   "metadata": {},
   "outputs": [],
   "source": []
  }
 ],
 "metadata": {
  "@webio": {
   "lastCommId": null,
   "lastKernelId": null
  },
  "kernelspec": {
   "display_name": "Julia 1.9.2",
   "language": "julia",
   "name": "julia-1.9"
  },
  "language_info": {
   "file_extension": ".jl",
   "mimetype": "application/julia",
   "name": "julia",
   "version": "1.9.2"
  }
 },
 "nbformat": 4,
 "nbformat_minor": 5
}
