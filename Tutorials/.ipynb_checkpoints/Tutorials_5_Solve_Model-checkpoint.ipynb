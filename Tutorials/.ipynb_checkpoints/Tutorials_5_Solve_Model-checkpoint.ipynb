{
 "cells": [
  {
   "cell_type": "markdown",
   "id": "7161bdf0",
   "metadata": {},
   "source": [
    "# Solving the Model"
   ]
  },
  {
   "cell_type": "markdown",
   "id": "0d97a9c1",
   "metadata": {},
   "source": [
    "In Tutorial 4, we went over how the model is generated when GenX is run using `Run.jl`. In the function `run_genx_case_simple` (or multistage), after `generate_model` is called, `solve_model` is called to solve the EP."
   ]
  },
  {
   "cell_type": "markdown",
   "id": "8b7ec72c",
   "metadata": {},
   "source": [
    "<img src=\"files/runcase.png\" style=\"width: 805px; height: auto\" align=\"left\">"
   ]
  },
  {
   "cell_type": "markdown",
   "id": "22ba8a3f",
   "metadata": {},
   "source": [
    "In this tutorial, we go over how to use JuMP to solve a model, what it looks like to solve GenX, and how to edit the solver settings."
   ]
  },
  {
   "cell_type": "markdown",
   "id": "085065e0",
   "metadata": {},
   "source": [
    "### A Simple Example"
   ]
  },
  {
   "cell_type": "markdown",
   "id": "db597630",
   "metadata": {},
   "source": [
    "From Tutorial 4, we have the model:"
   ]
  },
  {
   "cell_type": "markdown",
   "id": "5da85c6b",
   "metadata": {},
   "source": [
    "\\begin{align}\n",
    "& \\min 10 x + 15 y &\\text{Objective function (cost)}\\\\ \n",
    "& \\text{s.t.} & \\\\\n",
    "& x + y \\geq 10 &\\text{Grid Demand}\\\\\n",
    "& 55x + 70y \\leq \\ 1000 &\\text{Construction constraint}\\\\\n",
    "& 40 x + 5 y \\leq 200 &\\text{Emissions constraint} \\\\\n",
    "& x, y \\geq 0 &\\text{Non-negativity constraints}\\\\\n",
    "\\end{align}\n",
    "\n",
    "\n"
   ]
  },
  {
   "cell_type": "code",
   "execution_count": 1,
   "id": "13b279e3",
   "metadata": {},
   "outputs": [],
   "source": [
    "using JuMP\n",
    "using HiGHS"
   ]
  },
  {
   "cell_type": "code",
   "execution_count": 2,
   "id": "2fd185bf",
   "metadata": {},
   "outputs": [
    {
     "data": {
      "text/latex": [
       "$ 10 x + 15 y $"
      ],
      "text/plain": [
       "10 x + 15 y"
      ]
     },
     "execution_count": 2,
     "metadata": {},
     "output_type": "execute_result"
    }
   ],
   "source": [
    "power = Model(HiGHS.Optimizer)\n",
    "\n",
    "@variable(power,x,Int) # Coal\n",
    "@variable(power,y,Int) # Wind\n",
    "\n",
    "@constraint(power, non_neg_x, x >= 0) # Non-negativity constraint (can't have negative power plants!)\n",
    "@constraint(power, non_neg_y, y >= 0) # Non-negativity constraint\n",
    "\n",
    "@constraint(power, emissions, 40x + 5y <= 200) # Emisisons constraint\n",
    "@constraint(power, construction_costs, 55x + 70y <= 1000) # Cost of constructing a new plant\n",
    "\n",
    "@constraint(power, demand, x + y >= 10) # Grid demand\n",
    "\n",
    "@expression(power,objective,10x+15y)\n",
    "\n",
    "@objective(power, Min, objective)"
   ]
  },
  {
   "cell_type": "markdown",
   "id": "e257e3b9",
   "metadata": {},
   "source": [
    "JuMP uses the function `optimize!(model)` to solve the LP:"
   ]
  },
  {
   "cell_type": "code",
   "execution_count": 3,
   "id": "25105600",
   "metadata": {},
   "outputs": [
    {
     "name": "stdout",
     "output_type": "stream",
     "text": [
      "Running HiGHS 1.6.0: Copyright (c) 2023 HiGHS under MIT licence terms\n",
      "Presolving model\n",
      "3 rows, 2 cols, 6 nonzeros\n",
      "3 rows, 2 cols, 6 nonzeros\n",
      "Objective function is integral with scale 0.2\n",
      "\n",
      "Solving MIP model with:\n",
      "   3 rows\n",
      "   2 cols (0 binary, 2 integer, 0 implied int., 0 continuous)\n",
      "   6 nonzeros\n",
      "\n",
      "        Nodes      |    B&B Tree     |            Objective Bounds              |  Dynamic Constraints |       Work      \n",
      "     Proc. InQueue |  Leaves   Expl. | BestBound       BestSol              Gap |   Cuts   InLp Confl. | LpIters     Time\n",
      "\n",
      "         0       0         0   0.00%   90              inf                  inf        0      0      0         0     0.0s\n",
      "\n",
      "Solving report\n",
      "  Status            Optimal\n",
      "  Primal bound      130\n",
      "  Dual bound        130\n",
      "  Gap               0% (tolerance: 0.01%)\n",
      "  Solution status   feasible\n",
      "                    130 (objective)\n",
      "                    0 (bound viol.)\n",
      "                    0 (int. viol.)\n",
      "                    0 (row viol.)\n",
      "  Timing            0.00 (total)\n",
      "                    0.00 (presolve)\n",
      "                    0.00 (postsolve)\n",
      "  Nodes             1\n",
      "  LP iterations     1 (total)\n",
      "                    0 (strong br.)\n",
      "                    0 (separation)\n",
      "                    0 (heuristics)\n"
     ]
    }
   ],
   "source": [
    "optimize!(power)"
   ]
  },
  {
   "cell_type": "markdown",
   "id": "e372f674",
   "metadata": {},
   "source": [
    "We can use the function `value.()` to get the value of each variable, and `objective_value()` to get the total objective value."
   ]
  },
  {
   "cell_type": "code",
   "execution_count": 4,
   "id": "33d1121e",
   "metadata": {},
   "outputs": [
    {
     "name": "stdout",
     "output_type": "stream",
     "text": [
      "# Coal Plants: 4.0\n",
      "# Wind Farms: 6.0\n",
      "Cost: 130.0\n"
     ]
    }
   ],
   "source": [
    "println(\"# Coal Plants: \", value.(x))\n",
    "println(\"# Wind Farms: \", value.(y))\n",
    "println(\"Cost: \", objective_value(power))"
   ]
  },
  {
   "cell_type": "markdown",
   "id": "9a76221e",
   "metadata": {},
   "source": [
    "We can also use the JuMP function `solution_summary` to see more details of the <a href=\"https://jump.dev/JuMP.jl/stable/manual/solutions/\" target=\"_blank\">solution</a>:"
   ]
  },
  {
   "cell_type": "code",
   "execution_count": null,
   "id": "57f6e13d",
   "metadata": {},
   "outputs": [],
   "source": [
    "solution_summary(power)"
   ]
  },
  {
   "cell_type": "markdown",
   "id": "783f846b",
   "metadata": {},
   "source": [
    "### GenX"
   ]
  },
  {
   "cell_type": "markdown",
   "id": "c0bfb0c3",
   "metadata": {},
   "source": [
    "Let's optimize the GenX model created in the last Tutorial. To do so, we'll create the inputs for `generate_model` and run it. "
   ]
  },
  {
   "cell_type": "code",
   "execution_count": 5,
   "id": "a980e3ce",
   "metadata": {},
   "outputs": [],
   "source": [
    "using GenX"
   ]
  },
  {
   "cell_type": "code",
   "execution_count": 6,
   "id": "10c64a36",
   "metadata": {},
   "outputs": [
    {
     "name": "stdout",
     "output_type": "stream",
     "text": [
      "Configuring Settings\n",
      "Time Series Data Already Clustered.\n",
      "Reading Input CSV Files\n",
      "Network.csv Successfully Read!\n",
      "Load_data.csv Successfully Read!\n",
      "Fuels_data.csv Successfully Read!\n",
      "Generators_data.csv Successfully Read!\n",
      "Generators_variability.csv Successfully Read!\n",
      "Validating time basis\n",
      "Capacity_reserve_margin.csv Successfully Read!\n",
      "Minimum_capacity_requirement.csv Successfully Read!\n",
      "Maximum_capacity_requirement.csv Successfully Read!\n",
      "Energy_share_requirement.csv Successfully Read!\n",
      "CO2_cap.csv Successfully Read!\n",
      "CSV Files Successfully Read In From Example_Systems_Tutorials/SmallNewEngland/OneZone\n"
     ]
    },
    {
     "data": {
      "text/plain": [
       "Dict{Any, Any} with 66 entries:\n",
       "  \"Z\"                   => 1\n",
       "  \"LOSS_LINES\"          => [1]\n",
       "  \"RET_CAP_CHARGE\"      => Int64[]\n",
       "  \"pC_D_Curtail\"        => [50.0]\n",
       "  \"dfGen\"               => \u001b[1m4×68 DataFrame\u001b[0m\u001b[0m…\n",
       "  \"pTrans_Max_Possible\" => [2.95]\n",
       "  \"pNet_Map\"            => [1.0;;]\n",
       "  \"omega\"               => [4.01099, 4.01099, 4.01099, 4.01099, 4.01099, 4.0109…\n",
       "  \"RET_CAP_ENERGY\"      => [4]\n",
       "  \"RESOURCES\"           => String31[\"natural_gas_combined_cycle\", \"solar_pv\", \"…\n",
       "  \"COMMIT\"              => [1]\n",
       "  \"pMax_D_Curtail\"      => [1]\n",
       "  \"STOR_ALL\"            => [4]\n",
       "  \"THERM_ALL\"           => [1]\n",
       "  \"dfCO2CapZones\"       => [1;;]\n",
       "  \"REP_PERIOD\"          => 11\n",
       "  \"MinCapReq\"           => [5.0, 10.0, 6.0]\n",
       "  \"STOR_LONG_DURATION\"  => Int64[]\n",
       "  \"dfCapRes\"            => [0.156;;]\n",
       "  \"STOR_SYMMETRIC\"      => [4]\n",
       "  \"VRE\"                 => [2, 3]\n",
       "  \"RETRO\"               => Int64[]\n",
       "  \"THERM_COMMIT\"        => [1]\n",
       "  \"TRANS_LOSS_SEGS\"     => 1\n",
       "  \"H\"                   => 168\n",
       "  ⋮                     => ⋮"
      ]
     },
     "execution_count": 6,
     "metadata": {},
     "output_type": "execute_result"
    }
   ],
   "source": [
    "case = joinpath(\"Example_Systems_Tutorials/SmallNewEngland/OneZone\") \n",
    "\n",
    "genx_settings = GenX.get_settings_path(case, \"genx_settings.yml\");\n",
    "setup = GenX.configure_settings(genx_settings);\n",
    "settings_path = GenX.get_settings_path(case)\n",
    "\n",
    "### Create TDR_Results\n",
    "TDRpath = joinpath(case, setup[\"TimeDomainReductionFolder\"])\n",
    "\n",
    "if setup[\"TimeDomainReduction\"] == 1\n",
    "    GenX.prevent_doubled_timedomainreduction(case)\n",
    "    if !GenX.time_domain_reduced_files_exist(TDRpath)\n",
    "        println(\"Clustering Time Series Data (Grouped)...\")\n",
    "        GenX.cluster_inputs(case, settings_path, setup)\n",
    "    else\n",
    "        println(\"Time Series Data Already Clustered.\")\n",
    "    end\n",
    "end\n",
    "\n",
    "OPTIMIZER =  GenX.configure_solver(setup[\"Solver\"], settings_path);\n",
    "\n",
    "inputs = GenX.load_inputs(setup, case)"
   ]
  },
  {
   "cell_type": "code",
   "execution_count": 8,
   "id": "d8e0ba09",
   "metadata": {},
   "outputs": [
    {
     "name": "stdout",
     "output_type": "stream",
     "text": [
      "Discharge Module\n",
      "Non-served Energy Module\n",
      "Investment Discharge Module\n",
      "Unit Commitment Module\n",
      "Emissions Module (for CO2 Policy modularization\n",
      "Dispatchable Resources Module\n",
      "Storage Resources Module\n",
      "Storage Investment Module\n",
      "Storage Core Resources Module\n",
      "Storage Resources with Symmetric Charge/Discharge Capacity Module\n",
      "Thermal (Unit Commitment) Resources Module\n",
      "C02 Policies Module\n",
      "Energy Share Requirement Policies Module\n",
      "Capacity Reserve Margin Policies Module\n",
      "Minimum Capacity Requirement Module\n",
      "Maximum Capacity Requirement Module\n"
     ]
    },
    {
     "data": {
      "text/plain": [
       "A JuMP Model\n",
       "Minimization problem with:\n",
       "Variables: 18492\n",
       "Objective function type: AffExpr\n",
       "`AffExpr`-in-`MathOptInterface.EqualTo{Float64}`: 5544 constraints\n",
       "`AffExpr`-in-`MathOptInterface.GreaterThan{Float64}`: 7398 constraints\n",
       "`AffExpr`-in-`MathOptInterface.LessThan{Float64}`: 27730 constraints\n",
       "`VariableRef`-in-`MathOptInterface.EqualTo{Float64}`: 2 constraints\n",
       "`VariableRef`-in-`MathOptInterface.GreaterThan{Float64}`: 18490 constraints\n",
       "Model mode: AUTOMATIC\n",
       "CachingOptimizer state: EMPTY_OPTIMIZER\n",
       "Solver name: HiGHS\n",
       "Names registered in the model: cCO2Emissions_systemwide, cCapacityResMargin, cESRShare, cMaxCap, cMaxCapEnergy, cMaxCapEnergyDuration, cMaxNSE, cMaxRetCommit, cMaxRetEnergy, cMaxRetNoCommit, cMinCap, cMinCapEnergy, cMinCapEnergyDuration, cNSEPerSeg, cPowerBalance, cSoCBalInterior, cSoCBalStart, cZoneMaxCapReq, cZoneMinCapReq, eCFix, eCFixEnergy, eCNSE, eCStart, eCVar_in, eCVar_out, eCapResMarBalance, eCapResMarBalanceStor, eCapResMarBalanceThermal, eCapResMarBalanceVRE, eELOSS, eELOSSByZone, eESR, eESRDischarge, eEmissionsByPlant, eEmissionsByZone, eExistingCap, eExistingCapEnergy, eGenerationByThermAll, eGenerationByVRE, eGenerationByZone, eMaxCapRes, eMaxCapResInvest, eMinCapRes, eMinCapResInvest, eObj, ePowerBalance, ePowerBalanceDisp, ePowerBalanceNse, ePowerBalanceStor, ePowerBalanceThermCommit, eTotalCFix, eTotalCFixEnergy, eTotalCNSE, eTotalCNSET, eTotalCNSETS, eTotalCStart, eTotalCStartT, eTotalCVarIn, eTotalCVarInT, eTotalCVarOut, eTotalCVarOutT, eTotalCap, eTotalCapEnergy, vCAP, vCAPENERGY, vCHARGE, vCO2Cap_slack, vCOMMIT, vNSE, vP, vRETCAP, vRETCAPENERGY, vS, vSHUT, vSTART, vZERO"
      ]
     },
     "execution_count": 8,
     "metadata": {},
     "output_type": "execute_result"
    }
   ],
   "source": [
    "EP = GenX.generate_model(setup,inputs,OPTIMIZER)"
   ]
  },
  {
   "cell_type": "markdown",
   "id": "a1c6d2d8",
   "metadata": {},
   "source": [
    "The function `solve_model(model, setup)` uses `optimize` to optimize the model:"
   ]
  },
  {
   "cell_type": "code",
   "execution_count": 9,
   "id": "f2b02c73",
   "metadata": {},
   "outputs": [
    {
     "name": "stdout",
     "output_type": "stream",
     "text": [
      "Running HiGHS 1.6.0: Copyright (c) 2023 HiGHS under MIT licence terms\n",
      "Presolving model\n",
      "36011 rows, 17528 cols, 136561 nonzeros\n",
      "34548 rows, 16069 cols, 136332 nonzeros\n",
      "Presolve : Reductions: rows 34548(-6124); columns 16069(-2423); elements 136332(-29882)\n",
      "Solving the presolved LP\n",
      "Using EKK dual simplex solver - serial\n",
      "  Iteration        Objective     Infeasibilities num(sum)\n",
      "          0    -1.9058343360e-01 Ph1: 12(61.9533); Du: 1(0.190583) 0s\n",
      "      16815     9.7609003406e+03 Pr: 0(0); Du: 0(9.60073e-13) 4s\n",
      "Solving the original LP from the solution after postsolve\n",
      "Model   status      : Optimal\n",
      "Simplex   iterations: 16815\n",
      "Objective value     :  9.7609003406e+03\n",
      "HiGHS run time      :          4.42\n"
     ]
    },
    {
     "data": {
      "text/plain": [
       "(value = nothing, time = 4.704423, bytes = 52479066, gctime = 0.099200708, gcstats = Base.GC_Diff(52479066, 61, 0, 520417, 176, 54, 99200708, 1, 0))"
      ]
     },
     "execution_count": 9,
     "metadata": {},
     "output_type": "execute_result"
    }
   ],
   "source": [
    "solution = @timed optimize!(EP)\n",
    "#solution = @timed GenX.solve_model(EP,setup)"
   ]
  },
  {
   "cell_type": "code",
   "execution_count": 10,
   "id": "06af66b3",
   "metadata": {},
   "outputs": [
    {
     "data": {
      "text/plain": [
       "9760.900340596318"
      ]
     },
     "execution_count": 10,
     "metadata": {},
     "output_type": "execute_result"
    }
   ],
   "source": [
    "objective_value(EP)"
   ]
  },
  {
   "cell_type": "markdown",
   "id": "f1a61ea2",
   "metadata": {},
   "source": [
    "Note that regardless of solver settings, the folder `TDR_Results` stays the same, so we won't change it throughout the tutorial."
   ]
  },
  {
   "cell_type": "markdown",
   "id": "6d331742",
   "metadata": {},
   "source": [
    "### Solver Settings"
   ]
  },
  {
   "cell_type": "markdown",
   "id": "fc3c7d22",
   "metadata": {},
   "source": [
    "Though solving the model relies only on `optimize`, there are a number of ways to change the way in which the model is optimized. This section goes over solver parameters and how they affect the model solution."
   ]
  },
  {
   "cell_type": "code",
   "execution_count": 11,
   "id": "2da720a9",
   "metadata": {},
   "outputs": [],
   "source": [
    "using YAML"
   ]
  },
  {
   "cell_type": "markdown",
   "id": "d97dbe15",
   "metadata": {},
   "source": [
    "#### The HiGHS Solver"
   ]
  },
  {
   "cell_type": "markdown",
   "id": "71013b41",
   "metadata": {},
   "source": [
    "In the example files, the solver <a href=\"https://highs.dev\" target=\"_blank\">HiGHS</a>. HiGHS is freely available for all to use. Other solvers, such as  <a href=\"https://www.gurobi.com\" target=\"_blank\">Gurobi</a>, are available for free for academics. For the purpose of this tutorial, we will be focusing on HiGHS. "
   ]
  },
  {
   "cell_type": "markdown",
   "id": "7f972690",
   "metadata": {},
   "source": [
    "To set the solver preferences, go into the settings folder of your case and select the YAML file of the solver you're using."
   ]
  },
  {
   "cell_type": "code",
   "execution_count": 12,
   "id": "226c993d",
   "metadata": {},
   "outputs": [
    {
     "data": {
      "text/plain": [
       "8-element Vector{String}:\n",
       " \"cbc_settings.yml\"\n",
       " \"clp_settings.yml\"\n",
       " \"cplex_settings.yml\"\n",
       " \"genx_settings.yml\"\n",
       " \"gurobi_settings.yml\"\n",
       " \"highs_settings.yml\"\n",
       " \"scip_settings.yml\"\n",
       " \"time_domain_reduction_settings.yml\""
      ]
     },
     "execution_count": 12,
     "metadata": {},
     "output_type": "execute_result"
    }
   ],
   "source": [
    "settings_folder = cd(readdir,joinpath(case,\"Settings\")) # Print Settings folder"
   ]
  },
  {
   "cell_type": "code",
   "execution_count": 13,
   "id": "11d0e8b1",
   "metadata": {},
   "outputs": [
    {
     "data": {
      "text/plain": [
       "Dict{Any, Any} with 6 entries:\n",
       "  \"Method\"        => \"choose\"\n",
       "  \"Feasib_Tol\"    => 1.0e-5\n",
       "  \"run_crossover\" => \"on\"\n",
       "  \"TimeLimit\"     => 1.0e23\n",
       "  \"Optimal_Tol\"   => 1.0e-5\n",
       "  \"Pre_Solve\"     => \"choose\""
      ]
     },
     "execution_count": 13,
     "metadata": {},
     "output_type": "execute_result"
    }
   ],
   "source": [
    "highs_settings = YAML.load(open(joinpath(case,\"Settings/highs_settings.yml\")))"
   ]
  },
  {
   "cell_type": "markdown",
   "id": "9f9a1143",
   "metadata": {},
   "source": [
    "The function <a href=\"https://genxproject.github.io/GenX/dev/solver_configuration/#Configuring-HiGHS\" target=\"_blank\">`configure_highs`</a> in `src/configure_solver` contains a list of default settings for the HiGHS solver"
   ]
  },
  {
   "cell_type": "markdown",
   "id": "ccfbc576",
   "metadata": {},
   "source": [
    "<img src=\"files/highs_defaults.png\" style=\"width: auto; height: 500px\" align=\"left\">"
   ]
  },
  {
   "cell_type": "markdown",
   "id": "d29b9b51",
   "metadata": {},
   "source": [
    "There are about 80, so we'll only focus on a few for now. In most cases, you can leave the other settings on default. "
   ]
  },
  {
   "cell_type": "markdown",
   "id": "b8cc7285",
   "metadata": {},
   "source": [
    "The default settings are combined with the settings you specify in `highs_settings.yml` in `configure_highs`, which is called from `configure_solver` in `run_genx_case_simple` right before the model is generated."
   ]
  },
  {
   "cell_type": "markdown",
   "id": "42cf4d47",
   "metadata": {},
   "source": [
    "#### Feasibility Tolerance"
   ]
  },
  {
   "cell_type": "markdown",
   "id": "8e50c9f1",
   "metadata": {},
   "source": [
    "The parameters `Feasib_Tol` and `Optimal_Tol` represent the feasibility of the primal and dual functions respectively. Without going into too much detail, a  <a href=\"https://en.wikipedia.org/wiki/Duality_(optimization)\" target=\"_blank\">__dual function__</a> is an analagous formulation of the original (\"primal\") function whose objective value acts as a lower bound to the primal function. The objective value of the primal function is then the upper bound of the dual function. HiGHS will solve the dual and primal at each time step, then terminate when the solutions of the two are within a certain tolerance range. For more information on how this works specifically in HiGHS, see the  <a href=\"https://ergo-code.github.io/HiGHS/dev/terminology/\" target=\"_blank\">HiGHS documentaion</a>. "
   ]
  },
  {
   "cell_type": "markdown",
   "id": "e83232ae",
   "metadata": {},
   "source": [
    "If we decrease the tolerance parameters, the objective value becomes closer to the \"true\" optimal value."
   ]
  },
  {
   "cell_type": "code",
   "execution_count": 44,
   "id": "8519302d",
   "metadata": {},
   "outputs": [
    {
     "name": "stdout",
     "output_type": "stream",
     "text": [
      " \n",
      "----------------------------------------------------\n",
      "Iteration 1\n",
      "Tolerance = 1.0e-7\n",
      "----------------------------------------------------\n",
      "Discharge Module\n",
      "Non-served Energy Module\n",
      "Investment Discharge Module\n",
      "Unit Commitment Module\n",
      "Emissions Module (for CO2 Policy modularization\n",
      "Dispatchable Resources Module\n",
      "Storage Resources Module\n",
      "Storage Investment Module\n",
      "Storage Core Resources Module\n",
      "Storage Resources with Symmetric Charge/Discharge Capacity Module\n",
      "Thermal (Unit Commitment) Resources Module\n",
      "C02 Policies Module\n",
      "Energy Share Requirement Policies Module\n",
      "Capacity Reserve Margin Policies Module\n",
      "Minimum Capacity Requirement Module\n",
      "Maximum Capacity Requirement Module\n",
      "Running HiGHS 1.6.0: Copyright (c) 2023 HiGHS under MIT licence terms\n",
      "Presolving model\n",
      "36011 rows, 17528 cols, 136561 nonzeros\n",
      "34548 rows, 16069 cols, 136332 nonzeros\n",
      "Presolve : Reductions: rows 34548(-6124); columns 16069(-2423); elements 136332(-29882)\n",
      "Solving the presolved LP\n",
      "Using EKK dual simplex solver - serial\n",
      "  Iteration        Objective     Infeasibilities num(sum)\n",
      "          0    -1.9058343360e-01 Ph1: 12(61.9533); Du: 1(0.190583) 0s\n",
      "      16815     9.7609003406e+03 Pr: 0(0); Du: 0(9.60073e-13) 4s\n",
      "Solving the original LP from the solution after postsolve\n",
      "Model   status      : Optimal\n",
      "Simplex   iterations: 16815\n",
      "Objective value     :  9.7609003406e+03\n",
      "HiGHS run time      :          4.35\n",
      "LP solved for primal\n",
      " \n",
      "----------------------------------------------------\n",
      "Iteration 2\n",
      "Tolerance = 1.0e-5\n",
      "----------------------------------------------------\n",
      "Discharge Module\n",
      "Non-served Energy Module\n",
      "Investment Discharge Module\n",
      "Unit Commitment Module\n",
      "Emissions Module (for CO2 Policy modularization\n",
      "Dispatchable Resources Module\n",
      "Storage Resources Module\n",
      "Storage Investment Module\n",
      "Storage Core Resources Module\n",
      "Storage Resources with Symmetric Charge/Discharge Capacity Module\n",
      "Thermal (Unit Commitment) Resources Module\n",
      "C02 Policies Module\n",
      "Energy Share Requirement Policies Module\n",
      "Capacity Reserve Margin Policies Module\n",
      "Minimum Capacity Requirement Module\n",
      "Maximum Capacity Requirement Module\n",
      "Running HiGHS 1.6.0: Copyright (c) 2023 HiGHS under MIT licence terms\n",
      "Presolving model\n",
      "36011 rows, 17528 cols, 136561 nonzeros\n",
      "34548 rows, 16069 cols, 136332 nonzeros\n",
      "Presolve : Reductions: rows 34548(-6124); columns 16069(-2423); elements 136332(-29882)\n",
      "Solving the presolved LP\n",
      "Using EKK dual simplex solver - serial\n",
      "  Iteration        Objective     Infeasibilities num(sum)\n",
      "          0    -1.9058343360e-01 Ph1: 12(61.9533); Du: 1(0.190583) 0s\n",
      "      16815     9.7609003406e+03 Pr: 0(0); Du: 0(9.60073e-13) 4s\n",
      "Solving the original LP from the solution after postsolve\n",
      "Model   status      : Optimal\n",
      "Simplex   iterations: 16815\n",
      "Objective value     :  9.7609003406e+03\n",
      "HiGHS run time      :          4.40\n",
      "LP solved for primal\n",
      " \n",
      "----------------------------------------------------\n",
      "Iteration 3\n",
      "Tolerance = 0.0001\n",
      "----------------------------------------------------\n",
      "Discharge Module\n",
      "Non-served Energy Module\n",
      "Investment Discharge Module\n",
      "Unit Commitment Module\n",
      "Emissions Module (for CO2 Policy modularization\n",
      "Dispatchable Resources Module\n",
      "Storage Resources Module\n",
      "Storage Investment Module\n",
      "Storage Core Resources Module\n",
      "Storage Resources with Symmetric Charge/Discharge Capacity Module\n",
      "Thermal (Unit Commitment) Resources Module\n",
      "C02 Policies Module\n",
      "Energy Share Requirement Policies Module\n",
      "Capacity Reserve Margin Policies Module\n",
      "Minimum Capacity Requirement Module\n",
      "Maximum Capacity Requirement Module\n",
      "Running HiGHS 1.6.0: Copyright (c) 2023 HiGHS under MIT licence terms\n",
      "Presolving model\n",
      "36011 rows, 17528 cols, 136561 nonzeros\n",
      "34548 rows, 16069 cols, 136332 nonzeros\n",
      "Presolve : Reductions: rows 34548(-6124); columns 16069(-2423); elements 136332(-29882)\n",
      "Solving the presolved LP\n",
      "Using EKK dual simplex solver - serial\n",
      "  Iteration        Objective     Infeasibilities num(sum)\n",
      "          0    -1.9058343360e-01 Ph1: 12(61.9533); Du: 1(0.190583) 0s\n",
      "      16815     9.7609003406e+03 Pr: 0(0); Du: 0(9.60073e-13) 4s\n",
      "Solving the original LP from the solution after postsolve\n",
      "Model   status      : Optimal\n",
      "Simplex   iterations: 16815\n",
      "Objective value     :  9.7609003406e+03\n",
      "HiGHS run time      :          4.42\n",
      "LP solved for primal\n",
      " \n",
      "----------------------------------------------------\n",
      "Iteration 4\n",
      "Tolerance = 0.001\n",
      "----------------------------------------------------\n",
      "Discharge Module\n",
      "Non-served Energy Module\n",
      "Investment Discharge Module\n",
      "Unit Commitment Module\n",
      "Emissions Module (for CO2 Policy modularization\n",
      "Dispatchable Resources Module\n",
      "Storage Resources Module\n",
      "Storage Investment Module\n",
      "Storage Core Resources Module\n",
      "Storage Resources with Symmetric Charge/Discharge Capacity Module\n",
      "Thermal (Unit Commitment) Resources Module\n",
      "C02 Policies Module\n",
      "Energy Share Requirement Policies Module\n",
      "Capacity Reserve Margin Policies Module\n",
      "Minimum Capacity Requirement Module\n",
      "Maximum Capacity Requirement Module\n",
      "Running HiGHS 1.6.0: Copyright (c) 2023 HiGHS under MIT licence terms\n",
      "Presolving model\n",
      "36011 rows, 17528 cols, 136561 nonzeros\n",
      "34548 rows, 16069 cols, 136332 nonzeros\n",
      "Presolve : Reductions: rows 34548(-6124); columns 16069(-2423); elements 136332(-29882)\n",
      "Solving the presolved LP\n",
      "Using EKK dual simplex solver - serial\n",
      "  Iteration        Objective     Infeasibilities num(sum)\n",
      "          0    -1.9058343360e-01 Ph1: 12(61.9533); Du: 1(0.190583) 0s\n",
      "      16815     9.7609003406e+03 Pr: 0(0); Du: 0(9.60073e-13) 4s\n",
      "Solving the original LP from the solution after postsolve\n",
      "Model   status      : Optimal\n",
      "Simplex   iterations: 16815\n",
      "Objective value     :  9.7609003406e+03\n",
      "HiGHS run time      :          4.43\n",
      "LP solved for primal\n",
      " \n",
      "----------------------------------------------------\n",
      "Iteration 5\n",
      "Tolerance = 0.01\n",
      "----------------------------------------------------\n",
      "Discharge Module\n",
      "Non-served Energy Module\n",
      "Investment Discharge Module\n",
      "Unit Commitment Module\n",
      "Emissions Module (for CO2 Policy modularization\n",
      "Dispatchable Resources Module\n",
      "Storage Resources Module\n",
      "Storage Investment Module\n",
      "Storage Core Resources Module\n",
      "Storage Resources with Symmetric Charge/Discharge Capacity Module\n",
      "Thermal (Unit Commitment) Resources Module\n",
      "C02 Policies Module\n",
      "Energy Share Requirement Policies Module\n",
      "Capacity Reserve Margin Policies Module\n",
      "Minimum Capacity Requirement Module\n",
      "Maximum Capacity Requirement Module\n",
      "Running HiGHS 1.6.0: Copyright (c) 2023 HiGHS under MIT licence terms\n",
      "Presolving model\n",
      "36011 rows, 17528 cols, 136561 nonzeros\n",
      "34548 rows, 16069 cols, 136332 nonzeros\n",
      "Presolve : Reductions: rows 34548(-6124); columns 16069(-2423); elements 136332(-29882)\n",
      "Solving the presolved LP\n",
      "Using EKK dual simplex solver - serial\n",
      "  Iteration        Objective     Infeasibilities num(sum)\n",
      "          0    -1.9058343360e-01 Ph1: 12(61.9533); Du: 1(0.190583) 0s\n",
      "      16815     9.7609003406e+03 Pr: 0(0); Du: 0(9.60073e-13) 4s\n",
      "Solving the original LP from the solution after postsolve\n",
      "Model   status      : Optimal\n",
      "Simplex   iterations: 16815\n",
      "Objective value     :  9.7609003406e+03\n",
      "HiGHS run time      :          4.42\n",
      "LP solved for primal\n",
      " \n",
      "----------------------------------------------------\n",
      "Iteration 6\n",
      "Tolerance = 0.1\n",
      "----------------------------------------------------\n",
      "Discharge Module\n",
      "Non-served Energy Module\n",
      "Investment Discharge Module\n",
      "Unit Commitment Module\n",
      "Emissions Module (for CO2 Policy modularization\n",
      "Dispatchable Resources Module\n",
      "Storage Resources Module\n",
      "Storage Investment Module\n",
      "Storage Core Resources Module\n",
      "Storage Resources with Symmetric Charge/Discharge Capacity Module\n",
      "Thermal (Unit Commitment) Resources Module\n",
      "C02 Policies Module\n",
      "Energy Share Requirement Policies Module\n",
      "Capacity Reserve Margin Policies Module\n",
      "Minimum Capacity Requirement Module\n",
      "Maximum Capacity Requirement Module\n",
      "Running HiGHS 1.6.0: Copyright (c) 2023 HiGHS under MIT licence terms\n",
      "Presolving model\n",
      "36011 rows, 17528 cols, 136561 nonzeros\n",
      "34548 rows, 16069 cols, 136332 nonzeros\n",
      "Presolve : Reductions: rows 34548(-6124); columns 16069(-2423); elements 136332(-29882)\n",
      "Solving the presolved LP\n",
      "Using EKK dual simplex solver - serial\n",
      "  Iteration        Objective     Infeasibilities num(sum)\n",
      "          0    -1.9058343360e-01 Ph1: 12(61.9533); Du: 1(0.190583) 0s\n",
      "      16815     9.7609003406e+03 Pr: 0(0); Du: 0(9.60073e-13) 4s\n",
      "Solving the original LP from the solution after postsolve\n",
      "Model   status      : Optimal\n",
      "Simplex   iterations: 16815\n",
      "Objective value     :  9.7609003406e+03\n",
      "HiGHS run time      :          4.47\n",
      "LP solved for primal\n"
     ]
    }
   ],
   "source": [
    "# Change tolerance, generate and solve model`\n",
    "tols = [1e-7,1e-5,1e-4,1e-3,1e-2,1e-1]\n",
    "OV = [0.0,0.0,0.0,0.0,0.0,0.0]\n",
    "#highs_settings[\"Method\"] = \"ipm\"\n",
    "#YAML.write_file(joinpath(case,\"Settings/highs_settings.yml\"), highs_settings)\n",
    "\n",
    "for i in range(1,length(tols))\n",
    "    println(\" \")\n",
    "    println(\"----------------------------------------------------\")\n",
    "    println(\"Iteration \",i)\n",
    "    println(\"Tolerance = \",tols[i])\n",
    "    println(\"----------------------------------------------------\")\n",
    "    #highs_settings[\"Feasib_Tol\"] = tols[i]\n",
    "    #highs_settings[\"Optimal_Tol\"] = tols[i]\n",
    "    #YAML.write_file(joinpath(case,\"Settings/highs_settings.yml\"), highs_settings)\n",
    "    #OPTIMIZER1 = GenX.configure_solver(setup[\"Solver\"], settings_path);\n",
    "    # set_optimizer_with_attributes -- change\n",
    "    GenX.set_optimizer_attribute(EP, \"primal_feasibility_tolerance\", tols[i])\n",
    "    GenX.set_optimizer_attribute(EP,  \"dual_feasibility_tolerance\", tols[i])\n",
    "    EP = GenX.generate_model(setup,inputs,OPTIMIZER)\n",
    "    solution = GenX.solve_model(EP,setup)\n",
    "    OV[i] = objective_value(EP)\n",
    "end\n",
    "\n"
   ]
  },
  {
   "cell_type": "markdown",
   "id": "ef9b257d",
   "metadata": {},
   "source": [
    "Using the smallest tolerance as our base, we can see the error as the tolerance increases:"
   ]
  },
  {
   "cell_type": "code",
   "execution_count": 46,
   "id": "8f546133",
   "metadata": {},
   "outputs": [
    {
     "name": "stdout",
     "output_type": "stream",
     "text": [
      "Error:\n"
     ]
    },
    {
     "data": {
      "text/plain": [
       "5×2 Matrix{Float64}:\n",
       " 1.0e-5  0.0\n",
       " 0.0001  0.0\n",
       " 0.001   0.0\n",
       " 0.01    0.0\n",
       " 0.1     0.0"
      ]
     },
     "execution_count": 46,
     "metadata": {},
     "output_type": "execute_result"
    }
   ],
   "source": [
    "println(\"Error:\")\n",
    "[tols[2:end] abs.(OV[2:end] .- OV[1])]"
   ]
  },
  {
   "cell_type": "code",
   "execution_count": 26,
   "id": "c9b2fa8f",
   "metadata": {},
   "outputs": [],
   "source": [
    "using Plots\n",
    "using Plotly"
   ]
  },
  {
   "cell_type": "code",
   "execution_count": 39,
   "id": "9b07d16a",
   "metadata": {},
   "outputs": [
    {
     "data": {
      "application/vnd.plotly.v1+json": {
       "data": [
        {
         "colorbar": {
          "len": 0.8806503353747448,
          "title": "",
          "x": 0.9959826450265146,
          "y": 0.5077160493827161
         },
         "hoverinfo": "text",
         "legendgroup": "y1",
         "marker": {
          "color": "rgba(0, 154, 250, 1.000)",
          "line": {
           "color": "rgba(0, 0, 0, 1.000)",
           "width": 1
          },
          "size": 8,
          "symbol": "circle"
         },
         "mode": "markers",
         "name": "y1",
         "showlegend": true,
         "text": [
          1e-05,
          0.0001,
          0.001,
          0.01,
          0.1
         ],
         "type": "scatter",
         "x": [
          1e-05,
          0.0001,
          0.001,
          0.01,
          0.1
         ],
         "xaxis": "x",
         "y": [
          1.2732925824820995e-11,
          1.2732925824820995e-11,
          1.2732925824820995e-11,
          1.2732925824820995e-11,
          1.2732925824820995e-11
         ],
         "yaxis": "y"
        }
       ],
       "layout": {
        "annotations": [
         {
          "font": {
           "color": "rgba(0, 0, 0, 1.000)",
           "family": "sans-serif",
           "size": 20
          },
          "rotation": 0,
          "showarrow": false,
          "text": "Tolerance vs Error",
          "x": 0.52593537414966,
          "xanchor": "center",
          "xref": "paper",
          "y": 1,
          "yanchor": "top",
          "yref": "paper"
         }
        ],
        "height": 450,
        "margin": {
         "b": 20,
         "l": 0,
         "r": 0,
         "t": 20
        },
        "paper_bgcolor": "rgba(255, 255, 255, 1.000)",
        "plot_bgcolor": "rgba(255, 255, 255, 1.000)",
        "showlegend": false,
        "width": 980,
        "xaxis": {
         "anchor": "y",
         "domain": [
          0.055888103272805176,
          0.9959826450265146
         ],
         "gridcolor": "rgba(0, 0, 0, 0.100)",
         "gridwidth": 0.5,
         "linecolor": "rgba(0, 0, 0, 1.000)",
         "mirror": false,
         "range": [
          -0.002989700000000005,
          0.1029997
         ],
         "showgrid": true,
         "showline": true,
         "showticklabels": true,
         "tickangle": 0,
         "tickcolor": "rgb(0, 0, 0)",
         "tickfont": {
          "color": "rgba(0, 0, 0, 1.000)",
          "family": "sans-serif",
          "size": 11
         },
         "tickmode": "array",
         "ticks": "inside",
         "ticktext": [
          "0.000",
          "0.025",
          "0.050",
          "0.075",
          "0.100"
         ],
         "tickvals": [
          0,
          0.025000000000000005,
          0.05000000000000001,
          0.07500000000000001,
          0.10000000000000002
         ],
         "title": "Tolerance",
         "titlefont": {
          "color": "rgba(0, 0, 0, 1.000)",
          "family": "sans-serif",
          "size": 15
         },
         "type": "-",
         "visible": true,
         "zeroline": false,
         "zerolinecolor": "rgba(0, 0, 0, 1.000)"
        },
        "yaxis": {
         "anchor": "x",
         "domain": [
          0.06739088169534369,
          0.9480412170700885
         ],
         "gridcolor": "rgba(0, 0, 0, 0.100)",
         "gridwidth": 0.5,
         "linecolor": "rgba(0, 0, 0, 1.000)",
         "mirror": false,
         "range": [
          -0.0299999999872671,
          1.030000000012733
         ],
         "showgrid": true,
         "showline": true,
         "showticklabels": true,
         "tickangle": 0,
         "tickcolor": "rgb(0, 0, 0)",
         "tickfont": {
          "color": "rgba(0, 0, 0, 1.000)",
          "family": "sans-serif",
          "size": 11
         },
         "tickmode": "array",
         "ticks": "inside",
         "ticktext": [
          "0.00",
          "0.25",
          "0.50",
          "0.75",
          "1.00"
         ],
         "tickvals": [
          0,
          0.25,
          0.5,
          0.75,
          1
         ],
         "title": "Error",
         "titlefont": {
          "color": "rgba(0, 0, 0, 1.000)",
          "family": "sans-serif",
          "size": 15
         },
         "type": "-",
         "visible": true,
         "zeroline": false,
         "zerolinecolor": "rgba(0, 0, 0, 1.000)"
        }
       }
      },
      "image/png": "[encoded data removed]",
      "image/svg+xml": [
       "<svg class=\"main-svg\" xmlns=\"http://www.w3.org/2000/svg\" xmlns:xlink=\"http://www.w3.org/1999/xlink\" width=\"700\" height=\"500\" style=\"\" viewBox=\"0 0 700 500\"><rect x=\"0\" y=\"0\" width=\"700\" height=\"500\" style=\"fill: rgb(255, 255, 255); fill-opacity: 1;\"/><defs id=\"defs-77ed50\"><g class=\"clips\"><clipPath id=\"clip77ed50xyplot\" class=\"plotclip\"><rect width=\"564.0567250522257\" height=\"343.4536307961505\"/></clipPath><clipPath class=\"axesclip\" id=\"clip77ed50x\"><rect x=\"83.5328619636831\" y=\"0\" width=\"564.0567250522257\" height=\"500\"/></clipPath><clipPath class=\"axesclip\" id=\"clip77ed50y\"><rect x=\"0\" y=\"80.26392534266549\" width=\"700\" height=\"343.4536307961505\"/></clipPath><clipPath class=\"axesclip\" id=\"clip77ed50xy\"><rect x=\"83.5328619636831\" y=\"80.26392534266549\" width=\"564.0567250522257\" height=\"343.4536307961505\"/></clipPath></g><g class=\"gradients\"/></defs><g class=\"bglayer\"/><g class=\"layer-below\"><g class=\"imagelayer\"/><g class=\"shapelayer\"/></g><g class=\"cartesianlayer\"><g class=\"subplot xy\"><g class=\"layer-subplot\"><g class=\"shapelayer\"/><g class=\"imagelayer\"/></g><g class=\"gridlayer\"><g class=\"x\"><path class=\"xgrid crisp\" transform=\"translate(99.4428619636831,0)\" d=\"M0,80.26392534266549v343.4536307961505\" style=\"stroke: rgb(0, 0, 0); stroke-opacity: 0.1; stroke-width: 0.5px;\"/><path class=\"xgrid crisp\" transform=\"translate(232.4928619636831,0)\" d=\"M0,80.26392534266549v343.4536307961505\" style=\"stroke: rgb(0, 0, 0); stroke-opacity: 0.1; stroke-width: 0.5px;\"/><path class=\"xgrid crisp\" transform=\"translate(365.5328619636831,0)\" d=\"M0,80.26392534266549v343.4536307961505\" style=\"stroke: rgb(0, 0, 0); stroke-opacity: 0.1; stroke-width: 0.5px;\"/><path class=\"xgrid crisp\" transform=\"translate(498.5828619636831,0)\" d=\"M0,80.26392534266549v343.4536307961505\" style=\"stroke: rgb(0, 0, 0); stroke-opacity: 0.1; stroke-width: 0.5px;\"/><path class=\"xgrid crisp\" transform=\"translate(631.6228619636831,0)\" d=\"M0,80.26392534266549v343.4536307961505\" style=\"stroke: rgb(0, 0, 0); stroke-opacity: 0.1; stroke-width: 0.5px;\"/></g><g class=\"y\"><path class=\"ygrid crisp\" transform=\"translate(0,413.99392534266553)\" d=\"M83.5328619636831,0h564.0567250522257\" style=\"stroke: rgb(0, 0, 0); stroke-opacity: 0.1; stroke-width: 0.5px;\"/><path class=\"ygrid crisp\" transform=\"translate(0,332.9939253426655)\" d=\"M83.5328619636831,0h564.0567250522257\" style=\"stroke: rgb(0, 0, 0); stroke-opacity: 0.1; stroke-width: 0.5px;\"/><path class=\"ygrid crisp\" transform=\"translate(0,251.99392534266548)\" d=\"M83.5328619636831,0h564.0567250522257\" style=\"stroke: rgb(0, 0, 0); stroke-opacity: 0.1; stroke-width: 0.5px;\"/><path class=\"ygrid crisp\" transform=\"translate(0,170.9839253426655)\" d=\"M83.5328619636831,0h564.0567250522257\" style=\"stroke: rgb(0, 0, 0); stroke-opacity: 0.1; stroke-width: 0.5px;\"/><path class=\"ygrid crisp\" transform=\"translate(0,89.98392534266549)\" d=\"M83.5328619636831,0h564.0567250522257\" style=\"stroke: rgb(0, 0, 0); stroke-opacity: 0.1; stroke-width: 0.5px;\"/></g></g><g class=\"zerolinelayer\"/><path class=\"xlines-below\"/><path class=\"ylines-below\"/><g class=\"overlines-below\"/><g class=\"xaxislayer-below\"/><g class=\"yaxislayer-below\"/><g class=\"overaxes-below\"/><g class=\"plot\" transform=\"translate(83.5328619636831,80.26392534266549)\" clip-path=\"url('#clip77ed50xyplot')\"><g class=\"scatterlayer mlayer\"><g class=\"trace scatter trace42c49e\" style=\"stroke-miterlimit: 2; opacity: 1;\"><g class=\"fills\"/><g class=\"errorbars\"/><g class=\"lines\"/><g class=\"points\"><path class=\"point\" transform=\"translate(15.96,333.73)\" d=\"M4,0A4,4 0 1,1 0,-4A4,4 0 0,1 4,0Z\" style=\"opacity: 1; stroke-width: 1px; fill: rgb(0, 154, 250); fill-opacity: 1; stroke: rgb(0, 0, 0); stroke-opacity: 1;\"/><path class=\"point\" transform=\"translate(16.44,333.73)\" d=\"M4,0A4,4 0 1,1 0,-4A4,4 0 0,1 4,0Z\" style=\"opacity: 1; stroke-width: 1px; fill: rgb(0, 154, 250); fill-opacity: 1; stroke: rgb(0, 0, 0); stroke-opacity: 1;\"/><path class=\"point\" transform=\"translate(21.23,333.73)\" d=\"M4,0A4,4 0 1,1 0,-4A4,4 0 0,1 4,0Z\" style=\"opacity: 1; stroke-width: 1px; fill: rgb(0, 154, 250); fill-opacity: 1; stroke: rgb(0, 0, 0); stroke-opacity: 1;\"/><path class=\"point\" transform=\"translate(69.13,333.73)\" d=\"M4,0A4,4 0 1,1 0,-4A4,4 0 0,1 4,0Z\" style=\"opacity: 1; stroke-width: 1px; fill: rgb(0, 154, 250); fill-opacity: 1; stroke: rgb(0, 0, 0); stroke-opacity: 1;\"/><path class=\"point\" transform=\"translate(548.09,333.73)\" d=\"M4,0A4,4 0 1,1 0,-4A4,4 0 0,1 4,0Z\" style=\"opacity: 1; stroke-width: 1px; fill: rgb(0, 154, 250); fill-opacity: 1; stroke: rgb(0, 0, 0); stroke-opacity: 1;\"/></g><g class=\"text\"/></g></g></g><g class=\"overplot\"/><path class=\"xlines-above crisp\" d=\"M82.5328619636831,424.217556138816H647.5895870159088\" style=\"fill: none; stroke-width: 1px; stroke: rgb(0, 0, 0); stroke-opacity: 1;\"/><path class=\"ylines-above crisp\" d=\"M83.0328619636831,80.26392534266549V423.717556138816\" style=\"fill: none; stroke-width: 1px; stroke: rgb(0, 0, 0); stroke-opacity: 1;\"/><g class=\"overlines-above\"/><g class=\"xaxislayer-above\"><path class=\"xtick ticks crisp\" d=\"M0,423.717556138816v-5\" transform=\"translate(99.4428619636831,0)\" style=\"stroke: rgb(0, 0, 0); stroke-opacity: 1; stroke-width: 1px;\"/><path class=\"xtick ticks crisp\" d=\"M0,423.717556138816v-5\" transform=\"translate(232.4928619636831,0)\" style=\"stroke: rgb(0, 0, 0); stroke-opacity: 1; stroke-width: 1px;\"/><path class=\"xtick ticks crisp\" d=\"M0,423.717556138816v-5\" transform=\"translate(365.5328619636831,0)\" style=\"stroke: rgb(0, 0, 0); stroke-opacity: 1; stroke-width: 1px;\"/><path class=\"xtick ticks crisp\" d=\"M0,423.717556138816v-5\" transform=\"translate(498.5828619636831,0)\" style=\"stroke: rgb(0, 0, 0); stroke-opacity: 1; stroke-width: 1px;\"/><path class=\"xtick ticks crisp\" d=\"M0,423.717556138816v-5\" transform=\"translate(631.6228619636831,0)\" style=\"stroke: rgb(0, 0, 0); stroke-opacity: 1; stroke-width: 1px;\"/><g class=\"xtick\"><text text-anchor=\"middle\" x=\"0\" y=\"437.917556138816\" transform=\"translate(99.4428619636831,0)\" style=\"font-family: sans-serif; font-size: 11px; fill: rgb(0, 0, 0); fill-opacity: 1; white-space: pre;\">0.000</text></g><g class=\"xtick\"><text text-anchor=\"middle\" x=\"0\" y=\"437.917556138816\" transform=\"translate(232.4928619636831,0)\" style=\"font-family: sans-serif; font-size: 11px; fill: rgb(0, 0, 0); fill-opacity: 1; white-space: pre;\">0.025</text></g><g class=\"xtick\"><text text-anchor=\"middle\" x=\"0\" y=\"437.917556138816\" transform=\"translate(365.5328619636831,0)\" style=\"font-family: sans-serif; font-size: 11px; fill: rgb(0, 0, 0); fill-opacity: 1; white-space: pre;\">0.050</text></g><g class=\"xtick\"><text text-anchor=\"middle\" x=\"0\" y=\"437.917556138816\" transform=\"translate(498.5828619636831,0)\" style=\"font-family: sans-serif; font-size: 11px; fill: rgb(0, 0, 0); fill-opacity: 1; white-space: pre;\">0.075</text></g><g class=\"xtick\"><text text-anchor=\"middle\" x=\"0\" y=\"437.917556138816\" transform=\"translate(631.6228619636831,0)\" style=\"font-family: sans-serif; font-size: 11px; fill: rgb(0, 0, 0); fill-opacity: 1; white-space: pre;\">0.100</text></g></g><g class=\"yaxislayer-above\"><path class=\"ytick ticks crisp\" d=\"M83.5328619636831,0h5\" transform=\"translate(0,413.99392534266553)\" style=\"stroke: rgb(0, 0, 0); stroke-opacity: 1; stroke-width: 1px;\"/><path class=\"ytick ticks crisp\" d=\"M83.5328619636831,0h5\" transform=\"translate(0,332.9939253426655)\" style=\"stroke: rgb(0, 0, 0); stroke-opacity: 1; stroke-width: 1px;\"/><path class=\"ytick ticks crisp\" d=\"M83.5328619636831,0h5\" transform=\"translate(0,251.99392534266548)\" style=\"stroke: rgb(0, 0, 0); stroke-opacity: 1; stroke-width: 1px;\"/><path class=\"ytick ticks crisp\" d=\"M83.5328619636831,0h5\" transform=\"translate(0,170.9839253426655)\" style=\"stroke: rgb(0, 0, 0); stroke-opacity: 1; stroke-width: 1px;\"/><path class=\"ytick ticks crisp\" d=\"M83.5328619636831,0h5\" transform=\"translate(0,89.98392534266549)\" style=\"stroke: rgb(0, 0, 0); stroke-opacity: 1; stroke-width: 1px;\"/><g class=\"ytick\"><text text-anchor=\"end\" x=\"80.3328619636831\" y=\"3.8499999999999996\" transform=\"translate(0,413.99392534266553)\" style=\"font-family: sans-serif; font-size: 11px; fill: rgb(0, 0, 0); fill-opacity: 1; white-space: pre;\">0.00</text></g><g class=\"ytick\"><text text-anchor=\"end\" x=\"80.3328619636831\" y=\"3.8499999999999996\" transform=\"translate(0,332.9939253426655)\" style=\"font-family: sans-serif; font-size: 11px; fill: rgb(0, 0, 0); fill-opacity: 1; white-space: pre;\">0.25</text></g><g class=\"ytick\"><text text-anchor=\"end\" x=\"80.3328619636831\" y=\"3.8499999999999996\" transform=\"translate(0,251.99392534266548)\" style=\"font-family: sans-serif; font-size: 11px; fill: rgb(0, 0, 0); fill-opacity: 1; white-space: pre;\">0.50</text></g><g class=\"ytick\"><text text-anchor=\"end\" x=\"80.3328619636831\" y=\"3.8499999999999996\" transform=\"translate(0,170.9839253426655)\" style=\"font-family: sans-serif; font-size: 11px; fill: rgb(0, 0, 0); fill-opacity: 1; white-space: pre;\">0.75</text></g><g class=\"ytick\"><text text-anchor=\"end\" x=\"80.3328619636831\" y=\"3.8499999999999996\" transform=\"translate(0,89.98392534266549)\" style=\"font-family: sans-serif; font-size: 11px; fill: rgb(0, 0, 0); fill-opacity: 1; white-space: pre;\">1.00</text></g></g><g class=\"overaxes-above\"/></g></g><g class=\"polarlayer\"/><g class=\"ternarylayer\"/><g class=\"geolayer\"/><g class=\"funnelarealayer\"/><g class=\"pielayer\"/><g class=\"treemaplayer\"/><g class=\"sunburstlayer\"/><g class=\"glimages\"/><defs id=\"topdefs-77ed50\"><g class=\"clips\"/></defs><g class=\"layer-above\"><g class=\"imagelayer\"/><g class=\"shapelayer\"/></g><g class=\"infolayer\"><g class=\"g-gtitle\"/><g class=\"g-xtitle\"><text class=\"xtitle\" x=\"365.56122448979596\" y=\"465.921875\" text-anchor=\"middle\" style=\"font-family: sans-serif; font-size: 15px; fill: rgb(0, 0, 0); opacity: 1; font-weight: normal; white-space: pre;\">Tolerance</text></g><g class=\"g-ytitle\"><text class=\"ytitle\" transform=\"rotate(-90,33.421875,251.99074074074073)\" x=\"33.421875\" y=\"251.99074074074073\" text-anchor=\"middle\" style=\"font-family: sans-serif; font-size: 15px; fill: rgb(0, 0, 0); opacity: 1; font-weight: normal; white-space: pre;\">Error</text></g><g class=\"annotation\" data-index=\"0\" style=\"opacity: 1;\"><g class=\"annotation-text-g\" transform=\"rotate(0,365.56122448979596,73)\"><g class=\"cursor-pointer\" transform=\"translate(282,60)\"><rect class=\"bg\" x=\"0.5\" y=\"0.5\" width=\"166\" height=\"25\" style=\"stroke-width: 1px; stroke: rgb(0, 0, 0); stroke-opacity: 0; fill: rgb(0, 0, 0); fill-opacity: 0;\"/><text class=\"annotation-text\" text-anchor=\"middle\" x=\"83.140625\" y=\"20\" style=\"font-family: sans-serif; font-size: 20px; fill: rgb(0, 0, 0); fill-opacity: 1; white-space: pre;\">Tolerance vs Error</text></g></g></g></g></svg>"
      ],
      "text/html": [
       "    <div id=\"e2b0f89a-5b38-4e4f-9736-306eb7438519\" style=\"width:980px;height:450px;\"></div>\n",
       "    <script>\n",
       "        requirejs.config({\n",
       "        paths: {\n",
       "            plotly: 'https://cdn.plot.ly/plotly-2.6.3.min'\n",
       "        }\n",
       "    });\n",
       "    require(['plotly'], function (Plotly) {\n",
       "\n",
       "    Plotly.newPlot('e2b0f89a-5b38-4e4f-9736-306eb7438519', [\n",
       "    {\n",
       "        \"showlegend\": true,\n",
       "        \"mode\": \"markers\",\n",
       "        \"xaxis\": \"x\",\n",
       "        \"colorbar\": {\n",
       "            \"y\": 0.5077160493827161,\n",
       "            \"title\": \"\",\n",
       "            \"len\": 0.8806503353747448,\n",
       "            \"x\": 0.9959826450265146\n",
       "        },\n",
       "        \"name\": \"y1\",\n",
       "        \"yaxis\": \"y\",\n",
       "        \"text\": [\n",
       "            1.0e-5,\n",
       "            0.0001,\n",
       "            0.001,\n",
       "            0.01,\n",
       "            0.1\n",
       "        ],\n",
       "        \"legendgroup\": \"y1\",\n",
       "        \"marker\": {\n",
       "            \"symbol\": \"circle\",\n",
       "            \"color\": \"rgba(0, 154, 250, 1.000)\",\n",
       "            \"line\": {\n",
       "                \"color\": \"rgba(0, 0, 0, 1.000)\",\n",
       "                \"width\": 1\n",
       "            },\n",
       "            \"size\": 8\n",
       "        },\n",
       "        \"y\": [\n",
       "            1.2732925824820995e-11,\n",
       "            1.2732925824820995e-11,\n",
       "            1.2732925824820995e-11,\n",
       "            1.2732925824820995e-11,\n",
       "            1.2732925824820995e-11\n",
       "        ],\n",
       "        \"type\": \"scatter\",\n",
       "        \"hoverinfo\": \"text\",\n",
       "        \"x\": [\n",
       "            1.0e-5,\n",
       "            0.0001,\n",
       "            0.001,\n",
       "            0.01,\n",
       "            0.1\n",
       "        ]\n",
       "    }\n",
       "]\n",
       ", {\n",
       "    \"showlegend\": false,\n",
       "    \"xaxis\": {\n",
       "        \"showticklabels\": true,\n",
       "        \"gridwidth\": 0.5,\n",
       "        \"tickvals\": [\n",
       "            0.0,\n",
       "            0.025000000000000005,\n",
       "            0.05000000000000001,\n",
       "            0.07500000000000001,\n",
       "            0.10000000000000002\n",
       "        ],\n",
       "        \"range\": [\n",
       "            -0.002989700000000005,\n",
       "            0.1029997\n",
       "        ],\n",
       "        \"domain\": [\n",
       "            0.055888103272805176,\n",
       "            0.9959826450265146\n",
       "        ],\n",
       "        \"mirror\": false,\n",
       "        \"tickangle\": 0,\n",
       "        \"showline\": true,\n",
       "        \"ticktext\": [\n",
       "            \"0.000\",\n",
       "            \"0.025\",\n",
       "            \"0.050\",\n",
       "            \"0.075\",\n",
       "            \"0.100\"\n",
       "        ],\n",
       "        \"zeroline\": false,\n",
       "        \"tickfont\": {\n",
       "            \"color\": \"rgba(0, 0, 0, 1.000)\",\n",
       "            \"family\": \"sans-serif\",\n",
       "            \"size\": 11\n",
       "        },\n",
       "        \"zerolinecolor\": \"rgba(0, 0, 0, 1.000)\",\n",
       "        \"anchor\": \"y\",\n",
       "        \"visible\": true,\n",
       "        \"ticks\": \"inside\",\n",
       "        \"tickmode\": \"array\",\n",
       "        \"linecolor\": \"rgba(0, 0, 0, 1.000)\",\n",
       "        \"showgrid\": true,\n",
       "        \"title\": \"Tolerance\",\n",
       "        \"gridcolor\": \"rgba(0, 0, 0, 0.100)\",\n",
       "        \"titlefont\": {\n",
       "            \"color\": \"rgba(0, 0, 0, 1.000)\",\n",
       "            \"family\": \"sans-serif\",\n",
       "            \"size\": 15\n",
       "        },\n",
       "        \"tickcolor\": \"rgb(0, 0, 0)\",\n",
       "        \"type\": \"-\"\n",
       "    },\n",
       "    \"paper_bgcolor\": \"rgba(255, 255, 255, 1.000)\",\n",
       "    \"annotations\": [\n",
       "        {\n",
       "            \"yanchor\": \"top\",\n",
       "            \"xanchor\": \"center\",\n",
       "            \"rotation\": -0.0,\n",
       "            \"y\": 1.0,\n",
       "            \"font\": {\n",
       "                \"color\": \"rgba(0, 0, 0, 1.000)\",\n",
       "                \"family\": \"sans-serif\",\n",
       "                \"size\": 20\n",
       "            },\n",
       "            \"yref\": \"paper\",\n",
       "            \"showarrow\": false,\n",
       "            \"text\": \"Tolerance vs Error\",\n",
       "            \"xref\": \"paper\",\n",
       "            \"x\": 0.52593537414966\n",
       "        }\n",
       "    ],\n",
       "    \"height\": 450,\n",
       "    \"margin\": {\n",
       "        \"l\": 0,\n",
       "        \"b\": 20,\n",
       "        \"r\": 0,\n",
       "        \"t\": 20\n",
       "    },\n",
       "    \"plot_bgcolor\": \"rgba(255, 255, 255, 1.000)\",\n",
       "    \"yaxis\": {\n",
       "        \"showticklabels\": true,\n",
       "        \"gridwidth\": 0.5,\n",
       "        \"tickvals\": [\n",
       "            0.0,\n",
       "            0.25,\n",
       "            0.5,\n",
       "            0.75,\n",
       "            1.0\n",
       "        ],\n",
       "        \"range\": [\n",
       "            -0.0299999999872671,\n",
       "            1.030000000012733\n",
       "        ],\n",
       "        \"domain\": [\n",
       "            0.06739088169534369,\n",
       "            0.9480412170700885\n",
       "        ],\n",
       "        \"mirror\": false,\n",
       "        \"tickangle\": 0,\n",
       "        \"showline\": true,\n",
       "        \"ticktext\": [\n",
       "            \"0.00\",\n",
       "            \"0.25\",\n",
       "            \"0.50\",\n",
       "            \"0.75\",\n",
       "            \"1.00\"\n",
       "        ],\n",
       "        \"zeroline\": false,\n",
       "        \"tickfont\": {\n",
       "            \"color\": \"rgba(0, 0, 0, 1.000)\",\n",
       "            \"family\": \"sans-serif\",\n",
       "            \"size\": 11\n",
       "        },\n",
       "        \"zerolinecolor\": \"rgba(0, 0, 0, 1.000)\",\n",
       "        \"anchor\": \"x\",\n",
       "        \"visible\": true,\n",
       "        \"ticks\": \"inside\",\n",
       "        \"tickmode\": \"array\",\n",
       "        \"linecolor\": \"rgba(0, 0, 0, 1.000)\",\n",
       "        \"showgrid\": true,\n",
       "        \"title\": \"Error\",\n",
       "        \"gridcolor\": \"rgba(0, 0, 0, 0.100)\",\n",
       "        \"titlefont\": {\n",
       "            \"color\": \"rgba(0, 0, 0, 1.000)\",\n",
       "            \"family\": \"sans-serif\",\n",
       "            \"size\": 15\n",
       "        },\n",
       "        \"tickcolor\": \"rgb(0, 0, 0)\",\n",
       "        \"type\": \"-\"\n",
       "    },\n",
       "    \"width\": 980\n",
       "}\n",
       ");\n",
       "    });\n",
       "    </script>\n"
      ]
     },
     "execution_count": 39,
     "metadata": {},
     "output_type": "execute_result"
    }
   ],
   "source": [
    "# Plot the run time as a function of the tolerance\n",
    "plotlyjs()\n",
    "Plots.scatter(tols[2:end], abs.(OV[2:end] .- OV[1]), hover = tols[2:end], legend=false,\n",
    "                ylabel=\"Error\", xlabel=\"Tolerance\", title=\"Tolerance vs Error\",size=(980,450))"
   ]
  },
  {
   "cell_type": "markdown",
   "id": "6021242f",
   "metadata": {},
   "source": [
    "### PreSolve"
   ]
  },
  {
   "cell_type": "markdown",
   "id": "d85d3904",
   "metadata": {},
   "source": [
    "In optimization, presolve is a stage at the beginning of the solver in which the problem is simplified to remove redunant constraints and otherwise simplify the problem before the optimization itself begins. The default for presolve in GenX is \"choose\", allowing the solver to use presolve only if it will reduce computation time. "
   ]
  },
  {
   "cell_type": "markdown",
   "id": "cb7be444",
   "metadata": {},
   "source": [
    "Let's try setting presolve to off and on, then compare computation times."
   ]
  },
  {
   "cell_type": "code",
   "execution_count": null,
   "id": "b79d06e0",
   "metadata": {},
   "outputs": [],
   "source": [
    "# First, set tolerances back to original\n",
    "highs_settings[\"Feasib_Tol\"] = 1e-5\n",
    "highs_settings[\"Optimal_Tol\"] = 1e-5\n",
    "YAML.write_file(joinpath(case,\"Settings/highs_settings.yml\"), highs_settings)\n",
    "    "
   ]
  },
  {
   "cell_type": "code",
   "execution_count": null,
   "id": "0a6bf32d",
   "metadata": {},
   "outputs": [],
   "source": [
    "highs_settings[\"Pre_Solve\"] = \"off\"\n",
    "YAML.write_file(joinpath(case,\"Settings/highs_settings.yml\"), highs_settings)\n",
    "OPTIMIZER2 = GenX.configure_solver(setup[\"Solver\"], settings_path);\n",
    "EP2 = GenX.generate_model(setup,inputs,OPTIMIZER2)"
   ]
  },
  {
   "cell_type": "code",
   "execution_count": null,
   "id": "0a7e0c4d",
   "metadata": {},
   "outputs": [],
   "source": [
    "solution2 = @elapsed GenX.solve_model(EP2,setup)"
   ]
  },
  {
   "cell_type": "code",
   "execution_count": null,
   "id": "bb5cdd9e",
   "metadata": {},
   "outputs": [],
   "source": [
    "highs_settings[\"Pre_Solve\"] = \"on\"\n",
    "YAML.write_file(joinpath(case,\"Settings/highs_settings.yml\"), highs_settings)\n",
    "OPTIMIZER3 = GenX.configure_solver(setup[\"Solver\"], settings_path);\n",
    "EP3 = GenX.generate_model(setup,inputs,OPTIMIZER3)"
   ]
  },
  {
   "cell_type": "code",
   "execution_count": null,
   "id": "180c05ef",
   "metadata": {},
   "outputs": [],
   "source": [
    "solution3 = @elapsed GenX.solve_model(EP3,setup)"
   ]
  },
  {
   "cell_type": "markdown",
   "id": "d7193c66",
   "metadata": {},
   "source": [
    "As we can see, the runtime with PreSolve is shorter, and would be even shorter for a larger system. However, it could introduce numerical inaccuracies. If you find the model is struggling to converge, try turn PreSolve off."
   ]
  },
  {
   "cell_type": "code",
   "execution_count": null,
   "id": "68631b60",
   "metadata": {},
   "outputs": [],
   "source": [
    "# Write PreSolve back to choose\n",
    "highs_settings[\"Pre_Solve\"] = \"choose\"\n",
    "YAML.write_file(joinpath(case,\"Settings/highs_settings.yml\"), highs_settings)"
   ]
  },
  {
   "cell_type": "markdown",
   "id": "48fb60a7",
   "metadata": {},
   "source": [
    "## Infeasibility"
   ]
  },
  {
   "cell_type": "markdown",
   "id": "74fdaee2",
   "metadata": {},
   "source": [
    "In some cases, your model may not be able to return a value. This happens when no value can be found that satisfies all constraints. To see this, let's go back to our simple example and change one of the parameters to break the model."
   ]
  },
  {
   "cell_type": "markdown",
   "id": "391c65e6",
   "metadata": {},
   "source": [
    "\\begin{align}\n",
    "& \\min 10 x + 15 y &\\text{Objective function (cost)}\\\\ \n",
    "& \\text{s.t.} & \\\\\n",
    "& x + y \\geq 10 &\\text{Grid Demand}\\\\\n",
    "& 55x + 70y \\leq \\ 1000 &\\text{Construction constraint}\\\\\n",
    "& 40 x + 5 y \\leq 200 &\\text{Emissions constraint} \\\\\n",
    "& 7 x + 30 y \\geq 800 &\\textbf{New Constraint} \\\\\n",
    "& x, y \\geq 0 &\\text{Non-negativity constraints}\\\\\n",
    "\\end{align}"
   ]
  },
  {
   "cell_type": "code",
   "execution_count": null,
   "id": "df231496",
   "metadata": {},
   "outputs": [],
   "source": [
    "@constraint(power, new, 7x + 30y >= 100)"
   ]
  },
  {
   "cell_type": "code",
   "execution_count": null,
   "id": "a1aee5e2",
   "metadata": {},
   "outputs": [],
   "source": [
    "print(power)"
   ]
  },
  {
   "cell_type": "code",
   "execution_count": null,
   "id": "2c9d376a",
   "metadata": {},
   "outputs": [],
   "source": [
    "optimize!(power)"
   ]
  },
  {
   "cell_type": "markdown",
   "id": "0635a527",
   "metadata": {},
   "source": [
    "In this case, the infeasibility was detected on the presovle since it's clear no solution would fit within all constraints. For information on how to debug an infeasible solution, see the <a href=\"https://jump.dev/JuMP.jl/stable/tutorials/getting_started/debugging/#Common-sources-4\" target=\"_blank\">JuMP documentaion</a>. "
   ]
  },
  {
   "cell_type": "code",
   "execution_count": null,
   "id": "f164e16e",
   "metadata": {},
   "outputs": [],
   "source": [
    "setup"
   ]
  },
  {
   "cell_type": "code",
   "execution_count": null,
   "id": "d297d7c0",
   "metadata": {},
   "outputs": [],
   "source": [
    "value.(EP[:eTotalCap])"
   ]
  },
  {
   "cell_type": "code",
   "execution_count": null,
   "id": "99a810e3",
   "metadata": {},
   "outputs": [],
   "source": [
    "inputs[\"dfGen\"][:,:Resource_Type]"
   ]
  },
  {
   "cell_type": "code",
   "execution_count": null,
   "id": "27c8ec05",
   "metadata": {},
   "outputs": [],
   "source": [
    "setup[\"CO2Cap\"]=1;"
   ]
  },
  {
   "cell_type": "code",
   "execution_count": null,
   "id": "4172ee55",
   "metadata": {},
   "outputs": [],
   "source": [
    "inputs[\"dfCO2Cap\"].CO_2_Max_tons_MWh_1.=0.0"
   ]
  },
  {
   "cell_type": "code",
   "execution_count": null,
   "id": "8a4759e0",
   "metadata": {},
   "outputs": [],
   "source": [
    "EP = "
   ]
  }
 ],
 "metadata": {
  "@webio": {
   "lastCommId": "cb8061a6bc6e45369821bb4d3653427e",
   "lastKernelId": "8de69cb0-1476-4f31-b7e3-ca019be3b3ba"
  },
  "kernelspec": {
   "display_name": "Julia 1.9.2",
   "language": "julia",
   "name": "julia-1.9"
  },
  "language_info": {
   "file_extension": ".jl",
   "mimetype": "application/julia",
   "name": "julia",
   "version": "1.9.2"
  }
 },
 "nbformat": 4,
 "nbformat_minor": 5
}
