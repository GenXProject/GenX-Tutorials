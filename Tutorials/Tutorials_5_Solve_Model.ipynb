{
 "cells": [
  {
   "cell_type": "markdown",
   "id": "7161bdf0",
   "metadata": {},
   "source": [
    "# Solving the Model"
   ]
  },
  {
   "cell_type": "markdown",
   "id": "0d97a9c1",
   "metadata": {},
   "source": [
    "In Tutorial 4, we went over how the model is generated when GenX is run using `Run.jl`. In the function `run_genx_case_simple` (or multistage), after `generate_model` is called, `solve_model` is called to solve the EP."
   ]
  },
  {
   "cell_type": "markdown",
   "id": "8b7ec72c",
   "metadata": {},
   "source": [
    "<img src=\"files/runcase.png\" style=\"width: 805px; height: auto\" align=\"left\">"
   ]
  },
  {
   "cell_type": "markdown",
   "id": "22ba8a3f",
   "metadata": {},
   "source": [
    "In this tutorial, we go over how to use JuMP to solve a model, what it looks like to solve GenX, and how to edit the solver settings."
   ]
  },
  {
   "cell_type": "markdown",
   "id": "085065e0",
   "metadata": {},
   "source": [
    "### A Simple Example"
   ]
  },
  {
   "cell_type": "markdown",
   "id": "db597630",
   "metadata": {},
   "source": [
    "From Tutorial 4, we have the model:"
   ]
  },
  {
   "cell_type": "markdown",
   "id": "5da85c6b",
   "metadata": {},
   "source": [
    "\\begin{align}\n",
    "& \\min 10 x + 15 y &\\text{Objective function (cost)}\\\\ \n",
    "& \\text{s.t.} & \\\\\n",
    "& x + y \\geq 10 &\\text{Grid Demand}\\\\\n",
    "& 55x + 120y \\leq \\ 1000 &\\text{Construction constraint}\\\\\n",
    "& 20 x + 5 y \\leq 550 &\\text{Emissions constraint} \\\\\n",
    "& x, y \\geq 0 &\\text{Non-negativity constraints}\\\\\n",
    "\\end{align}\n",
    "\n",
    "\n"
   ]
  },
  {
   "cell_type": "code",
   "execution_count": 2,
   "id": "13b279e3",
   "metadata": {},
   "outputs": [],
   "source": [
    "using JuMP\n",
    "using HiGHS"
   ]
  },
  {
   "cell_type": "code",
   "execution_count": null,
   "id": "2fd185bf",
   "metadata": {},
   "outputs": [],
   "source": [
    "power = Model(HiGHS.Optimizer)\n",
    "\n",
    "@variable(power,x) # Coal\n",
    "@variable(power,y) # Wind\n",
    "\n",
    "@constraint(power, non_neg_x, x >= 0) # Non-negativity constraint (can't have negative power plants!)\n",
    "@constraint(power, non_neg_y, y >= 0) # Non-negativity constraint\n",
    "\n",
    "@constraint(power, emissions, 20x + 5y <= 550) # Emisisons constraint\n",
    "@constraint(power, construction_costs, 55x + 120y <= 1000) # Cost of constructing a new plant\n",
    "\n",
    "@constraint(power, demand, x + y >= 10) # Grid demand\n",
    "\n",
    "@expression(power,objective,10x+15y)\n",
    "\n",
    "@objective(power, Min, objective)"
   ]
  },
  {
   "cell_type": "markdown",
   "id": "e257e3b9",
   "metadata": {},
   "source": [
    "JuMP uses the function `optimize!(model)` to solve the LP:"
   ]
  },
  {
   "cell_type": "code",
   "execution_count": null,
   "id": "25105600",
   "metadata": {},
   "outputs": [],
   "source": [
    "optimize!(power)"
   ]
  },
  {
   "cell_type": "markdown",
   "id": "e372f674",
   "metadata": {},
   "source": [
    "We can also use the JuMP function `solution_summary` to see more details of the <a href=\"https://jump.dev/JuMP.jl/stable/manual/solutions/\" target=\"_blank\">solution</a>:"
   ]
  },
  {
   "cell_type": "code",
   "execution_count": null,
   "id": "57f6e13d",
   "metadata": {},
   "outputs": [],
   "source": [
    "solution_summary(power)"
   ]
  },
  {
   "cell_type": "markdown",
   "id": "783f846b",
   "metadata": {},
   "source": [
    "### GenX"
   ]
  },
  {
   "cell_type": "markdown",
   "id": "c0bfb0c3",
   "metadata": {},
   "source": [
    "Let's optimize the GenX model created in the last Tutorial. To do so, we'll create the inputs for `generate_model` and run it. "
   ]
  },
  {
   "cell_type": "code",
   "execution_count": 3,
   "id": "a980e3ce",
   "metadata": {},
   "outputs": [],
   "source": [
    "using GenX"
   ]
  },
  {
   "cell_type": "code",
   "execution_count": 8,
   "id": "10c64a36",
   "metadata": {},
   "outputs": [
    {
     "name": "stdout",
     "output_type": "stream",
     "text": [
      "Configuring Settings\n",
      "Reading Input CSV Files\n",
      "Network.csv Successfully Read!\n",
      "Load_data.csv Successfully Read!\n",
      "Fuels_data.csv Successfully Read!\n",
      "Generators_data.csv Successfully Read!\n",
      "Generators_variability.csv Successfully Read!\n",
      "Validating time basis\n",
      "Capacity_reserve_margin.csv Successfully Read!\n",
      "Minimum_capacity_requirement.csv Successfully Read!\n",
      "Maximum_capacity_requirement.csv Successfully Read!\n",
      "Energy_share_requirement.csv Successfully Read!\n",
      "CO2_cap.csv Successfully Read!\n",
      "CSV Files Successfully Read In From Example_Systems_Tutorials/SmallNewEngland/OneZone\n"
     ]
    },
    {
     "data": {
      "text/plain": [
       "Dict{Any, Any} with 66 entries:\n",
       "  \"Z\"                   => 1\n",
       "  \"LOSS_LINES\"          => [1]\n",
       "  \"RET_CAP_CHARGE\"      => Int64[]\n",
       "  \"pC_D_Curtail\"        => [50.0]\n",
       "  \"dfGen\"               => \u001b[1m4×68 DataFrame\u001b[0m\u001b[0m…\n",
       "  \"pTrans_Max_Possible\" => [2.95]\n",
       "  \"pNet_Map\"            => [1.0;;]\n",
       "  \"omega\"               => [4.01099, 4.01099, 4.01099, 4.01099, 4.01099, 4.0109…\n",
       "  \"RET_CAP_ENERGY\"      => [4]\n",
       "  \"RESOURCES\"           => String31[\"natural_gas_combined_cycle\", \"solar_pv\", \"…\n",
       "  \"COMMIT\"              => [1]\n",
       "  \"pMax_D_Curtail\"      => [1]\n",
       "  \"STOR_ALL\"            => [4]\n",
       "  \"THERM_ALL\"           => [1]\n",
       "  \"dfCO2CapZones\"       => [1;;]\n",
       "  \"REP_PERIOD\"          => 11\n",
       "  \"MinCapReq\"           => [5.0, 10.0, 6.0]\n",
       "  \"STOR_LONG_DURATION\"  => Int64[]\n",
       "  \"dfCapRes\"            => [0.156;;]\n",
       "  \"STOR_SYMMETRIC\"      => [4]\n",
       "  \"VRE\"                 => [2, 3]\n",
       "  \"RETRO\"               => Int64[]\n",
       "  \"THERM_COMMIT\"        => [1]\n",
       "  \"TRANS_LOSS_SEGS\"     => 1\n",
       "  \"H\"                   => 168\n",
       "  ⋮                     => ⋮"
      ]
     },
     "execution_count": 8,
     "metadata": {},
     "output_type": "execute_result"
    }
   ],
   "source": [
    "case = joinpath(\"Example_Systems_Tutorials/SmallNewEngland/OneZone\") \n",
    "\n",
    "genx_settings = GenX.get_settings_path(case, \"genx_settings.yml\");\n",
    "setup = GenX.configure_settings(genx_settings);\n",
    "\n",
    "settings_path = GenX.get_settings_path(case)\n",
    "OPTIMIZER =  GenX.configure_solver(setup[\"Solver\"], settings_path);\n",
    "\n",
    "inputs = GenX.load_inputs(setup, case)"
   ]
  },
  {
   "cell_type": "code",
   "execution_count": 9,
   "id": "d8e0ba09",
   "metadata": {},
   "outputs": [
    {
     "name": "stdout",
     "output_type": "stream",
     "text": [
      "Discharge Module\n",
      "Non-served Energy Module\n",
      "Investment Discharge Module\n",
      "Unit Commitment Module\n",
      "Emissions Module (for CO2 Policy modularization\n",
      "Dispatchable Resources Module\n",
      "Storage Resources Module\n",
      "Storage Investment Module\n",
      "Storage Core Resources Module\n",
      "Storage Resources with Symmetric Charge/Discharge Capacity Module\n",
      "Thermal (Unit Commitment) Resources Module\n",
      "C02 Policies Module\n",
      "Energy Share Requirement Policies Module\n",
      "Capacity Reserve Margin Policies Module\n",
      "Minimum Capacity Requirement Module\n",
      "Maximum Capacity Requirement Module\n"
     ]
    },
    {
     "data": {
      "text/plain": [
       "A JuMP Model\n",
       "Minimization problem with:\n",
       "Variables: 18492\n",
       "Objective function type: AffExpr\n",
       "`AffExpr`-in-`MathOptInterface.EqualTo{Float64}`: 5544 constraints\n",
       "`AffExpr`-in-`MathOptInterface.GreaterThan{Float64}`: 7398 constraints\n",
       "`AffExpr`-in-`MathOptInterface.LessThan{Float64}`: 27730 constraints\n",
       "`VariableRef`-in-`MathOptInterface.EqualTo{Float64}`: 2 constraints\n",
       "`VariableRef`-in-`MathOptInterface.GreaterThan{Float64}`: 18490 constraints\n",
       "Model mode: AUTOMATIC\n",
       "CachingOptimizer state: EMPTY_OPTIMIZER\n",
       "Solver name: HiGHS\n",
       "Names registered in the model: cCO2Emissions_systemwide, cCapacityResMargin, cESRShare, cMaxCap, cMaxCapEnergy, cMaxCapEnergyDuration, cMaxNSE, cMaxRetCommit, cMaxRetEnergy, cMaxRetNoCommit, cMinCap, cMinCapEnergy, cMinCapEnergyDuration, cNSEPerSeg, cPowerBalance, cSoCBalInterior, cSoCBalStart, cZoneMaxCapReq, cZoneMinCapReq, eCFix, eCFixEnergy, eCNSE, eCStart, eCVar_in, eCVar_out, eCapResMarBalance, eCapResMarBalanceStor, eCapResMarBalanceThermal, eCapResMarBalanceVRE, eELOSS, eELOSSByZone, eESR, eESRDischarge, eEmissionsByPlant, eEmissionsByZone, eExistingCap, eExistingCapEnergy, eGenerationByThermAll, eGenerationByVRE, eGenerationByZone, eMaxCapRes, eMaxCapResInvest, eMinCapRes, eMinCapResInvest, eObj, ePowerBalance, ePowerBalanceDisp, ePowerBalanceNse, ePowerBalanceStor, ePowerBalanceThermCommit, eTotalCFix, eTotalCFixEnergy, eTotalCNSE, eTotalCNSET, eTotalCNSETS, eTotalCStart, eTotalCStartT, eTotalCVarIn, eTotalCVarInT, eTotalCVarOut, eTotalCVarOutT, eTotalCap, eTotalCapEnergy, vCAP, vCAPENERGY, vCHARGE, vCO2Cap_slack, vCOMMIT, vNSE, vP, vRETCAP, vRETCAPENERGY, vS, vSHUT, vSTART, vZERO"
      ]
     },
     "execution_count": 9,
     "metadata": {},
     "output_type": "execute_result"
    }
   ],
   "source": [
    "EP2 = GenX.generate_model(setup,inputs,OPTIMIZER)"
   ]
  },
  {
   "cell_type": "markdown",
   "id": "a1c6d2d8",
   "metadata": {},
   "source": [
    "The function `solve_model(model, setup)` uses `optimize` to optimize the model:"
   ]
  },
  {
   "cell_type": "code",
   "execution_count": 10,
   "id": "f2b02c73",
   "metadata": {},
   "outputs": [
    {
     "name": "stdout",
     "output_type": "stream",
     "text": [
      "Running HiGHS 1.6.0: Copyright (c) 2023 HiGHS under MIT licence terms\n",
      "Presolving model\n",
      "35993 rows, 17510 cols, 136453 nonzeros\n",
      "34528 rows, 16049 cols, 136256 nonzeros\n",
      "Presolve : Reductions: rows 34528(-6144); columns 16049(-2443); elements 136256(-29886)\n",
      "Solving the presolved LP\n",
      "Using EKK dual simplex solver - serial\n",
      "  Iteration        Objective     Infeasibilities num(sum)\n",
      "          0    -6.1414031772e-01 Ph1: 31(126.489); Du: 3(0.61414) 0s\n",
      "      16151     9.9615856115e+03 Pr: 0(0); Du: 0(1.41325e-12) 4s\n",
      "Solving the original LP from the solution after postsolve\n",
      "Model   status      : Optimal\n",
      "Simplex   iterations: 16151\n",
      "Objective value     :  9.9615856115e+03\n",
      "HiGHS run time      :          4.46\n",
      "LP solved for primal\n"
     ]
    },
    {
     "data": {
      "text/plain": [
       "(value = (A JuMP Model\n",
       "Minimization problem with:\n",
       "Variables: 18492\n",
       "Objective function type: AffExpr\n",
       "`AffExpr`-in-`MathOptInterface.EqualTo{Float64}`: 5544 constraints\n",
       "`AffExpr`-in-`MathOptInterface.GreaterThan{Float64}`: 7398 constraints\n",
       "`AffExpr`-in-`MathOptInterface.LessThan{Float64}`: 27730 constraints\n",
       "`VariableRef`-in-`MathOptInterface.EqualTo{Float64}`: 2 constraints\n",
       "`VariableRef`-in-`MathOptInterface.GreaterThan{Float64}`: 18490 constraints\n",
       "Model mode: AUTOMATIC\n",
       "CachingOptimizer state: ATTACHED_OPTIMIZER\n",
       "Solver name: HiGHS\n",
       "Names registered in the model: cCO2Emissions_systemwide, cCapacityResMargin, cESRShare, cMaxCap, cMaxCapEnergy, cMaxCapEnergyDuration, cMaxNSE, cMaxRetCommit, cMaxRetEnergy, cMaxRetNoCommit, cMinCap, cMinCapEnergy, cMinCapEnergyDuration, cNSEPerSeg, cPowerBalance, cSoCBalInterior, cSoCBalStart, cZoneMaxCapReq, cZoneMinCapReq, eCFix, eCFixEnergy, eCNSE, eCStart, eCVar_in, eCVar_out, eCapResMarBalance, eCapResMarBalanceStor, eCapResMarBalanceThermal, eCapResMarBalanceVRE, eELOSS, eELOSSByZone, eESR, eESRDischarge, eEmissionsByPlant, eEmissionsByZone, eExistingCap, eExistingCapEnergy, eGenerationByThermAll, eGenerationByVRE, eGenerationByZone, eMaxCapRes, eMaxCapResInvest, eMinCapRes, eMinCapResInvest, eObj, ePowerBalance, ePowerBalanceDisp, ePowerBalanceNse, ePowerBalanceStor, ePowerBalanceThermCommit, eTotalCFix, eTotalCFixEnergy, eTotalCNSE, eTotalCNSET, eTotalCNSETS, eTotalCStart, eTotalCStartT, eTotalCVarIn, eTotalCVarInT, eTotalCVarOut, eTotalCVarOutT, eTotalCap, eTotalCapEnergy, vCAP, vCAPENERGY, vCHARGE, vCO2Cap_slack, vCOMMIT, vNSE, vP, vRETCAP, vRETCAPENERGY, vS, vSHUT, vSTART, vZERO, 4.598186016082764), time = 4.7382965, bytes = 73680971, gctime = 0.028277083, gcstats = Base.GC_Diff(73680971, 61, 0, 831569, 333, 98, 28277083, 2, 0))"
      ]
     },
     "execution_count": 10,
     "metadata": {},
     "output_type": "execute_result"
    }
   ],
   "source": [
    "solution = @timed GenX.solve_model(EP2,setup)"
   ]
  },
  {
   "cell_type": "code",
   "execution_count": 11,
   "id": "06af66b3",
   "metadata": {},
   "outputs": [
    {
     "data": {
      "text/plain": [
       "9961.585611467412"
      ]
     },
     "execution_count": 11,
     "metadata": {},
     "output_type": "execute_result"
    }
   ],
   "source": [
    "objective_value(EP2)"
   ]
  },
  {
   "cell_type": "code",
   "execution_count": 18,
   "id": "ff5c299f",
   "metadata": {},
   "outputs": [
    {
     "data": {
      "text/plain": [
       "4.7382965"
      ]
     },
     "execution_count": 18,
     "metadata": {},
     "output_type": "execute_result"
    }
   ],
   "source": [
    "# Save our initial times\n",
    "initial_OV = objective_value(EP2)\n",
    "initial_time = solution[2]"
   ]
  },
  {
   "cell_type": "markdown",
   "id": "6d331742",
   "metadata": {},
   "source": [
    "### Solver Settings"
   ]
  },
  {
   "cell_type": "markdown",
   "id": "fc3c7d22",
   "metadata": {},
   "source": [
    "Though solving the model relies only on `optimize`, there are a number of ways to change the way in which the model is optimized. This section goes over solver parameters and how they affect the model solution."
   ]
  },
  {
   "cell_type": "code",
   "execution_count": 4,
   "id": "2da720a9",
   "metadata": {},
   "outputs": [],
   "source": [
    "using YAML"
   ]
  },
  {
   "cell_type": "markdown",
   "id": "d97dbe15",
   "metadata": {},
   "source": [
    "#### The HiGHS Solver"
   ]
  },
  {
   "cell_type": "markdown",
   "id": "71013b41",
   "metadata": {},
   "source": [
    "In the example files, the solver HiGHS <a href=\"https://genxproject.github.io/GenX/dev/solver_configuration/#Configuring-HiGHS\" target=\"_blank\">`configure_highs`</a> https://jump.dev/JuMP.jl/stable/packages/HiGHS/ or https://highs.dev is used. HiGHS is freely available for all to use. Other solvers, such as Gurobi, are available for free for academics. For the purpose of this tutorial, we will be focusing on HiGHS."
   ]
  },
  {
   "cell_type": "markdown",
   "id": "7f972690",
   "metadata": {},
   "source": [
    "To set the solver preferences, go into the settings folder of your case and select the YAML file of the solver you're using."
   ]
  },
  {
   "cell_type": "code",
   "execution_count": 14,
   "id": "226c993d",
   "metadata": {},
   "outputs": [
    {
     "data": {
      "text/plain": [
       "8-element Vector{String}:\n",
       " \"cbc_settings.yml\"\n",
       " \"clp_settings.yml\"\n",
       " \"cplex_settings.yml\"\n",
       " \"genx_settings.yml\"\n",
       " \"gurobi_settings.yml\"\n",
       " \"highs_settings.yml\"\n",
       " \"scip_settings.yml\"\n",
       " \"time_domain_reduction_settings.yml\""
      ]
     },
     "execution_count": 14,
     "metadata": {},
     "output_type": "execute_result"
    }
   ],
   "source": [
    "settings_folder = cd(readdir,\"Example_Systems_Tutorials/SmallNewEngland/OneZone/Settings\") # Print Settings folder"
   ]
  },
  {
   "cell_type": "code",
   "execution_count": 15,
   "id": "11d0e8b1",
   "metadata": {},
   "outputs": [
    {
     "data": {
      "text/plain": [
       "Dict{Any, Any} with 6 entries:\n",
       "  \"Method\"        => \"choose\"\n",
       "  \"Feasib_Tol\"    => 1.0e-5\n",
       "  \"run_crossover\" => \"on\"\n",
       "  \"TimeLimit\"     => 1.0e23\n",
       "  \"Optimal_Tol\"   => 1.0e-5\n",
       "  \"Pre_Solve\"     => \"choose\""
      ]
     },
     "execution_count": 15,
     "metadata": {},
     "output_type": "execute_result"
    }
   ],
   "source": [
    "highs_settings = YAML.load(open(\"Example_Systems_Tutorials/SmallNewEngland/OneZone/Settings/highs_settings.yml\"))"
   ]
  },
  {
   "cell_type": "markdown",
   "id": "9f9a1143",
   "metadata": {},
   "source": [
    "The function <a href=\"https://genxproject.github.io/GenX/dev/solver_configuration/#Configuring-HiGHS\" target=\"_blank\">`configure_highs`</a> in `src/configure_solver` contains a list of default settings for the HiGHS solver"
   ]
  },
  {
   "cell_type": "markdown",
   "id": "ccfbc576",
   "metadata": {},
   "source": [
    "<img src=\"files/highs_defaults.png\" style=\"width: auto; height: 500px\" align=\"left\">"
   ]
  },
  {
   "cell_type": "markdown",
   "id": "d29b9b51",
   "metadata": {},
   "source": [
    "There are about 80, so we'll only focus on a few for now. In most cases, you can leave the other settings on default. "
   ]
  },
  {
   "cell_type": "markdown",
   "id": "b8cc7285",
   "metadata": {},
   "source": [
    "The default settings are combined with the settings you specify in `highs_settings.yml` in `configure_highs`, which is called from `configure_solver` in `run_genx_case_simple` right before the model is generated."
   ]
  },
  {
   "cell_type": "markdown",
   "id": "42cf4d47",
   "metadata": {},
   "source": [
    "#### Feasibility Tolerance"
   ]
  },
  {
   "cell_type": "markdown",
   "id": "8e50c9f1",
   "metadata": {},
   "source": [
    "The parameters `Feasib_Tol` and `Optimal_Tol` represent the feasibility of the primal and dual functions respectively. Without going into too much detail, a  <a href=\"https://en.wikipedia.org/wiki/Duality_(optimization)\" target=\"_blank\">__dual function__</a> is an analagous formulation of the original (\"primal\") function whose objective value acts as a lower bound to the primal function. The objective value of the primal function is then the upper bound of the dual function. In JuMP, the solver will solve the dual and primal at each time step, then terminate when the solutions of the two are within a certain tolerance range. For more information on how this works specifically in HiGHS, see the  <a href=\"https://ergo-code.github.io/HiGHS/dev/terminology/\" target=\"_blank\">HiGHS documentaion</a>. "
   ]
  },
  {
   "cell_type": "markdown",
   "id": "e83232ae",
   "metadata": {},
   "source": [
    "If we decrease the tolerance parameters, the objective value becomes closer to the \"true\" optimal value, but the run time increases."
   ]
  },
  {
   "cell_type": "code",
   "execution_count": 19,
   "id": "8519302d",
   "metadata": {},
   "outputs": [
    {
     "name": "stdout",
     "output_type": "stream",
     "text": [
      " \n",
      "----------------------------------------------------\n",
      "Iteration 1\n",
      "Tolerance = 1.0e-7\n",
      "----------------------------------------------------\n",
      "Discharge Module\n",
      "Non-served Energy Module\n",
      "Investment Discharge Module\n",
      "Unit Commitment Module\n",
      "Emissions Module (for CO2 Policy modularization\n",
      "Dispatchable Resources Module\n",
      "Storage Resources Module\n",
      "Storage Investment Module\n",
      "Storage Core Resources Module\n",
      "Storage Resources with Symmetric Charge/Discharge Capacity Module\n",
      "Thermal (Unit Commitment) Resources Module\n",
      "C02 Policies Module\n",
      "Energy Share Requirement Policies Module\n",
      "Capacity Reserve Margin Policies Module\n",
      "Minimum Capacity Requirement Module\n",
      "Maximum Capacity Requirement Module\n",
      "Running HiGHS 1.6.0: Copyright (c) 2023 HiGHS under MIT licence terms\n",
      "Presolving model\n",
      "35993 rows, 17510 cols, 136453 nonzeros\n",
      "34528 rows, 16049 cols, 136256 nonzeros\n",
      "Presolve : Reductions: rows 34528(-6144); columns 16049(-2443); elements 136256(-29886)\n",
      "Solving the presolved LP\n",
      "Using EKK dual simplex solver - serial\n",
      "  Iteration        Objective     Infeasibilities num(sum)\n",
      "          0    -6.1414031772e-01 Ph1: 31(126.489); Du: 3(0.61414) 0s\n",
      "      17809     9.9615856115e+03 Pr: 0(0); Du: 0(2.34261e-13) 4s\n",
      "Solving the original LP from the solution after postsolve\n",
      "Model   status      : Optimal\n",
      "Simplex   iterations: 17809\n",
      "Objective value     :  9.9615856115e+03\n",
      "HiGHS run time      :          4.51\n",
      "LP solved for primal\n",
      " \n",
      "----------------------------------------------------\n",
      "Iteration 2\n",
      "Tolerance = 1.0e-5\n",
      "----------------------------------------------------\n",
      "Discharge Module\n",
      "Non-served Energy Module\n",
      "Investment Discharge Module\n",
      "Unit Commitment Module\n",
      "Emissions Module (for CO2 Policy modularization\n",
      "Dispatchable Resources Module\n",
      "Storage Resources Module\n",
      "Storage Investment Module\n",
      "Storage Core Resources Module\n",
      "Storage Resources with Symmetric Charge/Discharge Capacity Module\n",
      "Thermal (Unit Commitment) Resources Module\n",
      "C02 Policies Module\n",
      "Energy Share Requirement Policies Module\n",
      "Capacity Reserve Margin Policies Module\n",
      "Minimum Capacity Requirement Module\n",
      "Maximum Capacity Requirement Module\n",
      "Running HiGHS 1.6.0: Copyright (c) 2023 HiGHS under MIT licence terms\n",
      "Presolving model\n",
      "35993 rows, 17510 cols, 136453 nonzeros\n",
      "34528 rows, 16049 cols, 136256 nonzeros\n",
      "Presolve : Reductions: rows 34528(-6144); columns 16049(-2443); elements 136256(-29886)\n",
      "Solving the presolved LP\n",
      "Using EKK dual simplex solver - serial\n",
      "  Iteration        Objective     Infeasibilities num(sum)\n",
      "          0    -6.1414031772e-01 Ph1: 31(126.489); Du: 3(0.61414) 0s\n",
      "      16151     9.9615856115e+03 Pr: 0(0); Du: 0(1.41325e-12) 4s\n",
      "Solving the original LP from the solution after postsolve\n",
      "Model   status      : Optimal\n",
      "Simplex   iterations: 16151\n",
      "Objective value     :  9.9615856115e+03\n",
      "HiGHS run time      :          4.45\n",
      "LP solved for primal\n",
      " \n",
      "----------------------------------------------------\n",
      "Iteration 3\n",
      "Tolerance = 0.001\n",
      "----------------------------------------------------\n",
      "Discharge Module\n",
      "Non-served Energy Module\n",
      "Investment Discharge Module\n",
      "Unit Commitment Module\n",
      "Emissions Module (for CO2 Policy modularization\n",
      "Dispatchable Resources Module\n",
      "Storage Resources Module\n",
      "Storage Investment Module\n",
      "Storage Core Resources Module\n",
      "Storage Resources with Symmetric Charge/Discharge Capacity Module\n",
      "Thermal (Unit Commitment) Resources Module\n",
      "C02 Policies Module\n",
      "Energy Share Requirement Policies Module\n",
      "Capacity Reserve Margin Policies Module\n",
      "Minimum Capacity Requirement Module\n",
      "Maximum Capacity Requirement Module\n",
      "Running HiGHS 1.6.0: Copyright (c) 2023 HiGHS under MIT licence terms\n",
      "Presolving model\n",
      "35993 rows, 17510 cols, 136453 nonzeros\n",
      "32503 rows, 16047 cols, 130092 nonzeros\n",
      "Presolve : Reductions: rows 32503(-8169); columns 16047(-2445); elements 130092(-36050)\n",
      "Solving the presolved LP\n",
      "Using EKK dual simplex solver - serial\n",
      "  Iteration        Objective     Infeasibilities num(sum)\n",
      "          0    -6.1414367595e-01 Ph1: 31(109.809); Du: 3(0.614144) 0s\n",
      "      13945     1.6995327690e+04 Pr: 0(0); Du: 0(0.158196) 2s\n",
      "      13945     1.6995327690e+04 Pr: 0(0); Du: 0(0.158196) 2s\n",
      "Using EKK dual simplex solver - serial\n",
      "  Iteration        Objective     Infeasibilities num(sum)\n",
      "      13945     1.6995546633e+04 Pr: 13(0.802532); Du: 0(0.0827866) 2s\n",
      "      13968     1.6995352306e+04 Pr: 0(0); Du: 0(0.0767219) 2s\n",
      "      13968     1.6995352306e+04 Pr: 0(0); Du: 0(0.0767219) 2s\n",
      "Solving the original LP from the solution after postsolve\n",
      "Using EKK dual simplex solver - serial\n",
      "  Iteration        Objective     Infeasibilities num(sum)\n",
      "      13968     3.7199432785e+03 Pr: 5543(36207.9); Du: 0(0.164543) 3s\n",
      "      19413     9.9620021603e+03 Pr: 0(0); Du: 0(0.0917457) 7s\n",
      "      19413     9.9620021603e+03 Pr: 0(0); Du: 0(0.0917457) 7s\n",
      "Using EKK dual simplex solver - serial\n",
      "  Iteration        Objective     Infeasibilities num(sum)\n",
      "      19413     9.9623806728e+03 Pr: 3(0.023595); Du: 0(0.0672444) 7s\n",
      "      19416     9.9620021763e+03 Pr: 0(0); Du: 0(0.0584381) 7s\n",
      "Model   status      : Optimal\n",
      "Simplex   iterations: 19416\n",
      "Objective value     :  9.9620021763e+03\n",
      "HiGHS run time      :          7.29\n",
      "LP solved for primal\n",
      " \n",
      "----------------------------------------------------\n",
      "Iteration 4\n",
      "Tolerance = 0.1\n",
      "----------------------------------------------------\n",
      "Discharge Module\n",
      "Non-served Energy Module\n",
      "Investment Discharge Module\n",
      "Unit Commitment Module\n",
      "Emissions Module (for CO2 Policy modularization\n",
      "Dispatchable Resources Module\n",
      "Storage Resources Module\n",
      "Storage Investment Module\n",
      "Storage Core Resources Module\n",
      "Storage Resources with Symmetric Charge/Discharge Capacity Module\n",
      "Thermal (Unit Commitment) Resources Module\n",
      "C02 Policies Module\n",
      "Energy Share Requirement Policies Module\n",
      "Capacity Reserve Margin Policies Module\n",
      "Minimum Capacity Requirement Module\n",
      "Maximum Capacity Requirement Module\n",
      "Running HiGHS 1.6.0: Copyright (c) 2023 HiGHS under MIT licence terms\n",
      "Presolving model\n",
      "35993 rows, 17510 cols, 136453 nonzeros\n",
      "31557 rows, 15147 cols, 125687 nonzeros\n",
      "Presolve : Reductions: rows 31557(-9115); columns 15147(-3345); elements 125687(-40455)\n",
      "Solving the presolved LP\n",
      "Using EKK dual simplex solver - serial\n",
      "  Iteration        Objective     Infeasibilities num(sum)\n",
      "          0     1.9400118836e+04 Pr: 2236(11757.7) 0s\n",
      "       6712     2.1178509401e+04 Pr: 0(0); Du: 0(19.2776) 0s\n",
      "       6712     2.1178509401e+04 Pr: 0(0); Du: 0(19.2776) 0s\n",
      "       6712     2.1178509401e+04 Pr: 0(0); Du: 0(19.2776) 0s\n",
      "Using EKK dual simplex solver - serial\n",
      "  Iteration        Objective     Infeasibilities num(sum)\n",
      "       6712     2.1178639071e+04 Pr: 1343(3054.52); Du: 0(3.64527) 0s\n",
      "       8487     2.1238486586e+04 Pr: 0(0); Du: 0(20.6584) 0s\n",
      "       8487     2.1238486586e+04 Pr: 0(0); Du: 0(20.6584) 0s\n",
      "       8487     2.1238486586e+04 Pr: 0(0); Du: 0(20.6584) 0s\n",
      "Solving the original LP from the solution after postsolve\n",
      "Using EKK dual simplex solver - serial\n",
      "  Iteration        Objective     Infeasibilities num(sum)\n",
      "       8487    -2.7883335055e+02 Ph1: 19136(426106); Du: 352(299.916) 0s\n",
      "      20677     8.6164537319e+03 Pr: 6543(1.26098e+06); Du: 0(24.8374) 5s\n",
      "      29934     1.1912831788e+04 Pr: 1676(4363.43); Du: 0(22.603) 10s\n",
      "      33791     9.9584991905e+03 Pr: 0(0); Du: 13(19.1646) 13s\n",
      "      33791     9.9584991905e+03 Pr: 0(0); Du: 13(19.1646) 13s\n",
      "      33791     9.9584991905e+03 Pr: 0(0); Du: 13(19.1646) 13s\n",
      "Using EKK dual simplex solver - serial\n",
      "  Iteration        Objective     Infeasibilities num(sum)\n",
      "      33791     9.9832619201e+03 Pr: 318(660.829); Du: 0(7.51524) 13s\n",
      "      34444     9.9816506563e+03 Pr: 0(0); Du: 0(10.1748) 13s\n",
      "      34444     9.9816506563e+03 Pr: 0(0); Du: 0(10.1748) 13s\n",
      "      34444     9.9816506563e+03 Pr: 0(0); Du: 0(10.1748) 13s\n",
      "Model   status      : Optimal\n",
      "Simplex   iterations: 34444\n",
      "Objective value     :  9.9816506563e+03\n",
      "HiGHS run time      :         13.84\n",
      "LP solved for primal\n"
     ]
    }
   ],
   "source": [
    "# Change tolerance, generate and solve model`\n",
    "#tols = [1e-1,1e-3,1e-5, 1e-7]\n",
    "tols = [1e-7,1e-5,1e-3,1e-1]\n",
    "OV = [0.0,0.0,0.0,0.0]\n",
    "time = [0.0,0.0,0.0,0.0]\n",
    "\n",
    "for i in range(1,length(tols))\n",
    "    println(\" \")\n",
    "    println(\"----------------------------------------------------\")\n",
    "    println(\"Iteration \",i)\n",
    "    println(\"Tolerance = \",tols[i])\n",
    "    println(\"----------------------------------------------------\")\n",
    "    highs_settings[\"Feasib_Tol\"] = tols[i]\n",
    "    highs_settings[\"Optimal_Tol\"] = tols[i]\n",
    "    YAML.write_file(\"Example_Systems_Tutorials/SmallNewEngland/OneZone/Settings/highs_settings.yml\", highs_settings)\n",
    "    OPTIMIZER1 = GenX.configure_solver(setup[\"Solver\"], settings_path);\n",
    "    EP = GenX.generate_model(setup,inputs,OPTIMIZER1)\n",
    "    solution = @timed GenX.solve_model(EP,setup)\n",
    "    OV[i] = objective_value(EP)\n",
    "    time[i] = solution[2]\n",
    "end\n",
    "\n"
   ]
  },
  {
   "cell_type": "code",
   "execution_count": 20,
   "id": "8f546133",
   "metadata": {},
   "outputs": [
    {
     "data": {
      "text/plain": [
       "4-element Vector{Float64}:\n",
       "  0.0\n",
       "  4.3655745685100555e-11\n",
       "  0.41656478915501793\n",
       " 20.065044826427766"
      ]
     },
     "execution_count": 20,
     "metadata": {},
     "output_type": "execute_result"
    }
   ],
   "source": [
    "abs.(OV .- OV[1])"
   ]
  },
  {
   "cell_type": "code",
   "execution_count": 21,
   "id": "b2de7b86",
   "metadata": {},
   "outputs": [
    {
     "data": {
      "text/plain": [
       "4-element Vector{Float64}:\n",
       "  4.568410708\n",
       "  4.520873583\n",
       "  7.352256041\n",
       " 13.925019834"
      ]
     },
     "execution_count": 21,
     "metadata": {},
     "output_type": "execute_result"
    }
   ],
   "source": [
    "time"
   ]
  },
  {
   "cell_type": "code",
   "execution_count": 22,
   "id": "c9b2fa8f",
   "metadata": {},
   "outputs": [
    {
     "data": {
      "application/vnd.webio.node+json": {
       "children": [],
       "instanceArgs": {
        "namespace": "html",
        "tag": "div"
       },
       "nodeType": "DOM",
       "props": {},
       "type": "node"
      },
      "text/html": [
       "<div style=\"padding: 1em; background-color: #f8d6da; border: 1px solid #f5c6cb; font-weight: bold;\">\n",
       "<p>The WebIO Jupyter extension was not detected. See the\n",
       "<a href=\"https://juliagizmos.github.io/WebIO.jl/latest/providers/ijulia/\" target=\"_blank\">\n",
       "    WebIO Jupyter integration documentation\n",
       "</a>\n",
       "for more information.\n",
       "</div>\n"
      ],
      "text/plain": [
       "WebIO._IJuliaInit()"
      ]
     },
     "metadata": {
      "application/vnd.webio.node+json": {
       "kernelId": "8de69cb0-1476-4f31-b7e3-ca019be3b3ba"
      }
     },
     "output_type": "display_data"
    }
   ],
   "source": [
    "using Plots\n",
    "using Plotly"
   ]
  },
  {
   "cell_type": "code",
   "execution_count": 23,
   "id": "9b07d16a",
   "metadata": {},
   "outputs": [
    {
     "data": {
      "application/vnd.plotly.v1+json": {
       "data": [
        {
         "colorbar": {
          "len": 0.8806503353747448,
          "title": "",
          "x": 0.9958557811852465,
          "y": 0.5077160493827161
         },
         "hoverinfo": "text",
         "legendgroup": "y1",
         "marker": {
          "color": "rgba(0, 154, 250, 1.000)",
          "line": {
           "color": "rgba(0, 0, 0, 1.000)",
           "width": 1
          },
          "size": 8,
          "symbol": "circle"
         },
         "mode": "markers",
         "name": "y1",
         "showlegend": true,
         "text": [
          0,
          4.3655745685100555e-11,
          0.41656478915501793,
          20.065044826427766
         ],
         "type": "scatter",
         "x": [
          1e-07,
          1e-05,
          0.001,
          0.1
         ],
         "xaxis": "x",
         "y": [
          4.568410708,
          4.520873583,
          7.352256041,
          13.925019834
         ],
         "yaxis": "y"
        }
       ],
       "layout": {
        "annotations": [
         {
          "font": {
           "color": "rgba(0, 0, 0, 1.000)",
           "family": "sans-serif",
           "size": 20
          },
          "rotation": 0,
          "showarrow": false,
          "text": "Tolerance vs Run Time",
          "x": 0.5173976608187134,
          "xanchor": "center",
          "xref": "paper",
          "y": 1,
          "yanchor": "top",
          "yref": "paper"
         }
        ],
        "height": 450,
        "margin": {
         "b": 20,
         "l": 0,
         "r": 0,
         "t": 20
        },
        "paper_bgcolor": "rgba(255, 255, 255, 1.000)",
        "plot_bgcolor": "rgba(255, 255, 255, 1.000)",
        "showlegend": false,
        "width": 950,
        "xaxis": {
         "anchor": "y",
         "domain": [
          0.038939540452180316,
          0.9958557811852465
         ],
         "gridcolor": "rgba(0, 0, 0, 0.100)",
         "gridwidth": 0.5,
         "linecolor": "rgba(0, 0, 0, 1.000)",
         "mirror": false,
         "range": [
          -0.0029998970000000014,
          0.10299999700000001
         ],
         "showgrid": true,
         "showline": true,
         "showticklabels": true,
         "tickangle": 0,
         "tickcolor": "rgb(0, 0, 0)",
         "tickfont": {
          "color": "rgba(0, 0, 0, 1.000)",
          "family": "sans-serif",
          "size": 11
         },
         "tickmode": "array",
         "ticks": "inside",
         "ticktext": [
          "0.000",
          "0.025",
          "0.050",
          "0.075",
          "0.100"
         ],
         "tickvals": [
          0,
          0.025000000000000005,
          0.05000000000000001,
          0.07500000000000001,
          0.10000000000000002
         ],
         "title": "Tolerance",
         "titlefont": {
          "color": "rgba(0, 0, 0, 1.000)",
          "family": "sans-serif",
          "size": 15
         },
         "type": "-",
         "visible": true,
         "zeroline": false,
         "zerolinecolor": "rgba(0, 0, 0, 1.000)"
        },
        "yaxis": {
         "anchor": "x",
         "domain": [
          0.06739088169534369,
          0.9480412170700885
         ],
         "gridcolor": "rgba(0, 0, 0, 0.100)",
         "gridwidth": 0.5,
         "linecolor": "rgba(0, 0, 0, 1.000)",
         "mirror": false,
         "range": [
          4.23874919547,
          14.207144221530001
         ],
         "showgrid": true,
         "showline": true,
         "showticklabels": true,
         "tickangle": 0,
         "tickcolor": "rgb(0, 0, 0)",
         "tickfont": {
          "color": "rgba(0, 0, 0, 1.000)",
          "family": "sans-serif",
          "size": 11
         },
         "tickmode": "array",
         "ticks": "inside",
         "ticktext": [
          "6",
          "8",
          "10",
          "12",
          "14"
         ],
         "tickvals": [
          6,
          8,
          10,
          12,
          14
         ],
         "title": "Run Time",
         "titlefont": {
          "color": "rgba(0, 0, 0, 1.000)",
          "family": "sans-serif",
          "size": 15
         },
         "type": "-",
         "visible": true,
         "zeroline": false,
         "zerolinecolor": "rgba(0, 0, 0, 1.000)"
        }
       }
      },
      "image/png": "[encoded data removed]",
      "image/svg+xml": [
       "<svg class=\"main-svg\" xmlns=\"http://www.w3.org/2000/svg\" xmlns:xlink=\"http://www.w3.org/1999/xlink\" width=\"700\" height=\"500\" style=\"\" viewBox=\"0 0 700 500\"><rect x=\"0\" y=\"0\" width=\"700\" height=\"500\" style=\"fill: rgb(255, 255, 255); fill-opacity: 1;\"/><defs id=\"defs-8909c3\"><g class=\"clips\"><clipPath id=\"clip8909c3xyplot\" class=\"plotclip\"><rect width=\"574.1497444398398\" height=\"343.4536307961505\"/></clipPath><clipPath class=\"axesclip\" id=\"clip8909c3x\"><rect x=\"73.36372427130819\" y=\"0\" width=\"574.1497444398398\" height=\"500\"/></clipPath><clipPath class=\"axesclip\" id=\"clip8909c3y\"><rect x=\"0\" y=\"80.26392534266549\" width=\"700\" height=\"343.4536307961505\"/></clipPath><clipPath class=\"axesclip\" id=\"clip8909c3xy\"><rect x=\"73.36372427130819\" y=\"80.26392534266549\" width=\"574.1497444398398\" height=\"343.4536307961505\"/></clipPath></g><g class=\"gradients\"/></defs><g class=\"bglayer\"/><g class=\"layer-below\"><g class=\"imagelayer\"/><g class=\"shapelayer\"/></g><g class=\"cartesianlayer\"><g class=\"subplot xy\"><g class=\"layer-subplot\"><g class=\"shapelayer\"/><g class=\"imagelayer\"/></g><g class=\"gridlayer\"><g class=\"x\"><path class=\"xgrid crisp\" transform=\"translate(89.61372427130819,0)\" d=\"M0,80.26392534266549v343.4536307961505\" style=\"stroke: rgb(0, 0, 0); stroke-opacity: 0.1; stroke-width: 0.5px;\"/><path class=\"xgrid crisp\" transform=\"translate(225.0237242713082,0)\" d=\"M0,80.26392534266549v343.4536307961505\" style=\"stroke: rgb(0, 0, 0); stroke-opacity: 0.1; stroke-width: 0.5px;\"/><path class=\"xgrid crisp\" transform=\"translate(360.43372427130817,0)\" d=\"M0,80.26392534266549v343.4536307961505\" style=\"stroke: rgb(0, 0, 0); stroke-opacity: 0.1; stroke-width: 0.5px;\"/><path class=\"xgrid crisp\" transform=\"translate(495.8537242713082,0)\" d=\"M0,80.26392534266549v343.4536307961505\" style=\"stroke: rgb(0, 0, 0); stroke-opacity: 0.1; stroke-width: 0.5px;\"/><path class=\"xgrid crisp\" transform=\"translate(631.2637242713082,0)\" d=\"M0,80.26392534266549v343.4536307961505\" style=\"stroke: rgb(0, 0, 0); stroke-opacity: 0.1; stroke-width: 0.5px;\"/></g><g class=\"y\"><path class=\"ygrid crisp\" transform=\"translate(0,363.0339253426655)\" d=\"M73.36372427130819,0h574.1497444398398\" style=\"stroke: rgb(0, 0, 0); stroke-opacity: 0.1; stroke-width: 0.5px;\"/><path class=\"ygrid crisp\" transform=\"translate(0,294.12392534266553)\" d=\"M73.36372427130819,0h574.1497444398398\" style=\"stroke: rgb(0, 0, 0); stroke-opacity: 0.1; stroke-width: 0.5px;\"/><path class=\"ygrid crisp\" transform=\"translate(0,225.21392534266548)\" d=\"M73.36372427130819,0h574.1497444398398\" style=\"stroke: rgb(0, 0, 0); stroke-opacity: 0.1; stroke-width: 0.5px;\"/><path class=\"ygrid crisp\" transform=\"translate(0,156.31392534266547)\" d=\"M73.36372427130819,0h574.1497444398398\" style=\"stroke: rgb(0, 0, 0); stroke-opacity: 0.1; stroke-width: 0.5px;\"/><path class=\"ygrid crisp\" transform=\"translate(0,87.40392534266549)\" d=\"M73.36372427130819,0h574.1497444398398\" style=\"stroke: rgb(0, 0, 0); stroke-opacity: 0.1; stroke-width: 0.5px;\"/></g></g><g class=\"zerolinelayer\"/><path class=\"xlines-below\"/><path class=\"ylines-below\"/><g class=\"overlines-below\"/><g class=\"xaxislayer-below\"/><g class=\"yaxislayer-below\"/><g class=\"overaxes-below\"/><g class=\"plot\" transform=\"translate(73.36372427130819,80.26392534266549)\" clip-path=\"url('#clip8909c3xyplot')\"><g class=\"scatterlayer mlayer\"><g class=\"trace scatter tracede5938\" style=\"stroke-miterlimit: 2; opacity: 1;\"><g class=\"fills\"/><g class=\"errorbars\"/><g class=\"lines\"/><g class=\"points\"><path class=\"point\" transform=\"translate(16.25,332.1)\" d=\"M4,0A4,4 0 1,1 0,-4A4,4 0 0,1 4,0Z\" style=\"opacity: 1; stroke-width: 1px; fill: rgb(0, 154, 250); fill-opacity: 1; stroke: rgb(0, 0, 0); stroke-opacity: 1;\"/><path class=\"point\" transform=\"translate(16.3,333.73)\" d=\"M4,0A4,4 0 1,1 0,-4A4,4 0 0,1 4,0Z\" style=\"opacity: 1; stroke-width: 1px; fill: rgb(0, 154, 250); fill-opacity: 1; stroke: rgb(0, 0, 0); stroke-opacity: 1;\"/><path class=\"point\" transform=\"translate(21.67,236.18)\" d=\"M4,0A4,4 0 1,1 0,-4A4,4 0 0,1 4,0Z\" style=\"opacity: 1; stroke-width: 1px; fill: rgb(0, 154, 250); fill-opacity: 1; stroke: rgb(0, 0, 0); stroke-opacity: 1;\"/><path class=\"point\" transform=\"translate(557.9,9.72)\" d=\"M4,0A4,4 0 1,1 0,-4A4,4 0 0,1 4,0Z\" style=\"opacity: 1; stroke-width: 1px; fill: rgb(0, 154, 250); fill-opacity: 1; stroke: rgb(0, 0, 0); stroke-opacity: 1;\"/></g><g class=\"text\"/></g></g></g><g class=\"overplot\"/><path class=\"xlines-above crisp\" d=\"M72.36372427130819,424.217556138816H647.513468711148\" style=\"fill: none; stroke-width: 1px; stroke: rgb(0, 0, 0); stroke-opacity: 1;\"/><path class=\"ylines-above crisp\" d=\"M72.86372427130819,80.26392534266549V423.717556138816\" style=\"fill: none; stroke-width: 1px; stroke: rgb(0, 0, 0); stroke-opacity: 1;\"/><g class=\"overlines-above\"/><g class=\"xaxislayer-above\"><path class=\"xtick ticks crisp\" d=\"M0,423.717556138816v-5\" transform=\"translate(89.61372427130819,0)\" style=\"stroke: rgb(0, 0, 0); stroke-opacity: 1; stroke-width: 1px;\"/><path class=\"xtick ticks crisp\" d=\"M0,423.717556138816v-5\" transform=\"translate(225.0237242713082,0)\" style=\"stroke: rgb(0, 0, 0); stroke-opacity: 1; stroke-width: 1px;\"/><path class=\"xtick ticks crisp\" d=\"M0,423.717556138816v-5\" transform=\"translate(360.43372427130817,0)\" style=\"stroke: rgb(0, 0, 0); stroke-opacity: 1; stroke-width: 1px;\"/><path class=\"xtick ticks crisp\" d=\"M0,423.717556138816v-5\" transform=\"translate(495.8537242713082,0)\" style=\"stroke: rgb(0, 0, 0); stroke-opacity: 1; stroke-width: 1px;\"/><path class=\"xtick ticks crisp\" d=\"M0,423.717556138816v-5\" transform=\"translate(631.2637242713082,0)\" style=\"stroke: rgb(0, 0, 0); stroke-opacity: 1; stroke-width: 1px;\"/><g class=\"xtick\"><text text-anchor=\"middle\" x=\"0\" y=\"437.917556138816\" transform=\"translate(89.61372427130819,0)\" style=\"font-family: sans-serif; font-size: 11px; fill: rgb(0, 0, 0); fill-opacity: 1; white-space: pre;\">0.000</text></g><g class=\"xtick\"><text text-anchor=\"middle\" x=\"0\" y=\"437.917556138816\" transform=\"translate(225.0237242713082,0)\" style=\"font-family: sans-serif; font-size: 11px; fill: rgb(0, 0, 0); fill-opacity: 1; white-space: pre;\">0.025</text></g><g class=\"xtick\"><text text-anchor=\"middle\" x=\"0\" y=\"437.917556138816\" transform=\"translate(360.43372427130817,0)\" style=\"font-family: sans-serif; font-size: 11px; fill: rgb(0, 0, 0); fill-opacity: 1; white-space: pre;\">0.050</text></g><g class=\"xtick\"><text text-anchor=\"middle\" x=\"0\" y=\"437.917556138816\" transform=\"translate(495.8537242713082,0)\" style=\"font-family: sans-serif; font-size: 11px; fill: rgb(0, 0, 0); fill-opacity: 1; white-space: pre;\">0.075</text></g><g class=\"xtick\"><text text-anchor=\"middle\" x=\"0\" y=\"437.917556138816\" transform=\"translate(631.2637242713082,0)\" style=\"font-family: sans-serif; font-size: 11px; fill: rgb(0, 0, 0); fill-opacity: 1; white-space: pre;\">0.100</text></g></g><g class=\"yaxislayer-above\"><path class=\"ytick ticks crisp\" d=\"M73.36372427130819,0h5\" transform=\"translate(0,363.0339253426655)\" style=\"stroke: rgb(0, 0, 0); stroke-opacity: 1; stroke-width: 1px;\"/><path class=\"ytick ticks crisp\" d=\"M73.36372427130819,0h5\" transform=\"translate(0,294.12392534266553)\" style=\"stroke: rgb(0, 0, 0); stroke-opacity: 1; stroke-width: 1px;\"/><path class=\"ytick ticks crisp\" d=\"M73.36372427130819,0h5\" transform=\"translate(0,225.21392534266548)\" style=\"stroke: rgb(0, 0, 0); stroke-opacity: 1; stroke-width: 1px;\"/><path class=\"ytick ticks crisp\" d=\"M73.36372427130819,0h5\" transform=\"translate(0,156.31392534266547)\" style=\"stroke: rgb(0, 0, 0); stroke-opacity: 1; stroke-width: 1px;\"/><path class=\"ytick ticks crisp\" d=\"M73.36372427130819,0h5\" transform=\"translate(0,87.40392534266549)\" style=\"stroke: rgb(0, 0, 0); stroke-opacity: 1; stroke-width: 1px;\"/><g class=\"ytick\"><text text-anchor=\"end\" x=\"70.16372427130818\" y=\"3.8499999999999996\" transform=\"translate(0,363.0339253426655)\" style=\"font-family: sans-serif; font-size: 11px; fill: rgb(0, 0, 0); fill-opacity: 1; white-space: pre;\">6</text></g><g class=\"ytick\"><text text-anchor=\"end\" x=\"70.16372427130818\" y=\"3.8499999999999996\" transform=\"translate(0,294.12392534266553)\" style=\"font-family: sans-serif; font-size: 11px; fill: rgb(0, 0, 0); fill-opacity: 1; white-space: pre;\">8</text></g><g class=\"ytick\"><text text-anchor=\"end\" x=\"70.16372427130818\" y=\"3.8499999999999996\" transform=\"translate(0,225.21392534266548)\" style=\"font-family: sans-serif; font-size: 11px; fill: rgb(0, 0, 0); fill-opacity: 1; white-space: pre;\">10</text></g><g class=\"ytick\"><text text-anchor=\"end\" x=\"70.16372427130818\" y=\"3.8499999999999996\" transform=\"translate(0,156.31392534266547)\" style=\"font-family: sans-serif; font-size: 11px; fill: rgb(0, 0, 0); fill-opacity: 1; white-space: pre;\">12</text></g><g class=\"ytick\"><text text-anchor=\"end\" x=\"70.16372427130818\" y=\"3.8499999999999996\" transform=\"translate(0,87.40392534266549)\" style=\"font-family: sans-serif; font-size: 11px; fill: rgb(0, 0, 0); fill-opacity: 1; white-space: pre;\">14</text></g></g><g class=\"overaxes-above\"/></g></g><g class=\"polarlayer\"/><g class=\"ternarylayer\"/><g class=\"geolayer\"/><g class=\"funnelarealayer\"/><g class=\"pielayer\"/><g class=\"treemaplayer\"/><g class=\"sunburstlayer\"/><g class=\"glimages\"/><defs id=\"topdefs-8909c3\"><g class=\"clips\"/></defs><g class=\"layer-above\"><g class=\"imagelayer\"/><g class=\"shapelayer\"/></g><g class=\"infolayer\"><g class=\"g-gtitle\"/><g class=\"g-xtitle\"><text class=\"xtitle\" x=\"360.43859649122805\" y=\"465.921875\" text-anchor=\"middle\" style=\"font-family: sans-serif; font-size: 15px; fill: rgb(0, 0, 0); opacity: 1; font-weight: normal; white-space: pre;\">Tolerance</text></g><g class=\"g-ytitle\"><text class=\"ytitle\" transform=\"rotate(-90,32.421875,251.99074074074073)\" x=\"32.421875\" y=\"251.99074074074073\" text-anchor=\"middle\" style=\"font-family: sans-serif; font-size: 15px; fill: rgb(0, 0, 0); opacity: 1; font-weight: normal; white-space: pre;\">Run Time</text></g><g class=\"annotation\" data-index=\"0\" style=\"opacity: 1;\"><g class=\"annotation-text-g\" transform=\"rotate(0,360.43859649122805,73)\"><g class=\"cursor-pointer\" transform=\"translate(256,60)\"><rect class=\"bg\" x=\"0.5\" y=\"0.5\" width=\"207\" height=\"25\" style=\"stroke-width: 1px; stroke: rgb(0, 0, 0); stroke-opacity: 0; fill: rgb(0, 0, 0); fill-opacity: 0;\"/><text class=\"annotation-text\" text-anchor=\"middle\" x=\"103.890625\" y=\"20\" style=\"font-family: sans-serif; font-size: 20px; fill: rgb(0, 0, 0); fill-opacity: 1; white-space: pre;\">Tolerance vs Run Time</text></g></g></g></g></svg>"
      ],
      "text/html": [
       "    <div id=\"5d4da4ab-b035-4c9a-be7a-7f1845f05bce\" style=\"width:950px;height:450px;\"></div>\n",
       "    <script>\n",
       "        requirejs.config({\n",
       "        paths: {\n",
       "            plotly: 'https://cdn.plot.ly/plotly-2.6.3.min'\n",
       "        }\n",
       "    });\n",
       "    require(['plotly'], function (Plotly) {\n",
       "\n",
       "    Plotly.newPlot('5d4da4ab-b035-4c9a-be7a-7f1845f05bce', [\n",
       "    {\n",
       "        \"showlegend\": true,\n",
       "        \"mode\": \"markers\",\n",
       "        \"xaxis\": \"x\",\n",
       "        \"colorbar\": {\n",
       "            \"y\": 0.5077160493827161,\n",
       "            \"title\": \"\",\n",
       "            \"len\": 0.8806503353747448,\n",
       "            \"x\": 0.9958557811852465\n",
       "        },\n",
       "        \"name\": \"y1\",\n",
       "        \"yaxis\": \"y\",\n",
       "        \"text\": [\n",
       "            0.0,\n",
       "            4.3655745685100555e-11,\n",
       "            0.41656478915501793,\n",
       "            20.065044826427766\n",
       "        ],\n",
       "        \"legendgroup\": \"y1\",\n",
       "        \"marker\": {\n",
       "            \"symbol\": \"circle\",\n",
       "            \"color\": \"rgba(0, 154, 250, 1.000)\",\n",
       "            \"line\": {\n",
       "                \"color\": \"rgba(0, 0, 0, 1.000)\",\n",
       "                \"width\": 1\n",
       "            },\n",
       "            \"size\": 8\n",
       "        },\n",
       "        \"y\": [\n",
       "            4.568410708,\n",
       "            4.520873583,\n",
       "            7.352256041,\n",
       "            13.925019834\n",
       "        ],\n",
       "        \"type\": \"scatter\",\n",
       "        \"hoverinfo\": \"text\",\n",
       "        \"x\": [\n",
       "            1.0e-7,\n",
       "            1.0e-5,\n",
       "            0.001,\n",
       "            0.1\n",
       "        ]\n",
       "    }\n",
       "]\n",
       ", {\n",
       "    \"showlegend\": false,\n",
       "    \"xaxis\": {\n",
       "        \"showticklabels\": true,\n",
       "        \"gridwidth\": 0.5,\n",
       "        \"tickvals\": [\n",
       "            0.0,\n",
       "            0.025000000000000005,\n",
       "            0.05000000000000001,\n",
       "            0.07500000000000001,\n",
       "            0.10000000000000002\n",
       "        ],\n",
       "        \"range\": [\n",
       "            -0.0029998970000000014,\n",
       "            0.10299999700000001\n",
       "        ],\n",
       "        \"domain\": [\n",
       "            0.038939540452180316,\n",
       "            0.9958557811852465\n",
       "        ],\n",
       "        \"mirror\": false,\n",
       "        \"tickangle\": 0,\n",
       "        \"showline\": true,\n",
       "        \"ticktext\": [\n",
       "            \"0.000\",\n",
       "            \"0.025\",\n",
       "            \"0.050\",\n",
       "            \"0.075\",\n",
       "            \"0.100\"\n",
       "        ],\n",
       "        \"zeroline\": false,\n",
       "        \"tickfont\": {\n",
       "            \"color\": \"rgba(0, 0, 0, 1.000)\",\n",
       "            \"family\": \"sans-serif\",\n",
       "            \"size\": 11\n",
       "        },\n",
       "        \"zerolinecolor\": \"rgba(0, 0, 0, 1.000)\",\n",
       "        \"anchor\": \"y\",\n",
       "        \"visible\": true,\n",
       "        \"ticks\": \"inside\",\n",
       "        \"tickmode\": \"array\",\n",
       "        \"linecolor\": \"rgba(0, 0, 0, 1.000)\",\n",
       "        \"showgrid\": true,\n",
       "        \"title\": \"Tolerance\",\n",
       "        \"gridcolor\": \"rgba(0, 0, 0, 0.100)\",\n",
       "        \"titlefont\": {\n",
       "            \"color\": \"rgba(0, 0, 0, 1.000)\",\n",
       "            \"family\": \"sans-serif\",\n",
       "            \"size\": 15\n",
       "        },\n",
       "        \"tickcolor\": \"rgb(0, 0, 0)\",\n",
       "        \"type\": \"-\"\n",
       "    },\n",
       "    \"paper_bgcolor\": \"rgba(255, 255, 255, 1.000)\",\n",
       "    \"annotations\": [\n",
       "        {\n",
       "            \"yanchor\": \"top\",\n",
       "            \"xanchor\": \"center\",\n",
       "            \"rotation\": -0.0,\n",
       "            \"y\": 1.0,\n",
       "            \"font\": {\n",
       "                \"color\": \"rgba(0, 0, 0, 1.000)\",\n",
       "                \"family\": \"sans-serif\",\n",
       "                \"size\": 20\n",
       "            },\n",
       "            \"yref\": \"paper\",\n",
       "            \"showarrow\": false,\n",
       "            \"text\": \"Tolerance vs Run Time\",\n",
       "            \"xref\": \"paper\",\n",
       "            \"x\": 0.5173976608187134\n",
       "        }\n",
       "    ],\n",
       "    \"height\": 450,\n",
       "    \"margin\": {\n",
       "        \"l\": 0,\n",
       "        \"b\": 20,\n",
       "        \"r\": 0,\n",
       "        \"t\": 20\n",
       "    },\n",
       "    \"plot_bgcolor\": \"rgba(255, 255, 255, 1.000)\",\n",
       "    \"yaxis\": {\n",
       "        \"showticklabels\": true,\n",
       "        \"gridwidth\": 0.5,\n",
       "        \"tickvals\": [\n",
       "            6.0,\n",
       "            8.0,\n",
       "            10.0,\n",
       "            12.0,\n",
       "            14.0\n",
       "        ],\n",
       "        \"range\": [\n",
       "            4.23874919547,\n",
       "            14.207144221530001\n",
       "        ],\n",
       "        \"domain\": [\n",
       "            0.06739088169534369,\n",
       "            0.9480412170700885\n",
       "        ],\n",
       "        \"mirror\": false,\n",
       "        \"tickangle\": 0,\n",
       "        \"showline\": true,\n",
       "        \"ticktext\": [\n",
       "            \"6\",\n",
       "            \"8\",\n",
       "            \"10\",\n",
       "            \"12\",\n",
       "            \"14\"\n",
       "        ],\n",
       "        \"zeroline\": false,\n",
       "        \"tickfont\": {\n",
       "            \"color\": \"rgba(0, 0, 0, 1.000)\",\n",
       "            \"family\": \"sans-serif\",\n",
       "            \"size\": 11\n",
       "        },\n",
       "        \"zerolinecolor\": \"rgba(0, 0, 0, 1.000)\",\n",
       "        \"anchor\": \"x\",\n",
       "        \"visible\": true,\n",
       "        \"ticks\": \"inside\",\n",
       "        \"tickmode\": \"array\",\n",
       "        \"linecolor\": \"rgba(0, 0, 0, 1.000)\",\n",
       "        \"showgrid\": true,\n",
       "        \"title\": \"Run Time\",\n",
       "        \"gridcolor\": \"rgba(0, 0, 0, 0.100)\",\n",
       "        \"titlefont\": {\n",
       "            \"color\": \"rgba(0, 0, 0, 1.000)\",\n",
       "            \"family\": \"sans-serif\",\n",
       "            \"size\": 15\n",
       "        },\n",
       "        \"tickcolor\": \"rgb(0, 0, 0)\",\n",
       "        \"type\": \"-\"\n",
       "    },\n",
       "    \"width\": 950\n",
       "}\n",
       ");\n",
       "    });\n",
       "    </script>\n"
      ]
     },
     "execution_count": 23,
     "metadata": {},
     "output_type": "execute_result"
    }
   ],
   "source": [
    "# Plot the run time as a function of the tolerance\n",
    "plotlyjs()\n",
    "Plots.scatter(tols,time,hover = abs.(abs.(OV .- OV[1])),legend=false,\n",
    "                ylabel=\"Run Time\",xlabel=\"Tolerance\",title=\"Tolerance vs Run Time\",size=(950,450))"
   ]
  },
  {
   "cell_type": "markdown",
   "id": "6021242f",
   "metadata": {},
   "source": [
    "### PreSolve"
   ]
  },
  {
   "cell_type": "markdown",
   "id": "d85d3904",
   "metadata": {},
   "source": [
    "In optimization, presolve is a stage at the beginning of the solver in which the problem is simplified to remove redunant constraints and otherwise simplify the problem before the optimization itself begins. The default for presolve in GenX is \"choose\", allowing the solver to use presolve only if it will reduce computation time. "
   ]
  },
  {
   "cell_type": "markdown",
   "id": "cb7be444",
   "metadata": {},
   "source": [
    "Let's try setting presolve to off and on, then compare computation times."
   ]
  },
  {
   "cell_type": "code",
   "execution_count": 24,
   "id": "e35b5a7f",
   "metadata": {},
   "outputs": [],
   "source": [
    "# First, set tolerances back to original\n",
    "highs_settings[\"Feasib_Tol\"] = 1e-5\n",
    "highs_settings[\"Optimal_Tol\"] = 1e-5\n",
    "YAML.write_file(\"Example_Systems_Tutorials/SmallNewEngland/OneZone/Settings/highs_settings.yml\", highs_settings)\n",
    "    "
   ]
  },
  {
   "cell_type": "code",
   "execution_count": 25,
   "id": "0a6bf32d",
   "metadata": {},
   "outputs": [
    {
     "name": "stdout",
     "output_type": "stream",
     "text": [
      "Discharge Module\n",
      "Non-served Energy Module\n",
      "Investment Discharge Module\n",
      "Unit Commitment Module\n",
      "Emissions Module (for CO2 Policy modularization\n",
      "Dispatchable Resources Module\n",
      "Storage Resources Module\n",
      "Storage Investment Module\n",
      "Storage Core Resources Module\n",
      "Storage Resources with Symmetric Charge/Discharge Capacity Module\n",
      "Thermal (Unit Commitment) Resources Module\n",
      "C02 Policies Module\n",
      "Energy Share Requirement Policies Module\n",
      "Capacity Reserve Margin Policies Module\n",
      "Minimum Capacity Requirement Module\n",
      "Maximum Capacity Requirement Module\n"
     ]
    },
    {
     "data": {
      "text/plain": [
       "A JuMP Model\n",
       "Minimization problem with:\n",
       "Variables: 18492\n",
       "Objective function type: AffExpr\n",
       "`AffExpr`-in-`MathOptInterface.EqualTo{Float64}`: 5544 constraints\n",
       "`AffExpr`-in-`MathOptInterface.GreaterThan{Float64}`: 7398 constraints\n",
       "`AffExpr`-in-`MathOptInterface.LessThan{Float64}`: 27730 constraints\n",
       "`VariableRef`-in-`MathOptInterface.EqualTo{Float64}`: 2 constraints\n",
       "`VariableRef`-in-`MathOptInterface.GreaterThan{Float64}`: 18490 constraints\n",
       "Model mode: AUTOMATIC\n",
       "CachingOptimizer state: EMPTY_OPTIMIZER\n",
       "Solver name: HiGHS\n",
       "Names registered in the model: cCO2Emissions_systemwide, cCapacityResMargin, cESRShare, cMaxCap, cMaxCapEnergy, cMaxCapEnergyDuration, cMaxNSE, cMaxRetCommit, cMaxRetEnergy, cMaxRetNoCommit, cMinCap, cMinCapEnergy, cMinCapEnergyDuration, cNSEPerSeg, cPowerBalance, cSoCBalInterior, cSoCBalStart, cZoneMaxCapReq, cZoneMinCapReq, eCFix, eCFixEnergy, eCNSE, eCStart, eCVar_in, eCVar_out, eCapResMarBalance, eCapResMarBalanceStor, eCapResMarBalanceThermal, eCapResMarBalanceVRE, eELOSS, eELOSSByZone, eESR, eESRDischarge, eEmissionsByPlant, eEmissionsByZone, eExistingCap, eExistingCapEnergy, eGenerationByThermAll, eGenerationByVRE, eGenerationByZone, eMaxCapRes, eMaxCapResInvest, eMinCapRes, eMinCapResInvest, eObj, ePowerBalance, ePowerBalanceDisp, ePowerBalanceNse, ePowerBalanceStor, ePowerBalanceThermCommit, eTotalCFix, eTotalCFixEnergy, eTotalCNSE, eTotalCNSET, eTotalCNSETS, eTotalCStart, eTotalCStartT, eTotalCVarIn, eTotalCVarInT, eTotalCVarOut, eTotalCVarOutT, eTotalCap, eTotalCapEnergy, vCAP, vCAPENERGY, vCHARGE, vCO2Cap_slack, vCOMMIT, vNSE, vP, vRETCAP, vRETCAPENERGY, vS, vSHUT, vSTART, vZERO"
      ]
     },
     "execution_count": 25,
     "metadata": {},
     "output_type": "execute_result"
    }
   ],
   "source": [
    "highs_settings[\"Pre_Solve\"] = \"off\"\n",
    "YAML.write_file(\"Example_Systems_Tutorials/SmallNewEngland/OneZone/Settings/highs_settings.yml\", highs_settings)\n",
    "OPTIMIZER2 = GenX.configure_solver(setup[\"Solver\"], settings_path);\n",
    "EP2 = GenX.generate_model(setup,inputs,OPTIMIZER2)"
   ]
  },
  {
   "cell_type": "code",
   "execution_count": 26,
   "id": "0a7e0c4d",
   "metadata": {},
   "outputs": [
    {
     "name": "stdout",
     "output_type": "stream",
     "text": [
      "Running HiGHS 1.6.0: Copyright (c) 2023 HiGHS under MIT licence terms\n",
      "Solving LP without presolve or with basis\n",
      "Using EKK dual simplex solver - serial\n",
      "  Iteration        Objective     Infeasibilities num(sum)\n",
      "          0    -4.3842305368e+02 Ph1: 19364(12682.7); Du: 5(438.423) 0s\n",
      "      21006     9.5756400844e+03 Pr: 7449(4.26139e+06); Du: 0(0.00102988) 5s\n",
      "      25026     9.9615856115e+03 Pr: 0(0); Du: 0(1.98159e-13) 6s\n",
      "Model   status      : Optimal\n",
      "Simplex   iterations: 25026\n",
      "Objective value     :  9.9615856115e+03\n",
      "HiGHS run time      :          6.79\n",
      "LP solved for primal\n"
     ]
    },
    {
     "data": {
      "text/plain": [
       "6.844404875"
      ]
     },
     "execution_count": 26,
     "metadata": {},
     "output_type": "execute_result"
    }
   ],
   "source": [
    "solution2 = @elapsed GenX.solve_model(EP2,setup)"
   ]
  },
  {
   "cell_type": "code",
   "execution_count": 27,
   "id": "bb5cdd9e",
   "metadata": {},
   "outputs": [
    {
     "name": "stdout",
     "output_type": "stream",
     "text": [
      "Discharge Module\n",
      "Non-served Energy Module\n",
      "Investment Discharge Module\n",
      "Unit Commitment Module\n",
      "Emissions Module (for CO2 Policy modularization\n",
      "Dispatchable Resources Module\n",
      "Storage Resources Module\n",
      "Storage Investment Module\n",
      "Storage Core Resources Module\n",
      "Storage Resources with Symmetric Charge/Discharge Capacity Module\n",
      "Thermal (Unit Commitment) Resources Module\n",
      "C02 Policies Module\n",
      "Energy Share Requirement Policies Module\n",
      "Capacity Reserve Margin Policies Module\n",
      "Minimum Capacity Requirement Module\n",
      "Maximum Capacity Requirement Module\n"
     ]
    },
    {
     "data": {
      "text/plain": [
       "A JuMP Model\n",
       "Minimization problem with:\n",
       "Variables: 18492\n",
       "Objective function type: AffExpr\n",
       "`AffExpr`-in-`MathOptInterface.EqualTo{Float64}`: 5544 constraints\n",
       "`AffExpr`-in-`MathOptInterface.GreaterThan{Float64}`: 7398 constraints\n",
       "`AffExpr`-in-`MathOptInterface.LessThan{Float64}`: 27730 constraints\n",
       "`VariableRef`-in-`MathOptInterface.EqualTo{Float64}`: 2 constraints\n",
       "`VariableRef`-in-`MathOptInterface.GreaterThan{Float64}`: 18490 constraints\n",
       "Model mode: AUTOMATIC\n",
       "CachingOptimizer state: EMPTY_OPTIMIZER\n",
       "Solver name: HiGHS\n",
       "Names registered in the model: cCO2Emissions_systemwide, cCapacityResMargin, cESRShare, cMaxCap, cMaxCapEnergy, cMaxCapEnergyDuration, cMaxNSE, cMaxRetCommit, cMaxRetEnergy, cMaxRetNoCommit, cMinCap, cMinCapEnergy, cMinCapEnergyDuration, cNSEPerSeg, cPowerBalance, cSoCBalInterior, cSoCBalStart, cZoneMaxCapReq, cZoneMinCapReq, eCFix, eCFixEnergy, eCNSE, eCStart, eCVar_in, eCVar_out, eCapResMarBalance, eCapResMarBalanceStor, eCapResMarBalanceThermal, eCapResMarBalanceVRE, eELOSS, eELOSSByZone, eESR, eESRDischarge, eEmissionsByPlant, eEmissionsByZone, eExistingCap, eExistingCapEnergy, eGenerationByThermAll, eGenerationByVRE, eGenerationByZone, eMaxCapRes, eMaxCapResInvest, eMinCapRes, eMinCapResInvest, eObj, ePowerBalance, ePowerBalanceDisp, ePowerBalanceNse, ePowerBalanceStor, ePowerBalanceThermCommit, eTotalCFix, eTotalCFixEnergy, eTotalCNSE, eTotalCNSET, eTotalCNSETS, eTotalCStart, eTotalCStartT, eTotalCVarIn, eTotalCVarInT, eTotalCVarOut, eTotalCVarOutT, eTotalCap, eTotalCapEnergy, vCAP, vCAPENERGY, vCHARGE, vCO2Cap_slack, vCOMMIT, vNSE, vP, vRETCAP, vRETCAPENERGY, vS, vSHUT, vSTART, vZERO"
      ]
     },
     "execution_count": 27,
     "metadata": {},
     "output_type": "execute_result"
    }
   ],
   "source": [
    "highs_settings[\"Pre_Solve\"] = \"on\"\n",
    "YAML.write_file(\"Example_Systems_Tutorials/SmallNewEngland/OneZone/Settings/highs_settings.yml\", highs_settings)\n",
    "OPTIMIZER3 = GenX.configure_solver(setup[\"Solver\"], settings_path);\n",
    "EP3 = GenX.generate_model(setup,inputs,OPTIMIZER3)"
   ]
  },
  {
   "cell_type": "code",
   "execution_count": 28,
   "id": "180c05ef",
   "metadata": {},
   "outputs": [
    {
     "name": "stdout",
     "output_type": "stream",
     "text": [
      "Running HiGHS 1.6.0: Copyright (c) 2023 HiGHS under MIT licence terms\n",
      "Presolving model\n",
      "35993 rows, 17510 cols, 136453 nonzeros\n",
      "34528 rows, 16049 cols, 136256 nonzeros\n",
      "Presolve : Reductions: rows 34528(-6144); columns 16049(-2443); elements 136256(-29886)\n",
      "Solving the presolved LP\n",
      "Using EKK dual simplex solver - serial\n",
      "  Iteration        Objective     Infeasibilities num(sum)\n",
      "          0    -6.1414031772e-01 Ph1: 31(126.489); Du: 3(0.61414) 0s\n",
      "      16151     9.9615856115e+03 Pr: 0(0); Du: 0(1.41325e-12) 4s\n",
      "Solving the original LP from the solution after postsolve\n",
      "Model   status      : Optimal\n",
      "Simplex   iterations: 16151\n",
      "Objective value     :  9.9615856115e+03\n",
      "HiGHS run time      :          4.45\n",
      "LP solved for primal\n"
     ]
    },
    {
     "data": {
      "text/plain": [
       "4.561991291"
      ]
     },
     "execution_count": 28,
     "metadata": {},
     "output_type": "execute_result"
    }
   ],
   "source": [
    "solution3 = @elapsed GenX.solve_model(EP3,setup)"
   ]
  },
  {
   "cell_type": "markdown",
   "id": "21cf7f02",
   "metadata": {},
   "source": [
    "As we can see, the runtime with PreSolve is shorter, and would be even shorter for a larger system. # F: why would we not use presolve?"
   ]
  },
  {
   "cell_type": "markdown",
   "id": "cebe4e7b",
   "metadata": {},
   "source": [
    "### Crossover"
   ]
  },
  {
   "cell_type": "markdown",
   "id": "c4c8b86e",
   "metadata": {},
   "source": [
    "Crossover is a method in which an interior solution (i.e. a solution within the bounds but not at the bounds) is pushed to the bounds of the primal and dual problems in an attempt to find the optimal solution (in convex optimization, the optimal solution will always be at the boundary of a problem.) Crossover is a useful tool but can be time-consuming."
   ]
  },
  {
   "cell_type": "code",
   "execution_count": 29,
   "id": "2d5ec180",
   "metadata": {},
   "outputs": [],
   "source": [
    "# Write PreSolve back to choose\n",
    "highs_settings[\"Pre_Solve\"] = \"choose\"\n",
    "YAML.write_file(\"Example_Systems_Tutorials/SmallNewEngland/OneZone/Settings/highs_settings.yml\", highs_settings)"
   ]
  },
  {
   "cell_type": "code",
   "execution_count": 31,
   "id": "15841049",
   "metadata": {},
   "outputs": [
    {
     "name": "stdout",
     "output_type": "stream",
     "text": [
      "Discharge Module\n",
      "Non-served Energy Module\n",
      "Investment Discharge Module\n",
      "Unit Commitment Module\n",
      "Emissions Module (for CO2 Policy modularization\n",
      "Dispatchable Resources Module\n",
      "Storage Resources Module\n",
      "Storage Investment Module\n",
      "Storage Core Resources Module\n",
      "Storage Resources with Symmetric Charge/Discharge Capacity Module\n",
      "Thermal (Unit Commitment) Resources Module\n",
      "C02 Policies Module\n",
      "Energy Share Requirement Policies Module\n",
      "Capacity Reserve Margin Policies Module\n",
      "Minimum Capacity Requirement Module\n",
      "Maximum Capacity Requirement Module\n"
     ]
    },
    {
     "data": {
      "text/plain": [
       "A JuMP Model\n",
       "Minimization problem with:\n",
       "Variables: 18492\n",
       "Objective function type: AffExpr\n",
       "`AffExpr`-in-`MathOptInterface.EqualTo{Float64}`: 5544 constraints\n",
       "`AffExpr`-in-`MathOptInterface.GreaterThan{Float64}`: 7398 constraints\n",
       "`AffExpr`-in-`MathOptInterface.LessThan{Float64}`: 27730 constraints\n",
       "`VariableRef`-in-`MathOptInterface.EqualTo{Float64}`: 2 constraints\n",
       "`VariableRef`-in-`MathOptInterface.GreaterThan{Float64}`: 18490 constraints\n",
       "Model mode: AUTOMATIC\n",
       "CachingOptimizer state: EMPTY_OPTIMIZER\n",
       "Solver name: HiGHS\n",
       "Names registered in the model: cCO2Emissions_systemwide, cCapacityResMargin, cESRShare, cMaxCap, cMaxCapEnergy, cMaxCapEnergyDuration, cMaxNSE, cMaxRetCommit, cMaxRetEnergy, cMaxRetNoCommit, cMinCap, cMinCapEnergy, cMinCapEnergyDuration, cNSEPerSeg, cPowerBalance, cSoCBalInterior, cSoCBalStart, cZoneMaxCapReq, cZoneMinCapReq, eCFix, eCFixEnergy, eCNSE, eCStart, eCVar_in, eCVar_out, eCapResMarBalance, eCapResMarBalanceStor, eCapResMarBalanceThermal, eCapResMarBalanceVRE, eELOSS, eELOSSByZone, eESR, eESRDischarge, eEmissionsByPlant, eEmissionsByZone, eExistingCap, eExistingCapEnergy, eGenerationByThermAll, eGenerationByVRE, eGenerationByZone, eMaxCapRes, eMaxCapResInvest, eMinCapRes, eMinCapResInvest, eObj, ePowerBalance, ePowerBalanceDisp, ePowerBalanceNse, ePowerBalanceStor, ePowerBalanceThermCommit, eTotalCFix, eTotalCFixEnergy, eTotalCNSE, eTotalCNSET, eTotalCNSETS, eTotalCStart, eTotalCStartT, eTotalCVarIn, eTotalCVarInT, eTotalCVarOut, eTotalCVarOutT, eTotalCap, eTotalCapEnergy, vCAP, vCAPENERGY, vCHARGE, vCO2Cap_slack, vCOMMIT, vNSE, vP, vRETCAP, vRETCAPENERGY, vS, vSHUT, vSTART, vZERO"
      ]
     },
     "execution_count": 31,
     "metadata": {},
     "output_type": "execute_result"
    }
   ],
   "source": [
    "highs_settings[\"run_crossover\"] = \"off\"\n",
    "YAML.write_file(\"Example_Systems_Tutorials/SmallNewEngland/OneZone/Settings/highs_settings.yml\", highs_settings)\n",
    "OPTIMIZER4 = GenX.configure_solver(setup[\"Solver\"], settings_path);\n",
    "EP4 = GenX.generate_model(setup,inputs,OPTIMIZER4)"
   ]
  },
  {
   "cell_type": "code",
   "execution_count": 32,
   "id": "756dac1a",
   "metadata": {},
   "outputs": [
    {
     "name": "stdout",
     "output_type": "stream",
     "text": [
      "Running HiGHS 1.6.0: Copyright (c) 2023 HiGHS under MIT licence terms\n",
      "Presolving model\n",
      "35993 rows, 17510 cols, 136453 nonzeros\n",
      "34528 rows, 16049 cols, 136256 nonzeros\n",
      "Presolve : Reductions: rows 34528(-6144); columns 16049(-2443); elements 136256(-29886)\n",
      "Solving the presolved LP\n",
      "Using EKK dual simplex solver - serial\n",
      "  Iteration        Objective     Infeasibilities num(sum)\n",
      "          0    -6.1414031772e-01 Ph1: 31(126.489); Du: 3(0.61414) 0s\n",
      "      16151     9.9615856115e+03 Pr: 0(0); Du: 0(1.41325e-12) 4s\n",
      "Solving the original LP from the solution after postsolve\n",
      "Model   status      : Optimal\n",
      "Simplex   iterations: 16151\n",
      "Objective value     :  9.9615856115e+03\n",
      "HiGHS run time      :          4.41\n",
      "LP solved for primal\n",
      " \n",
      "Run time = 4.491201542\n",
      "Objective value = 9961.585611467412\n"
     ]
    }
   ],
   "source": [
    "solution4 = @elapsed GenX.solve_model(EP4,setup)\n",
    "println(\" \")\n",
    "println(\"Run time = \", solution4)\n",
    "println(\"Objective value = \", objective_value(EP4))"
   ]
  },
  {
   "cell_type": "markdown",
   "id": "50eb323a",
   "metadata": {},
   "source": [
    "Compared to our original objective value and run time:"
   ]
  },
  {
   "cell_type": "code",
   "execution_count": 33,
   "id": "2d932714",
   "metadata": {},
   "outputs": [
    {
     "name": "stdout",
     "output_type": "stream",
     "text": [
      "Original Run Time = 4.7382965\n",
      "Original Objective Value = 9961.585611467412\n"
     ]
    }
   ],
   "source": [
    "println(\"Original Run Time = \", initial_time)\n",
    "println(\"Original Objective Value = \", initial_OV)"
   ]
  },
  {
   "cell_type": "markdown",
   "id": "48fb60a7",
   "metadata": {},
   "source": [
    "## Infeasibility"
   ]
  },
  {
   "cell_type": "markdown",
   "id": "74fdaee2",
   "metadata": {},
   "source": [
    "In some cases, your model may not be able to return a value. This happens when no value can be found that satisfies all constraints. To see this, let's go back to our simple example and change one of the parameters to break the model."
   ]
  },
  {
   "cell_type": "markdown",
   "id": "391c65e6",
   "metadata": {},
   "source": [
    "\\begin{align}\n",
    "& \\min 10 x + 15 y &\\text{Objective function (cost)}\\\\ \n",
    "& \\text{s.t.} & \\\\\n",
    "& x + y \\geq 10 &\\text{Grid Demand}\\\\\n",
    "& 55x + 120y \\leq \\ 1000 &\\text{Construction constraint}\\\\\n",
    "& 20 x + 5 y \\leq 550 &\\text{Emissions constraint} \\\\\n",
    "& 7 x + 30 y \\geq 800 &\\textbf{New Constraint} \\\\\n",
    "& x, y \\geq 0 &\\text{Non-negativity constraints}\\\\\n",
    "\\end{align}"
   ]
  },
  {
   "cell_type": "code",
   "execution_count": null,
   "id": "df231496",
   "metadata": {},
   "outputs": [],
   "source": [
    "@constraint(power, new, 7x + 30y >= 100)"
   ]
  },
  {
   "cell_type": "code",
   "execution_count": null,
   "id": "a1aee5e2",
   "metadata": {},
   "outputs": [],
   "source": [
    "print(power)"
   ]
  },
  {
   "cell_type": "code",
   "execution_count": null,
   "id": "2c9d376a",
   "metadata": {},
   "outputs": [],
   "source": [
    "optimize!(power)"
   ]
  },
  {
   "cell_type": "markdown",
   "id": "0635a527",
   "metadata": {},
   "source": [
    "In this case, the infeasibility was detected on the presovle since it's clear no solution would fit within all constraints. For information on how to debug an infeasible solution, see the JuMP documentation. https://jump.dev/JuMP.jl/stable/tutorials/getting_started/debugging/#Common-sources-4"
   ]
  }
 ],
 "metadata": {
  "@webio": {
   "lastCommId": "7f3d4fc0ccaa4d958ee04da53bae7e54",
   "lastKernelId": "8de69cb0-1476-4f31-b7e3-ca019be3b3ba"
  },
  "kernelspec": {
   "display_name": "Julia 1.9.2",
   "language": "julia",
   "name": "julia-1.9"
  },
  "language_info": {
   "file_extension": ".jl",
   "mimetype": "application/julia",
   "name": "julia",
   "version": "1.9.2"
  }
 },
 "nbformat": 4,
 "nbformat_minor": 5
}
