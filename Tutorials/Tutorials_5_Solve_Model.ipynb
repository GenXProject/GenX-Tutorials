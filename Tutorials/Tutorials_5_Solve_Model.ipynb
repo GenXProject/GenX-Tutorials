{
 "cells": [
  {
   "cell_type": "markdown",
   "id": "7161bdf0",
   "metadata": {},
   "source": [
    "# Solving the Model"
   ]
  },
  {
   "cell_type": "markdown",
   "id": "0d97a9c1",
   "metadata": {},
   "source": [
    "In Tutorial 4, we went over how the model is generated when GenX is run using `Run.jl`. In the function `run_genx_case_simple` (or multistage), after `generate_model` is called, `solve_model` is called to solve the EP."
   ]
  },
  {
   "cell_type": "markdown",
   "id": "8b7ec72c",
   "metadata": {},
   "source": [
    "<img src=\"files/runcase.png\" style=\"width: 805px; height: auto\" align=\"left\">"
   ]
  },
  {
   "cell_type": "markdown",
   "id": "22ba8a3f",
   "metadata": {},
   "source": [
    "In this tutorial, we go over how to use JuMP to solve a model, what it looks like to solve GenX, and how to edit the solver settings."
   ]
  },
  {
   "cell_type": "markdown",
   "id": "085065e0",
   "metadata": {},
   "source": [
    "### A Simple Example"
   ]
  },
  {
   "cell_type": "markdown",
   "id": "db597630",
   "metadata": {},
   "source": [
    "From Tutorial 4, we have the model:"
   ]
  },
  {
   "cell_type": "markdown",
   "id": "5da85c6b",
   "metadata": {},
   "source": [
    "\\begin{align}\n",
    "& \\min 10 x + 15 y &\\text{Objective function (cost)}\\\\ \n",
    "& \\text{s.t.} & \\\\\n",
    "& x + y \\geq 10 &\\text{Grid Demand}\\\\\n",
    "& 55x + 70y \\leq \\ 1000 &\\text{Construction constraint}\\\\\n",
    "& 40 x + 5 y \\leq 200 &\\text{Emissions constraint} \\\\\n",
    "& x, y \\geq 0 &\\text{Non-negativity constraints}\\\\\n",
    "\\end{align}\n",
    "\n",
    "\n"
   ]
  },
  {
   "cell_type": "code",
   "execution_count": 1,
   "id": "13b279e3",
   "metadata": {},
   "outputs": [],
   "source": [
    "using JuMP\n",
    "using HiGHS"
   ]
  },
  {
   "cell_type": "code",
   "execution_count": 2,
   "id": "2fd185bf",
   "metadata": {},
   "outputs": [
    {
     "data": {
      "text/latex": [
       "$ 10 x + 15 y $"
      ],
      "text/plain": [
       "10 x + 15 y"
      ]
     },
     "execution_count": 2,
     "metadata": {},
     "output_type": "execute_result"
    }
   ],
   "source": [
    "power = Model(HiGHS.Optimizer)\n",
    "\n",
    "@variable(power,x,Int) # Coal\n",
    "@variable(power,y,Int) # Wind\n",
    "\n",
    "@constraint(power, non_neg_x, x >= 0) # Non-negativity constraint (can't have negative power plants!)\n",
    "@constraint(power, non_neg_y, y >= 0) # Non-negativity constraint\n",
    "\n",
    "@constraint(power, emissions, 40x + 5y <= 200) # Emisisons constraint\n",
    "@constraint(power, construction_costs, 55x + 70y <= 1000) # Cost of constructing a new plant\n",
    "\n",
    "@constraint(power, demand, x + y >= 10) # Grid demand\n",
    "\n",
    "@expression(power,objective,10x+15y)\n",
    "\n",
    "@objective(power, Min, objective)"
   ]
  },
  {
   "cell_type": "markdown",
   "id": "e257e3b9",
   "metadata": {},
   "source": [
    "JuMP uses the function `optimize!(model)` to solve the LP:"
   ]
  },
  {
   "cell_type": "code",
   "execution_count": 3,
   "id": "25105600",
   "metadata": {},
   "outputs": [
    {
     "name": "stdout",
     "output_type": "stream",
     "text": [
      "Running HiGHS 1.6.0: Copyright (c) 2023 HiGHS under MIT licence terms\n",
      "Presolving model\n",
      "3 rows, 2 cols, 6 nonzeros\n",
      "3 rows, 2 cols, 6 nonzeros\n",
      "Objective function is integral with scale 0.2\n",
      "\n",
      "Solving MIP model with:\n",
      "   3 rows\n",
      "   2 cols (0 binary, 2 integer, 0 implied int., 0 continuous)\n",
      "   6 nonzeros\n",
      "\n",
      "        Nodes      |    B&B Tree     |            Objective Bounds              |  Dynamic Constraints |       Work      \n",
      "     Proc. InQueue |  Leaves   Expl. | BestBound       BestSol              Gap |   Cuts   InLp Confl. | LpIters     Time\n",
      "\n",
      "         0       0         0   0.00%   90              inf                  inf        0      0      0         0     0.0s\n",
      "\n",
      "Solving report\n",
      "  Status            Optimal\n",
      "  Primal bound      130\n",
      "  Dual bound        130\n",
      "  Gap               0% (tolerance: 0.01%)\n",
      "  Solution status   feasible\n",
      "                    130 (objective)\n",
      "                    0 (bound viol.)\n",
      "                    0 (int. viol.)\n",
      "                    0 (row viol.)\n",
      "  Timing            0.00 (total)\n",
      "                    0.00 (presolve)\n",
      "                    0.00 (postsolve)\n",
      "  Nodes             1\n",
      "  LP iterations     1 (total)\n",
      "                    0 (strong br.)\n",
      "                    0 (separation)\n",
      "                    0 (heuristics)\n"
     ]
    }
   ],
   "source": [
    "optimize!(power)"
   ]
  },
  {
   "cell_type": "markdown",
   "id": "e372f674",
   "metadata": {},
   "source": [
    "We can use the function `value.()` to get the value of each variable, and `objective_value()` to get the total objective value."
   ]
  },
  {
   "cell_type": "code",
   "execution_count": 4,
   "id": "0872674d",
   "metadata": {},
   "outputs": [
    {
     "name": "stdout",
     "output_type": "stream",
     "text": [
      "# Coal Plants: 4.0\n",
      "# Wind Farms: 6.0\n",
      "Cost: 130.0\n"
     ]
    }
   ],
   "source": [
    "println(\"# Coal Plants: \", value.(x))\n",
    "println(\"# Wind Farms: \", value.(y))\n",
    "println(\"Cost: \", objective_value(power))"
   ]
  },
  {
   "cell_type": "markdown",
   "id": "8ae7342c",
   "metadata": {},
   "source": [
    "We can also use the JuMP function `solution_summary` to see more details of the <a href=\"https://jump.dev/JuMP.jl/stable/manual/solutions/\" target=\"_blank\">solution</a>:"
   ]
  },
  {
   "cell_type": "code",
   "execution_count": null,
   "id": "57f6e13d",
   "metadata": {},
   "outputs": [],
   "source": [
    "solution_summary(power)"
   ]
  },
  {
   "cell_type": "markdown",
   "id": "783f846b",
   "metadata": {},
   "source": [
    "### GenX"
   ]
  },
  {
   "cell_type": "markdown",
   "id": "c0bfb0c3",
   "metadata": {},
   "source": [
    "Let's optimize the GenX model created in the last Tutorial. To do so, we'll create the inputs for `generate_model` and run it. "
   ]
  },
  {
   "cell_type": "code",
   "execution_count": 5,
   "id": "a980e3ce",
   "metadata": {},
   "outputs": [],
   "source": [
    "using GenX"
   ]
  },
  {
   "cell_type": "code",
   "execution_count": 6,
   "id": "10c64a36",
   "metadata": {},
   "outputs": [
    {
     "name": "stdout",
     "output_type": "stream",
     "text": [
      "Configuring Settings\n",
      "Time Series Data Already Clustered.\n",
      "Reading Input CSV Files\n",
      "Network.csv Successfully Read!\n",
      "Load_data.csv Successfully Read!\n",
      "Fuels_data.csv Successfully Read!\n",
      "Generators_data.csv Successfully Read!\n",
      "Generators_variability.csv Successfully Read!\n",
      "Validating time basis\n",
      "Capacity_reserve_margin.csv Successfully Read!\n",
      "Minimum_capacity_requirement.csv Successfully Read!\n",
      "Maximum_capacity_requirement.csv Successfully Read!\n",
      "Energy_share_requirement.csv Successfully Read!\n",
      "CO2_cap.csv Successfully Read!\n",
      "CSV Files Successfully Read In From Example_Systems_Tutorials/SmallNewEngland/OneZone\n"
     ]
    },
    {
     "data": {
      "text/plain": [
       "Dict{Any, Any} with 66 entries:\n",
       "  \"Z\"                   => 1\n",
       "  \"LOSS_LINES\"          => [1]\n",
       "  \"RET_CAP_CHARGE\"      => Int64[]\n",
       "  \"pC_D_Curtail\"        => [50.0]\n",
       "  \"dfGen\"               => \u001b[1m4×68 DataFrame\u001b[0m\u001b[0m…\n",
       "  \"pTrans_Max_Possible\" => [2.95]\n",
       "  \"pNet_Map\"            => [1.0;;]\n",
       "  \"omega\"               => [4.01099, 4.01099, 4.01099, 4.01099, 4.01099, 4.0109…\n",
       "  \"RET_CAP_ENERGY\"      => [4]\n",
       "  \"RESOURCES\"           => String31[\"natural_gas_combined_cycle\", \"solar_pv\", \"…\n",
       "  \"COMMIT\"              => [1]\n",
       "  \"pMax_D_Curtail\"      => [1]\n",
       "  \"STOR_ALL\"            => [4]\n",
       "  \"THERM_ALL\"           => [1]\n",
       "  \"dfCO2CapZones\"       => [1;;]\n",
       "  \"REP_PERIOD\"          => 11\n",
       "  \"MinCapReq\"           => [5.0, 10.0, 6.0]\n",
       "  \"STOR_LONG_DURATION\"  => Int64[]\n",
       "  \"dfCapRes\"            => [0.156;;]\n",
       "  \"STOR_SYMMETRIC\"      => [4]\n",
       "  \"VRE\"                 => [2, 3]\n",
       "  \"RETRO\"               => Int64[]\n",
       "  \"THERM_COMMIT\"        => [1]\n",
       "  \"TRANS_LOSS_SEGS\"     => 1\n",
       "  \"H\"                   => 168\n",
       "  ⋮                     => ⋮"
      ]
     },
     "execution_count": 6,
     "metadata": {},
     "output_type": "execute_result"
    }
   ],
   "source": [
    "case = joinpath(\"Example_Systems_Tutorials/SmallNewEngland/OneZone\") \n",
    "\n",
    "genx_settings = GenX.get_settings_path(case, \"genx_settings.yml\");\n",
    "setup = GenX.configure_settings(genx_settings);\n",
    "settings_path = GenX.get_settings_path(case)\n",
    "\n",
    "### Create TDR_Results\n",
    "TDRpath = joinpath(case, setup[\"TimeDomainReductionFolder\"])\n",
    "\n",
    "if setup[\"TimeDomainReduction\"] == 1\n",
    "    GenX.prevent_doubled_timedomainreduction(case)\n",
    "    if !GenX.time_domain_reduced_files_exist(TDRpath)\n",
    "        println(\"Clustering Time Series Data (Grouped)...\")\n",
    "        GenX.cluster_inputs(case, settings_path, setup)\n",
    "    else\n",
    "        println(\"Time Series Data Already Clustered.\")\n",
    "    end\n",
    "end\n",
    "\n",
    "OPTIMIZER =  GenX.configure_solver(setup[\"Solver\"], settings_path);\n",
    "\n",
    "inputs = GenX.load_inputs(setup, case)"
   ]
  },
  {
   "cell_type": "code",
   "execution_count": 7,
   "id": "d8e0ba09",
   "metadata": {},
   "outputs": [
    {
     "name": "stdout",
     "output_type": "stream",
     "text": [
      "Discharge Module\n",
      "Non-served Energy Module\n",
      "Investment Discharge Module\n",
      "Unit Commitment Module\n",
      "Emissions Module (for CO2 Policy modularization\n",
      "Dispatchable Resources Module\n",
      "Storage Resources Module\n",
      "Storage Investment Module\n",
      "Storage Core Resources Module\n",
      "Storage Resources with Symmetric Charge/Discharge Capacity Module\n",
      "Thermal (Unit Commitment) Resources Module\n",
      "C02 Policies Module\n",
      "Energy Share Requirement Policies Module\n",
      "Capacity Reserve Margin Policies Module\n",
      "Minimum Capacity Requirement Module\n",
      "Maximum Capacity Requirement Module\n"
     ]
    },
    {
     "data": {
      "text/plain": [
       "A JuMP Model\n",
       "Minimization problem with:\n",
       "Variables: 18492\n",
       "Objective function type: AffExpr\n",
       "`AffExpr`-in-`MathOptInterface.EqualTo{Float64}`: 5544 constraints\n",
       "`AffExpr`-in-`MathOptInterface.GreaterThan{Float64}`: 7398 constraints\n",
       "`AffExpr`-in-`MathOptInterface.LessThan{Float64}`: 27730 constraints\n",
       "`VariableRef`-in-`MathOptInterface.EqualTo{Float64}`: 2 constraints\n",
       "`VariableRef`-in-`MathOptInterface.GreaterThan{Float64}`: 18490 constraints\n",
       "Model mode: AUTOMATIC\n",
       "CachingOptimizer state: EMPTY_OPTIMIZER\n",
       "Solver name: HiGHS\n",
       "Names registered in the model: cCO2Emissions_systemwide, cCapacityResMargin, cESRShare, cMaxCap, cMaxCapEnergy, cMaxCapEnergyDuration, cMaxNSE, cMaxRetCommit, cMaxRetEnergy, cMaxRetNoCommit, cMinCap, cMinCapEnergy, cMinCapEnergyDuration, cNSEPerSeg, cPowerBalance, cSoCBalInterior, cSoCBalStart, cZoneMaxCapReq, cZoneMinCapReq, eCFix, eCFixEnergy, eCNSE, eCStart, eCVar_in, eCVar_out, eCapResMarBalance, eCapResMarBalanceStor, eCapResMarBalanceThermal, eCapResMarBalanceVRE, eELOSS, eELOSSByZone, eESR, eESRDischarge, eEmissionsByPlant, eEmissionsByZone, eExistingCap, eExistingCapEnergy, eGenerationByThermAll, eGenerationByVRE, eGenerationByZone, eMaxCapRes, eMaxCapResInvest, eMinCapRes, eMinCapResInvest, eObj, ePowerBalance, ePowerBalanceDisp, ePowerBalanceNse, ePowerBalanceStor, ePowerBalanceThermCommit, eTotalCFix, eTotalCFixEnergy, eTotalCNSE, eTotalCNSET, eTotalCNSETS, eTotalCStart, eTotalCStartT, eTotalCVarIn, eTotalCVarInT, eTotalCVarOut, eTotalCVarOutT, eTotalCap, eTotalCapEnergy, vCAP, vCAPENERGY, vCHARGE, vCO2Cap_slack, vCOMMIT, vNSE, vP, vRETCAP, vRETCAPENERGY, vS, vSHUT, vSTART, vZERO"
      ]
     },
     "execution_count": 7,
     "metadata": {},
     "output_type": "execute_result"
    }
   ],
   "source": [
    "EP = GenX.generate_model(setup,inputs,OPTIMIZER)"
   ]
  },
  {
   "cell_type": "markdown",
   "id": "a1c6d2d8",
   "metadata": {},
   "source": [
    "The function `solve_model(model, setup)` uses `optimize` to optimize the model:"
   ]
  },
  {
   "cell_type": "code",
   "execution_count": 8,
   "id": "f2b02c73",
   "metadata": {},
   "outputs": [
    {
     "name": "stdout",
     "output_type": "stream",
     "text": [
      "Running HiGHS 1.6.0: Copyright (c) 2023 HiGHS under MIT licence terms\n",
      "Presolving model\n",
      "36011 rows, 17528 cols, 136561 nonzeros\n",
      "31479 rows, 15157 cols, 125413 nonzeros\n",
      "Presolve : Reductions: rows 31479(-9193); columns 15157(-3335); elements 125413(-40801)\n",
      "Solving the presolved LP\n",
      "Using EKK dual simplex solver - serial\n",
      "  Iteration        Objective     Infeasibilities num(sum)\n",
      "          0     1.9393262080e+04 Pr: 2222(11537.4) 0s\n",
      "       6460     2.1173188918e+04 Pr: 0(0); Du: 0(12.551) 0s\n",
      "       6460     2.1173188918e+04 Pr: 0(0); Du: 0(12.551) 0s\n",
      "       6460     2.1173188918e+04 Pr: 0(0); Du: 0(12.551) 0s\n",
      "Using EKK dual simplex solver - serial\n",
      "  Iteration        Objective     Infeasibilities num(sum)\n",
      "       6460     2.1173317136e+04 Pr: 937(2832.23); Du: 0(2.69444) 0s\n",
      "       8668     2.1228832736e+04 Pr: 0(0); Du: 0(8.59055) 0s\n",
      "       8668     2.1228832736e+04 Pr: 0(0); Du: 0(8.59055) 0s\n",
      "Solving the original LP from the solution after postsolve\n",
      "Using EKK dual simplex solver - serial\n",
      "  Iteration        Objective     Infeasibilities num(sum)\n",
      "       8668    -1.6904616567e+02 Ph1: 3268(63602.8); Du: 165(189.974) 0s\n",
      "      21763     7.6038361872e+03 Pr: 8143(50697.8); Du: 0(17.1913) 5s\n",
      "      30661     1.1086724992e+04 Pr: 3104(19919.2); Du: 0(19.0234) 10s\n",
      "      34930     9.7679510103e+03 Pr: 0(0); Du: 76(70.7196) 14s\n",
      "      34930     9.7679510103e+03 Pr: 0(0); Du: 76(70.7196) 14s\n",
      "      34930     9.7679510103e+03 Pr: 0(0); Du: 76(70.7196) 14s\n",
      "Using EKK dual simplex solver - serial\n",
      "  Iteration        Objective     Infeasibilities num(sum)\n",
      "      34930     9.8148071155e+03 Pr: 254(555.024); Du: 0(6.89726) 14s\n",
      "      35605     9.7765768884e+03 Pr: 0(0); Du: 6(10.4509) 15s\n",
      "      35605     9.7765768884e+03 Pr: 0(0); Du: 6(10.4509) 15s\n",
      "      35605     9.7765768884e+03 Pr: 0(0); Du: 6(10.4509) 15s\n",
      "ERROR:   LP solver claims optimality, but with num/sum/max primal(0/0/0)and dual(6/10.4509/0.995945) infeasibilities\n",
      "Model   status      : Optimal\n",
      "Simplex   iterations: 35605\n",
      "Objective value     :  9.7765768884e+03\n",
      "HiGHS run time      :         15.17\n"
     ]
    },
    {
     "data": {
      "text/plain": [
       "(value = nothing, time = 15.331503375, bytes = 52479066, gctime = 0.014805625, gcstats = Base.GC_Diff(52479066, 61, 0, 520417, 176, 87, 14805625, 1, 0))"
      ]
     },
     "execution_count": 8,
     "metadata": {},
     "output_type": "execute_result"
    }
   ],
   "source": [
    "solution = optimize!(EP)\n",
    "#solution = @timed GenX.solve_model(EP,setup)"
   ]
  },
  {
   "cell_type": "code",
   "execution_count": 9,
   "id": "06af66b3",
   "metadata": {},
   "outputs": [
    {
     "data": {
      "text/plain": [
       "9776.57688838726"
      ]
     },
     "execution_count": 9,
     "metadata": {},
     "output_type": "execute_result"
    }
   ],
   "source": [
    "objective_value(EP)"
   ]
  },
  {
   "cell_type": "markdown",
   "id": "f1a61ea2",
   "metadata": {},
   "source": [
    "Note that regardless of solver settings, the folder `TDR_Results` stays the same, so we won't change it throughout the tutorial."
   ]
  },
  {
   "cell_type": "markdown",
   "id": "6d331742",
   "metadata": {},
   "source": [
    "### Solver Settings"
   ]
  },
  {
   "cell_type": "markdown",
   "id": "fc3c7d22",
   "metadata": {},
   "source": [
    "Though solving the model relies only on `optimize`, there are a number of ways to change the way in which the model is optimized. This section goes over solver parameters and how they affect the model solution."
   ]
  },
  {
   "cell_type": "code",
   "execution_count": 10,
   "id": "2da720a9",
   "metadata": {},
   "outputs": [],
   "source": [
    "using YAML"
   ]
  },
  {
   "cell_type": "markdown",
   "id": "d97dbe15",
   "metadata": {},
   "source": [
    "#### The HiGHS Solver"
   ]
  },
  {
   "cell_type": "markdown",
   "id": "71013b41",
   "metadata": {},
   "source": [
    "In the example files, the solver <a href=\"https://highs.dev\" target=\"_blank\">HiGHS</a>. HiGHS is freely available for all to use. Other solvers, such as  <a href=\"https://www.gurobi.com\" target=\"_blank\">Gurobi</a>, are available for free for academics. For the purpose of this tutorial, we will be focusing on HiGHS. "
   ]
  },
  {
   "cell_type": "markdown",
   "id": "7f972690",
   "metadata": {},
   "source": [
    "To set the solver preferences, go into the settings folder of your case and select the YAML file of the solver you're using."
   ]
  },
  {
   "cell_type": "code",
   "execution_count": 11,
   "id": "226c993d",
   "metadata": {},
   "outputs": [
    {
     "data": {
      "text/plain": [
       "8-element Vector{String}:\n",
       " \"cbc_settings.yml\"\n",
       " \"clp_settings.yml\"\n",
       " \"cplex_settings.yml\"\n",
       " \"genx_settings.yml\"\n",
       " \"gurobi_settings.yml\"\n",
       " \"highs_settings.yml\"\n",
       " \"scip_settings.yml\"\n",
       " \"time_domain_reduction_settings.yml\""
      ]
     },
     "execution_count": 11,
     "metadata": {},
     "output_type": "execute_result"
    }
   ],
   "source": [
    "settings_folder = cd(readdir,joinpath(case,\"Settings\")) # Print Settings folder"
   ]
  },
  {
   "cell_type": "code",
   "execution_count": 12,
   "id": "11d0e8b1",
   "metadata": {},
   "outputs": [
    {
     "data": {
      "text/plain": [
       "Dict{Any, Any} with 6 entries:\n",
       "  \"Method\"        => \"choose\"\n",
       "  \"Feasib_Tol\"    => 0.1\n",
       "  \"run_crossover\" => \"on\"\n",
       "  \"TimeLimit\"     => 1.0e23\n",
       "  \"Optimal_Tol\"   => 0.1\n",
       "  \"Pre_Solve\"     => \"choose\""
      ]
     },
     "execution_count": 12,
     "metadata": {},
     "output_type": "execute_result"
    }
   ],
   "source": [
    "highs_settings = YAML.load(open(joinpath(case,\"Settings/highs_settings.yml\")))"
   ]
  },
  {
   "cell_type": "markdown",
   "id": "9f9a1143",
   "metadata": {},
   "source": [
    "The function <a href=\"https://genxproject.github.io/GenX/dev/solver_configuration/#Configuring-HiGHS\" target=\"_blank\">`configure_highs`</a> in `src/configure_solver` contains a list of default settings for the HiGHS solver"
   ]
  },
  {
   "cell_type": "markdown",
   "id": "ccfbc576",
   "metadata": {},
   "source": [
    "<img src=\"files/highs_defaults.png\" style=\"width: auto; height: 500px\" align=\"left\">"
   ]
  },
  {
   "cell_type": "markdown",
   "id": "d29b9b51",
   "metadata": {},
   "source": [
    "There are about 80, so we'll only focus on a few for now. In most cases, you can leave the other settings on default. "
   ]
  },
  {
   "cell_type": "markdown",
   "id": "b8cc7285",
   "metadata": {},
   "source": [
    "The default settings are combined with the settings you specify in `highs_settings.yml` in `configure_highs`, which is called from `configure_solver` in `run_genx_case_simple` right before the model is generated."
   ]
  },
  {
   "cell_type": "markdown",
   "id": "42cf4d47",
   "metadata": {},
   "source": [
    "#### Feasibility Tolerance"
   ]
  },
  {
   "cell_type": "markdown",
   "id": "8e50c9f1",
   "metadata": {},
   "source": [
    "The parameters `Feasib_Tol` and `Optimal_Tol` represent the feasibility of the primal and dual functions respectively. Without going into too much detail, a  <a href=\"https://en.wikipedia.org/wiki/Duality_(optimization)\" target=\"_blank\">__dual function__</a> is an analagous formulation of the original (\"primal\") function whose objective value acts as a lower bound to the primal function. The objective value of the primal function is then the upper bound of the dual function. HiGHS will solve the dual and primal at each time step, then terminate when the solutions of the two are within a certain tolerance range. For more information on how this works specifically in HiGHS, see the  <a href=\"https://ergo-code.github.io/HiGHS/dev/terminology/\" target=\"_blank\">HiGHS documentaion</a>. "
   ]
  },
  {
   "cell_type": "markdown",
   "id": "e83232ae",
   "metadata": {},
   "source": [
    "If we decrease the tolerance parameters, the objective value becomes closer to the \"true\" optimal value."
   ]
  },
  {
   "cell_type": "code",
   "execution_count": 16,
   "id": "8519302d",
   "metadata": {},
   "outputs": [
    {
     "name": "stdout",
     "output_type": "stream",
     "text": [
      " \n",
      "----------------------------------------------------\n",
      "Iteration 1\n",
      "Tolerance = 1.0e-7\n",
      "----------------------------------------------------\n",
      "Discharge Module\n",
      "Non-served Energy Module\n",
      "Investment Discharge Module\n",
      "Unit Commitment Module\n",
      "Emissions Module (for CO2 Policy modularization\n",
      "Dispatchable Resources Module\n",
      "Storage Resources Module\n",
      "Storage Investment Module\n",
      "Storage Core Resources Module\n",
      "Storage Resources with Symmetric Charge/Discharge Capacity Module\n",
      "Thermal (Unit Commitment) Resources Module\n",
      "C02 Policies Module\n",
      "Energy Share Requirement Policies Module\n",
      "Capacity Reserve Margin Policies Module\n",
      "Minimum Capacity Requirement Module\n",
      "Maximum Capacity Requirement Module\n",
      "Running HiGHS 1.6.0: Copyright (c) 2023 HiGHS under MIT licence terms\n",
      "Presolving model\n",
      "36011 rows, 17528 cols, 136561 nonzeros\n",
      "34548 rows, 16069 cols, 136332 nonzeros\n",
      "Presolve : Reductions: rows 34548(-6124); columns 16069(-2423); elements 136332(-29882)\n",
      "Solving the presolved LP\n",
      "Using EKK dual simplex solver - serial\n",
      "  Iteration        Objective     Infeasibilities num(sum)\n",
      "          0    -1.9058343360e-01 Ph1: 12(61.9533); Du: 1(0.190583) 0s\n",
      "      16566     9.7609003406e+03 Pr: 0(0); Du: 0(1.72223e-12) 4s\n",
      "Solving the original LP from the solution after postsolve\n",
      "Model   status      : Optimal\n",
      "Simplex   iterations: 16566\n",
      "Objective value     :  9.7609003406e+03\n",
      "HiGHS run time      :          4.33\n",
      "LP solved for primal\n",
      " \n",
      "----------------------------------------------------\n",
      "Iteration 2\n",
      "Tolerance = 1.0e-5\n",
      "----------------------------------------------------\n",
      "Discharge Module\n",
      "Non-served Energy Module\n",
      "Investment Discharge Module\n",
      "Unit Commitment Module\n",
      "Emissions Module (for CO2 Policy modularization\n",
      "Dispatchable Resources Module\n",
      "Storage Resources Module\n",
      "Storage Investment Module\n",
      "Storage Core Resources Module\n",
      "Storage Resources with Symmetric Charge/Discharge Capacity Module\n",
      "Thermal (Unit Commitment) Resources Module\n",
      "C02 Policies Module\n",
      "Energy Share Requirement Policies Module\n",
      "Capacity Reserve Margin Policies Module\n",
      "Minimum Capacity Requirement Module\n",
      "Maximum Capacity Requirement Module\n",
      "Running HiGHS 1.6.0: Copyright (c) 2023 HiGHS under MIT licence terms\n",
      "Presolving model\n",
      "36011 rows, 17528 cols, 136561 nonzeros\n",
      "34548 rows, 16069 cols, 136332 nonzeros\n",
      "Presolve : Reductions: rows 34548(-6124); columns 16069(-2423); elements 136332(-29882)\n",
      "Solving the presolved LP\n",
      "Using EKK dual simplex solver - serial\n",
      "  Iteration        Objective     Infeasibilities num(sum)\n",
      "          0    -1.9058343360e-01 Ph1: 12(61.9533); Du: 1(0.190583) 0s\n",
      "      16815     9.7609003406e+03 Pr: 0(0); Du: 0(9.60073e-13) 4s\n",
      "Solving the original LP from the solution after postsolve\n",
      "Model   status      : Optimal\n",
      "Simplex   iterations: 16815\n",
      "Objective value     :  9.7609003406e+03\n",
      "HiGHS run time      :          4.46\n",
      "LP solved for primal\n",
      " \n",
      "----------------------------------------------------\n",
      "Iteration 3\n",
      "Tolerance = 0.0001\n",
      "----------------------------------------------------\n",
      "Discharge Module\n",
      "Non-served Energy Module\n",
      "Investment Discharge Module\n",
      "Unit Commitment Module\n",
      "Emissions Module (for CO2 Policy modularization\n",
      "Dispatchable Resources Module\n",
      "Storage Resources Module\n",
      "Storage Investment Module\n",
      "Storage Core Resources Module\n",
      "Storage Resources with Symmetric Charge/Discharge Capacity Module\n",
      "Thermal (Unit Commitment) Resources Module\n",
      "C02 Policies Module\n",
      "Energy Share Requirement Policies Module\n",
      "Capacity Reserve Margin Policies Module\n",
      "Minimum Capacity Requirement Module\n",
      "Maximum Capacity Requirement Module\n",
      "Running HiGHS 1.6.0: Copyright (c) 2023 HiGHS under MIT licence terms\n",
      "Presolving model\n",
      "36011 rows, 17528 cols, 136561 nonzeros\n",
      "34548 rows, 16069 cols, 136332 nonzeros\n",
      "Presolve : Reductions: rows 34548(-6124); columns 16069(-2423); elements 136332(-29882)\n",
      "Solving the presolved LP\n",
      "Using EKK dual simplex solver - serial\n",
      "  Iteration        Objective     Infeasibilities num(sum)\n",
      "          0    -1.9058343360e-01 Ph1: 12(61.9533); Du: 1(0.190583) 0s\n",
      "      16205     9.7609003456e+03 Pr: 0(0); Du: 0(0.000145765) 4s\n",
      "      16205     9.7609003456e+03 Pr: 0(0); Du: 0(0.000145765) 4s\n",
      "Using EKK primal simplex solver\n",
      "  Iteration        Objective     Infeasibilities num(sum)\n",
      "      16205     9.7609003456e+03 Pr: 0(0); Du: 1(0.000730935) 4s\n",
      "      16206     9.7609003406e+03 Pr: 0(0); Du: 0(2.90124e-05) 4s\n",
      "Solving the original LP from the solution after postsolve\n",
      "Model   status      : Optimal\n",
      "Simplex   iterations: 16206\n",
      "Objective value     :  9.7609003406e+03\n",
      "HiGHS run time      :          4.13\n",
      "LP solved for primal\n"
     ]
    }
   ],
   "source": [
    "# Change tolerance, generate and solve model`\n",
    "tols = [1e-7,1e-5,1e-4,1e-3,1e-2,1e-1]\n",
    "OV = [0.0,0.0,0.0,0.0,0.0,0.0]\n",
    "#highs_settings[\"Method\"] = \"ipm\"\n",
    "#YAML.write_file(joinpath(case,\"Settings/highs_settings.yml\"), highs_settings)\n",
    "\n",
    "for i in range(1,length(tols))\n",
    "    println(\" \")\n",
    "    println(\"----------------------------------------------------\")\n",
    "    println(\"Iteration \",i)\n",
    "    println(\"Tolerance = \",tols[i])\n",
    "    println(\"----------------------------------------------------\")\n",
    "    highs_settings[\"Feasib_Tol\"] = tols[i]\n",
    "    highs_settings[\"Optimal_Tol\"] = tols[i]\n",
    "    YAML.write_file(joinpath(case,\"Settings/highs_settings.yml\"), highs_settings)\n",
    "    OPTIMIZER1 = GenX.configure_solver(setup[\"Solver\"], settings_path);\n",
    "    EP = GenX.generate_model(setup,inputs,OPTIMIZER)\n",
    "    solution = GenX.solve_model(EP,setup)\n",
    "    OV[i] = objective_value(EP)\n",
    "end\n",
    "\n"
   ]
  },
  {
   "cell_type": "markdown",
   "id": "ef9b257d",
   "metadata": {},
   "source": [
    "Using the smallest tolerance as our base, we can see the error as the tolerance increases:"
   ]
  },
  {
   "cell_type": "code",
   "execution_count": 17,
   "id": "8f546133",
   "metadata": {},
   "outputs": [
    {
     "ename": "LoadError",
     "evalue": "DimensionMismatch: vectors must have same lengths",
     "output_type": "error",
     "traceback": [
      "DimensionMismatch: vectors must have same lengths",
      "",
      "Stacktrace:",
      " [1] hcat(::Vector{Float64}, ::Vector{Float64})",
      "   @ Base ./array.jl:1928",
      " [2] top-level scope",
      "   @ In[17]:1"
     ]
    }
   ],
   "source": [
    "[tols[2:end] abs.(OV[2:end] .- OV[1])]"
   ]
  },
  {
   "cell_type": "code",
   "execution_count": null,
   "id": "c9b2fa8f",
   "metadata": {},
   "outputs": [],
   "source": [
    "using Plots\n",
    "using Plotly"
   ]
  },
  {
   "cell_type": "code",
   "execution_count": null,
   "id": "9b07d16a",
   "metadata": {},
   "outputs": [],
   "source": [
    "# Plot the run time as a function of the tolerance\n",
    "plotlyjs()\n",
    "Plots.scatter(tols[2:end], abs.(OV[2:end] .- OV[1]), hover = tols[2:end], legend=false,\n",
    "                ylabel=\"Error\", xlabel=\"Tolerance\", title=\"Tolerance vs Error\",size=(980,450))"
   ]
  },
  {
   "cell_type": "markdown",
   "id": "6021242f",
   "metadata": {},
   "source": [
    "### PreSolve"
   ]
  },
  {
   "cell_type": "markdown",
   "id": "d85d3904",
   "metadata": {},
   "source": [
    "In optimization, presolve is a stage at the beginning of the solver in which the problem is simplified to remove redunant constraints and otherwise simplify the problem before the optimization itself begins. The default for presolve in GenX is \"choose\", allowing the solver to use presolve only if it will reduce computation time. "
   ]
  },
  {
   "cell_type": "markdown",
   "id": "cb7be444",
   "metadata": {},
   "source": [
    "Let's try setting presolve to off and on, then compare computation times."
   ]
  },
  {
   "cell_type": "code",
   "execution_count": null,
   "id": "b79d06e0",
   "metadata": {},
   "outputs": [],
   "source": [
    "# First, set tolerances back to original\n",
    "highs_settings[\"Feasib_Tol\"] = 1e-5\n",
    "highs_settings[\"Optimal_Tol\"] = 1e-5\n",
    "YAML.write_file(joinpath(case,\"Settings/highs_settings.yml\"), highs_settings)\n",
    "    "
   ]
  },
  {
   "cell_type": "code",
   "execution_count": null,
   "id": "0a6bf32d",
   "metadata": {},
   "outputs": [],
   "source": [
    "highs_settings[\"Pre_Solve\"] = \"off\"\n",
    "YAML.write_file(joinpath(case,\"Settings/highs_settings.yml\"), highs_settings)\n",
    "OPTIMIZER2 = GenX.configure_solver(setup[\"Solver\"], settings_path);\n",
    "EP2 = GenX.generate_model(setup,inputs,OPTIMIZER2)"
   ]
  },
  {
   "cell_type": "code",
   "execution_count": null,
   "id": "0a7e0c4d",
   "metadata": {},
   "outputs": [],
   "source": [
    "solution2 = @elapsed GenX.solve_model(EP2,setup)"
   ]
  },
  {
   "cell_type": "code",
   "execution_count": null,
   "id": "bb5cdd9e",
   "metadata": {},
   "outputs": [],
   "source": [
    "highs_settings[\"Pre_Solve\"] = \"on\"\n",
    "YAML.write_file(joinpath(case,\"Settings/highs_settings.yml\"), highs_settings)\n",
    "OPTIMIZER3 = GenX.configure_solver(setup[\"Solver\"], settings_path);\n",
    "EP3 = GenX.generate_model(setup,inputs,OPTIMIZER3)"
   ]
  },
  {
   "cell_type": "code",
   "execution_count": null,
   "id": "180c05ef",
   "metadata": {},
   "outputs": [],
   "source": [
    "solution3 = @elapsed GenX.solve_model(EP3,setup)"
   ]
  },
  {
   "cell_type": "markdown",
   "id": "d7193c66",
   "metadata": {},
   "source": [
    "As we can see, the runtime with PreSolve is shorter, and would be even shorter for a larger system. However, it could introduce numerical inaccuracies. If you find the model is struggling to converge, try turn PreSolve off."
   ]
  },
  {
   "cell_type": "code",
   "execution_count": null,
   "id": "68631b60",
   "metadata": {},
   "outputs": [],
   "source": [
    "# Write PreSolve back to choose\n",
    "highs_settings[\"Pre_Solve\"] = \"choose\"\n",
    "YAML.write_file(joinpath(case,\"Settings/highs_settings.yml\"), highs_settings)"
   ]
  },
  {
   "cell_type": "markdown",
   "id": "48fb60a7",
   "metadata": {},
   "source": [
    "## Infeasibility"
   ]
  },
  {
   "cell_type": "markdown",
   "id": "74fdaee2",
   "metadata": {},
   "source": [
    "In some cases, your model may not be able to return a value. This happens when no value can be found that satisfies all constraints. To see this, let's go back to our simple example and change one of the parameters to break the model."
   ]
  },
  {
   "cell_type": "markdown",
   "id": "391c65e6",
   "metadata": {},
   "source": [
    "\\begin{align}\n",
    "& \\min 10 x + 15 y &\\text{Objective function (cost)}\\\\ \n",
    "& \\text{s.t.} & \\\\\n",
    "& x + y \\geq 10 &\\text{Grid Demand}\\\\\n",
    "& 55x + 70y \\leq \\ 1000 &\\text{Construction constraint}\\\\\n",
    "& 40 x + 5 y \\leq 200 &\\text{Emissions constraint} \\\\\n",
    "& 7 x + 30 y \\geq 800 &\\textbf{New Constraint} \\\\\n",
    "& x, y \\geq 0 &\\text{Non-negativity constraints}\\\\\n",
    "\\end{align}"
   ]
  },
  {
   "cell_type": "code",
   "execution_count": null,
   "id": "df231496",
   "metadata": {},
   "outputs": [],
   "source": [
    "@constraint(power, new, 7x + 30y >= 100)"
   ]
  },
  {
   "cell_type": "code",
   "execution_count": null,
   "id": "a1aee5e2",
   "metadata": {},
   "outputs": [],
   "source": [
    "print(power)"
   ]
  },
  {
   "cell_type": "code",
   "execution_count": null,
   "id": "2c9d376a",
   "metadata": {},
   "outputs": [],
   "source": [
    "optimize!(power)"
   ]
  },
  {
   "cell_type": "markdown",
   "id": "0635a527",
   "metadata": {},
   "source": [
    "In this case, the infeasibility was detected on the presovle since it's clear no solution would fit within all constraints. For information on how to debug an infeasible solution, see the <a href=\"https://jump.dev/JuMP.jl/stable/tutorials/getting_started/debugging/#Common-sources-4\" target=\"_blank\">JuMP documentaion</a>. "
   ]
  },
  {
   "cell_type": "code",
   "execution_count": 19,
   "id": "f164e16e",
   "metadata": {},
   "outputs": [
    {
     "data": {
      "text/plain": [
       "Dict{Any, Any} with 24 entries:\n",
       "  \"NetworkExpansion\"                        => 0\n",
       "  \"TimeDomainReductionFolder\"               => \"TDR_Results\"\n",
       "  \"EnableJuMPStringNames\"                   => false\n",
       "  \"Trans_Loss_Segments\"                     => 1\n",
       "  \"ModelingtoGenerateAlternativeSlack\"      => 0.1\n",
       "  \"Solver\"                                  => \"HiGHS\"\n",
       "  \"Reserves\"                                => 0\n",
       "  \"MultiStage\"                              => 0\n",
       "  \"OverwriteResults\"                        => 0\n",
       "  \"ModelingToGenerateAlternatives\"          => 0\n",
       "  \"MaxCapReq\"                               => 1\n",
       "  \"MinCapReq\"                               => 1\n",
       "  \"CO2Cap\"                                  => 2\n",
       "  \"WriteShadowPrices\"                       => 1\n",
       "  \"ModelingToGenerateAlternativeIterations\" => 3\n",
       "  \"ParameterScale\"                          => 1\n",
       "  \"EnergyShareRequirement\"                  => 1\n",
       "  \"PrintModel\"                              => 0\n",
       "  \"TimeDomainReduction\"                     => 1\n",
       "  \"CapacityReserveMargin\"                   => 1\n",
       "  \"MethodofMorris\"                          => 0\n",
       "  \"StorageLosses\"                           => 1\n",
       "  \"IncludeLossesInESR\"                      => 0\n",
       "  \"UCommit\"                                 => 2"
      ]
     },
     "execution_count": 19,
     "metadata": {},
     "output_type": "execute_result"
    }
   ],
   "source": [
    "setup"
   ]
  },
  {
   "cell_type": "code",
   "execution_count": null,
   "id": "d297d7c0",
   "metadata": {},
   "outputs": [],
   "source": [
    "value.(EP[:eTotalCap])"
   ]
  },
  {
   "cell_type": "code",
   "execution_count": null,
   "id": "99a810e3",
   "metadata": {},
   "outputs": [],
   "source": [
    "inputs[\"dfGen\"][:,:Resource_Type]"
   ]
  },
  {
   "cell_type": "code",
   "execution_count": null,
   "id": "27c8ec05",
   "metadata": {},
   "outputs": [],
   "source": [
    "setup[\"CO2Cap\"]=1;"
   ]
  },
  {
   "cell_type": "code",
   "execution_count": null,
   "id": "4172ee55",
   "metadata": {},
   "outputs": [],
   "source": [
    "inputs[\"dfCO2Cap\"].CO_2_Max_tons_MWh_1.=0.0"
   ]
  },
  {
   "cell_type": "code",
   "execution_count": null,
   "id": "8a4759e0",
   "metadata": {},
   "outputs": [],
   "source": [
    "EP = "
   ]
  }
 ],
 "metadata": {
  "@webio": {
   "lastCommId": null,
   "lastKernelId": null
  },
  "kernelspec": {
   "display_name": "Julia 1.9.2",
   "language": "julia",
   "name": "julia-1.9"
  },
  "language_info": {
   "file_extension": ".jl",
   "mimetype": "application/julia",
   "name": "julia",
   "version": "1.9.2"
  }
 },
 "nbformat": 4,
 "nbformat_minor": 5
}
