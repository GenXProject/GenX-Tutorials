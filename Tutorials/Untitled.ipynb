{
 "cells": [
  {
   "cell_type": "code",
   "execution_count": 1,
   "id": "ccc56ddf",
   "metadata": {},
   "outputs": [
    {
     "ename": "SyntaxError",
     "evalue": "invalid syntax (1326850042.py, line 1)",
     "output_type": "error",
     "traceback": [
      "\u001b[0;36m  File \u001b[0;32m\"/var/folders/bf/p8361wgx3pb0g0s1bk5fdg700000gn/T/ipykernel_13952/1326850042.py\"\u001b[0;36m, line \u001b[0;32m1\u001b[0m\n\u001b[0;31m    using Clustering\u001b[0m\n\u001b[0m          ^\u001b[0m\n\u001b[0;31mSyntaxError\u001b[0m\u001b[0;31m:\u001b[0m invalid syntax\n"
     ]
    }
   ],
   "source": [
    "using Clustering\n",
    "using ScikitLearn\n",
    "@sk_import datasets: (make_blobs)"
   ]
  },
  {
   "cell_type": "code",
   "execution_count": null,
   "id": "9f046b6d",
   "metadata": {},
   "outputs": [],
   "source": [
    "plotlyjs()\n",
    "G1 = Plots.plot(recon_noex[!,:hour], recon_noex[!,:MW], linewidth=1.7,\n",
    "    xticks=0:500:9000,xlabelfontsize=8,\n",
    "    yticks=0:2000:18000,yformatter =:plain,ylims=(0,18000), ylabel=\"Demand (MW)\",\n",
    "    legend=false, title=\"Reconstruction, Extreme Periods Off\", hover=recon_noex[!,:Week],\n",
    "    color=recon_noex[!,:Week],size=(845,800),palette=:Paired_12)\n",
    "\n",
    "G2 = Plots.plot(recon[!,:hour], recon[!,:MW], linewidth=1.7,\n",
    "    xticks=0:500:9000,xlabel=\"Time Step (Hours)\",xlabelfontsize=8,\n",
    "    ylims=(0,18000),yticks=0:2000:18000,yformatter =:plain,ylabel=\"Demand (MW)\",\n",
    "    legend=false, title=\"Reconstruction, Extreme Periods On\",hover=recon[!,:Week],\n",
    "    color=recon[!,:Week],size=(845,800),palette=:Paired_12)\n",
    "\n",
    "Plots.plot(G1,G2,layout=(2,1))"
   ]
  }
 ],
 "metadata": {
  "kernelspec": {
   "display_name": "Python 3 (ipykernel)",
   "language": "python",
   "name": "python3"
  },
  "language_info": {
   "codemirror_mode": {
    "name": "ipython",
    "version": 3
   },
   "file_extension": ".py",
   "mimetype": "text/x-python",
   "name": "python",
   "nbconvert_exporter": "python",
   "pygments_lexer": "ipython3",
   "version": "3.9.12"
  }
 },
 "nbformat": 4,
 "nbformat_minor": 5
}
