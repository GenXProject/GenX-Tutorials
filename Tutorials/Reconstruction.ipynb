{
 "cells": [
  {
   "cell_type": "code",
   "execution_count": 11,
   "id": "a73e0ac4",
   "metadata": {},
   "outputs": [],
   "source": [
    "using DataFrames\n",
    "using GenX\n",
    "using CSV\n",
    "using YAML"
   ]
  },
  {
   "cell_type": "code",
   "execution_count": 65,
   "id": "c6fcdb6e",
   "metadata": {},
   "outputs": [
    {
     "data": {
      "text/plain": [
       "reconstruction (generic function with 1 method)"
      ]
     },
     "execution_count": 65,
     "metadata": {},
     "output_type": "execute_result"
    }
   ],
   "source": [
    "function reconstruction(case::AbstractString,DF::DataFrame)\n",
    "    settings_path = GenX.get_settings_path(case)\n",
    "    \n",
    "    # Read Period map file Period_map.csv\n",
    "    Period_map = CSV.read(joinpath(case,\"TDR_results/Period_map.csv\"),DataFrame)\n",
    "    \n",
    "    # Read time domain reduction settings file time_domain_reduction_settings.yml\n",
    "    myTDRsetup = YAML.load(open(joinpath(settings_path,\n",
    "        \"time_domain_reduction_settings.yml\")))\n",
    "    \n",
    "    # Define Timesteps per Representative Period and Weight Total\n",
    "    TimestepsPerRepPeriod = myTDRsetup[\"TimestepsPerRepPeriod\"]\n",
    "    WeightTotal = myTDRsetup[\"WeightTotal\"]\n",
    "    \n",
    "    # Calculate the number of total periods the original time series was split into (will usually be 52)\n",
    "    numPeriods = floor(Int,WeightTotal/TimestepsPerRepPeriod)\n",
    "    \n",
    "    # Get the names of the input DataFrame\n",
    "    DFnames = names(DF)\n",
    "    \n",
    "    # Initialize an array to add the reconstructed data to\n",
    "    recon = [\"t$t\" for t in 1:TimestepsPerRepPeriod*numPeriods]\n",
    "    \n",
    "    # Find the index of the row with the first time step\n",
    "    t1 = findfirst(x -> x == \"t1\",DF[!,1])\n",
    "    \n",
    "    # Reconstruction of all hours of the year from TDR\n",
    "    for j in range(2,ncol(DF))\n",
    "        col = DF[t1:end,j]\n",
    "        col_name = DFnames[j]\n",
    "        recon_col = []\n",
    "        for i in range(1,numPeriods)\n",
    "            index = Period_map[i,\"Rep_Period_Index\"]\n",
    "            recon_temp = col[(TimestepsPerRepPeriod*index-(TimestepsPerRepPeriod-1)):(TimestepsPerRepPeriod*index)]\n",
    "            recon_col = [recon_col; recon_temp]\n",
    "        end\n",
    "        recon = [recon recon_col]\n",
    "    end\n",
    "    reconDF = DataFrame(recon, DFnames)\n",
    "    \n",
    "    # Insert rows that were above \"t1\" in the original DataFrame (e.g. \"Zone\" and \"AnnualSum\") if present\n",
    "    for i in range(1,t1-1)\n",
    "        insert!(reconDF,i,DF[i,1:end])\n",
    "    end\n",
    "    \n",
    "    # Repeat the last rows of the year to fill in the gap (should be 24 hours for non-leap year)\n",
    "    end_diff = WeightTotal - nrow(reconDF) + 1\n",
    "    new_rows = reconDF[(nrow(reconDF)-end_diff):nrow(reconDF),2:end]\n",
    "    new_rows[!,\"Resource\"] = [\"t$t\" for t in (WeightTotal-end_diff):WeightTotal] \n",
    "    \n",
    "    reconDF = [reconDF; new_rows]\n",
    "    \n",
    "    return reconDF\n",
    "end"
   ]
  },
  {
   "cell_type": "code",
   "execution_count": 67,
   "id": "9b02ac16",
   "metadata": {},
   "outputs": [
    {
     "data": {
      "text/html": [
       "<div><div style = \"float: left;\"><span>8762×12 DataFrame</span></div><div style = \"float: right;\"><span style = \"font-style: italic;\">8737 rows omitted</span></div><div style = \"clear: both;\"></div></div><div class = \"data-frame\" style = \"overflow-x: scroll;\"><table class = \"data-frame\" style = \"margin-bottom: 6px;\"><thead><tr class = \"header\"><th class = \"rowNumber\" style = \"font-weight: bold; text-align: right;\">Row</th><th style = \"text-align: left;\">Resource</th><th style = \"text-align: left;\">MA_natural_gas_combined_cycle</th><th style = \"text-align: left;\">CT_natural_gas_combined_cycle</th><th style = \"text-align: left;\">ME_natural_gas_combined_cycle</th><th style = \"text-align: left;\">MA_solar_pv</th><th style = \"text-align: left;\">CT_onshore_wind</th><th style = \"text-align: left;\">CT_solar_pv</th><th style = \"text-align: left;\">ME_onshore_wind</th><th style = \"text-align: left;\">MA_battery</th><th style = \"text-align: left;\">CT_battery</th><th style = \"text-align: left;\">ME_battery</th><th style = \"text-align: left;\">Total</th></tr><tr class = \"subheader headerLastRow\"><th class = \"rowNumber\" style = \"font-weight: bold; text-align: right;\"></th><th title = \"Any\" style = \"text-align: left;\">Any</th><th title = \"Any\" style = \"text-align: left;\">Any</th><th title = \"Any\" style = \"text-align: left;\">Any</th><th title = \"Any\" style = \"text-align: left;\">Any</th><th title = \"Any\" style = \"text-align: left;\">Any</th><th title = \"Any\" style = \"text-align: left;\">Any</th><th title = \"Any\" style = \"text-align: left;\">Any</th><th title = \"Any\" style = \"text-align: left;\">Any</th><th title = \"Any\" style = \"text-align: left;\">Any</th><th title = \"Any\" style = \"text-align: left;\">Any</th><th title = \"Any\" style = \"text-align: left;\">Any</th><th title = \"Any\" style = \"text-align: left;\">Any</th></tr></thead><tbody><tr><td class = \"rowNumber\" style = \"font-weight: bold; text-align: right;\">1</td><td style = \"text-align: left;\">Zone</td><td style = \"text-align: left;\">1.0</td><td style = \"text-align: left;\">2.0</td><td style = \"text-align: left;\">3.0</td><td style = \"text-align: left;\">1.0</td><td style = \"text-align: left;\">2.0</td><td style = \"text-align: left;\">2.0</td><td style = \"text-align: left;\">3.0</td><td style = \"text-align: left;\">1.0</td><td style = \"text-align: left;\">2.0</td><td style = \"text-align: left;\">3.0</td><td style = \"text-align: left;\">0.0</td></tr><tr><td class = \"rowNumber\" style = \"font-weight: bold; text-align: right;\">2</td><td style = \"text-align: left;\">AnnualSum</td><td style = \"text-align: left;\">1.05862e7</td><td style = \"text-align: left;\">3.4267e6</td><td style = \"text-align: left;\">8.85336e5</td><td style = \"text-align: left;\">3.49456e7</td><td style = \"text-align: left;\">3.54989e7</td><td style = \"text-align: left;\">1.42853e7</td><td style = \"text-align: left;\">2.33054e7</td><td style = \"text-align: left;\">9.73799e6</td><td style = \"text-align: left;\">1.3938e7</td><td style = \"text-align: left;\">3.7731e6</td><td style = \"text-align: left;\">1.50383e8</td></tr><tr><td class = \"rowNumber\" style = \"font-weight: bold; text-align: right;\">3</td><td style = \"text-align: left;\">t1</td><td style = \"text-align: left;\">-0.0</td><td style = \"text-align: left;\">-0.0</td><td style = \"text-align: left;\">-0.0</td><td style = \"text-align: left;\">-0.0</td><td style = \"text-align: left;\">8577.12</td><td style = \"text-align: left;\">-0.0</td><td style = \"text-align: left;\">5175.24</td><td style = \"text-align: left;\">854.11</td><td style = \"text-align: left;\">2309.3</td><td style = \"text-align: left;\">650.686</td><td style = \"text-align: left;\">17566.5</td></tr><tr><td class = \"rowNumber\" style = \"font-weight: bold; text-align: right;\">4</td><td style = \"text-align: left;\">t2</td><td style = \"text-align: left;\">-0.0</td><td style = \"text-align: left;\">-0.0</td><td style = \"text-align: left;\">-0.0</td><td style = \"text-align: left;\">-0.0</td><td style = \"text-align: left;\">9379.44</td><td style = \"text-align: left;\">-0.0</td><td style = \"text-align: left;\">4216.19</td><td style = \"text-align: left;\">1720.89</td><td style = \"text-align: left;\">1847.14</td><td style = \"text-align: left;\">0.0</td><td style = \"text-align: left;\">17163.7</td></tr><tr><td class = \"rowNumber\" style = \"font-weight: bold; text-align: right;\">5</td><td style = \"text-align: left;\">t3</td><td style = \"text-align: left;\">-0.0</td><td style = \"text-align: left;\">-0.0</td><td style = \"text-align: left;\">-0.0</td><td style = \"text-align: left;\">-0.0</td><td style = \"text-align: left;\">10446.9</td><td style = \"text-align: left;\">-0.0</td><td style = \"text-align: left;\">3868.49</td><td style = \"text-align: left;\">482.61</td><td style = \"text-align: left;\">1267.93</td><td style = \"text-align: left;\">1253.56</td><td style = \"text-align: left;\">17319.5</td></tr><tr><td class = \"rowNumber\" style = \"font-weight: bold; text-align: right;\">6</td><td style = \"text-align: left;\">t4</td><td style = \"text-align: left;\">-0.0</td><td style = \"text-align: left;\">-0.0</td><td style = \"text-align: left;\">-0.0</td><td style = \"text-align: left;\">-0.0</td><td style = \"text-align: left;\">9742.74</td><td style = \"text-align: left;\">-0.0</td><td style = \"text-align: left;\">2314.3</td><td style = \"text-align: left;\">2382.96</td><td style = \"text-align: left;\">1597.49</td><td style = \"text-align: left;\">0.0</td><td style = \"text-align: left;\">16037.5</td></tr><tr><td class = \"rowNumber\" style = \"font-weight: bold; text-align: right;\">7</td><td style = \"text-align: left;\">t5</td><td style = \"text-align: left;\">-0.0</td><td style = \"text-align: left;\">-0.0</td><td style = \"text-align: left;\">-0.0</td><td style = \"text-align: left;\">-0.0</td><td style = \"text-align: left;\">5745.32</td><td style = \"text-align: left;\">-0.0</td><td style = \"text-align: left;\">1057.74</td><td style = \"text-align: left;\">2370.46</td><td style = \"text-align: left;\">3592.7</td><td style = \"text-align: left;\">626.779</td><td style = \"text-align: left;\">13393.0</td></tr><tr><td class = \"rowNumber\" style = \"font-weight: bold; text-align: right;\">8</td><td style = \"text-align: left;\">t6</td><td style = \"text-align: left;\">-0.0</td><td style = \"text-align: left;\">-0.0</td><td style = \"text-align: left;\">-0.0</td><td style = \"text-align: left;\">-0.0</td><td style = \"text-align: left;\">3680.74</td><td style = \"text-align: left;\">-0.0</td><td style = \"text-align: left;\">4152.22</td><td style = \"text-align: left;\">3682.61</td><td style = \"text-align: left;\">1848.39</td><td style = \"text-align: left;\">626.779</td><td style = \"text-align: left;\">13990.7</td></tr><tr><td class = \"rowNumber\" style = \"font-weight: bold; text-align: right;\">9</td><td style = \"text-align: left;\">t7</td><td style = \"text-align: left;\">-0.0</td><td style = \"text-align: left;\">-0.0</td><td style = \"text-align: left;\">-0.0</td><td style = \"text-align: left;\">-0.0</td><td style = \"text-align: left;\">4415.34</td><td style = \"text-align: left;\">-0.0</td><td style = \"text-align: left;\">1109.74</td><td style = \"text-align: left;\">2562.96</td><td style = \"text-align: left;\">4312.7</td><td style = \"text-align: left;\">626.779</td><td style = \"text-align: left;\">13027.5</td></tr><tr><td class = \"rowNumber\" style = \"font-weight: bold; text-align: right;\">10</td><td style = \"text-align: left;\">t8</td><td style = \"text-align: left;\">-0.0</td><td style = \"text-align: left;\">-0.0</td><td style = \"text-align: left;\">-0.0</td><td style = \"text-align: left;\">-0.0</td><td style = \"text-align: left;\">5697.61</td><td style = \"text-align: left;\">-0.0</td><td style = \"text-align: left;\">1142.74</td><td style = \"text-align: left;\">2681.46</td><td style = \"text-align: left;\">3705.06</td><td style = \"text-align: left;\">626.779</td><td style = \"text-align: left;\">13853.7</td></tr><tr><td class = \"rowNumber\" style = \"font-weight: bold; text-align: right;\">11</td><td style = \"text-align: left;\">t9</td><td style = \"text-align: left;\">-0.0</td><td style = \"text-align: left;\">-0.0</td><td style = \"text-align: left;\">-0.0</td><td style = \"text-align: left;\">4029.99</td><td style = \"text-align: left;\">4956.22</td><td style = \"text-align: left;\">1794.68</td><td style = \"text-align: left;\">1196.74</td><td style = \"text-align: left;\">2281.17</td><td style = \"text-align: left;\">1804.69</td><td style = \"text-align: left;\">626.779</td><td style = \"text-align: left;\">16690.3</td></tr><tr><td class = \"rowNumber\" style = \"font-weight: bold; text-align: right;\">12</td><td style = \"text-align: left;\">t10</td><td style = \"text-align: left;\">-0.0</td><td style = \"text-align: left;\">-0.0</td><td style = \"text-align: left;\">-0.0</td><td style = \"text-align: left;\">9718.2</td><td style = \"text-align: left;\">0.0</td><td style = \"text-align: left;\">3782.01</td><td style = \"text-align: left;\">894.661</td><td style = \"text-align: left;\">1152.21</td><td style = \"text-align: left;\">1808.71</td><td style = \"text-align: left;\">804.821</td><td style = \"text-align: left;\">18160.6</td></tr><tr><td class = \"rowNumber\" style = \"font-weight: bold; text-align: right;\">13</td><td style = \"text-align: left;\">t11</td><td style = \"text-align: left;\">-0.0</td><td style = \"text-align: left;\">-0.0</td><td style = \"text-align: left;\">-0.0</td><td style = \"text-align: left;\">13021.0</td><td style = \"text-align: left;\">0.0</td><td style = \"text-align: left;\">5173.49</td><td style = \"text-align: left;\">282.524</td><td style = \"text-align: left;\">0.0</td><td style = \"text-align: left;\">1146.47</td><td style = \"text-align: left;\">754.082</td><td style = \"text-align: left;\">20377.6</td></tr><tr><td style = \"text-align: right;\">&vellip;</td><td style = \"text-align: right;\">&vellip;</td><td style = \"text-align: right;\">&vellip;</td><td style = \"text-align: right;\">&vellip;</td><td style = \"text-align: right;\">&vellip;</td><td style = \"text-align: right;\">&vellip;</td><td style = \"text-align: right;\">&vellip;</td><td style = \"text-align: right;\">&vellip;</td><td style = \"text-align: right;\">&vellip;</td><td style = \"text-align: right;\">&vellip;</td><td style = \"text-align: right;\">&vellip;</td><td style = \"text-align: right;\">&vellip;</td><td style = \"text-align: right;\">&vellip;</td></tr><tr><td class = \"rowNumber\" style = \"font-weight: bold; text-align: right;\">8751</td><td style = \"text-align: left;\">t8749</td><td style = \"text-align: left;\">1607.12</td><td style = \"text-align: left;\">-0.0</td><td style = \"text-align: left;\">-0.0</td><td style = \"text-align: left;\">5502.45</td><td style = \"text-align: left;\">10642.4</td><td style = \"text-align: left;\">2119.93</td><td style = \"text-align: left;\">133.647</td><td style = \"text-align: left;\">0.0</td><td style = \"text-align: left;\">727.223</td><td style = \"text-align: left;\">0.0</td><td style = \"text-align: left;\">20732.7</td></tr><tr><td class = \"rowNumber\" style = \"font-weight: bold; text-align: right;\">8752</td><td style = \"text-align: left;\">t8750</td><td style = \"text-align: left;\">1607.12</td><td style = \"text-align: left;\">-0.0</td><td style = \"text-align: left;\">-0.0</td><td style = \"text-align: left;\">5312.16</td><td style = \"text-align: left;\">10590.4</td><td style = \"text-align: left;\">2177.27</td><td style = \"text-align: left;\">479.734</td><td style = \"text-align: left;\">0.0</td><td style = \"text-align: left;\">703.518</td><td style = \"text-align: left;\">0.0</td><td style = \"text-align: left;\">20870.2</td></tr><tr><td class = \"rowNumber\" style = \"font-weight: bold; text-align: right;\">8753</td><td style = \"text-align: left;\">t8751</td><td style = \"text-align: left;\">1864.77</td><td style = \"text-align: left;\">-0.0</td><td style = \"text-align: left;\">-0.0</td><td style = \"text-align: left;\">4440.02</td><td style = \"text-align: left;\">10867.1</td><td style = \"text-align: left;\">1871.74</td><td style = \"text-align: left;\">461.386</td><td style = \"text-align: left;\">0.0</td><td style = \"text-align: left;\">691.926</td><td style = \"text-align: left;\">0.0</td><td style = \"text-align: left;\">20197.0</td></tr><tr><td class = \"rowNumber\" style = \"font-weight: bold; text-align: right;\">8754</td><td style = \"text-align: left;\">t8752</td><td style = \"text-align: left;\">3434.01</td><td style = \"text-align: left;\">-0.0</td><td style = \"text-align: left;\">-0.0</td><td style = \"text-align: left;\">2464.66</td><td style = \"text-align: left;\">12621.5</td><td style = \"text-align: left;\">1153.15</td><td style = \"text-align: left;\">738.21</td><td style = \"text-align: left;\">0.0</td><td style = \"text-align: left;\">162.519</td><td style = \"text-align: left;\">33.9035</td><td style = \"text-align: left;\">20608.0</td></tr><tr><td class = \"rowNumber\" style = \"font-weight: bold; text-align: right;\">8755</td><td style = \"text-align: left;\">t8753</td><td style = \"text-align: left;\">3434.01</td><td style = \"text-align: left;\">-0.0</td><td style = \"text-align: left;\">-0.0</td><td style = \"text-align: left;\">215.205</td><td style = \"text-align: left;\">13113.1</td><td style = \"text-align: left;\">34.9439</td><td style = \"text-align: left;\">1299.84</td><td style = \"text-align: left;\">1926.08</td><td style = \"text-align: left;\">535.824</td><td style = \"text-align: left;\">260.156</td><td style = \"text-align: left;\">20819.2</td></tr><tr><td class = \"rowNumber\" style = \"font-weight: bold; text-align: right;\">8756</td><td style = \"text-align: left;\">t8754</td><td style = \"text-align: left;\">3434.01</td><td style = \"text-align: left;\">-0.0</td><td style = \"text-align: left;\">-0.0</td><td style = \"text-align: left;\">-0.0</td><td style = \"text-align: left;\">10048.1</td><td style = \"text-align: left;\">-0.0</td><td style = \"text-align: left;\">2807.53</td><td style = \"text-align: left;\">395.434</td><td style = \"text-align: left;\">2189.32</td><td style = \"text-align: left;\">1367.3</td><td style = \"text-align: left;\">20241.7</td></tr><tr><td class = \"rowNumber\" style = \"font-weight: bold; text-align: right;\">8757</td><td style = \"text-align: left;\">t8755</td><td style = \"text-align: left;\">3434.01</td><td style = \"text-align: left;\">-0.0</td><td style = \"text-align: left;\">-0.0</td><td style = \"text-align: left;\">-0.0</td><td style = \"text-align: left;\">8924.2</td><td style = \"text-align: left;\">-0.0</td><td style = \"text-align: left;\">3441.05</td><td style = \"text-align: left;\">973.267</td><td style = \"text-align: left;\">2733.27</td><td style = \"text-align: left;\">-0.0</td><td style = \"text-align: left;\">19505.8</td></tr><tr><td class = \"rowNumber\" style = \"font-weight: bold; text-align: right;\">8758</td><td style = \"text-align: left;\">t8756</td><td style = \"text-align: left;\">2965.26</td><td style = \"text-align: left;\">-0.0</td><td style = \"text-align: left;\">-0.0</td><td style = \"text-align: left;\">-0.0</td><td style = \"text-align: left;\">5017.34</td><td style = \"text-align: left;\">-0.0</td><td style = \"text-align: left;\">4429.42</td><td style = \"text-align: left;\">0.0</td><td style = \"text-align: left;\">4627.19</td><td style = \"text-align: left;\">-0.0</td><td style = \"text-align: left;\">17039.2</td></tr><tr><td class = \"rowNumber\" style = \"font-weight: bold; text-align: right;\">8759</td><td style = \"text-align: left;\">t8757</td><td style = \"text-align: left;\">1365.61</td><td style = \"text-align: left;\">-0.0</td><td style = \"text-align: left;\">-0.0</td><td style = \"text-align: left;\">-0.0</td><td style = \"text-align: left;\">5024.26</td><td style = \"text-align: left;\">-0.0</td><td style = \"text-align: left;\">6931.61</td><td style = \"text-align: left;\">0.0</td><td style = \"text-align: left;\">4562.23</td><td style = \"text-align: left;\">0.0</td><td style = \"text-align: left;\">17883.7</td></tr><tr><td class = \"rowNumber\" style = \"font-weight: bold; text-align: right;\">8760</td><td style = \"text-align: left;\">t8758</td><td style = \"text-align: left;\">809.61</td><td style = \"text-align: left;\">-0.0</td><td style = \"text-align: left;\">-0.0</td><td style = \"text-align: left;\">-0.0</td><td style = \"text-align: left;\">7490.59</td><td style = \"text-align: left;\">-0.0</td><td style = \"text-align: left;\">6855.61</td><td style = \"text-align: left;\">0.0</td><td style = \"text-align: left;\">3250.07</td><td style = \"text-align: left;\">0.0</td><td style = \"text-align: left;\">18405.9</td></tr><tr><td class = \"rowNumber\" style = \"font-weight: bold; text-align: right;\">8761</td><td style = \"text-align: left;\">t8759</td><td style = \"text-align: left;\">126.61</td><td style = \"text-align: left;\">-0.0</td><td style = \"text-align: left;\">-0.0</td><td style = \"text-align: left;\">-0.0</td><td style = \"text-align: left;\">5636.03</td><td style = \"text-align: left;\">-0.0</td><td style = \"text-align: left;\">6029.86</td><td style = \"text-align: left;\">-0.0</td><td style = \"text-align: left;\">4079.85</td><td style = \"text-align: left;\">366.877</td><td style = \"text-align: left;\">16239.2</td></tr><tr><td class = \"rowNumber\" style = \"font-weight: bold; text-align: right;\">8762</td><td style = \"text-align: left;\">t8760</td><td style = \"text-align: left;\">-0.0</td><td style = \"text-align: left;\">-0.0</td><td style = \"text-align: left;\">-0.0</td><td style = \"text-align: left;\">-0.0</td><td style = \"text-align: left;\">10796.7</td><td style = \"text-align: left;\">-0.0</td><td style = \"text-align: left;\">6672.61</td><td style = \"text-align: left;\">0.0</td><td style = \"text-align: left;\">1404.03</td><td style = \"text-align: left;\">0.0</td><td style = \"text-align: left;\">18873.3</td></tr></tbody></table></div>"
      ],
      "text/latex": [
       "\\begin{tabular}{r|ccccc}\n",
       "\t& Resource & MA\\_natural\\_gas\\_combined\\_cycle & CT\\_natural\\_gas\\_combined\\_cycle & ME\\_natural\\_gas\\_combined\\_cycle & \\\\\n",
       "\t\\hline\n",
       "\t& Any & Any & Any & Any & \\\\\n",
       "\t\\hline\n",
       "\t1 & Zone & 1.0 & 2.0 & 3.0 & $\\dots$ \\\\\n",
       "\t2 & AnnualSum & 1.05862e7 & 3.4267e6 & 8.85336e5 & $\\dots$ \\\\\n",
       "\t3 & t1 & -0.0 & -0.0 & -0.0 & $\\dots$ \\\\\n",
       "\t4 & t2 & -0.0 & -0.0 & -0.0 & $\\dots$ \\\\\n",
       "\t5 & t3 & -0.0 & -0.0 & -0.0 & $\\dots$ \\\\\n",
       "\t6 & t4 & -0.0 & -0.0 & -0.0 & $\\dots$ \\\\\n",
       "\t7 & t5 & -0.0 & -0.0 & -0.0 & $\\dots$ \\\\\n",
       "\t8 & t6 & -0.0 & -0.0 & -0.0 & $\\dots$ \\\\\n",
       "\t9 & t7 & -0.0 & -0.0 & -0.0 & $\\dots$ \\\\\n",
       "\t10 & t8 & -0.0 & -0.0 & -0.0 & $\\dots$ \\\\\n",
       "\t11 & t9 & -0.0 & -0.0 & -0.0 & $\\dots$ \\\\\n",
       "\t12 & t10 & -0.0 & -0.0 & -0.0 & $\\dots$ \\\\\n",
       "\t13 & t11 & -0.0 & -0.0 & -0.0 & $\\dots$ \\\\\n",
       "\t14 & t12 & -0.0 & -0.0 & -0.0 & $\\dots$ \\\\\n",
       "\t15 & t13 & -0.0 & -0.0 & -0.0 & $\\dots$ \\\\\n",
       "\t16 & t14 & -0.0 & -0.0 & -0.0 & $\\dots$ \\\\\n",
       "\t17 & t15 & -0.0 & -0.0 & -0.0 & $\\dots$ \\\\\n",
       "\t18 & t16 & -0.0 & -0.0 & -0.0 & $\\dots$ \\\\\n",
       "\t19 & t17 & -0.0 & -0.0 & -0.0 & $\\dots$ \\\\\n",
       "\t20 & t18 & -0.0 & -0.0 & -0.0 & $\\dots$ \\\\\n",
       "\t21 & t19 & -0.0 & -0.0 & -0.0 & $\\dots$ \\\\\n",
       "\t22 & t20 & -0.0 & -0.0 & -0.0 & $\\dots$ \\\\\n",
       "\t23 & t21 & -0.0 & -0.0 & -0.0 & $\\dots$ \\\\\n",
       "\t24 & t22 & -0.0 & -0.0 & -0.0 & $\\dots$ \\\\\n",
       "\t25 & t23 & -0.0 & -0.0 & -0.0 & $\\dots$ \\\\\n",
       "\t26 & t24 & -0.0 & -0.0 & -0.0 & $\\dots$ \\\\\n",
       "\t27 & t25 & -0.0 & -0.0 & -0.0 & $\\dots$ \\\\\n",
       "\t28 & t26 & -0.0 & -0.0 & -0.0 & $\\dots$ \\\\\n",
       "\t29 & t27 & -0.0 & -0.0 & -0.0 & $\\dots$ \\\\\n",
       "\t30 & t28 & -0.0 & -0.0 & -0.0 & $\\dots$ \\\\\n",
       "\t$\\dots$ & $\\dots$ & $\\dots$ & $\\dots$ & $\\dots$ &  \\\\\n",
       "\\end{tabular}\n"
      ],
      "text/plain": [
       "\u001b[1m8762×12 DataFrame\u001b[0m\n",
       "\u001b[1m  Row \u001b[0m│\u001b[1m Resource  \u001b[0m\u001b[1m MA_natural_gas_combined_cycle \u001b[0m\u001b[1m CT_natural_gas_combined_cycl\u001b[0m ⋯\n",
       "      │\u001b[90m Any       \u001b[0m\u001b[90m Any                           \u001b[0m\u001b[90m Any                         \u001b[0m ⋯\n",
       "──────┼─────────────────────────────────────────────────────────────────────────\n",
       "    1 │ Zone       1.0                            2.0                          ⋯\n",
       "    2 │ AnnualSum  1.05862e7                      3.4267e6\n",
       "    3 │ t1         -0.0                           -0.0\n",
       "    4 │ t2         -0.0                           -0.0\n",
       "    5 │ t3         -0.0                           -0.0                         ⋯\n",
       "    6 │ t4         -0.0                           -0.0\n",
       "    7 │ t5         -0.0                           -0.0\n",
       "    8 │ t6         -0.0                           -0.0\n",
       "    9 │ t7         -0.0                           -0.0                         ⋯\n",
       "   10 │ t8         -0.0                           -0.0\n",
       "   11 │ t9         -0.0                           -0.0\n",
       "  ⋮   │     ⋮                    ⋮                              ⋮              ⋱\n",
       " 8753 │ t8751      1864.77                        -0.0\n",
       " 8754 │ t8752      3434.01                        -0.0                         ⋯\n",
       " 8755 │ t8753      3434.01                        -0.0\n",
       " 8756 │ t8754      3434.01                        -0.0\n",
       " 8757 │ t8755      3434.01                        -0.0\n",
       " 8758 │ t8756      2965.26                        -0.0                         ⋯\n",
       " 8759 │ t8757      1365.61                        -0.0\n",
       " 8760 │ t8758      809.61                         -0.0\n",
       " 8761 │ t8759      126.61                         -0.0\n",
       " 8762 │ t8760      -0.0                           -0.0                         ⋯\n",
       "\u001b[36m                                                10 columns and 8741 rows omitted\u001b[0m"
      ]
     },
     "execution_count": 67,
     "metadata": {},
     "output_type": "execute_result"
    }
   ],
   "source": [
    "power_recon = reconstruction(case,power)"
   ]
  },
  {
   "cell_type": "code",
   "execution_count": 45,
   "id": "f723e0c6",
   "metadata": {},
   "outputs": [
    {
     "data": {
      "text/html": [
       "<div><div style = \"float: left;\"><span>8762×12 DataFrame</span></div><div style = \"float: right;\"><span style = \"font-style: italic;\">8737 rows omitted</span></div><div style = \"clear: both;\"></div></div><div class = \"data-frame\" style = \"overflow-x: scroll;\"><table class = \"data-frame\" style = \"margin-bottom: 6px;\"><thead><tr class = \"header\"><th class = \"rowNumber\" style = \"font-weight: bold; text-align: right;\">Row</th><th style = \"text-align: left;\">Resource</th><th style = \"text-align: left;\">MA_natural_gas_combined_cycle</th><th style = \"text-align: left;\">CT_natural_gas_combined_cycle</th><th style = \"text-align: left;\">ME_natural_gas_combined_cycle</th><th style = \"text-align: left;\">MA_solar_pv</th><th style = \"text-align: left;\">CT_onshore_wind</th><th style = \"text-align: left;\">CT_solar_pv</th><th style = \"text-align: left;\">ME_onshore_wind</th><th style = \"text-align: left;\">MA_battery</th><th style = \"text-align: left;\">CT_battery</th><th style = \"text-align: left;\">ME_battery</th><th style = \"text-align: left;\">Total</th></tr><tr class = \"subheader headerLastRow\"><th class = \"rowNumber\" style = \"font-weight: bold; text-align: right;\"></th><th title = \"String15\" style = \"text-align: left;\">String15</th><th title = \"Float64\" style = \"text-align: left;\">Float64</th><th title = \"Float64\" style = \"text-align: left;\">Float64</th><th title = \"Float64\" style = \"text-align: left;\">Float64</th><th title = \"Float64\" style = \"text-align: left;\">Float64</th><th title = \"Float64\" style = \"text-align: left;\">Float64</th><th title = \"Float64\" style = \"text-align: left;\">Float64</th><th title = \"Float64\" style = \"text-align: left;\">Float64</th><th title = \"Float64\" style = \"text-align: left;\">Float64</th><th title = \"Float64\" style = \"text-align: left;\">Float64</th><th title = \"Float64\" style = \"text-align: left;\">Float64</th><th title = \"Float64\" style = \"text-align: left;\">Float64</th></tr></thead><tbody><tr><td class = \"rowNumber\" style = \"font-weight: bold; text-align: right;\">1</td><td style = \"text-align: left;\">Zone</td><td style = \"text-align: right;\">1.0</td><td style = \"text-align: right;\">2.0</td><td style = \"text-align: right;\">3.0</td><td style = \"text-align: right;\">1.0</td><td style = \"text-align: right;\">2.0</td><td style = \"text-align: right;\">2.0</td><td style = \"text-align: right;\">3.0</td><td style = \"text-align: right;\">1.0</td><td style = \"text-align: right;\">2.0</td><td style = \"text-align: right;\">3.0</td><td style = \"text-align: right;\">0.0</td></tr><tr><td class = \"rowNumber\" style = \"font-weight: bold; text-align: right;\">2</td><td style = \"text-align: left;\">AnnualSum</td><td style = \"text-align: right;\">1.05862e7</td><td style = \"text-align: right;\">3.4267e6</td><td style = \"text-align: right;\">8.85336e5</td><td style = \"text-align: right;\">3.49456e7</td><td style = \"text-align: right;\">3.54989e7</td><td style = \"text-align: right;\">1.42853e7</td><td style = \"text-align: right;\">2.33054e7</td><td style = \"text-align: right;\">9.73799e6</td><td style = \"text-align: right;\">1.3938e7</td><td style = \"text-align: right;\">3.7731e6</td><td style = \"text-align: right;\">1.50383e8</td></tr><tr><td class = \"rowNumber\" style = \"font-weight: bold; text-align: right;\">3</td><td style = \"text-align: left;\">t1</td><td style = \"text-align: right;\">-0.0</td><td style = \"text-align: right;\">-0.0</td><td style = \"text-align: right;\">-0.0</td><td style = \"text-align: right;\">-0.0</td><td style = \"text-align: right;\">8577.12</td><td style = \"text-align: right;\">-0.0</td><td style = \"text-align: right;\">5175.24</td><td style = \"text-align: right;\">854.11</td><td style = \"text-align: right;\">2309.3</td><td style = \"text-align: right;\">650.686</td><td style = \"text-align: right;\">17566.5</td></tr><tr><td class = \"rowNumber\" style = \"font-weight: bold; text-align: right;\">4</td><td style = \"text-align: left;\">t2</td><td style = \"text-align: right;\">-0.0</td><td style = \"text-align: right;\">-0.0</td><td style = \"text-align: right;\">-0.0</td><td style = \"text-align: right;\">-0.0</td><td style = \"text-align: right;\">9379.44</td><td style = \"text-align: right;\">-0.0</td><td style = \"text-align: right;\">4216.19</td><td style = \"text-align: right;\">1720.89</td><td style = \"text-align: right;\">1847.14</td><td style = \"text-align: right;\">0.0</td><td style = \"text-align: right;\">17163.7</td></tr><tr><td class = \"rowNumber\" style = \"font-weight: bold; text-align: right;\">5</td><td style = \"text-align: left;\">t3</td><td style = \"text-align: right;\">-0.0</td><td style = \"text-align: right;\">-0.0</td><td style = \"text-align: right;\">-0.0</td><td style = \"text-align: right;\">-0.0</td><td style = \"text-align: right;\">10446.9</td><td style = \"text-align: right;\">-0.0</td><td style = \"text-align: right;\">3868.49</td><td style = \"text-align: right;\">482.61</td><td style = \"text-align: right;\">1267.93</td><td style = \"text-align: right;\">1253.56</td><td style = \"text-align: right;\">17319.5</td></tr><tr><td class = \"rowNumber\" style = \"font-weight: bold; text-align: right;\">6</td><td style = \"text-align: left;\">t4</td><td style = \"text-align: right;\">-0.0</td><td style = \"text-align: right;\">-0.0</td><td style = \"text-align: right;\">-0.0</td><td style = \"text-align: right;\">-0.0</td><td style = \"text-align: right;\">9742.74</td><td style = \"text-align: right;\">-0.0</td><td style = \"text-align: right;\">2314.3</td><td style = \"text-align: right;\">2382.96</td><td style = \"text-align: right;\">1597.49</td><td style = \"text-align: right;\">0.0</td><td style = \"text-align: right;\">16037.5</td></tr><tr><td class = \"rowNumber\" style = \"font-weight: bold; text-align: right;\">7</td><td style = \"text-align: left;\">t5</td><td style = \"text-align: right;\">-0.0</td><td style = \"text-align: right;\">-0.0</td><td style = \"text-align: right;\">-0.0</td><td style = \"text-align: right;\">-0.0</td><td style = \"text-align: right;\">5745.32</td><td style = \"text-align: right;\">-0.0</td><td style = \"text-align: right;\">1057.74</td><td style = \"text-align: right;\">2370.46</td><td style = \"text-align: right;\">3592.7</td><td style = \"text-align: right;\">626.779</td><td style = \"text-align: right;\">13393.0</td></tr><tr><td class = \"rowNumber\" style = \"font-weight: bold; text-align: right;\">8</td><td style = \"text-align: left;\">t6</td><td style = \"text-align: right;\">-0.0</td><td style = \"text-align: right;\">-0.0</td><td style = \"text-align: right;\">-0.0</td><td style = \"text-align: right;\">-0.0</td><td style = \"text-align: right;\">3680.74</td><td style = \"text-align: right;\">-0.0</td><td style = \"text-align: right;\">4152.22</td><td style = \"text-align: right;\">3682.61</td><td style = \"text-align: right;\">1848.39</td><td style = \"text-align: right;\">626.779</td><td style = \"text-align: right;\">13990.7</td></tr><tr><td class = \"rowNumber\" style = \"font-weight: bold; text-align: right;\">9</td><td style = \"text-align: left;\">t7</td><td style = \"text-align: right;\">-0.0</td><td style = \"text-align: right;\">-0.0</td><td style = \"text-align: right;\">-0.0</td><td style = \"text-align: right;\">-0.0</td><td style = \"text-align: right;\">4415.34</td><td style = \"text-align: right;\">-0.0</td><td style = \"text-align: right;\">1109.74</td><td style = \"text-align: right;\">2562.96</td><td style = \"text-align: right;\">4312.7</td><td style = \"text-align: right;\">626.779</td><td style = \"text-align: right;\">13027.5</td></tr><tr><td class = \"rowNumber\" style = \"font-weight: bold; text-align: right;\">10</td><td style = \"text-align: left;\">t8</td><td style = \"text-align: right;\">-0.0</td><td style = \"text-align: right;\">-0.0</td><td style = \"text-align: right;\">-0.0</td><td style = \"text-align: right;\">-0.0</td><td style = \"text-align: right;\">5697.61</td><td style = \"text-align: right;\">-0.0</td><td style = \"text-align: right;\">1142.74</td><td style = \"text-align: right;\">2681.46</td><td style = \"text-align: right;\">3705.06</td><td style = \"text-align: right;\">626.779</td><td style = \"text-align: right;\">13853.7</td></tr><tr><td class = \"rowNumber\" style = \"font-weight: bold; text-align: right;\">11</td><td style = \"text-align: left;\">t9</td><td style = \"text-align: right;\">-0.0</td><td style = \"text-align: right;\">-0.0</td><td style = \"text-align: right;\">-0.0</td><td style = \"text-align: right;\">4029.99</td><td style = \"text-align: right;\">4956.22</td><td style = \"text-align: right;\">1794.68</td><td style = \"text-align: right;\">1196.74</td><td style = \"text-align: right;\">2281.17</td><td style = \"text-align: right;\">1804.69</td><td style = \"text-align: right;\">626.779</td><td style = \"text-align: right;\">16690.3</td></tr><tr><td class = \"rowNumber\" style = \"font-weight: bold; text-align: right;\">12</td><td style = \"text-align: left;\">t10</td><td style = \"text-align: right;\">-0.0</td><td style = \"text-align: right;\">-0.0</td><td style = \"text-align: right;\">-0.0</td><td style = \"text-align: right;\">9718.2</td><td style = \"text-align: right;\">0.0</td><td style = \"text-align: right;\">3782.01</td><td style = \"text-align: right;\">894.661</td><td style = \"text-align: right;\">1152.21</td><td style = \"text-align: right;\">1808.71</td><td style = \"text-align: right;\">804.821</td><td style = \"text-align: right;\">18160.6</td></tr><tr><td class = \"rowNumber\" style = \"font-weight: bold; text-align: right;\">13</td><td style = \"text-align: left;\">t11</td><td style = \"text-align: right;\">-0.0</td><td style = \"text-align: right;\">-0.0</td><td style = \"text-align: right;\">-0.0</td><td style = \"text-align: right;\">13021.0</td><td style = \"text-align: right;\">0.0</td><td style = \"text-align: right;\">5173.49</td><td style = \"text-align: right;\">282.524</td><td style = \"text-align: right;\">0.0</td><td style = \"text-align: right;\">1146.47</td><td style = \"text-align: right;\">754.082</td><td style = \"text-align: right;\">20377.6</td></tr><tr><td style = \"text-align: right;\">&vellip;</td><td style = \"text-align: right;\">&vellip;</td><td style = \"text-align: right;\">&vellip;</td><td style = \"text-align: right;\">&vellip;</td><td style = \"text-align: right;\">&vellip;</td><td style = \"text-align: right;\">&vellip;</td><td style = \"text-align: right;\">&vellip;</td><td style = \"text-align: right;\">&vellip;</td><td style = \"text-align: right;\">&vellip;</td><td style = \"text-align: right;\">&vellip;</td><td style = \"text-align: right;\">&vellip;</td><td style = \"text-align: right;\">&vellip;</td><td style = \"text-align: right;\">&vellip;</td></tr><tr><td class = \"rowNumber\" style = \"font-weight: bold; text-align: right;\">8751</td><td style = \"text-align: left;\">t8749</td><td style = \"text-align: right;\">-0.0</td><td style = \"text-align: right;\">-0.0</td><td style = \"text-align: right;\">-0.0</td><td style = \"text-align: right;\">9233.42</td><td style = \"text-align: right;\">0.0</td><td style = \"text-align: right;\">4211.19</td><td style = \"text-align: right;\">2830.3</td><td style = \"text-align: right;\">0.0</td><td style = \"text-align: right;\">4556.78</td><td style = \"text-align: right;\">0.0</td><td style = \"text-align: right;\">20831.7</td></tr><tr><td class = \"rowNumber\" style = \"font-weight: bold; text-align: right;\">8752</td><td style = \"text-align: left;\">t8750</td><td style = \"text-align: right;\">-0.0</td><td style = \"text-align: right;\">-0.0</td><td style = \"text-align: right;\">-0.0</td><td style = \"text-align: right;\">9661.56</td><td style = \"text-align: right;\">8507.81</td><td style = \"text-align: right;\">4150.26</td><td style = \"text-align: right;\">299.186</td><td style = \"text-align: right;\">0.0</td><td style = \"text-align: right;\">0.0</td><td style = \"text-align: right;\">1253.56</td><td style = \"text-align: right;\">23872.4</td></tr><tr><td class = \"rowNumber\" style = \"font-weight: bold; text-align: right;\">8753</td><td style = \"text-align: left;\">t8751</td><td style = \"text-align: right;\">-0.0</td><td style = \"text-align: right;\">-0.0</td><td style = \"text-align: right;\">-0.0</td><td style = \"text-align: right;\">8685.21</td><td style = \"text-align: right;\">4513.54</td><td style = \"text-align: right;\">3350.13</td><td style = \"text-align: right;\">2790.3</td><td style = \"text-align: right;\">851.327</td><td style = \"text-align: right;\">1956.86</td><td style = \"text-align: right;\">0.0</td><td style = \"text-align: right;\">22147.4</td></tr><tr><td class = \"rowNumber\" style = \"font-weight: bold; text-align: right;\">8754</td><td style = \"text-align: left;\">t8752</td><td style = \"text-align: right;\">-0.0</td><td style = \"text-align: right;\">-0.0</td><td style = \"text-align: right;\">-0.0</td><td style = \"text-align: right;\">5876.22</td><td style = \"text-align: right;\">1911.7</td><td style = \"text-align: right;\">1997.18</td><td style = \"text-align: right;\">287.186</td><td style = \"text-align: right;\">1205.84</td><td style = \"text-align: right;\">5017.43</td><td style = \"text-align: right;\">1253.56</td><td style = \"text-align: right;\">17549.1</td></tr><tr><td class = \"rowNumber\" style = \"font-weight: bold; text-align: right;\">8755</td><td style = \"text-align: left;\">t8753</td><td style = \"text-align: right;\">-0.0</td><td style = \"text-align: right;\">-0.0</td><td style = \"text-align: right;\">-0.0</td><td style = \"text-align: right;\">1766.94</td><td style = \"text-align: right;\">7609.93</td><td style = \"text-align: right;\">712.318</td><td style = \"text-align: right;\">6879.5</td><td style = \"text-align: right;\">1688.13</td><td style = \"text-align: right;\">2918.74</td><td style = \"text-align: right;\">0.0</td><td style = \"text-align: right;\">21575.6</td></tr><tr><td class = \"rowNumber\" style = \"font-weight: bold; text-align: right;\">8756</td><td style = \"text-align: left;\">t8754</td><td style = \"text-align: right;\">-0.0</td><td style = \"text-align: right;\">-0.0</td><td style = \"text-align: right;\">-0.0</td><td style = \"text-align: right;\">-0.0</td><td style = \"text-align: right;\">13543.0</td><td style = \"text-align: right;\">-0.0</td><td style = \"text-align: right;\">4523.49</td><td style = \"text-align: right;\">2883.11</td><td style = \"text-align: right;\">405.877</td><td style = \"text-align: right;\">1253.56</td><td style = \"text-align: right;\">22609.0</td></tr><tr><td class = \"rowNumber\" style = \"font-weight: bold; text-align: right;\">8757</td><td style = \"text-align: left;\">t8755</td><td style = \"text-align: right;\">-0.0</td><td style = \"text-align: right;\">-0.0</td><td style = \"text-align: right;\">-0.0</td><td style = \"text-align: right;\">-0.0</td><td style = \"text-align: right;\">14255.7</td><td style = \"text-align: right;\">-0.0</td><td style = \"text-align: right;\">6982.61</td><td style = \"text-align: right;\">2710.11</td><td style = \"text-align: right;\">0.0</td><td style = \"text-align: right;\">0.0</td><td style = \"text-align: right;\">23948.4</td></tr><tr><td class = \"rowNumber\" style = \"font-weight: bold; text-align: right;\">8758</td><td style = \"text-align: left;\">t8756</td><td style = \"text-align: right;\">-0.0</td><td style = \"text-align: right;\">-0.0</td><td style = \"text-align: right;\">-0.0</td><td style = \"text-align: right;\">-0.0</td><td style = \"text-align: right;\">4597.93</td><td style = \"text-align: right;\">-0.0</td><td style = \"text-align: right;\">1955.73</td><td style = \"text-align: right;\">3682.61</td><td style = \"text-align: right;\">5017.43</td><td style = \"text-align: right;\">626.779</td><td style = \"text-align: right;\">15880.5</td></tr><tr><td class = \"rowNumber\" style = \"font-weight: bold; text-align: right;\">8759</td><td style = \"text-align: left;\">t8757</td><td style = \"text-align: right;\">-0.0</td><td style = \"text-align: right;\">-0.0</td><td style = \"text-align: right;\">-0.0</td><td style = \"text-align: right;\">-0.0</td><td style = \"text-align: right;\">6704.16</td><td style = \"text-align: right;\">-0.0</td><td style = \"text-align: right;\">3949.0</td><td style = \"text-align: right;\">1659.61</td><td style = \"text-align: right;\">3935.29</td><td style = \"text-align: right;\">1367.3</td><td style = \"text-align: right;\">17615.4</td></tr><tr><td class = \"rowNumber\" style = \"font-weight: bold; text-align: right;\">8760</td><td style = \"text-align: left;\">t8758</td><td style = \"text-align: right;\">-0.0</td><td style = \"text-align: right;\">-0.0</td><td style = \"text-align: right;\">-0.0</td><td style = \"text-align: right;\">-0.0</td><td style = \"text-align: right;\">4575.59</td><td style = \"text-align: right;\">-0.0</td><td style = \"text-align: right;\">5597.54</td><td style = \"text-align: right;\">1438.11</td><td style = \"text-align: right;\">4915.07</td><td style = \"text-align: right;\">513.035</td><td style = \"text-align: right;\">17039.3</td></tr><tr><td class = \"rowNumber\" style = \"font-weight: bold; text-align: right;\">8761</td><td style = \"text-align: left;\">t8759</td><td style = \"text-align: right;\">-0.0</td><td style = \"text-align: right;\">-0.0</td><td style = \"text-align: right;\">-0.0</td><td style = \"text-align: right;\">-0.0</td><td style = \"text-align: right;\">9297.46</td><td style = \"text-align: right;\">-0.0</td><td style = \"text-align: right;\">6560.61</td><td style = \"text-align: right;\">1204.61</td><td style = \"text-align: right;\">2468.64</td><td style = \"text-align: right;\">0.0</td><td style = \"text-align: right;\">19531.3</td></tr><tr><td class = \"rowNumber\" style = \"font-weight: bold; text-align: right;\">8762</td><td style = \"text-align: left;\">t8760</td><td style = \"text-align: right;\">-0.0</td><td style = \"text-align: right;\">-0.0</td><td style = \"text-align: right;\">-0.0</td><td style = \"text-align: right;\">-0.0</td><td style = \"text-align: right;\">9812.75</td><td style = \"text-align: right;\">-0.0</td><td style = \"text-align: right;\">0.0</td><td style = \"text-align: right;\">2953.96</td><td style = \"text-align: right;\">2123.49</td><td style = \"text-align: right;\">1229.65</td><td style = \"text-align: right;\">16119.8</td></tr></tbody></table></div>"
      ],
      "text/latex": [
       "\\begin{tabular}{r|ccccc}\n",
       "\t& Resource & MA\\_natural\\_gas\\_combined\\_cycle & CT\\_natural\\_gas\\_combined\\_cycle & ME\\_natural\\_gas\\_combined\\_cycle & \\\\\n",
       "\t\\hline\n",
       "\t& String15 & Float64 & Float64 & Float64 & \\\\\n",
       "\t\\hline\n",
       "\t1 & Zone & 1.0 & 2.0 & 3.0 & $\\dots$ \\\\\n",
       "\t2 & AnnualSum & 1.05862e7 & 3.4267e6 & 8.85336e5 & $\\dots$ \\\\\n",
       "\t3 & t1 & -0.0 & -0.0 & -0.0 & $\\dots$ \\\\\n",
       "\t4 & t2 & -0.0 & -0.0 & -0.0 & $\\dots$ \\\\\n",
       "\t5 & t3 & -0.0 & -0.0 & -0.0 & $\\dots$ \\\\\n",
       "\t6 & t4 & -0.0 & -0.0 & -0.0 & $\\dots$ \\\\\n",
       "\t7 & t5 & -0.0 & -0.0 & -0.0 & $\\dots$ \\\\\n",
       "\t8 & t6 & -0.0 & -0.0 & -0.0 & $\\dots$ \\\\\n",
       "\t9 & t7 & -0.0 & -0.0 & -0.0 & $\\dots$ \\\\\n",
       "\t10 & t8 & -0.0 & -0.0 & -0.0 & $\\dots$ \\\\\n",
       "\t11 & t9 & -0.0 & -0.0 & -0.0 & $\\dots$ \\\\\n",
       "\t12 & t10 & -0.0 & -0.0 & -0.0 & $\\dots$ \\\\\n",
       "\t13 & t11 & -0.0 & -0.0 & -0.0 & $\\dots$ \\\\\n",
       "\t14 & t12 & -0.0 & -0.0 & -0.0 & $\\dots$ \\\\\n",
       "\t15 & t13 & -0.0 & -0.0 & -0.0 & $\\dots$ \\\\\n",
       "\t16 & t14 & -0.0 & -0.0 & -0.0 & $\\dots$ \\\\\n",
       "\t17 & t15 & -0.0 & -0.0 & -0.0 & $\\dots$ \\\\\n",
       "\t18 & t16 & -0.0 & -0.0 & -0.0 & $\\dots$ \\\\\n",
       "\t19 & t17 & -0.0 & -0.0 & -0.0 & $\\dots$ \\\\\n",
       "\t20 & t18 & -0.0 & -0.0 & -0.0 & $\\dots$ \\\\\n",
       "\t21 & t19 & -0.0 & -0.0 & -0.0 & $\\dots$ \\\\\n",
       "\t22 & t20 & -0.0 & -0.0 & -0.0 & $\\dots$ \\\\\n",
       "\t23 & t21 & -0.0 & -0.0 & -0.0 & $\\dots$ \\\\\n",
       "\t24 & t22 & -0.0 & -0.0 & -0.0 & $\\dots$ \\\\\n",
       "\t25 & t23 & -0.0 & -0.0 & -0.0 & $\\dots$ \\\\\n",
       "\t26 & t24 & -0.0 & -0.0 & -0.0 & $\\dots$ \\\\\n",
       "\t27 & t25 & -0.0 & -0.0 & -0.0 & $\\dots$ \\\\\n",
       "\t28 & t26 & -0.0 & -0.0 & -0.0 & $\\dots$ \\\\\n",
       "\t29 & t27 & -0.0 & -0.0 & -0.0 & $\\dots$ \\\\\n",
       "\t30 & t28 & -0.0 & -0.0 & -0.0 & $\\dots$ \\\\\n",
       "\t$\\dots$ & $\\dots$ & $\\dots$ & $\\dots$ & $\\dots$ &  \\\\\n",
       "\\end{tabular}\n"
      ],
      "text/plain": [
       "\u001b[1m8762×12 DataFrame\u001b[0m\n",
       "\u001b[1m  Row \u001b[0m│\u001b[1m Resource  \u001b[0m\u001b[1m MA_natural_gas_combined_cycle \u001b[0m\u001b[1m CT_natural_gas_combined_cycl\u001b[0m ⋯\n",
       "      │\u001b[90m String15  \u001b[0m\u001b[90m Float64                       \u001b[0m\u001b[90m Float64                     \u001b[0m ⋯\n",
       "──────┼─────────────────────────────────────────────────────────────────────────\n",
       "    1 │ Zone                           1.0                             2.0     ⋯\n",
       "    2 │ AnnualSum                      1.05862e7                       3.4267e\n",
       "    3 │ t1                            -0.0                            -0.0\n",
       "    4 │ t2                            -0.0                            -0.0\n",
       "    5 │ t3                            -0.0                            -0.0     ⋯\n",
       "    6 │ t4                            -0.0                            -0.0\n",
       "    7 │ t5                            -0.0                            -0.0\n",
       "    8 │ t6                            -0.0                            -0.0\n",
       "    9 │ t7                            -0.0                            -0.0     ⋯\n",
       "   10 │ t8                            -0.0                            -0.0\n",
       "   11 │ t9                            -0.0                            -0.0\n",
       "  ⋮   │     ⋮                    ⋮                              ⋮              ⋱\n",
       " 8753 │ t8751                         -0.0                            -0.0\n",
       " 8754 │ t8752                         -0.0                            -0.0     ⋯\n",
       " 8755 │ t8753                         -0.0                            -0.0\n",
       " 8756 │ t8754                         -0.0                            -0.0\n",
       " 8757 │ t8755                         -0.0                            -0.0\n",
       " 8758 │ t8756                         -0.0                            -0.0     ⋯\n",
       " 8759 │ t8757                         -0.0                            -0.0\n",
       " 8760 │ t8758                         -0.0                            -0.0\n",
       " 8761 │ t8759                         -0.0                            -0.0\n",
       " 8762 │ t8760                         -0.0                            -0.0     ⋯\n",
       "\u001b[36m                                                10 columns and 8741 rows omitted\u001b[0m"
      ]
     },
     "execution_count": 45,
     "metadata": {},
     "output_type": "execute_result"
    }
   ],
   "source": [
    "case = joinpath(\"example_systems/1_three_zones\");\n",
    "power =  CSV.read(joinpath(case,\"results/power.csv\"),DataFrame,missingstring=\"NA\")"
   ]
  },
  {
   "cell_type": "code",
   "execution_count": 46,
   "id": "b5f14ffd",
   "metadata": {},
   "outputs": [
    {
     "name": "stdout",
     "output_type": "stream",
     "text": [
      "[\"t8736\", \"t8737\", \"t8738\", \"t8739\", \"t8740\", \"t8741\", \"t8742\", \"t8743\", \"t8744\", \"t8745\", \"t8746\", \"t8747\", \"t8748\", \"t8749\", \"t8750\", \"t8751\", \"t8752\", \"t8753\", \"t8754\", \"t8755\", \"t8756\", \"t8757\", \"t8758\", \"t8759\", \"t8760\"]\n"
     ]
    },
    {
     "data": {
      "text/html": [
       "<div><div style = \"float: left;\"><span>8738×12 DataFrame</span></div><div style = \"float: right;\"><span style = \"font-style: italic;\">8713 rows omitted</span></div><div style = \"clear: both;\"></div></div><div class = \"data-frame\" style = \"overflow-x: scroll;\"><table class = \"data-frame\" style = \"margin-bottom: 6px;\"><thead><tr class = \"header\"><th class = \"rowNumber\" style = \"font-weight: bold; text-align: right;\">Row</th><th style = \"text-align: left;\">Resource</th><th style = \"text-align: left;\">MA_natural_gas_combined_cycle</th><th style = \"text-align: left;\">CT_natural_gas_combined_cycle</th><th style = \"text-align: left;\">ME_natural_gas_combined_cycle</th><th style = \"text-align: left;\">MA_solar_pv</th><th style = \"text-align: left;\">CT_onshore_wind</th><th style = \"text-align: left;\">CT_solar_pv</th><th style = \"text-align: left;\">ME_onshore_wind</th><th style = \"text-align: left;\">MA_battery</th><th style = \"text-align: left;\">CT_battery</th><th style = \"text-align: left;\">ME_battery</th><th style = \"text-align: left;\">Total</th></tr><tr class = \"subheader headerLastRow\"><th class = \"rowNumber\" style = \"font-weight: bold; text-align: right;\"></th><th title = \"Any\" style = \"text-align: left;\">Any</th><th title = \"Any\" style = \"text-align: left;\">Any</th><th title = \"Any\" style = \"text-align: left;\">Any</th><th title = \"Any\" style = \"text-align: left;\">Any</th><th title = \"Any\" style = \"text-align: left;\">Any</th><th title = \"Any\" style = \"text-align: left;\">Any</th><th title = \"Any\" style = \"text-align: left;\">Any</th><th title = \"Any\" style = \"text-align: left;\">Any</th><th title = \"Any\" style = \"text-align: left;\">Any</th><th title = \"Any\" style = \"text-align: left;\">Any</th><th title = \"Any\" style = \"text-align: left;\">Any</th><th title = \"Any\" style = \"text-align: left;\">Any</th></tr></thead><tbody><tr><td class = \"rowNumber\" style = \"font-weight: bold; text-align: right;\">1</td><td style = \"text-align: left;\">Zone</td><td style = \"text-align: left;\">1.0</td><td style = \"text-align: left;\">2.0</td><td style = \"text-align: left;\">3.0</td><td style = \"text-align: left;\">1.0</td><td style = \"text-align: left;\">2.0</td><td style = \"text-align: left;\">2.0</td><td style = \"text-align: left;\">3.0</td><td style = \"text-align: left;\">1.0</td><td style = \"text-align: left;\">2.0</td><td style = \"text-align: left;\">3.0</td><td style = \"text-align: left;\">0.0</td></tr><tr><td class = \"rowNumber\" style = \"font-weight: bold; text-align: right;\">2</td><td style = \"text-align: left;\">AnnualSum</td><td style = \"text-align: left;\">1.05862e7</td><td style = \"text-align: left;\">3.4267e6</td><td style = \"text-align: left;\">8.85336e5</td><td style = \"text-align: left;\">3.49456e7</td><td style = \"text-align: left;\">3.54989e7</td><td style = \"text-align: left;\">1.42853e7</td><td style = \"text-align: left;\">2.33054e7</td><td style = \"text-align: left;\">9.73799e6</td><td style = \"text-align: left;\">1.3938e7</td><td style = \"text-align: left;\">3.7731e6</td><td style = \"text-align: left;\">1.50383e8</td></tr><tr><td class = \"rowNumber\" style = \"font-weight: bold; text-align: right;\">3</td><td style = \"text-align: left;\">t1</td><td style = \"text-align: left;\">-0.0</td><td style = \"text-align: left;\">-0.0</td><td style = \"text-align: left;\">-0.0</td><td style = \"text-align: left;\">-0.0</td><td style = \"text-align: left;\">8577.12</td><td style = \"text-align: left;\">-0.0</td><td style = \"text-align: left;\">5175.24</td><td style = \"text-align: left;\">854.11</td><td style = \"text-align: left;\">2309.3</td><td style = \"text-align: left;\">650.686</td><td style = \"text-align: left;\">17566.5</td></tr><tr><td class = \"rowNumber\" style = \"font-weight: bold; text-align: right;\">4</td><td style = \"text-align: left;\">t2</td><td style = \"text-align: left;\">-0.0</td><td style = \"text-align: left;\">-0.0</td><td style = \"text-align: left;\">-0.0</td><td style = \"text-align: left;\">-0.0</td><td style = \"text-align: left;\">9379.44</td><td style = \"text-align: left;\">-0.0</td><td style = \"text-align: left;\">4216.19</td><td style = \"text-align: left;\">1720.89</td><td style = \"text-align: left;\">1847.14</td><td style = \"text-align: left;\">0.0</td><td style = \"text-align: left;\">17163.7</td></tr><tr><td class = \"rowNumber\" style = \"font-weight: bold; text-align: right;\">5</td><td style = \"text-align: left;\">t3</td><td style = \"text-align: left;\">-0.0</td><td style = \"text-align: left;\">-0.0</td><td style = \"text-align: left;\">-0.0</td><td style = \"text-align: left;\">-0.0</td><td style = \"text-align: left;\">10446.9</td><td style = \"text-align: left;\">-0.0</td><td style = \"text-align: left;\">3868.49</td><td style = \"text-align: left;\">482.61</td><td style = \"text-align: left;\">1267.93</td><td style = \"text-align: left;\">1253.56</td><td style = \"text-align: left;\">17319.5</td></tr><tr><td class = \"rowNumber\" style = \"font-weight: bold; text-align: right;\">6</td><td style = \"text-align: left;\">t4</td><td style = \"text-align: left;\">-0.0</td><td style = \"text-align: left;\">-0.0</td><td style = \"text-align: left;\">-0.0</td><td style = \"text-align: left;\">-0.0</td><td style = \"text-align: left;\">9742.74</td><td style = \"text-align: left;\">-0.0</td><td style = \"text-align: left;\">2314.3</td><td style = \"text-align: left;\">2382.96</td><td style = \"text-align: left;\">1597.49</td><td style = \"text-align: left;\">0.0</td><td style = \"text-align: left;\">16037.5</td></tr><tr><td class = \"rowNumber\" style = \"font-weight: bold; text-align: right;\">7</td><td style = \"text-align: left;\">t5</td><td style = \"text-align: left;\">-0.0</td><td style = \"text-align: left;\">-0.0</td><td style = \"text-align: left;\">-0.0</td><td style = \"text-align: left;\">-0.0</td><td style = \"text-align: left;\">5745.32</td><td style = \"text-align: left;\">-0.0</td><td style = \"text-align: left;\">1057.74</td><td style = \"text-align: left;\">2370.46</td><td style = \"text-align: left;\">3592.7</td><td style = \"text-align: left;\">626.779</td><td style = \"text-align: left;\">13393.0</td></tr><tr><td class = \"rowNumber\" style = \"font-weight: bold; text-align: right;\">8</td><td style = \"text-align: left;\">t6</td><td style = \"text-align: left;\">-0.0</td><td style = \"text-align: left;\">-0.0</td><td style = \"text-align: left;\">-0.0</td><td style = \"text-align: left;\">-0.0</td><td style = \"text-align: left;\">3680.74</td><td style = \"text-align: left;\">-0.0</td><td style = \"text-align: left;\">4152.22</td><td style = \"text-align: left;\">3682.61</td><td style = \"text-align: left;\">1848.39</td><td style = \"text-align: left;\">626.779</td><td style = \"text-align: left;\">13990.7</td></tr><tr><td class = \"rowNumber\" style = \"font-weight: bold; text-align: right;\">9</td><td style = \"text-align: left;\">t7</td><td style = \"text-align: left;\">-0.0</td><td style = \"text-align: left;\">-0.0</td><td style = \"text-align: left;\">-0.0</td><td style = \"text-align: left;\">-0.0</td><td style = \"text-align: left;\">4415.34</td><td style = \"text-align: left;\">-0.0</td><td style = \"text-align: left;\">1109.74</td><td style = \"text-align: left;\">2562.96</td><td style = \"text-align: left;\">4312.7</td><td style = \"text-align: left;\">626.779</td><td style = \"text-align: left;\">13027.5</td></tr><tr><td class = \"rowNumber\" style = \"font-weight: bold; text-align: right;\">10</td><td style = \"text-align: left;\">t8</td><td style = \"text-align: left;\">-0.0</td><td style = \"text-align: left;\">-0.0</td><td style = \"text-align: left;\">-0.0</td><td style = \"text-align: left;\">-0.0</td><td style = \"text-align: left;\">5697.61</td><td style = \"text-align: left;\">-0.0</td><td style = \"text-align: left;\">1142.74</td><td style = \"text-align: left;\">2681.46</td><td style = \"text-align: left;\">3705.06</td><td style = \"text-align: left;\">626.779</td><td style = \"text-align: left;\">13853.7</td></tr><tr><td class = \"rowNumber\" style = \"font-weight: bold; text-align: right;\">11</td><td style = \"text-align: left;\">t9</td><td style = \"text-align: left;\">-0.0</td><td style = \"text-align: left;\">-0.0</td><td style = \"text-align: left;\">-0.0</td><td style = \"text-align: left;\">4029.99</td><td style = \"text-align: left;\">4956.22</td><td style = \"text-align: left;\">1794.68</td><td style = \"text-align: left;\">1196.74</td><td style = \"text-align: left;\">2281.17</td><td style = \"text-align: left;\">1804.69</td><td style = \"text-align: left;\">626.779</td><td style = \"text-align: left;\">16690.3</td></tr><tr><td class = \"rowNumber\" style = \"font-weight: bold; text-align: right;\">12</td><td style = \"text-align: left;\">t10</td><td style = \"text-align: left;\">-0.0</td><td style = \"text-align: left;\">-0.0</td><td style = \"text-align: left;\">-0.0</td><td style = \"text-align: left;\">9718.2</td><td style = \"text-align: left;\">0.0</td><td style = \"text-align: left;\">3782.01</td><td style = \"text-align: left;\">894.661</td><td style = \"text-align: left;\">1152.21</td><td style = \"text-align: left;\">1808.71</td><td style = \"text-align: left;\">804.821</td><td style = \"text-align: left;\">18160.6</td></tr><tr><td class = \"rowNumber\" style = \"font-weight: bold; text-align: right;\">13</td><td style = \"text-align: left;\">t11</td><td style = \"text-align: left;\">-0.0</td><td style = \"text-align: left;\">-0.0</td><td style = \"text-align: left;\">-0.0</td><td style = \"text-align: left;\">13021.0</td><td style = \"text-align: left;\">0.0</td><td style = \"text-align: left;\">5173.49</td><td style = \"text-align: left;\">282.524</td><td style = \"text-align: left;\">0.0</td><td style = \"text-align: left;\">1146.47</td><td style = \"text-align: left;\">754.082</td><td style = \"text-align: left;\">20377.6</td></tr><tr><td style = \"text-align: right;\">&vellip;</td><td style = \"text-align: right;\">&vellip;</td><td style = \"text-align: right;\">&vellip;</td><td style = \"text-align: right;\">&vellip;</td><td style = \"text-align: right;\">&vellip;</td><td style = \"text-align: right;\">&vellip;</td><td style = \"text-align: right;\">&vellip;</td><td style = \"text-align: right;\">&vellip;</td><td style = \"text-align: right;\">&vellip;</td><td style = \"text-align: right;\">&vellip;</td><td style = \"text-align: right;\">&vellip;</td><td style = \"text-align: right;\">&vellip;</td><td style = \"text-align: right;\">&vellip;</td></tr><tr><td class = \"rowNumber\" style = \"font-weight: bold; text-align: right;\">8727</td><td style = \"text-align: left;\">t8725</td><td style = \"text-align: left;\">1607.12</td><td style = \"text-align: left;\">-0.0</td><td style = \"text-align: left;\">-0.0</td><td style = \"text-align: left;\">5502.45</td><td style = \"text-align: left;\">10642.4</td><td style = \"text-align: left;\">2119.93</td><td style = \"text-align: left;\">133.647</td><td style = \"text-align: left;\">0.0</td><td style = \"text-align: left;\">727.223</td><td style = \"text-align: left;\">0.0</td><td style = \"text-align: left;\">20732.7</td></tr><tr><td class = \"rowNumber\" style = \"font-weight: bold; text-align: right;\">8728</td><td style = \"text-align: left;\">t8726</td><td style = \"text-align: left;\">1607.12</td><td style = \"text-align: left;\">-0.0</td><td style = \"text-align: left;\">-0.0</td><td style = \"text-align: left;\">5312.16</td><td style = \"text-align: left;\">10590.4</td><td style = \"text-align: left;\">2177.27</td><td style = \"text-align: left;\">479.734</td><td style = \"text-align: left;\">0.0</td><td style = \"text-align: left;\">703.518</td><td style = \"text-align: left;\">0.0</td><td style = \"text-align: left;\">20870.2</td></tr><tr><td class = \"rowNumber\" style = \"font-weight: bold; text-align: right;\">8729</td><td style = \"text-align: left;\">t8727</td><td style = \"text-align: left;\">1864.77</td><td style = \"text-align: left;\">-0.0</td><td style = \"text-align: left;\">-0.0</td><td style = \"text-align: left;\">4440.02</td><td style = \"text-align: left;\">10867.1</td><td style = \"text-align: left;\">1871.74</td><td style = \"text-align: left;\">461.386</td><td style = \"text-align: left;\">0.0</td><td style = \"text-align: left;\">691.926</td><td style = \"text-align: left;\">0.0</td><td style = \"text-align: left;\">20197.0</td></tr><tr><td class = \"rowNumber\" style = \"font-weight: bold; text-align: right;\">8730</td><td style = \"text-align: left;\">t8728</td><td style = \"text-align: left;\">3434.01</td><td style = \"text-align: left;\">-0.0</td><td style = \"text-align: left;\">-0.0</td><td style = \"text-align: left;\">2464.66</td><td style = \"text-align: left;\">12621.5</td><td style = \"text-align: left;\">1153.15</td><td style = \"text-align: left;\">738.21</td><td style = \"text-align: left;\">0.0</td><td style = \"text-align: left;\">162.519</td><td style = \"text-align: left;\">33.9035</td><td style = \"text-align: left;\">20608.0</td></tr><tr><td class = \"rowNumber\" style = \"font-weight: bold; text-align: right;\">8731</td><td style = \"text-align: left;\">t8729</td><td style = \"text-align: left;\">3434.01</td><td style = \"text-align: left;\">-0.0</td><td style = \"text-align: left;\">-0.0</td><td style = \"text-align: left;\">215.205</td><td style = \"text-align: left;\">13113.1</td><td style = \"text-align: left;\">34.9439</td><td style = \"text-align: left;\">1299.84</td><td style = \"text-align: left;\">1926.08</td><td style = \"text-align: left;\">535.824</td><td style = \"text-align: left;\">260.156</td><td style = \"text-align: left;\">20819.2</td></tr><tr><td class = \"rowNumber\" style = \"font-weight: bold; text-align: right;\">8732</td><td style = \"text-align: left;\">t8730</td><td style = \"text-align: left;\">3434.01</td><td style = \"text-align: left;\">-0.0</td><td style = \"text-align: left;\">-0.0</td><td style = \"text-align: left;\">-0.0</td><td style = \"text-align: left;\">10048.1</td><td style = \"text-align: left;\">-0.0</td><td style = \"text-align: left;\">2807.53</td><td style = \"text-align: left;\">395.434</td><td style = \"text-align: left;\">2189.32</td><td style = \"text-align: left;\">1367.3</td><td style = \"text-align: left;\">20241.7</td></tr><tr><td class = \"rowNumber\" style = \"font-weight: bold; text-align: right;\">8733</td><td style = \"text-align: left;\">t8731</td><td style = \"text-align: left;\">3434.01</td><td style = \"text-align: left;\">-0.0</td><td style = \"text-align: left;\">-0.0</td><td style = \"text-align: left;\">-0.0</td><td style = \"text-align: left;\">8924.2</td><td style = \"text-align: left;\">-0.0</td><td style = \"text-align: left;\">3441.05</td><td style = \"text-align: left;\">973.267</td><td style = \"text-align: left;\">2733.27</td><td style = \"text-align: left;\">-0.0</td><td style = \"text-align: left;\">19505.8</td></tr><tr><td class = \"rowNumber\" style = \"font-weight: bold; text-align: right;\">8734</td><td style = \"text-align: left;\">t8732</td><td style = \"text-align: left;\">2965.26</td><td style = \"text-align: left;\">-0.0</td><td style = \"text-align: left;\">-0.0</td><td style = \"text-align: left;\">-0.0</td><td style = \"text-align: left;\">5017.34</td><td style = \"text-align: left;\">-0.0</td><td style = \"text-align: left;\">4429.42</td><td style = \"text-align: left;\">0.0</td><td style = \"text-align: left;\">4627.19</td><td style = \"text-align: left;\">-0.0</td><td style = \"text-align: left;\">17039.2</td></tr><tr><td class = \"rowNumber\" style = \"font-weight: bold; text-align: right;\">8735</td><td style = \"text-align: left;\">t8733</td><td style = \"text-align: left;\">1365.61</td><td style = \"text-align: left;\">-0.0</td><td style = \"text-align: left;\">-0.0</td><td style = \"text-align: left;\">-0.0</td><td style = \"text-align: left;\">5024.26</td><td style = \"text-align: left;\">-0.0</td><td style = \"text-align: left;\">6931.61</td><td style = \"text-align: left;\">0.0</td><td style = \"text-align: left;\">4562.23</td><td style = \"text-align: left;\">0.0</td><td style = \"text-align: left;\">17883.7</td></tr><tr><td class = \"rowNumber\" style = \"font-weight: bold; text-align: right;\">8736</td><td style = \"text-align: left;\">t8734</td><td style = \"text-align: left;\">809.61</td><td style = \"text-align: left;\">-0.0</td><td style = \"text-align: left;\">-0.0</td><td style = \"text-align: left;\">-0.0</td><td style = \"text-align: left;\">7490.59</td><td style = \"text-align: left;\">-0.0</td><td style = \"text-align: left;\">6855.61</td><td style = \"text-align: left;\">0.0</td><td style = \"text-align: left;\">3250.07</td><td style = \"text-align: left;\">0.0</td><td style = \"text-align: left;\">18405.9</td></tr><tr><td class = \"rowNumber\" style = \"font-weight: bold; text-align: right;\">8737</td><td style = \"text-align: left;\">t8735</td><td style = \"text-align: left;\">126.61</td><td style = \"text-align: left;\">-0.0</td><td style = \"text-align: left;\">-0.0</td><td style = \"text-align: left;\">-0.0</td><td style = \"text-align: left;\">5636.03</td><td style = \"text-align: left;\">-0.0</td><td style = \"text-align: left;\">6029.86</td><td style = \"text-align: left;\">-0.0</td><td style = \"text-align: left;\">4079.85</td><td style = \"text-align: left;\">366.877</td><td style = \"text-align: left;\">16239.2</td></tr><tr><td class = \"rowNumber\" style = \"font-weight: bold; text-align: right;\">8738</td><td style = \"text-align: left;\">t8736</td><td style = \"text-align: left;\">-0.0</td><td style = \"text-align: left;\">-0.0</td><td style = \"text-align: left;\">-0.0</td><td style = \"text-align: left;\">-0.0</td><td style = \"text-align: left;\">10796.7</td><td style = \"text-align: left;\">-0.0</td><td style = \"text-align: left;\">6672.61</td><td style = \"text-align: left;\">0.0</td><td style = \"text-align: left;\">1404.03</td><td style = \"text-align: left;\">0.0</td><td style = \"text-align: left;\">18873.3</td></tr></tbody></table></div>"
      ],
      "text/latex": [
       "\\begin{tabular}{r|ccccc}\n",
       "\t& Resource & MA\\_natural\\_gas\\_combined\\_cycle & CT\\_natural\\_gas\\_combined\\_cycle & ME\\_natural\\_gas\\_combined\\_cycle & \\\\\n",
       "\t\\hline\n",
       "\t& Any & Any & Any & Any & \\\\\n",
       "\t\\hline\n",
       "\t1 & Zone & 1.0 & 2.0 & 3.0 & $\\dots$ \\\\\n",
       "\t2 & AnnualSum & 1.05862e7 & 3.4267e6 & 8.85336e5 & $\\dots$ \\\\\n",
       "\t3 & t1 & -0.0 & -0.0 & -0.0 & $\\dots$ \\\\\n",
       "\t4 & t2 & -0.0 & -0.0 & -0.0 & $\\dots$ \\\\\n",
       "\t5 & t3 & -0.0 & -0.0 & -0.0 & $\\dots$ \\\\\n",
       "\t6 & t4 & -0.0 & -0.0 & -0.0 & $\\dots$ \\\\\n",
       "\t7 & t5 & -0.0 & -0.0 & -0.0 & $\\dots$ \\\\\n",
       "\t8 & t6 & -0.0 & -0.0 & -0.0 & $\\dots$ \\\\\n",
       "\t9 & t7 & -0.0 & -0.0 & -0.0 & $\\dots$ \\\\\n",
       "\t10 & t8 & -0.0 & -0.0 & -0.0 & $\\dots$ \\\\\n",
       "\t11 & t9 & -0.0 & -0.0 & -0.0 & $\\dots$ \\\\\n",
       "\t12 & t10 & -0.0 & -0.0 & -0.0 & $\\dots$ \\\\\n",
       "\t13 & t11 & -0.0 & -0.0 & -0.0 & $\\dots$ \\\\\n",
       "\t14 & t12 & -0.0 & -0.0 & -0.0 & $\\dots$ \\\\\n",
       "\t15 & t13 & -0.0 & -0.0 & -0.0 & $\\dots$ \\\\\n",
       "\t16 & t14 & -0.0 & -0.0 & -0.0 & $\\dots$ \\\\\n",
       "\t17 & t15 & -0.0 & -0.0 & -0.0 & $\\dots$ \\\\\n",
       "\t18 & t16 & -0.0 & -0.0 & -0.0 & $\\dots$ \\\\\n",
       "\t19 & t17 & -0.0 & -0.0 & -0.0 & $\\dots$ \\\\\n",
       "\t20 & t18 & -0.0 & -0.0 & -0.0 & $\\dots$ \\\\\n",
       "\t21 & t19 & -0.0 & -0.0 & -0.0 & $\\dots$ \\\\\n",
       "\t22 & t20 & -0.0 & -0.0 & -0.0 & $\\dots$ \\\\\n",
       "\t23 & t21 & -0.0 & -0.0 & -0.0 & $\\dots$ \\\\\n",
       "\t24 & t22 & -0.0 & -0.0 & -0.0 & $\\dots$ \\\\\n",
       "\t25 & t23 & -0.0 & -0.0 & -0.0 & $\\dots$ \\\\\n",
       "\t26 & t24 & -0.0 & -0.0 & -0.0 & $\\dots$ \\\\\n",
       "\t27 & t25 & -0.0 & -0.0 & -0.0 & $\\dots$ \\\\\n",
       "\t28 & t26 & -0.0 & -0.0 & -0.0 & $\\dots$ \\\\\n",
       "\t29 & t27 & -0.0 & -0.0 & -0.0 & $\\dots$ \\\\\n",
       "\t30 & t28 & -0.0 & -0.0 & -0.0 & $\\dots$ \\\\\n",
       "\t$\\dots$ & $\\dots$ & $\\dots$ & $\\dots$ & $\\dots$ &  \\\\\n",
       "\\end{tabular}\n"
      ],
      "text/plain": [
       "\u001b[1m8738×12 DataFrame\u001b[0m\n",
       "\u001b[1m  Row \u001b[0m│\u001b[1m Resource  \u001b[0m\u001b[1m MA_natural_gas_combined_cycle \u001b[0m\u001b[1m CT_natural_gas_combined_cycl\u001b[0m ⋯\n",
       "      │\u001b[90m Any       \u001b[0m\u001b[90m Any                           \u001b[0m\u001b[90m Any                         \u001b[0m ⋯\n",
       "──────┼─────────────────────────────────────────────────────────────────────────\n",
       "    1 │ Zone       1.0                            2.0                          ⋯\n",
       "    2 │ AnnualSum  1.05862e7                      3.4267e6\n",
       "    3 │ t1         -0.0                           -0.0\n",
       "    4 │ t2         -0.0                           -0.0\n",
       "    5 │ t3         -0.0                           -0.0                         ⋯\n",
       "    6 │ t4         -0.0                           -0.0\n",
       "    7 │ t5         -0.0                           -0.0\n",
       "    8 │ t6         -0.0                           -0.0\n",
       "    9 │ t7         -0.0                           -0.0                         ⋯\n",
       "   10 │ t8         -0.0                           -0.0\n",
       "   11 │ t9         -0.0                           -0.0\n",
       "  ⋮   │     ⋮                    ⋮                              ⋮              ⋱\n",
       " 8729 │ t8727      1864.77                        -0.0\n",
       " 8730 │ t8728      3434.01                        -0.0                         ⋯\n",
       " 8731 │ t8729      3434.01                        -0.0\n",
       " 8732 │ t8730      3434.01                        -0.0\n",
       " 8733 │ t8731      3434.01                        -0.0\n",
       " 8734 │ t8732      2965.26                        -0.0                         ⋯\n",
       " 8735 │ t8733      1365.61                        -0.0\n",
       " 8736 │ t8734      809.61                         -0.0\n",
       " 8737 │ t8735      126.61                         -0.0\n",
       " 8738 │ t8736      -0.0                           -0.0                         ⋯\n",
       "\u001b[36m                                                10 columns and 8717 rows omitted\u001b[0m"
      ]
     },
     "execution_count": 46,
     "metadata": {},
     "output_type": "execute_result"
    }
   ],
   "source": [
    "power_recon = reconstruction(case,power)"
   ]
  },
  {
   "cell_type": "code",
   "execution_count": 18,
   "id": "574ed407",
   "metadata": {},
   "outputs": [
    {
     "name": "stdout",
     "output_type": "stream",
     "text": [
      "8760\n",
      "8736\n",
      "52.142857142857146\n"
     ]
    }
   ],
   "source": [
    "println(365*24)\n",
    "println(52*168)\n",
    "println(365/7)"
   ]
  },
  {
   "cell_type": "code",
   "execution_count": 19,
   "id": "3f4b95c2",
   "metadata": {},
   "outputs": [
    {
     "name": "stdout",
     "output_type": "stream",
     "text": [
      "179.00833333333333"
     ]
    }
   ],
   "source": [
    "print(21481/5/24)"
   ]
  },
  {
   "cell_type": "code",
   "execution_count": null,
   "id": "f88ed6a1",
   "metadata": {},
   "outputs": [],
   "source": []
  }
 ],
 "metadata": {
  "kernelspec": {
   "display_name": "Julia 1.9.2",
   "language": "julia",
   "name": "julia-1.9"
  },
  "language_info": {
   "file_extension": ".jl",
   "mimetype": "application/julia",
   "name": "julia",
   "version": "1.9.2"
  }
 },
 "nbformat": 4,
 "nbformat_minor": 5
}
