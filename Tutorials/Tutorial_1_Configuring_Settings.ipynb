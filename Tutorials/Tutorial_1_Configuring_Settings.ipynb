{
 "cells": [
  {
   "cell_type": "markdown",
   "id": "78a5ccd4-f602-4381-aadc-d468cff03ba3",
   "metadata": {},
   "source": [
    "# Tutorial 1: Configuring Settings"
   ]
  },
  {
   "cell_type": "markdown",
   "id": "c78bfdbd",
   "metadata": {},
   "source": [
    "GenX is easy to customize to fit a variety of problems. In this tutorial, we show which settings are available to change, what their defaults are, and how to change them in your code."
   ]
  },
  {
   "cell_type": "markdown",
   "id": "d6814a53",
   "metadata": {},
   "source": [
    "## What settings are there?"
   ]
  },
  {
   "cell_type": "markdown",
   "id": "69655945",
   "metadata": {},
   "source": [
    "There are 21 settings available to edit in GenX, found in the file `genx_settings.yml`. These settings are described <a href=\"https://genxproject.github.io/GenX/dev/data_documentation/\" target=\"_blank\">here</a> in the documentation. The file is located in the `Settings` folder in the working directory. To change the location of the file, edit the `settings_path` variable in `Run.jl` within your directory."
   ]
  },
  {
   "cell_type": "markdown",
   "id": "6e11cc81",
   "metadata": {},
   "source": [
    "Most settings are set as either 0 or 1, which correspond to whether or not to include a specifc feature. For example, to use `TimeDomainReduction`, you would set its parameter to 0 within `genx_settings.yml`. If you would like to run GenX without it, you would set its parameter to 1."
   ]
  },
  {
   "cell_type": "markdown",
   "id": "4c88b3b9",
   "metadata": {},
   "source": [
    "Other settings, such as `CO2Cap`, have more options corresponding to integers, while some settings such as `ModelingtoGenerateAlternativeSlack` take a numerical input directly (in this case, the slack value). Two settings, `Solver` and `TimeDomainReductionFolder` take in text as input. To learn more about different solvers, read here. For `TimeDomainReductionFolder`, specify the name of the directory you wish to see the results in. For a more comprehensive description of the input options, see the documentation linked above."
   ]
  },
  {
   "cell_type": "markdown",
   "id": "a007c7cc",
   "metadata": {},
   "source": [
    "To see how changing the settings affects the outputs, see Tutorials 3 and 7."
   ]
  },
  {
   "cell_type": "markdown",
   "id": "bbd18f76",
   "metadata": {},
   "source": [
    "Below is the settings file for `example_systems/1_three_zones`:"
   ]
  },
  {
   "cell_type": "markdown",
   "id": "57ee59c3",
   "metadata": {},
   "source": [
    "<img src=\"./files/genxsettings.png\" align=\"center\"/>"
   ]
  },
  {
   "cell_type": "markdown",
   "id": "c37c756e",
   "metadata": {},
   "source": [
    "All `genx_settings.yml` files in `Example_Systems` specify most parameters. When configuring your own settings, however, it is not necessary to input all parameters as defaults are specified for each one in `configure_settings.jl`."
   ]
  },
  {
   "cell_type": "markdown",
   "id": "16ec73eb",
   "metadata": {},
   "source": [
    "<img src=\"./files/default_settings.png\" align=\"center\">"
   ]
  },
  {
   "cell_type": "markdown",
   "id": "527e600d",
   "metadata": {},
   "source": [
    "To open `genx_settings.yml` in Jupyter, use the function `YAML.load(open(...))` and navigate to file in the desired directory:"
   ]
  },
  {
   "cell_type": "code",
   "execution_count": 1,
   "id": "751b0e46",
   "metadata": {},
   "outputs": [
    {
     "data": {
      "text/plain": [
       "Dict{Any, Any} with 13 entries:\n",
       "  \"NetworkExpansion\"       => 1\n",
       "  \"ParameterScale\"         => 1\n",
       "  \"EnergyShareRequirement\" => 0\n",
       "  \"TimeDomainReduction\"    => 1\n",
       "  \"Trans_Loss_Segments\"    => 1\n",
       "  \"CapacityReserveMargin\"  => 0\n",
       "  \"StorageLosses\"          => 1\n",
       "  \"ComputeConflicts\"       => 1\n",
       "  \"UCommit\"                => 2\n",
       "  \"MaxCapReq\"              => 0\n",
       "  \"MinCapReq\"              => 1\n",
       "  \"CO2Cap\"                 => 2\n",
       "  \"WriteShadowPrices\"      => 1"
      ]
     },
     "execution_count": 1,
     "metadata": {},
     "output_type": "execute_result"
    }
   ],
   "source": [
    "using YAML\n",
    "using GenX\n",
    "genx_settings_TZ = YAML.load(open(\"example_systems/1_three_zones/settings/genx_settings.yml\"))"
   ]
  },
  {
   "cell_type": "markdown",
   "id": "dcdd15fd",
   "metadata": {},
   "source": [
    "Since all settings have defaults, you only need to specify the settings you would like to change. In fact, you can leave your settings file completely blank and it will still run! Let's try editing `genx_settings` in `SmallNewEngland/OneZone` to contain no parameters:"
   ]
  },
  {
   "cell_type": "code",
   "execution_count": 8,
   "id": "f1ea1703",
   "metadata": {},
   "outputs": [],
   "source": [
    "new_params = Dict() # Empty dictionary\n",
    "YAML.write_file(\"example_systems/1_three_zones/settings/genx_settings.yml\", new_params)"
   ]
  },
  {
   "cell_type": "markdown",
   "id": "fbc6ce5d",
   "metadata": {},
   "source": [
    "The empty file will look like this:"
   ]
  },
  {
   "cell_type": "markdown",
   "id": "e24980d7",
   "metadata": {},
   "source": [
    "<img src=\"./files/genx_settings_none.png\" align=\"center\">"
   ]
  },
  {
   "cell_type": "markdown",
   "id": "67a336a9",
   "metadata": {},
   "source": [
    "Now, we run GenX and output the file `capacity.csv` from the `Results` folder. To do this, we use the function `include`, which takes a .jl file and runs it in Jupyter:"
   ]
  },
  {
   "cell_type": "code",
   "execution_count": 3,
   "id": "236c0180",
   "metadata": {},
   "outputs": [
    {
     "name": "stdout",
     "output_type": "stream",
     "text": [
      "Configuring Settings\n",
      "Clustering Time Series Data (Grouped)...\n",
      "Reading Input CSV Files\n",
      "Network.csv Successfully Read!\n",
      "Demand (load) data Successfully Read!\n",
      "Fuels_data.csv Successfully Read!\n"
     ]
    },
    {
     "name": "stderr",
     "output_type": "stream",
     "text": [
      "\u001b[36m\u001b[1m[ \u001b[22m\u001b[39m\u001b[36m\u001b[1mInfo: \u001b[22m\u001b[39mThermal.csv Successfully Read.\n",
      "\u001b[36m\u001b[1m[ \u001b[22m\u001b[39m\u001b[36m\u001b[1mInfo: \u001b[22m\u001b[39mVre.csv Successfully Read.\n",
      "\u001b[36m\u001b[1m[ \u001b[22m\u001b[39m\u001b[36m\u001b[1mInfo: \u001b[22m\u001b[39mStorage.csv Successfully Read.\n",
      "\u001b[36m\u001b[1m[ \u001b[22m\u001b[39m\u001b[36m\u001b[1mInfo: \u001b[22m\u001b[39mResource_minimum_capacity_requirement.csv Successfully Read.\n"
     ]
    },
    {
     "name": "stdout",
     "output_type": "stream",
     "text": [
      "\n",
      "Summary of resources loaded into the model:\n",
      "-------------------------------------------------------\n",
      "\tResource type \t\tNumber of resources\n",
      "=======================================================\n",
      "\tThermal        \t\t3\n",
      "\tVRE            \t\t4\n",
      "\tStorage        \t\t3\n",
      "=======================================================\n",
      "Total number of resources: 10\n",
      "-------------------------------------------------------\n",
      "Generators_variability.csv Successfully Read!\n",
      "Validating time basis\n",
      "Minimum_capacity_requirement.csv Successfully Read!\n",
      "CO2_cap.csv Successfully Read!\n",
      "CSV Files Successfully Read In From /Users/mayamutic/Desktop/GenX-Tutorials/Tutorials/example_systems/1_three_zones\n",
      "Error: Geography Key 1 is invalid. Select `System' or `Zone'.\n",
      "Configuring Solver\n",
      "Loading Inputs\n",
      "Reading Input CSV Files\n",
      "Network.csv Successfully Read!\n",
      "Demand (load) data Successfully Read!\n",
      "Fuels_data.csv Successfully Read!\n",
      "\n",
      "Summary of resources loaded into the model:\n",
      "-------------------------------------------------------\n",
      "\tResource type \t\tNumber of resources\n",
      "=======================================================\n",
      "\tThermal        \t\t3\n",
      "\tVRE            \t\t4\n",
      "\tStorage        \t\t3\n",
      "=======================================================\n",
      "Total number of resources: 10\n",
      "-------------------------------------------------------\n",
      "Generators_variability.csv Successfully Read!\n",
      "Validating time basis\n",
      "Minimum_capacity_requirement.csv Successfully Read!\n",
      "CO2_cap.csv Successfully Read!\n",
      "CSV Files Successfully Read In From /Users/mayamutic/Desktop/GenX-Tutorials/Tutorials/example_systems/1_three_zones\n",
      "Generating the Optimization Model\n"
     ]
    },
    {
     "name": "stderr",
     "output_type": "stream",
     "text": [
      "\u001b[36m\u001b[1m[ \u001b[22m\u001b[39m\u001b[36m\u001b[1mInfo: \u001b[22m\u001b[39mThermal.csv Successfully Read.\n",
      "\u001b[36m\u001b[1m[ \u001b[22m\u001b[39m\u001b[36m\u001b[1mInfo: \u001b[22m\u001b[39mVre.csv Successfully Read.\n",
      "\u001b[36m\u001b[1m[ \u001b[22m\u001b[39m\u001b[36m\u001b[1mInfo: \u001b[22m\u001b[39mStorage.csv Successfully Read.\n",
      "\u001b[36m\u001b[1m[ \u001b[22m\u001b[39m\u001b[36m\u001b[1mInfo: \u001b[22m\u001b[39mResource_minimum_capacity_requirement.csv Successfully Read.\n"
     ]
    },
    {
     "name": "stdout",
     "output_type": "stream",
     "text": [
      "Set parameter Username\n",
      "Academic license - for non-commercial use only - expires 2024-09-14\n",
      "Set parameter FeasibilityTol to value 1e-05\n",
      "Set parameter PreDual to value 0\n",
      "Set parameter Method to value 4\n",
      "Set parameter TimeLimit to value 110000\n",
      "Set parameter MIPGap to value 0.001\n",
      "Set parameter OptimalityTol to value 1e-05\n",
      "Set parameter AggFill to value 10\n",
      "Set parameter Presolve to value 1\n",
      "Discharge Module\n",
      "Non-served Energy Module\n",
      "Investment Discharge Module\n",
      "Unit Commitment Module\n",
      "Fuel Module\n",
      "CO2 Module\n",
      "Investment Transmission Module\n",
      "Transmission Module\n",
      "Dispatchable Resources Module\n",
      "Storage Resources Module\n",
      "Storage Investment Module\n",
      "Storage Core Resources Module\n",
      "Storage Resources with Symmetric Charge/Discharge Capacity Module\n",
      "Thermal (Unit Commitment) Resources Module\n",
      "CO2 Policies Module\n",
      "Minimum Capacity Requirement Module\n",
      "Time elapsed for model building is\n",
      "6.487737458\n",
      "Solving Model\n",
      "Set parameter FeasibilityTol to value 1e-05\n",
      "Set parameter PreDual to value 0\n",
      "Set parameter Method to value 4\n",
      "Set parameter TimeLimit to value 110000\n",
      "Set parameter MIPGap to value 0.001\n",
      "Set parameter OptimalityTol to value 1e-05\n",
      "Set parameter AggFill to value 10\n",
      "Set parameter Presolve to value 1\n",
      "Gurobi Optimizer version 10.0.3 build v10.0.3rc0 (mac64[arm])\n",
      "\n",
      "CPU model: Apple M2\n",
      "Thread count: 8 physical cores, 8 logical processors, using up to 8 threads\n",
      "\n",
      "Optimize a model with 153398 rows, 120139 columns and 515547 nonzeros\n",
      "Model fingerprint: 0xec093381\n",
      "Coefficient statistics:\n",
      "  Matrix range     [4e-07, 1e+01]\n",
      "  Objective range  [1e-04, 4e+02]\n",
      "  Bounds range     [0e+00, 0e+00]\n",
      "  RHS range        [2e-03, 4e+03]\n",
      "Presolve time: 0.13s\n",
      "Presolved: 104647 rows, 65736 columns, 453450 nonzeros\n",
      "\n",
      "Deterministic concurrent LP optimizer: primal simplex, dual simplex, and barrier\n",
      "Showing barrier log only...\n",
      "\n",
      "Ordering time: 0.03s\n",
      "\n",
      "Barrier statistics:\n",
      " Dense cols : 15\n",
      " AA' NZ     : 8.930e+05\n",
      " Factor NZ  : 3.021e+06 (roughly 100 MB of memory)\n",
      " Factor Ops : 1.696e+08 (less than 1 second per iteration)\n",
      " Threads    : 6\n",
      "\n",
      "                  Objective                Residual\n",
      "Iter       Primal          Dual         Primal    Dual     Compl     Time\n",
      "   0   1.00412415e+09 -1.29790772e+06  3.19e+06 1.07e+02  7.37e+05     0s\n",
      "   1   6.97492612e+08 -4.28108930e+07  2.35e+06 3.56e+02  4.00e+05     0s\n",
      "   2   6.07727665e+08 -2.40033092e+08  2.09e+06 1.67e+02  3.91e+05     0s\n",
      "   3   8.72631331e+07 -2.46369936e+08  2.75e+05 6.50e+01  6.87e+04     0s\n",
      "   4   4.87158148e+07 -2.14570714e+08  8.97e+04 2.20e+01  2.35e+04     0s\n",
      "   5   3.35630294e+07 -1.54889691e+08  4.73e+04 5.70e+00  8.80e+03     0s\n",
      "   6   2.25965395e+07 -1.02705644e+08  2.58e+04 1.95e+00  3.93e+03     1s\n",
      "   7   1.11637832e+07 -6.63868830e+07  8.28e+03 7.63e-01  1.47e+03     1s\n",
      "   8   6.69139561e+06 -3.57618643e+07  3.57e+03 2.55e-01  6.01e+02     1s\n",
      "   9   4.63116506e+06 -2.33279796e+07  1.94e+03 1.47e-01  3.47e+02     1s\n",
      "  10   3.22650836e+06 -1.48137135e+07  9.90e+02 8.44e-02  1.98e+02     1s\n",
      "  11   2.51049492e+06 -1.07055873e+07  5.84e+02 5.79e-02  1.33e+02     1s\n",
      "  12   1.88408106e+06 -7.19159735e+06  2.86e+02 3.84e-02  8.25e+01     1s\n",
      "  13   1.44797739e+06 -4.46584938e+06  1.42e+02 2.26e-02  4.88e+01     1s\n",
      "  14   1.01341834e+06 -2.61351398e+06  5.19e+01 1.24e-02  2.67e+01     1s\n",
      "  15   4.38909919e+05 -7.31038857e+05  6.41e+00 3.15e-03  7.18e+00     1s\n",
      "  16   1.16494355e+05 -7.34911450e+04  8.12e-01 5.56e-11  1.06e+00     1s\n",
      "  17   8.27422137e+04 -4.31479375e+04  5.31e-01 3.66e-11  6.94e-01     1s\n",
      "  18   5.79524068e+04 -2.28438594e+04  3.35e-01 2.00e-11  4.43e-01     1s\n",
      "  19   4.11053957e+04 -6.86877935e+03  2.01e-01 7.80e-12  2.62e-01     1s\n",
      "  20   3.65876433e+04 -2.66893231e+03  1.69e-01 5.10e-12  2.14e-01     1s\n",
      "  21   2.69855379e+04  3.46409226e+02  9.89e-02 3.32e-12  1.45e-01     1s\n",
      "  22   2.15295329e+04  2.05474071e+03  4.79e-02 2.42e-12  1.06e-01     1s\n",
      "  23   1.92524372e+04  2.40463834e+03  2.95e-02 2.12e-12  9.17e-02     1s\n",
      "  24   1.78054225e+04  4.75656947e+03  1.45e-02 1.36e-12  7.10e-02     1s\n",
      "  25   1.55996022e+04  5.76596241e+03  1.33e-04 8.81e-13  5.35e-02     1s\n",
      "  26   1.43289955e+04  6.61893979e+03  1.06e-04 6.11e-13  4.19e-02     1s\n",
      "  27   1.33657347e+04  7.12451670e+03  8.50e-05 6.21e-13  3.39e-02     1s\n",
      "  28   1.31354612e+04  7.25844373e+03  8.05e-05 3.94e-13  3.20e-02     1s\n",
      "  29   1.25254705e+04  7.46681058e+03  6.69e-05 4.44e-13  2.75e-02     1s\n",
      "  30   1.21446780e+04  7.87059581e+03  5.76e-05 3.09e-13  2.32e-02     1s\n",
      "  31   1.15597119e+04  7.97262166e+03  4.41e-05 3.48e-13  1.95e-02     1s\n",
      "  32   1.14164734e+04  8.07507890e+03  4.06e-05 2.77e-13  1.82e-02     2s\n",
      "  33   1.12110838e+04  8.45333380e+03  3.60e-05 1.77e-13  1.50e-02     2s\n",
      "  34   1.11129497e+04  8.65327604e+03  3.33e-05 2.09e-13  1.34e-02     2s\n",
      "  35   1.09349176e+04  8.81552151e+03  2.84e-05 1.27e-13  1.15e-02     2s\n",
      "  36   1.08432982e+04  8.83114949e+03  2.62e-05 1.01e-13  1.09e-02     2s\n",
      "  37   1.07674796e+04  8.96499279e+03  2.44e-05 1.26e-13  9.80e-03     2s\n",
      "  38   1.06670606e+04  9.07558268e+03  2.17e-05 5.68e-14  8.65e-03     2s\n",
      "  39   1.06072229e+04  9.11187691e+03  2.00e-05 7.77e-14  8.13e-03     2s\n",
      "  40   1.05307391e+04  9.17698812e+03  1.78e-05 5.68e-14  7.36e-03     2s\n",
      "  41   1.04461653e+04  9.28822012e+03  1.52e-05 5.68e-14  6.29e-03     2s\n",
      "  42   1.03786971e+04  9.46374607e+03  1.31e-05 5.68e-14  4.97e-03     2s\n",
      "  43   1.02721734e+04  9.49749700e+03  1.02e-05 7.95e-14  4.21e-03     2s\n",
      "  44   1.02481391e+04  9.55385029e+03  9.40e-06 5.68e-14  3.77e-03     2s\n",
      "  45   1.01521787e+04  9.63098416e+03  6.64e-06 5.68e-14  2.83e-03     2s\n",
      "  46   1.01189665e+04  9.68846156e+03  5.69e-06 5.68e-14  2.34e-03     2s\n",
      "  47   1.00894038e+04  9.71675044e+03  4.85e-06 8.53e-14  2.03e-03     2s\n",
      "  48   1.00539089e+04  9.73398061e+03  3.83e-06 5.68e-14  1.74e-03     2s\n",
      "  49   1.00282365e+04  9.74190602e+03  3.13e-06 5.68e-14  1.56e-03     2s\n",
      "  50   1.00155040e+04  9.76996994e+03  2.77e-06 5.68e-14  1.33e-03     2s\n",
      "  51   1.00085175e+04  9.80329233e+03  2.58e-06 5.68e-14  1.12e-03     2s\n",
      "  52   9.99419177e+03  9.82952712e+03  2.19e-06 5.68e-14  8.95e-04     2s\n",
      "  53   9.98543944e+03  9.84924132e+03  1.96e-06 5.68e-14  7.40e-04     2s\n",
      "  54   9.98107187e+03  9.85478391e+03  1.84e-06 5.68e-14  6.86e-04     2s\n",
      "  55   9.96630775e+03  9.85766166e+03  1.47e-06 5.68e-14  5.91e-04     2s\n",
      "  56   9.95866235e+03  9.85956505e+03  1.25e-06 5.68e-14  5.39e-04     2s\n",
      "  57   9.95213833e+03  9.87749066e+03  1.09e-06 5.68e-14  4.06e-04     2s\n",
      "  58   9.94717515e+03  9.88241010e+03  9.73e-07 5.68e-14  3.52e-04     2s\n",
      "  59   9.94418302e+03  9.88341096e+03  8.93e-07 8.53e-14  3.30e-04     3s\n",
      "  60   9.93463234e+03  9.88638264e+03  6.40e-07 8.53e-14  2.62e-04     3s\n",
      "  61   9.93121184e+03  9.88873860e+03  5.54e-07 8.53e-14  2.31e-04     3s\n",
      "  62   9.92695444e+03  9.89637638e+03  4.45e-07 5.68e-14  1.66e-04     3s\n",
      "  63   9.92209462e+03  9.89790717e+03  3.22e-07 5.68e-14  1.31e-04     3s\n",
      "  64   9.91853967e+03  9.90250090e+03  2.35e-07 5.68e-14  8.72e-05     3s\n",
      "  65   9.91604360e+03  9.90454300e+03  1.76e-07 5.68e-14  6.25e-05     3s\n",
      "  66   9.91424777e+03  9.90542594e+03  1.32e-07 5.68e-14  4.80e-05     3s\n",
      "  67   9.91226338e+03  9.90668452e+03  8.24e-08 5.68e-14  3.03e-05     3s\n",
      "  68   9.91089425e+03  9.90740912e+03  4.92e-08 2.14e-13  1.89e-05     3s\n",
      "  69   9.91036476e+03  9.90777267e+03  3.65e-08 3.56e-13  1.41e-05     3s\n",
      "  70   9.91010201e+03  9.90807949e+03  3.03e-08 5.68e-14  1.10e-05     3s\n",
      "  71   9.90970289e+03  9.90821349e+03  2.08e-08 2.00e-13  8.10e-06     3s\n",
      "  72   9.90925931e+03  9.90849283e+03  1.04e-08 4.84e-13  4.17e-06     3s\n",
      "  73   9.90895819e+03  9.90869683e+03  3.65e-09 5.68e-14  1.42e-06     3s\n",
      "  74   9.90885959e+03  9.90874586e+03  1.55e-09 5.68e-14  6.18e-07     3s\n",
      "  75   9.90882529e+03  9.90877104e+03  1.69e-09 2.28e-13  2.95e-07     3s\n",
      "  76   9.90879777e+03  9.90878042e+03  2.32e-08 9.84e-12  9.43e-08     3s\n",
      "  77   9.90879199e+03  9.90878425e+03  1.18e-08 8.19e-12  4.21e-08     3s\n",
      "  78   9.90878752e+03  9.90878517e+03  2.44e-08 7.83e-11  1.28e-08     3s\n",
      "  79   9.90878565e+03  9.90878537e+03  7.43e-08 1.61e-11  1.54e-09     3s\n",
      "  80   9.90878545e+03  9.90878544e+03  1.02e-08 1.81e-12  7.45e-11     3s\n",
      "\n",
      "Barrier solved model in 80 iterations and 3.25 seconds (4.43 work units)\n",
      "Optimal objective 9.90878545e+03\n",
      "\n",
      "Crossover log...\n",
      "\n",
      "   22290 DPushes remaining with DInf 0.0000000e+00                 3s\n",
      "       0 DPushes remaining with DInf 0.0000000e+00                 4s\n",
      "\n",
      "    6233 PPushes remaining with PInf 2.1889861e-04                 4s\n",
      "       0 PPushes remaining with PInf 0.0000000e+00                 5s\n",
      "\n",
      "  Push phase complete: Pinf 0.0000000e+00, Dinf 1.3317541e+00      5s\n",
      "\n",
      "Iteration    Objective       Primal Inf.    Dual Inf.      Time\n",
      "   19597    9.9087855e+03   0.000000e+00   1.331754e+00      5s\n",
      "Concurrent spin time: 0.18s\n",
      "\n",
      "Solved with barrier\n",
      "   19681    9.9087854e+03   0.000000e+00   1.197983e-05      5s\n",
      "Extra simplex iterations after uncrush: 1\n",
      "   19682    9.9087854e+03   0.000000e+00   0.000000e+00      5s\n",
      "\n",
      "Solved in 19682 iterations and 5.14 seconds (12.32 work units)\n",
      "Optimal objective  9.908785446e+03\n",
      "\n",
      "User-callback calls 29669, time in user-callback 0.01 sec\n",
      "LP solved for primal\n",
      "Writing Output\n",
      "Time elapsed for writing costs is\n",
      "0.832746208\n",
      "Time elapsed for writing capacity is\n",
      "0.251809667\n",
      "Time elapsed for writing power is\n",
      "0.652603125\n",
      "Time elapsed for writing charge is\n",
      "0.168977083\n",
      "Time elapsed for writing capacity factor is\n",
      "0.244961625\n",
      "Time elapsed for writing storage is\n",
      "0.117548416\n",
      "Time elapsed for writing curtailment is\n",
      "0.180194542\n",
      "Time elapsed for writing nse is\n",
      "0.459864417\n",
      "Time elapsed for writing power balance is\n",
      "0.328060708\n",
      "Time elapsed for writing transmission flows is\n",
      "0.106013666\n",
      "Time elapsed for writing transmission losses is\n",
      "0.086476458\n",
      "Time elapsed for writing network expansion is\n",
      "0.079701625\n",
      "Time elapsed for writing emissions is\n",
      "0.283816667\n",
      "Time elapsed for writing reliability is\n",
      "0.097263708\n",
      "Time elapsed for writing storage duals is\n",
      "0.358337833\n",
      "Time elapsed for writing commitment is\n",
      "0.088499958\n",
      "Time elapsed for writing startup is\n",
      "0.05168925\n",
      "Time elapsed for writing shutdown is\n",
      "0.01785925\n",
      "Time elapsed for writing fuel consumption is\n",
      "0.328175583\n",
      "Time elapsed for writing co2 is\n",
      "0.067608916\n",
      "Time elapsed for writing price is\n",
      "0.059574875\n",
      "Time elapsed for writing energy revenue is\n",
      "0.22015525\n",
      "Time elapsed for writing charging cost is\n",
      "0.180251875\n",
      "Time elapsed for writing subsidy is\n",
      "0.240434542\n",
      "Time elapsed for writing time weights is\n",
      "0.073312959\n",
      "Time elapsed for writing co2 cap is\n",
      "0.078566917\n",
      "Time elapsed for writing minimum capacity requirement is\n",
      "0.080574416\n",
      "Time elapsed for writing net revenue is\n",
      "0.881073625\n",
      "Wrote outputs to /Users/mayamutic/Desktop/GenX-Tutorials/Tutorials/example_systems/1_three_zones/results_1\n",
      "Time elapsed for writing is\n",
      "6.967147459\n"
     ]
    }
   ],
   "source": [
    "include(\"example_systems/1_three_zones/Run.jl\")"
   ]
  },
  {
   "cell_type": "code",
   "execution_count": 5,
   "id": "b8ea6030",
   "metadata": {},
   "outputs": [
    {
     "data": {
      "text/html": [
       "<div><div style = \"float: left;\"><span>11×15 DataFrame</span></div><div style = \"clear: both;\"></div></div><div class = \"data-frame\" style = \"overflow-x: scroll;\"><table class = \"data-frame\" style = \"margin-bottom: 6px;\"><thead><tr class = \"header\"><th class = \"rowNumber\" style = \"font-weight: bold; text-align: right;\">Row</th><th style = \"text-align: left;\">Resource</th><th style = \"text-align: left;\">Zone</th><th style = \"text-align: left;\">StartCap</th><th style = \"text-align: left;\">RetCap</th><th style = \"text-align: left;\">NewCap</th><th style = \"text-align: left;\">EndCap</th><th style = \"text-align: left;\">CapacityConstraintDual</th><th style = \"text-align: left;\">StartEnergyCap</th><th style = \"text-align: left;\">RetEnergyCap</th><th style = \"text-align: left;\">NewEnergyCap</th><th style = \"text-align: left;\">EndEnergyCap</th><th style = \"text-align: left;\">StartChargeCap</th><th style = \"text-align: left;\">RetChargeCap</th><th style = \"text-align: left;\">NewChargeCap</th><th style = \"text-align: left;\">EndChargeCap</th></tr><tr class = \"subheader headerLastRow\"><th class = \"rowNumber\" style = \"font-weight: bold; text-align: right;\"></th><th title = \"String31\" style = \"text-align: left;\">String31</th><th title = \"String3\" style = \"text-align: left;\">String3</th><th title = \"Float64\" style = \"text-align: left;\">Float64</th><th title = \"Float64\" style = \"text-align: left;\">Float64</th><th title = \"Float64\" style = \"text-align: left;\">Float64</th><th title = \"Float64\" style = \"text-align: left;\">Float64</th><th title = \"String3\" style = \"text-align: left;\">String3</th><th title = \"Float64\" style = \"text-align: left;\">Float64</th><th title = \"Float64\" style = \"text-align: left;\">Float64</th><th title = \"Float64\" style = \"text-align: left;\">Float64</th><th title = \"Float64\" style = \"text-align: left;\">Float64</th><th title = \"Float64\" style = \"text-align: left;\">Float64</th><th title = \"Float64\" style = \"text-align: left;\">Float64</th><th title = \"Float64\" style = \"text-align: left;\">Float64</th><th title = \"Float64\" style = \"text-align: left;\">Float64</th></tr></thead><tbody><tr><td class = \"rowNumber\" style = \"font-weight: bold; text-align: right;\">1</td><td style = \"text-align: left;\">MA_natural_gas_combined_cycle</td><td style = \"text-align: left;\">1</td><td style = \"text-align: right;\">0.0</td><td style = \"text-align: right;\">0.0</td><td style = \"text-align: right;\">8004.62</td><td style = \"text-align: right;\">8004.62</td><td style = \"text-align: left;\">0.0</td><td style = \"text-align: right;\">0.0</td><td style = \"text-align: right;\">0.0</td><td style = \"text-align: right;\">0.0</td><td style = \"text-align: right;\">0.0</td><td style = \"text-align: right;\">0.0</td><td style = \"text-align: right;\">0.0</td><td style = \"text-align: right;\">0.0</td><td style = \"text-align: right;\">0.0</td></tr><tr><td class = \"rowNumber\" style = \"font-weight: bold; text-align: right;\">2</td><td style = \"text-align: left;\">CT_natural_gas_combined_cycle</td><td style = \"text-align: left;\">2</td><td style = \"text-align: right;\">0.0</td><td style = \"text-align: right;\">0.0</td><td style = \"text-align: right;\">2122.53</td><td style = \"text-align: right;\">2122.53</td><td style = \"text-align: left;\">0.0</td><td style = \"text-align: right;\">0.0</td><td style = \"text-align: right;\">0.0</td><td style = \"text-align: right;\">0.0</td><td style = \"text-align: right;\">0.0</td><td style = \"text-align: right;\">0.0</td><td style = \"text-align: right;\">0.0</td><td style = \"text-align: right;\">0.0</td><td style = \"text-align: right;\">0.0</td></tr><tr><td class = \"rowNumber\" style = \"font-weight: bold; text-align: right;\">3</td><td style = \"text-align: left;\">ME_natural_gas_combined_cycle</td><td style = \"text-align: left;\">3</td><td style = \"text-align: right;\">0.0</td><td style = \"text-align: right;\">0.0</td><td style = \"text-align: right;\">566.974</td><td style = \"text-align: right;\">566.974</td><td style = \"text-align: left;\">0.0</td><td style = \"text-align: right;\">0.0</td><td style = \"text-align: right;\">0.0</td><td style = \"text-align: right;\">0.0</td><td style = \"text-align: right;\">0.0</td><td style = \"text-align: right;\">0.0</td><td style = \"text-align: right;\">0.0</td><td style = \"text-align: right;\">0.0</td><td style = \"text-align: right;\">0.0</td></tr><tr><td class = \"rowNumber\" style = \"font-weight: bold; text-align: right;\">4</td><td style = \"text-align: left;\">MA_solar_pv</td><td style = \"text-align: left;\">1</td><td style = \"text-align: right;\">0.0</td><td style = \"text-align: right;\">0.0</td><td style = \"text-align: right;\">18164.4</td><td style = \"text-align: right;\">18164.4</td><td style = \"text-align: left;\">0.0</td><td style = \"text-align: right;\">0.0</td><td style = \"text-align: right;\">0.0</td><td style = \"text-align: right;\">0.0</td><td style = \"text-align: right;\">0.0</td><td style = \"text-align: right;\">0.0</td><td style = \"text-align: right;\">0.0</td><td style = \"text-align: right;\">0.0</td><td style = \"text-align: right;\">0.0</td></tr><tr><td class = \"rowNumber\" style = \"font-weight: bold; text-align: right;\">5</td><td style = \"text-align: left;\">CT_onshore_wind</td><td style = \"text-align: left;\">2</td><td style = \"text-align: right;\">0.0</td><td style = \"text-align: right;\">0.0</td><td style = \"text-align: right;\">12740.8</td><td style = \"text-align: right;\">12740.8</td><td style = \"text-align: left;\">0.0</td><td style = \"text-align: right;\">0.0</td><td style = \"text-align: right;\">0.0</td><td style = \"text-align: right;\">0.0</td><td style = \"text-align: right;\">0.0</td><td style = \"text-align: right;\">0.0</td><td style = \"text-align: right;\">0.0</td><td style = \"text-align: right;\">0.0</td><td style = \"text-align: right;\">0.0</td></tr><tr><td class = \"rowNumber\" style = \"font-weight: bold; text-align: right;\">6</td><td style = \"text-align: left;\">CT_solar_pv</td><td style = \"text-align: left;\">2</td><td style = \"text-align: right;\">0.0</td><td style = \"text-align: right;\">0.0</td><td style = \"text-align: right;\">17330.8</td><td style = \"text-align: right;\">17330.8</td><td style = \"text-align: left;\">0.0</td><td style = \"text-align: right;\">0.0</td><td style = \"text-align: right;\">0.0</td><td style = \"text-align: right;\">0.0</td><td style = \"text-align: right;\">0.0</td><td style = \"text-align: right;\">0.0</td><td style = \"text-align: right;\">0.0</td><td style = \"text-align: right;\">0.0</td><td style = \"text-align: right;\">0.0</td></tr><tr><td class = \"rowNumber\" style = \"font-weight: bold; text-align: right;\">7</td><td style = \"text-align: left;\">ME_onshore_wind</td><td style = \"text-align: left;\">3</td><td style = \"text-align: right;\">0.0</td><td style = \"text-align: right;\">0.0</td><td style = \"text-align: right;\">10694.4</td><td style = \"text-align: right;\">10694.4</td><td style = \"text-align: left;\">0.0</td><td style = \"text-align: right;\">0.0</td><td style = \"text-align: right;\">0.0</td><td style = \"text-align: right;\">0.0</td><td style = \"text-align: right;\">0.0</td><td style = \"text-align: right;\">0.0</td><td style = \"text-align: right;\">0.0</td><td style = \"text-align: right;\">0.0</td><td style = \"text-align: right;\">0.0</td></tr><tr><td class = \"rowNumber\" style = \"font-weight: bold; text-align: right;\">8</td><td style = \"text-align: left;\">MA_battery</td><td style = \"text-align: left;\">1</td><td style = \"text-align: right;\">0.0</td><td style = \"text-align: right;\">0.0</td><td style = \"text-align: right;\">2867.41</td><td style = \"text-align: right;\">2867.41</td><td style = \"text-align: left;\">0.0</td><td style = \"text-align: right;\">0.0</td><td style = \"text-align: right;\">0.0</td><td style = \"text-align: right;\">14957.3</td><td style = \"text-align: right;\">14957.3</td><td style = \"text-align: right;\">0.0</td><td style = \"text-align: right;\">0.0</td><td style = \"text-align: right;\">0.0</td><td style = \"text-align: right;\">0.0</td></tr><tr><td class = \"rowNumber\" style = \"font-weight: bold; text-align: right;\">9</td><td style = \"text-align: left;\">CT_battery</td><td style = \"text-align: left;\">2</td><td style = \"text-align: right;\">0.0</td><td style = \"text-align: right;\">0.0</td><td style = \"text-align: right;\">6153.4</td><td style = \"text-align: right;\">6153.4</td><td style = \"text-align: left;\">0.0</td><td style = \"text-align: right;\">0.0</td><td style = \"text-align: right;\">0.0</td><td style = \"text-align: right;\">30635.1</td><td style = \"text-align: right;\">30635.1</td><td style = \"text-align: right;\">0.0</td><td style = \"text-align: right;\">0.0</td><td style = \"text-align: right;\">0.0</td><td style = \"text-align: right;\">0.0</td></tr><tr><td class = \"rowNumber\" style = \"font-weight: bold; text-align: right;\">10</td><td style = \"text-align: left;\">ME_battery</td><td style = \"text-align: left;\">3</td><td style = \"text-align: right;\">0.0</td><td style = \"text-align: right;\">0.0</td><td style = \"text-align: right;\">1293.59</td><td style = \"text-align: right;\">1293.59</td><td style = \"text-align: left;\">0.0</td><td style = \"text-align: right;\">0.0</td><td style = \"text-align: right;\">0.0</td><td style = \"text-align: right;\">3374.11</td><td style = \"text-align: right;\">3374.11</td><td style = \"text-align: right;\">0.0</td><td style = \"text-align: right;\">0.0</td><td style = \"text-align: right;\">0.0</td><td style = \"text-align: right;\">0.0</td></tr><tr><td class = \"rowNumber\" style = \"font-weight: bold; text-align: right;\">11</td><td style = \"text-align: left;\">Total</td><td style = \"text-align: left;\">n/a</td><td style = \"text-align: right;\">0.0</td><td style = \"text-align: right;\">0.0</td><td style = \"text-align: right;\">79938.9</td><td style = \"text-align: right;\">79938.9</td><td style = \"text-align: left;\">n/a</td><td style = \"text-align: right;\">0.0</td><td style = \"text-align: right;\">0.0</td><td style = \"text-align: right;\">48966.5</td><td style = \"text-align: right;\">48966.5</td><td style = \"text-align: right;\">0.0</td><td style = \"text-align: right;\">0.0</td><td style = \"text-align: right;\">0.0</td><td style = \"text-align: right;\">0.0</td></tr></tbody></table></div>"
      ],
      "text/latex": [
       "\\begin{tabular}{r|cccccccc}\n",
       "\t& Resource & Zone & StartCap & RetCap & NewCap & EndCap & CapacityConstraintDual & \\\\\n",
       "\t\\hline\n",
       "\t& String31 & String3 & Float64 & Float64 & Float64 & Float64 & String3 & \\\\\n",
       "\t\\hline\n",
       "\t1 & MA\\_natural\\_gas\\_combined\\_cycle & 1 & 0.0 & 0.0 & 8004.62 & 8004.62 & 0.0 & $\\dots$ \\\\\n",
       "\t2 & CT\\_natural\\_gas\\_combined\\_cycle & 2 & 0.0 & 0.0 & 2122.53 & 2122.53 & 0.0 & $\\dots$ \\\\\n",
       "\t3 & ME\\_natural\\_gas\\_combined\\_cycle & 3 & 0.0 & 0.0 & 566.974 & 566.974 & 0.0 & $\\dots$ \\\\\n",
       "\t4 & MA\\_solar\\_pv & 1 & 0.0 & 0.0 & 18164.4 & 18164.4 & 0.0 & $\\dots$ \\\\\n",
       "\t5 & CT\\_onshore\\_wind & 2 & 0.0 & 0.0 & 12740.8 & 12740.8 & 0.0 & $\\dots$ \\\\\n",
       "\t6 & CT\\_solar\\_pv & 2 & 0.0 & 0.0 & 17330.8 & 17330.8 & 0.0 & $\\dots$ \\\\\n",
       "\t7 & ME\\_onshore\\_wind & 3 & 0.0 & 0.0 & 10694.4 & 10694.4 & 0.0 & $\\dots$ \\\\\n",
       "\t8 & MA\\_battery & 1 & 0.0 & 0.0 & 2867.41 & 2867.41 & 0.0 & $\\dots$ \\\\\n",
       "\t9 & CT\\_battery & 2 & 0.0 & 0.0 & 6153.4 & 6153.4 & 0.0 & $\\dots$ \\\\\n",
       "\t10 & ME\\_battery & 3 & 0.0 & 0.0 & 1293.59 & 1293.59 & 0.0 & $\\dots$ \\\\\n",
       "\t11 & Total & n/a & 0.0 & 0.0 & 79938.9 & 79938.9 & n/a & $\\dots$ \\\\\n",
       "\\end{tabular}\n"
      ],
      "text/plain": [
       "\u001b[1m11×15 DataFrame\u001b[0m\n",
       "\u001b[1m Row \u001b[0m│\u001b[1m Resource                      \u001b[0m\u001b[1m Zone    \u001b[0m\u001b[1m StartCap \u001b[0m\u001b[1m RetCap  \u001b[0m\u001b[1m NewCap    \u001b[0m\u001b[1m E\u001b[0m ⋯\n",
       "     │\u001b[90m String31                      \u001b[0m\u001b[90m String3 \u001b[0m\u001b[90m Float64  \u001b[0m\u001b[90m Float64 \u001b[0m\u001b[90m Float64   \u001b[0m\u001b[90m F\u001b[0m ⋯\n",
       "─────┼──────────────────────────────────────────────────────────────────────────\n",
       "   1 │ MA_natural_gas_combined_cycle  1             0.0      0.0   8004.62     ⋯\n",
       "   2 │ CT_natural_gas_combined_cycle  2             0.0      0.0   2122.53\n",
       "   3 │ ME_natural_gas_combined_cycle  3             0.0      0.0    566.974\n",
       "   4 │ MA_solar_pv                    1             0.0      0.0  18164.4    1\n",
       "   5 │ CT_onshore_wind                2             0.0      0.0  12740.8    1 ⋯\n",
       "   6 │ CT_solar_pv                    2             0.0      0.0  17330.8    1\n",
       "   7 │ ME_onshore_wind                3             0.0      0.0  10694.4    1\n",
       "   8 │ MA_battery                     1             0.0      0.0   2867.41\n",
       "   9 │ CT_battery                     2             0.0      0.0   6153.4      ⋯\n",
       "  10 │ ME_battery                     3             0.0      0.0   1293.59\n",
       "  11 │ Total                          n/a           0.0      0.0  79938.9    7\n",
       "\u001b[36m                                                              10 columns omitted\u001b[0m"
      ]
     },
     "execution_count": 5,
     "metadata": {},
     "output_type": "execute_result"
    }
   ],
   "source": [
    "using CSV\n",
    "using DataFrames\n",
    "results = CSV.read(open(\"example_systems/1_three_zones/results_1/capacity.csv\"),DataFrame)"
   ]
  },
  {
   "cell_type": "markdown",
   "id": "75d31b5a",
   "metadata": {},
   "source": [
    "As you can see, this runs without a problem! To try with your own parameters, edit the `new_params` dictionary with whatever parameters you'd like to try and run the cells again."
   ]
  },
  {
   "cell_type": "markdown",
   "id": "f4f9679f",
   "metadata": {},
   "source": [
    "Finally, let's rewite `genx_settings.yml` to put the original settings in the example back: "
   ]
  },
  {
   "cell_type": "code",
   "execution_count": 35,
   "id": "f407b6bb",
   "metadata": {},
   "outputs": [
    {
     "data": {
      "text/plain": [
       "1"
      ]
     },
     "execution_count": 35,
     "metadata": {},
     "output_type": "execute_result"
    }
   ],
   "source": [
    "genx_settings_TZ[\"ComputeConflicts\"] = 1\n",
    "genx_settings_TZ[\"MinCapReq\"] = 1"
   ]
  },
  {
   "cell_type": "code",
   "execution_count": 36,
   "id": "41b5d0c7",
   "metadata": {},
   "outputs": [],
   "source": [
    "YAML.write_file(\"example_systems/1_three_zones/settings/genx_settings.yml\", genx_settings_TZ)"
   ]
  },
  {
   "cell_type": "code",
   "execution_count": null,
   "id": "97e2522d",
   "metadata": {},
   "outputs": [],
   "source": []
  }
 ],
 "metadata": {
  "@webio": {
   "lastCommId": null,
   "lastKernelId": null
  },
  "kernelspec": {
   "display_name": "Julia 1.9.2",
   "language": "julia",
   "name": "julia-1.9"
  },
  "language_info": {
   "file_extension": ".jl",
   "mimetype": "application/julia",
   "name": "julia",
   "version": "1.9.2"
  }
 },
 "nbformat": 4,
 "nbformat_minor": 5
}
