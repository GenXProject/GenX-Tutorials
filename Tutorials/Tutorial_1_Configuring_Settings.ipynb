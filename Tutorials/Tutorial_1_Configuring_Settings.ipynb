{
 "cells": [
  {
   "cell_type": "markdown",
   "id": "78a5ccd4-f602-4381-aadc-d468cff03ba3",
   "metadata": {},
   "source": [
    "# Tutorial 1: Configuring Settings"
   ]
  },
  {
   "cell_type": "markdown",
   "id": "c78bfdbd",
   "metadata": {},
   "source": [
    "GenX is easy to customize to fit a variety of problems. In this tutorial, we show which settings are available to change, what their defaults are, and how to change them in your code."
   ]
  },
  {
   "cell_type": "markdown",
   "id": "d6814a53",
   "metadata": {},
   "source": [
    "## What settings are there?"
   ]
  },
  {
   "cell_type": "markdown",
   "id": "69655945",
   "metadata": {},
   "source": [
    "There are 21 settings available to edit in GenX, found in the file `genx_settings.yml`. These settings are described <a href=\"https://genxproject.github.io/GenX/dev/data_documentation/\" target=\"_blank\">here</a> in the documentation. The file is located in the `Settings` folder in the working directory. To change the location of the file, edit the `settings_path` variable in `Run.jl` within your directory."
   ]
  },
  {
   "cell_type": "markdown",
   "id": "6e11cc81",
   "metadata": {},
   "source": [
    "Most settings are set as either 0 or 1, which correspond to whether or not to include a specifc feature. For example, to use `TimeDomainReduction`, you would set its parameter to 0 within `genx_settings.yml`. If you would like to run GenX without it, you would set its parameter to 1."
   ]
  },
  {
   "cell_type": "markdown",
   "id": "4c88b3b9",
   "metadata": {},
   "source": [
    "Other settings, such as `CO2Cap`, have more options corresponding to integers, while some settings such as `ModelingtoGenerateAlternativeSlack` take a numerical input directly (in this case, the slack value). Two settings, `Solver` and `TimeDomainReductionFolder` take in text as input. To learn more about different solvers, read here. For `TimeDomainReductionFolder`, specify the name of the directory you wish to see the results in. For a more comprehensive description of the input options, see the documentation linked above."
   ]
  },
  {
   "cell_type": "markdown",
   "id": "a007c7cc",
   "metadata": {},
   "source": [
    "To see how changing the settings affects the outputs, see Tutorials 3 and 7."
   ]
  },
  {
   "cell_type": "markdown",
   "id": "bbd18f76",
   "metadata": {},
   "source": [
    "Below is the settings file for `example_systems/1_three_zones`:"
   ]
  },
  {
   "cell_type": "markdown",
   "id": "57ee59c3",
   "metadata": {},
   "source": [
    "<img src=\"./files/genxsettings.png\" align=\"center\"/>"
   ]
  },
  {
   "cell_type": "markdown",
   "id": "c37c756e",
   "metadata": {},
   "source": [
    "All `genx_settings.yml` files in `Example_Systems` specify most parameters. When configuring your own settings, however, it is not necessary to input all parameters as defaults are specified for each one in `configure_settings.jl`."
   ]
  },
  {
   "cell_type": "markdown",
   "id": "16ec73eb",
   "metadata": {},
   "source": [
    "<img src=\"./files/default_settings.png\" align=\"center\">"
   ]
  },
  {
   "cell_type": "markdown",
   "id": "527e600d",
   "metadata": {},
   "source": [
    "To open `genx_settings.yml` in Jupyter, use the function `YAML.load(open(...))` and navigate to file in the desired directory:"
   ]
  },
  {
   "cell_type": "code",
   "execution_count": null,
   "id": "751b0e46",
   "metadata": {},
   "outputs": [],
   "source": [
    "using YAML\n",
    "using GenX\n",
    "genx_settings_TZ = YAML.load(open(\"example_systems/1_three_zones/settings/genx_settings.yml\"))"
   ]
  },
  {
   "cell_type": "markdown",
   "id": "dcdd15fd",
   "metadata": {},
   "source": [
    "Since all settings have defaults, you only need to specify the settings you would like to change. In fact, you can leave your settings file completely blank and it will still run! Let's try editing `genx_settings` in `SmallNewEngland/OneZone` to contain no parameters:"
   ]
  },
  {
   "cell_type": "code",
   "execution_count": null,
   "id": "f1ea1703",
   "metadata": {},
   "outputs": [],
   "source": [
    "new_params = Dict() # Empty dictionary\n",
    "YAML.write_file(\"example_systems/1_three_zones/settings/genx_settings.yml\", new_params)"
   ]
  },
  {
   "cell_type": "markdown",
   "id": "fbc6ce5d",
   "metadata": {},
   "source": [
    "The empty file will look like this:"
   ]
  },
  {
   "cell_type": "markdown",
   "id": "e24980d7",
   "metadata": {},
   "source": [
    "<img src=\"./files/genx_settings_none.png\" align=\"center\">"
   ]
  },
  {
   "cell_type": "markdown",
   "id": "67a336a9",
   "metadata": {},
   "source": [
    "Now, we run GenX and output the file `capacity.csv` from the `Results` folder. To do this, we use the function `include`, which takes a .jl file and runs it in Jupyter:"
   ]
  },
  {
   "cell_type": "code",
   "execution_count": null,
   "id": "236c0180",
   "metadata": {},
   "outputs": [],
   "source": [
    "include(\"example_systems/1_three_zones/Run.jl\")"
   ]
  },
  {
   "cell_type": "markdown",
   "id": "61f9ac0a",
   "metadata": {},
   "source": [
    "The function `Run.jl` will build and then solve the model according to the specified parameters. These results will then be output into a `results` folder in the same directory. Note that the results folders are __not__ overwritten with each run."
   ]
  },
  {
   "cell_type": "code",
   "execution_count": null,
   "id": "b8ea6030",
   "metadata": {},
   "outputs": [],
   "source": [
    "using CSV\n",
    "using DataFrames\n",
    "results = CSV.read(open(\"example_systems/1_three_zones/results/capacity.csv\"),DataFrame)"
   ]
  },
  {
   "cell_type": "markdown",
   "id": "75d31b5a",
   "metadata": {},
   "source": [
    "As you can see, this runs without a problem! To try with your own parameters, edit the `new_params` dictionary with whatever parameters you'd like to try and run the cells again. Note: to output the results, you'll have to either delete the previous `results` folder, or input the name of the new results folder (e.g. `results_1`) when calling `CSV.read` as above."
   ]
  },
  {
   "cell_type": "markdown",
   "id": "f4f9679f",
   "metadata": {},
   "source": [
    "Finally, let's rewite `genx_settings.yml` to put the original settings in the example back: "
   ]
  },
  {
   "cell_type": "code",
   "execution_count": null,
   "id": "f407b6bb",
   "metadata": {},
   "outputs": [],
   "source": [
    "genx_settings_TZ[\"ComputeConflicts\"] = 1\n",
    "genx_settings_TZ[\"MinCapReq\"] = 1"
   ]
  },
  {
   "cell_type": "code",
   "execution_count": null,
   "id": "41b5d0c7",
   "metadata": {},
   "outputs": [],
   "source": [
    "YAML.write_file(\"example_systems/1_three_zones/settings/genx_settings.yml\", genx_settings_TZ)"
   ]
  },
  {
   "cell_type": "code",
   "execution_count": null,
   "id": "97e2522d",
   "metadata": {},
   "outputs": [],
   "source": []
  }
 ],
 "metadata": {
  "@webio": {
   "lastCommId": null,
   "lastKernelId": null
  },
  "kernelspec": {
   "display_name": "Julia 1.9.2",
   "language": "julia",
   "name": "julia-1.9"
  },
  "language_info": {
   "file_extension": ".jl",
   "mimetype": "application/julia",
   "name": "julia",
   "version": "1.9.2"
  }
 },
 "nbformat": 4,
 "nbformat_minor": 5
}
