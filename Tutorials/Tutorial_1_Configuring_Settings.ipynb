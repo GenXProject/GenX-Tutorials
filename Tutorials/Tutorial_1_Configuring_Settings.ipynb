{
 "cells": [
  {
   "cell_type": "markdown",
   "id": "78a5ccd4-f602-4381-aadc-d468cff03ba3",
   "metadata": {},
   "source": [
    "# Tutorial 1: Configuring Settings"
   ]
  },
  {
   "cell_type": "markdown",
   "id": "c78bfdbd",
   "metadata": {},
   "source": [
    "GenX is easy to customize to fit a variety of problems. In this tutorial, we show which settings are available to change, what their defaults are, and how to change them in your code."
   ]
  },
  {
   "cell_type": "markdown",
   "id": "d6814a53",
   "metadata": {},
   "source": [
    "## What settings are there?"
   ]
  },
  {
   "cell_type": "markdown",
   "id": "69655945",
   "metadata": {},
   "source": [
    "There are 21 settings available to edit in GenX, found in the file `genx_settings.yml`. These settings are described <a href=\"https://genxproject.github.io/GenX/dev/data_documentation/\" target=\"_blank\">here</a> in the documentation. The file is located in the `Settings` folder in the working directory. To change the location of the file, edit the `settings_path` variable in `Run.jl` within your directory."
   ]
  },
  {
   "cell_type": "markdown",
   "id": "6e11cc81",
   "metadata": {},
   "source": [
    "Most settings are set as either 0 or 1, which correspond to whether or not to include a specifc feature. For example, to use `TimeDomainReduction`, you would set its parameter to 0 within `genx_settings.yml`. If you would like to run GenX without it, you would set its parameter to 1."
   ]
  },
  {
   "cell_type": "markdown",
   "id": "4c88b3b9",
   "metadata": {},
   "source": [
    "Other settings, such as `CO2Cap`, have more options corresponding to integers, while some settings such as `ModelingtoGenerateAlternativeSlack` take a numerical input directly (in this case, the slack value). Two settings, `Solver` and `TimeDomainReductionFolder` take in text as input. To learn more about different solvers, read here. For `TimeDomainReductionFolder`, specify the name of the directory you wish to see the results in. For a more comprehensive description of the input options, see the documentation linked above."
   ]
  },
  {
   "cell_type": "markdown",
   "id": "a007c7cc",
   "metadata": {},
   "source": [
    "To see how changing the settings affects the outputs, see Tutorials 3 and 7."
   ]
  },
  {
   "cell_type": "markdown",
   "id": "bbd18f76",
   "metadata": {},
   "source": [
    "Below is the settings file for `SmallNewEngland/OneZone`:"
   ]
  },
  {
   "cell_type": "markdown",
   "id": "57ee59c3",
   "metadata": {},
   "source": [
    "<img src=\"./files/genxsettings_onezone.png\" align=\"center\"/>"
   ]
  },
  {
   "cell_type": "markdown",
   "id": "c37c756e",
   "metadata": {},
   "source": [
    "All `genx_settings.yml` files in `Example_Systems` specify most parameters. When configuring your own settings, however, it is not necessary to input all parameters as defaults are specified for each one in `configure_settings.jl`."
   ]
  },
  {
   "cell_type": "markdown",
   "id": "16ec73eb",
   "metadata": {},
   "source": [
    "<img src=\"./files/default_settings.png\" align=\"center\">"
   ]
  },
  {
   "cell_type": "markdown",
   "id": "527e600d",
   "metadata": {},
   "source": [
    "To open `genx_settings.yml` in Jupyter, use the function `YAML.load(open(...))` and navigate to file in the desired directory:"
   ]
  },
  {
   "cell_type": "code",
   "execution_count": 1,
   "id": "751b0e46",
   "metadata": {},
   "outputs": [
    {
     "data": {
      "text/plain": [
       "Dict{Any, Any} with 21 entries:\n",
       "  \"NetworkExpansion\"                        => 0\n",
       "  \"TimeDomainReductionFolder\"               => \"TDR_Results\"\n",
       "  \"ModelingToGenerateAlternativeIterations\" => 3\n",
       "  \"ParameterScale\"                          => 1\n",
       "  \"EnergyShareRequirement\"                  => 1\n",
       "  \"PrintModel\"                              => 0\n",
       "  \"TimeDomainReduction\"                     => 1\n",
       "  \"Trans_Loss_Segments\"                     => 1\n",
       "  \"CapacityReserveMargin\"                   => 1\n",
       "  \"ModelingtoGenerateAlternativeSlack\"      => 0.1\n",
       "  \"Solver\"                                  => \"HiGHS\"\n",
       "  \"MethodofMorris\"                          => 0\n",
       "  \"Reserves\"                                => 0\n",
       "  \"StorageLosses\"                           => 1\n",
       "  \"OverwriteResults\"                        => 0\n",
       "  \"UCommit\"                                 => 2\n",
       "  \"ModelingToGenerateAlternatives\"          => 0\n",
       "  \"MaxCapReq\"                               => 1\n",
       "  \"MinCapReq\"                               => 1\n",
       "  \"CO2Cap\"                                  => 2\n",
       "  \"WriteShadowPrices\"                       => 1"
      ]
     },
     "execution_count": 1,
     "metadata": {},
     "output_type": "execute_result"
    }
   ],
   "source": [
    "using YAML\n",
    "genx_settings_SNE = YAML.load(open(\"Example_Systems_Tutorials/SmallNewEngland/OneZone/Settings/genx_settings.yml\"))"
   ]
  },
  {
   "cell_type": "markdown",
   "id": "dcdd15fd",
   "metadata": {},
   "source": [
    "Since all settings have defaults, you only need to specify the settings you would like to change. In fact, you can leave your settings file completely blank and it will still run! Let's try editing `genx_settings` in `SmallNewEngland/OneZone` to contain no parameters:"
   ]
  },
  {
   "cell_type": "code",
   "execution_count": 2,
   "id": "f1ea1703",
   "metadata": {},
   "outputs": [],
   "source": [
    "new_params = Dict() # Empty dictionary\n",
    "YAML.write_file(\"Example_Systems_Tutorials/SmallNewEngland/OneZone/Settings/genx_settings.yml\", new_params)"
   ]
  },
  {
   "cell_type": "markdown",
   "id": "fbc6ce5d",
   "metadata": {},
   "source": [
    "The empty file will look like this:"
   ]
  },
  {
   "cell_type": "markdown",
   "id": "e24980d7",
   "metadata": {},
   "source": [
    "<img src=\"./files/genx_settings_none.png\" align=\"center\">"
   ]
  },
  {
   "cell_type": "markdown",
   "id": "67a336a9",
   "metadata": {},
   "source": [
    "Now, we run GenX and output the file `capacity.csv` from the `Results` folder. To do this, we use the function `include`, which takes a .jl file and runs it in jupyter notebook:"
   ]
  },
  {
   "cell_type": "code",
   "execution_count": 3,
   "id": "236c0180",
   "metadata": {},
   "outputs": [
    {
     "name": "stdout",
     "output_type": "stream",
     "text": [
      "Configuring Settings\n",
      "Configuring Solver\n",
      "Loading Inputs\n",
      "Reading Input CSV Files\n",
      "Network.csv Successfully Read!\n",
      "Load_data.csv Successfully Read!\n",
      "Fuels_data.csv Successfully Read!\n",
      "Generators_data.csv Successfully Read!\n",
      "Generators_variability.csv Successfully Read!\n",
      "Validating time basis\n",
      "CSV Files Successfully Read In From /Users/mayamutic/Desktop/GenX-Tutorials/Tutorials/Example_Systems_Tutorials/SmallNewEngland/OneZone\n",
      "Generating the Optimization Model\n",
      "Discharge Module\n",
      "Non-served Energy Module\n",
      "Investment Discharge Module\n",
      "Emissions Module (for CO2 Policy modularization\n",
      "Dispatchable Resources Module\n",
      "Storage Resources Module\n",
      "Storage Investment Module\n",
      "Storage Core Resources Module\n",
      "Storage Resources with Symmetric Charge/Discharge Capacity Module\n",
      "Thermal (No Unit Commitment) Resources Module\n",
      "Time elapsed for model building is\n",
      "3.297960042\n",
      "Solving Model\n",
      "Running HiGHS 1.6.0: Copyright (c) 2023 HiGHS under MIT licence terms\n",
      "Presolving model\n",
      "109294 rows, 56737 cols, 292840 nonzeros\n",
      "104401 rows, 51844 cols, 296648 nonzeros\n",
      "Presolve : Reductions: rows 104401(-27006); columns 51844(-9487); elements 296648(-105909)\n",
      "Solving the presolved LP\n",
      "Using EKK dual simplex solver - serial\n",
      "  Iteration        Objective     Infeasibilities num(sum)\n",
      "          0    -4.2724711023e+02 Ph1: 141(124.391); Du: 25(427.247) 0s\n",
      "      12895     2.6941047538e+09 Pr: 9471(9.1679e+07); Du: 0(9.44308) 5s\n",
      "      61217     5.1701547992e+09 Pr: 0(0); Du: 0(1.85829e-12) 9s\n",
      "Solving the original LP from the solution after postsolve\n",
      "Model   status      : Optimal\n",
      "Simplex   iterations: 61217\n",
      "Objective value     :  5.1701547992e+09\n",
      "HiGHS run time      :          9.16\n",
      "LP solved for primal\n",
      "Writing Output\n",
      "Time elapsed for writing costs is\n",
      "0.687297875\n",
      "Time elapsed for writing storage is\n",
      "0.090037875\n",
      "Time elapsed for writing nse is\n",
      "0.376416458\n",
      "Time elapsed for writing power balance is\n",
      "0.214221\n",
      "Time elapsed for writing emissions is\n",
      "0.208289458\n",
      "Time elapsed for writing reliability is\n",
      "0.18121025\n",
      "Time elapsed for writing storage duals is\n",
      "0.354228292\n",
      "Time elapsed for writing time weights is\n",
      "0.048650084\n",
      "Time elapsed for writing net revenue is\n",
      "0.372462417\n",
      "Wrote outputs to /Users/mayamutic/Desktop/GenX-Tutorials/Tutorials/Example_Systems_Tutorials/SmallNewEngland/OneZone/Results_3\n",
      "Time elapsed for writing is\n",
      "5.056391959\n"
     ]
    }
   ],
   "source": [
    "include(\"Example_Systems_Tutorials/SmallNewEngland/OneZone/Run.jl\")"
   ]
  },
  {
   "cell_type": "code",
   "execution_count": 4,
   "id": "b8ea6030",
   "metadata": {},
   "outputs": [
    {
     "data": {
      "text/html": [
       "<div><div style = \"float: left;\"><span>5×14 DataFrame</span></div><div style = \"clear: both;\"></div></div><div class = \"data-frame\" style = \"overflow-x: scroll;\"><table class = \"data-frame\" style = \"margin-bottom: 6px;\"><thead><tr class = \"header\"><th class = \"rowNumber\" style = \"font-weight: bold; text-align: right;\">Row</th><th style = \"text-align: left;\">Resource</th><th style = \"text-align: left;\">Zone</th><th style = \"text-align: left;\">StartCap</th><th style = \"text-align: left;\">RetCap</th><th style = \"text-align: left;\">NewCap</th><th style = \"text-align: left;\">EndCap</th><th style = \"text-align: left;\">StartEnergyCap</th><th style = \"text-align: left;\">RetEnergyCap</th><th style = \"text-align: left;\">NewEnergyCap</th><th style = \"text-align: left;\">EndEnergyCap</th><th style = \"text-align: left;\">StartChargeCap</th><th style = \"text-align: left;\">RetChargeCap</th><th style = \"text-align: left;\">NewChargeCap</th><th style = \"text-align: left;\">EndChargeCap</th></tr><tr class = \"subheader headerLastRow\"><th class = \"rowNumber\" style = \"font-weight: bold; text-align: right;\"></th><th title = \"String31\" style = \"text-align: left;\">String31</th><th title = \"String3\" style = \"text-align: left;\">String3</th><th title = \"Float64\" style = \"text-align: left;\">Float64</th><th title = \"Float64\" style = \"text-align: left;\">Float64</th><th title = \"Float64\" style = \"text-align: left;\">Float64</th><th title = \"Float64\" style = \"text-align: left;\">Float64</th><th title = \"Float64\" style = \"text-align: left;\">Float64</th><th title = \"Float64\" style = \"text-align: left;\">Float64</th><th title = \"Float64\" style = \"text-align: left;\">Float64</th><th title = \"Float64\" style = \"text-align: left;\">Float64</th><th title = \"Float64\" style = \"text-align: left;\">Float64</th><th title = \"Float64\" style = \"text-align: left;\">Float64</th><th title = \"Float64\" style = \"text-align: left;\">Float64</th><th title = \"Float64\" style = \"text-align: left;\">Float64</th></tr></thead><tbody><tr><td class = \"rowNumber\" style = \"font-weight: bold; text-align: right;\">1</td><td style = \"text-align: left;\">natural_gas_combined_cycle</td><td style = \"text-align: left;\">1</td><td style = \"text-align: right;\">0.0</td><td style = \"text-align: right;\">0.0</td><td style = \"text-align: right;\">14507.1</td><td style = \"text-align: right;\">14507.1</td><td style = \"text-align: right;\">0.0</td><td style = \"text-align: right;\">0.0</td><td style = \"text-align: right;\">0.0</td><td style = \"text-align: right;\">0.0</td><td style = \"text-align: right;\">0.0</td><td style = \"text-align: right;\">0.0</td><td style = \"text-align: right;\">0.0</td><td style = \"text-align: right;\">0.0</td></tr><tr><td class = \"rowNumber\" style = \"font-weight: bold; text-align: right;\">2</td><td style = \"text-align: left;\">solar_pv</td><td style = \"text-align: left;\">1</td><td style = \"text-align: right;\">0.0</td><td style = \"text-align: right;\">0.0</td><td style = \"text-align: right;\">34967.6</td><td style = \"text-align: right;\">34967.6</td><td style = \"text-align: right;\">0.0</td><td style = \"text-align: right;\">0.0</td><td style = \"text-align: right;\">0.0</td><td style = \"text-align: right;\">0.0</td><td style = \"text-align: right;\">0.0</td><td style = \"text-align: right;\">0.0</td><td style = \"text-align: right;\">0.0</td><td style = \"text-align: right;\">0.0</td></tr><tr><td class = \"rowNumber\" style = \"font-weight: bold; text-align: right;\">3</td><td style = \"text-align: left;\">onshore_wind</td><td style = \"text-align: left;\">1</td><td style = \"text-align: right;\">0.0</td><td style = \"text-align: right;\">0.0</td><td style = \"text-align: right;\">27231.4</td><td style = \"text-align: right;\">27231.4</td><td style = \"text-align: right;\">0.0</td><td style = \"text-align: right;\">0.0</td><td style = \"text-align: right;\">0.0</td><td style = \"text-align: right;\">0.0</td><td style = \"text-align: right;\">0.0</td><td style = \"text-align: right;\">0.0</td><td style = \"text-align: right;\">0.0</td><td style = \"text-align: right;\">0.0</td></tr><tr><td class = \"rowNumber\" style = \"font-weight: bold; text-align: right;\">4</td><td style = \"text-align: left;\">battery</td><td style = \"text-align: left;\">1</td><td style = \"text-align: right;\">0.0</td><td style = \"text-align: right;\">0.0</td><td style = \"text-align: right;\">11341.4</td><td style = \"text-align: right;\">11341.4</td><td style = \"text-align: right;\">0.0</td><td style = \"text-align: right;\">0.0</td><td style = \"text-align: right;\">46754.2</td><td style = \"text-align: right;\">46754.2</td><td style = \"text-align: right;\">0.0</td><td style = \"text-align: right;\">0.0</td><td style = \"text-align: right;\">0.0</td><td style = \"text-align: right;\">0.0</td></tr><tr><td class = \"rowNumber\" style = \"font-weight: bold; text-align: right;\">5</td><td style = \"text-align: left;\">Total</td><td style = \"text-align: left;\">n/a</td><td style = \"text-align: right;\">0.0</td><td style = \"text-align: right;\">0.0</td><td style = \"text-align: right;\">88047.5</td><td style = \"text-align: right;\">88047.5</td><td style = \"text-align: right;\">0.0</td><td style = \"text-align: right;\">0.0</td><td style = \"text-align: right;\">46754.2</td><td style = \"text-align: right;\">46754.2</td><td style = \"text-align: right;\">0.0</td><td style = \"text-align: right;\">0.0</td><td style = \"text-align: right;\">0.0</td><td style = \"text-align: right;\">0.0</td></tr></tbody></table></div>"
      ],
      "text/latex": [
       "\\begin{tabular}{r|cccccccc}\n",
       "\t& Resource & Zone & StartCap & RetCap & NewCap & EndCap & StartEnergyCap & \\\\\n",
       "\t\\hline\n",
       "\t& String31 & String3 & Float64 & Float64 & Float64 & Float64 & Float64 & \\\\\n",
       "\t\\hline\n",
       "\t1 & natural\\_gas\\_combined\\_cycle & 1 & 0.0 & 0.0 & 14507.1 & 14507.1 & 0.0 & $\\dots$ \\\\\n",
       "\t2 & solar\\_pv & 1 & 0.0 & 0.0 & 34967.6 & 34967.6 & 0.0 & $\\dots$ \\\\\n",
       "\t3 & onshore\\_wind & 1 & 0.0 & 0.0 & 27231.4 & 27231.4 & 0.0 & $\\dots$ \\\\\n",
       "\t4 & battery & 1 & 0.0 & 0.0 & 11341.4 & 11341.4 & 0.0 & $\\dots$ \\\\\n",
       "\t5 & Total & n/a & 0.0 & 0.0 & 88047.5 & 88047.5 & 0.0 & $\\dots$ \\\\\n",
       "\\end{tabular}\n"
      ],
      "text/plain": [
       "\u001b[1m5×14 DataFrame\u001b[0m\n",
       "\u001b[1m Row \u001b[0m│\u001b[1m Resource                   \u001b[0m\u001b[1m Zone    \u001b[0m\u001b[1m StartCap \u001b[0m\u001b[1m RetCap  \u001b[0m\u001b[1m NewCap  \u001b[0m\u001b[1m EndCap\u001b[0m ⋯\n",
       "     │\u001b[90m String31                   \u001b[0m\u001b[90m String3 \u001b[0m\u001b[90m Float64  \u001b[0m\u001b[90m Float64 \u001b[0m\u001b[90m Float64 \u001b[0m\u001b[90m Float6\u001b[0m ⋯\n",
       "─────┼──────────────────────────────────────────────────────────────────────────\n",
       "   1 │ natural_gas_combined_cycle  1             0.0      0.0  14507.1  14507. ⋯\n",
       "   2 │ solar_pv                    1             0.0      0.0  34967.6  34967.\n",
       "   3 │ onshore_wind                1             0.0      0.0  27231.4  27231.\n",
       "   4 │ battery                     1             0.0      0.0  11341.4  11341.\n",
       "   5 │ Total                       n/a           0.0      0.0  88047.5  88047. ⋯\n",
       "\u001b[36m                                                               9 columns omitted\u001b[0m"
      ]
     },
     "execution_count": 4,
     "metadata": {},
     "output_type": "execute_result"
    }
   ],
   "source": [
    "using CSV\n",
    "using DataFrames\n",
    "results = CSV.read(open(\"Example_Systems_Tutorials/SmallNewEngland/OneZone/Results/capacity.csv\"),DataFrame)"
   ]
  },
  {
   "cell_type": "markdown",
   "id": "75d31b5a",
   "metadata": {},
   "source": [
    "As you can see, this runs without a problem! To try with your own parameters, edit the `new_params` dictionary with whatever parameters you'd like to try and run the cells again."
   ]
  },
  {
   "cell_type": "markdown",
   "id": "f4f9679f",
   "metadata": {},
   "source": [
    "Finally, let's rewite `genx_settings.yml` to put the original settings in the example back: "
   ]
  },
  {
   "cell_type": "code",
   "execution_count": 5,
   "id": "41b5d0c7",
   "metadata": {},
   "outputs": [],
   "source": [
    "YAML.write_file(\"Example_Systems_Tutorials/SmallNewEngland/OneZone/Settings/genx_settings.yml\", genx_settings_SNE)"
   ]
  },
  {
   "cell_type": "code",
   "execution_count": null,
   "id": "97e2522d",
   "metadata": {},
   "outputs": [],
   "source": []
  }
 ],
 "metadata": {
  "@webio": {
   "lastCommId": null,
   "lastKernelId": null
  },
  "kernelspec": {
   "display_name": "Julia 1.9.2",
   "language": "julia",
   "name": "julia-1.9"
  },
  "language_info": {
   "file_extension": ".jl",
   "mimetype": "application/julia",
   "name": "julia",
   "version": "1.9.2"
  }
 },
 "nbformat": 4,
 "nbformat_minor": 5
}
