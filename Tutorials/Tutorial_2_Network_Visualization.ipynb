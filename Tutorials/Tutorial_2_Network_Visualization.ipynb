{
 "cells": [
  {
   "cell_type": "markdown",
   "id": "3ce667ff",
   "metadata": {},
   "source": [
    "# Tutorial 2: Network Visualization"
   ]
  },
  {
   "cell_type": "markdown",
   "id": "71b0f263",
   "metadata": {},
   "source": [
    "To run GenX, there are five mandatory input files: `Fuels_data.csv`, `Network.csv`, `Load_data.csv`, `Generators_variability.csv`, and `Generators_data.csv`. Detailed descriptions of these files can be found <a href=\"https://genxproject.github.io/GenX/dev/data_documentation/\" target=\"_blank\">here</a> in the documentation under \"Inputs\". This tutorial helps visualize the file `Network.csv` using the example system `SmallNewEngland/ThreeZones`."
   ]
  },
  {
   "cell_type": "code",
   "execution_count": 1,
   "id": "fa98763b",
   "metadata": {},
   "outputs": [],
   "source": [
    "using CSV\n",
    "using DataFrames"
   ]
  },
  {
   "cell_type": "markdown",
   "id": "d5f37531",
   "metadata": {},
   "source": [
    "The input file `Network.csv` contains the nodes of your network, how they connect to each other, and some important features about them. Below is the network file for `SmallNewEngland/ThreeZones`:"
   ]
  },
  {
   "cell_type": "code",
   "execution_count": 2,
   "id": "bcaa924c",
   "metadata": {},
   "outputs": [
    {
     "data": {
      "text/html": [
       "<div><div style = \"float: left;\"><span>3×15 DataFrame</span></div><div style = \"clear: both;\"></div></div><div class = \"data-frame\" style = \"overflow-x: scroll;\"><table class = \"data-frame\" style = \"margin-bottom: 6px;\"><thead><tr class = \"header\"><th class = \"rowNumber\" style = \"font-weight: bold; text-align: right;\">Row</th><th style = \"text-align: left;\">Column1</th><th style = \"text-align: left;\">Network_zones</th><th style = \"text-align: left;\">Network_Lines</th><th style = \"text-align: left;\">z1</th><th style = \"text-align: left;\">z2</th><th style = \"text-align: left;\">z3</th><th style = \"text-align: left;\">Line_Max_Flow_MW</th><th style = \"text-align: left;\">transmission_path_name</th><th style = \"text-align: left;\">distance_mile</th><th style = \"text-align: left;\">Line_Loss_Percentage</th><th style = \"text-align: left;\">Line_Max_Reinforcement_MW</th><th style = \"text-align: left;\">Line_Reinforcement_Cost_per_MWyr</th><th style = \"text-align: left;\">DerateCapRes_1</th><th style = \"text-align: left;\">CapRes_1</th><th style = \"text-align: left;\">CapRes_Excl_1</th></tr><tr class = \"subheader headerLastRow\"><th class = \"rowNumber\" style = \"font-weight: bold; text-align: right;\"></th><th title = \"String3\" style = \"text-align: left;\">String3</th><th title = \"String3\" style = \"text-align: left;\">String3</th><th title = \"String3\" style = \"text-align: left;\">String3</th><th title = \"String3\" style = \"text-align: left;\">String3</th><th title = \"String3\" style = \"text-align: left;\">String3</th><th title = \"String3\" style = \"text-align: left;\">String3</th><th title = \"String7\" style = \"text-align: left;\">String7</th><th title = \"String15\" style = \"text-align: left;\">String15</th><th title = \"String15\" style = \"text-align: left;\">String15</th><th title = \"String15\" style = \"text-align: left;\">String15</th><th title = \"String7\" style = \"text-align: left;\">String7</th><th title = \"String7\" style = \"text-align: left;\">String7</th><th title = \"String7\" style = \"text-align: left;\">String7</th><th title = \"String3\" style = \"text-align: left;\">String3</th><th title = \"Union{Missing, Int64}\" style = \"text-align: left;\">Int64?</th></tr></thead><tbody><tr><td class = \"rowNumber\" style = \"font-weight: bold; text-align: right;\">1</td><td style = \"text-align: left;\">MA</td><td style = \"text-align: left;\">z1</td><td style = \"text-align: left;\">1</td><td style = \"text-align: left;\">1</td><td style = \"text-align: left;\">-1</td><td style = \"text-align: left;\">0</td><td style = \"text-align: left;\">2950</td><td style = \"text-align: left;\">MA_to_CT</td><td style = \"text-align: left;\">123.0584</td><td style = \"text-align: left;\">0.012305837</td><td style = \"text-align: left;\">2950</td><td style = \"text-align: left;\">12060</td><td style = \"text-align: left;\">0.95</td><td style = \"text-align: left;\">0</td><td style = \"text-align: right;\">0</td></tr><tr><td class = \"rowNumber\" style = \"font-weight: bold; text-align: right;\">2</td><td style = \"text-align: left;\">CT</td><td style = \"text-align: left;\">z2</td><td style = \"text-align: left;\">2</td><td style = \"text-align: left;\">1</td><td style = \"text-align: left;\">0</td><td style = \"text-align: left;\">-1</td><td style = \"text-align: left;\">2000</td><td style = \"text-align: left;\">MA_to_ME</td><td style = \"text-align: left;\">196.5385</td><td style = \"text-align: left;\">0.019653847</td><td style = \"text-align: left;\">2000</td><td style = \"text-align: left;\">19261</td><td style = \"text-align: left;\">0.95</td><td style = \"text-align: left;\">0</td><td style = \"text-align: right;\">0</td></tr><tr><td class = \"rowNumber\" style = \"font-weight: bold; text-align: right;\">3</td><td style = \"text-align: left;\">ME</td><td style = \"text-align: left;\">z3</td><td style = \"text-align: left;\"></td><td style = \"text-align: left;\"></td><td style = \"text-align: left;\"></td><td style = \"text-align: left;\"></td><td style = \"text-align: left;\"></td><td style = \"text-align: left;\"></td><td style = \"text-align: left;\"></td><td style = \"text-align: left;\"></td><td style = \"text-align: left;\"></td><td style = \"text-align: left;\"></td><td style = \"text-align: left;\"></td><td style = \"text-align: left;\"></td><td style = \"font-style: italic; text-align: right;\">missing</td></tr></tbody></table></div>"
      ],
      "text/latex": [
       "\\begin{tabular}{r|cccccccc}\n",
       "\t& Column1 & Network\\_zones & Network\\_Lines & z1 & z2 & z3 & Line\\_Max\\_Flow\\_MW & \\\\\n",
       "\t\\hline\n",
       "\t& String3 & String3 & String3 & String3 & String3 & String3 & String7 & \\\\\n",
       "\t\\hline\n",
       "\t1 & MA & z1 & 1 & 1 & -1 & 0 & 2950 & $\\dots$ \\\\\n",
       "\t2 & CT & z2 & 2 & 1 & 0 & -1 & 2000 & $\\dots$ \\\\\n",
       "\t3 & ME & z3 &  &  &  &  &  & $\\dots$ \\\\\n",
       "\\end{tabular}\n"
      ],
      "text/plain": [
       "\u001b[1m3×15 DataFrame\u001b[0m\n",
       "\u001b[1m Row \u001b[0m│\u001b[1m Column1 \u001b[0m\u001b[1m Network_zones \u001b[0m\u001b[1m Network_Lines \u001b[0m\u001b[1m z1      \u001b[0m\u001b[1m z2      \u001b[0m\u001b[1m z3      \u001b[0m\u001b[1m Line_\u001b[0m ⋯\n",
       "     │\u001b[90m String3 \u001b[0m\u001b[90m String3       \u001b[0m\u001b[90m String3       \u001b[0m\u001b[90m String3 \u001b[0m\u001b[90m String3 \u001b[0m\u001b[90m String3 \u001b[0m\u001b[90m Strin\u001b[0m ⋯\n",
       "─────┼──────────────────────────────────────────────────────────────────────────\n",
       "   1 │ MA       z1             1              1        -1       0        2950  ⋯\n",
       "   2 │ CT       z2             2              1        0        -1       2000\n",
       "   3 │ ME       z3\n",
       "\u001b[36m                                                               9 columns omitted\u001b[0m"
      ]
     },
     "execution_count": 2,
     "metadata": {},
     "output_type": "execute_result"
    }
   ],
   "source": [
    "network = CSV.read(\"Example_Systems_Tutorials/SmallNewEngland/ThreeZones/Network.csv\",DataFrame,missingstring=\"NA\")"
   ]
  },
  {
   "cell_type": "markdown",
   "id": "b9aafe7b",
   "metadata": {},
   "source": [
    "Here, MA, CT, and ME are the abbreviations for states Massachusetts, Connecticut, and Maine. However, since the US region of New England contains other states as well, MA in this case is also used to refer to those states."
   ]
  },
  {
   "cell_type": "markdown",
   "id": "ca18429c",
   "metadata": {},
   "source": [
    "Columns `z1, z2, z3` specify an adjacency matrix forming the network of the three regions. In this case, there are only two network lines, specified in the `Network_Lines` columns. The `z1` column indicates that the first node, MA, is the source of both lines as both rows have value 1. Columns `z2` and `z3` both have values of -1, which  means both nodes CT and ME recieve energy from node MA:"
   ]
  },
  {
   "cell_type": "markdown",
   "id": "6a52eb00",
   "metadata": {},
   "source": [
    "<img src=\"./files/new_england.png\" style=\"width: 600px; height: auto\" align=\"left\">"
   ]
  },
  {
   "cell_type": "code",
   "execution_count": null,
   "id": "d89f8c96",
   "metadata": {},
   "outputs": [],
   "source": []
  }
 ],
 "metadata": {
  "@webio": {
   "lastCommId": "fc0f820244604246883d86769d1ee81e",
   "lastKernelId": "fe2974c1-a6eb-44fd-a055-4ab959e12c31"
  },
  "kernelspec": {
   "display_name": "Julia 1.9.2",
   "language": "julia",
   "name": "julia-1.9"
  },
  "language_info": {
   "file_extension": ".jl",
   "mimetype": "application/julia",
   "name": "julia",
   "version": "1.9.2"
  }
 },
 "nbformat": 4,
 "nbformat_minor": 5
}
