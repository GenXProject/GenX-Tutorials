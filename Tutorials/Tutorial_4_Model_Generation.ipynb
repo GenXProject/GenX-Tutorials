{
 "cells": [
  {
   "cell_type": "markdown",
   "id": "ba6a05de",
   "metadata": {},
   "source": [
    "# Tutorial 4: Model Generation"
   ]
  },
  {
   "cell_type": "markdown",
   "id": "e1dac019",
   "metadata": {},
   "source": [
    "To run GenX, we use the file `Run.jl`. This file will solve the optimization problem and generate the output files as described in the documentation and previous tutorial. It does so by first generating the model, then solving the model, both according to settings described in `genx_settings.yml`. However, `Run.jl` only contains one commmand, `run_genx_case!(dirname(@__FILE__))`. This can be confusing for users viewing the files for the first time. In reality, this function signals many more functions to run, generating and solving the model. This tutorial explains how the model in GenX is generated. The next tutorial will then describe how it is solved."
   ]
  },
  {
   "cell_type": "markdown",
   "id": "e3ee0f53",
   "metadata": {},
   "source": [
    "We'll start by explaining JuMP, the optimization package that GenX uses to generate and solve the model."
   ]
  },
  {
   "cell_type": "markdown",
   "id": "a8ac49d1",
   "metadata": {},
   "source": [
    "### Table of Contents\n",
    "* [JuMP](#JuMP)\n",
    "* [Generate Model](#GenerateModel)\n",
    "    * [Arguments](#Arguments)\n",
    "    * [Run generate_model](#Run)\n"
   ]
  },
  {
   "cell_type": "markdown",
   "id": "a4d346c0",
   "metadata": {},
   "source": [
    "### JuMP <a id=\"JuMP\"></a>"
   ]
  },
  {
   "cell_type": "markdown",
   "id": "3156389f",
   "metadata": {},
   "source": [
    "<img src=\"./files/jump_logo.png\" style=\"width: 450px; height: auto\" align=\"left\">"
   ]
  },
  {
   "cell_type": "markdown",
   "id": "a05a2287",
   "metadata": {},
   "source": [
    "JuMP is a modeling language for Julia. It allows users to create models for optimization problems, define variables and constraints, and apply a variety of solvers for the model. "
   ]
  },
  {
   "cell_type": "markdown",
   "id": "fb8d6bdc",
   "metadata": {},
   "source": [
    "GenX is a __Linear Program (LP)__, which is a form of optimization problem in which a linear objective is minimized (or maximized) according to a set of linear constraints. For more information on LPs, see the <a href=\"https://en.wikipedia.org/wiki/Linear_programming\" target=\"_blank\">Wikipedia</a>. "
   ]
  },
  {
   "cell_type": "code",
   "execution_count": 1,
   "id": "a9ef6dcd",
   "metadata": {},
   "outputs": [
    {
     "name": "stderr",
     "output_type": "stream",
     "text": [
      "\u001b[36m\u001b[1m[ \u001b[22m\u001b[39m\u001b[36m\u001b[1mInfo: \u001b[22m\u001b[39mPrecompiling JuMP [4076af6c-e467-56ae-b986-b466b2749572]\n",
      "\u001b[36m\u001b[1m[ \u001b[22m\u001b[39m\u001b[36m\u001b[1mInfo: \u001b[22m\u001b[39mPrecompiling HiGHS [87dc4568-4c63-4d18-b0c0-bb2238e4078b]\n"
     ]
    }
   ],
   "source": [
    "using JuMP\n",
    "using HiGHS"
   ]
  },
  {
   "cell_type": "markdown",
   "id": "08cc4fbb",
   "metadata": {},
   "source": [
    "Let's say we want to build a power grid consisting of and coal and wind plants. We want to decrease the cost of producing energy while still meeting a certain emissions threshold and full grid demand. Coal plants are cheaper to build and run but have higher emissions than wind farms. To find the minimum cost of a power grid meeting these constraints, we construct an LP using JuMP."
   ]
  },
  {
   "cell_type": "markdown",
   "id": "6b27efe5",
   "metadata": {},
   "source": [
    "\\begin{align}\n",
    "& \\min 10 x + 15 y &\\text{Objective function (cost)}\\\\ \n",
    "& \\text{s.t.} & \\\\\n",
    "& x + y \\geq 10 &\\text{Grid Demand}\\\\\n",
    "& 55x + 70y \\leq \\ 1000 &\\text{Construction constraint}\\\\\n",
    "& 40 x + 5 y \\leq 200 &\\text{Emissions constraint} \\\\\n",
    "& x, y \\geq 0 &\\text{Non-negativity constraints}\\\\\n",
    "\\end{align}\n",
    "\n"
   ]
  },
  {
   "cell_type": "markdown",
   "id": "3352aec3",
   "metadata": {},
   "source": [
    "The core of the JuMP model is the function `Model()`, which creates the structure of our LP. `Model()` takes an optimizer as its input."
   ]
  },
  {
   "cell_type": "code",
   "execution_count": null,
   "id": "a9945823",
   "metadata": {},
   "outputs": [],
   "source": [
    "power = Model(HiGHS.Optimizer)"
   ]
  },
  {
   "cell_type": "markdown",
   "id": "bfc8c191",
   "metadata": {},
   "source": [
    "The model needs variables, defined using the JuMP function `@variable`:"
   ]
  },
  {
   "cell_type": "code",
   "execution_count": null,
   "id": "32a200e2",
   "metadata": {},
   "outputs": [],
   "source": [
    "@variable(power,x) # Coal\n",
    "@variable(power,y) # Wind"
   ]
  },
  {
   "cell_type": "markdown",
   "id": "74622269",
   "metadata": {},
   "source": [
    "Using the JuMP function `@constraint`, we can add the constraints of the model:"
   ]
  },
  {
   "cell_type": "code",
   "execution_count": null,
   "id": "1aa690b4",
   "metadata": {},
   "outputs": [],
   "source": [
    "@constraint(power, non_neg_x, x >= 0) # Non-negativity constraint (can't have negative power plants!)\n",
    "@constraint(power, non_neg_y, y >= 0) # Non-negativity constraint\n",
    "\n",
    "@constraint(power, emissions, 40x + 5y <= 200) # Emisisons constraint\n",
    "@constraint(power, construction_costs, 55x + 70y <= 1000) # Cost of constructing a new plant\n",
    "\n",
    "@constraint(power, demand, x + y >= 10) # Grid demand\n"
   ]
  },
  {
   "cell_type": "markdown",
   "id": "3f866173",
   "metadata": {},
   "source": [
    "Next, the function `@expression` defines an expression that can be used in either a constraint or objective function. In GenX, expressions are defined throughout the model generation and put into constraints and the objective function later."
   ]
  },
  {
   "cell_type": "code",
   "execution_count": null,
   "id": "c28c6c46",
   "metadata": {},
   "outputs": [],
   "source": [
    "@expression(power,objective,10x+15y)"
   ]
  },
  {
   "cell_type": "markdown",
   "id": "3dc98c35",
   "metadata": {},
   "source": [
    "Finally, we define the objective function itself:"
   ]
  },
  {
   "cell_type": "code",
   "execution_count": null,
   "id": "7521881d",
   "metadata": {},
   "outputs": [],
   "source": [
    "@objective(power, Min, objective)"
   ]
  },
  {
   "cell_type": "markdown",
   "id": "4527886e",
   "metadata": {},
   "source": [
    "Our model is now set up! "
   ]
  },
  {
   "cell_type": "code",
   "execution_count": null,
   "id": "399e2977",
   "metadata": {},
   "outputs": [],
   "source": [
    "print(power)"
   ]
  },
  {
   "cell_type": "markdown",
   "id": "5c5d3583",
   "metadata": {},
   "source": [
    "In the next Tutorial, we go over how to use JuMP to solve the model we've constructed."
   ]
  },
  {
   "cell_type": "markdown",
   "id": "f5703912",
   "metadata": {},
   "source": [
    "When `Run.jl` is called, the model for GenX is constructed in a similar way, but with many more factors to consider. The next section goes over how the GenX model is constructed before it is solved."
   ]
  },
  {
   "cell_type": "markdown",
   "id": "62728894",
   "metadata": {},
   "source": [
    "### Generate Model <a id=\"GenerateModel\"></a>"
   ]
  },
  {
   "cell_type": "markdown",
   "id": "1cd9bce5",
   "metadata": {},
   "source": [
    "The basic structure of the way `Run.jl` generates and solves the model is as follows:"
   ]
  },
  {
   "cell_type": "markdown",
   "id": "a2ff61f5",
   "metadata": {},
   "source": [
    "<img src=\"./files/LatexHierarchy.png\" style=\"width: 650px; height: auto\" align=\"left\">"
   ]
  },
  {
   "cell_type": "markdown",
   "id": "57d6ae0c",
   "metadata": {},
   "source": [
    "The function `run_genx_case(case)` takes the \"case\" as its input. The case is all of the input files and settings found in the same folder as `Run.jl`. For example, in `example_systems/1_three_zones`, the case is:"
   ]
  },
  {
   "cell_type": "code",
   "execution_count": 2,
   "id": "a3ead0c9",
   "metadata": {},
   "outputs": [
    {
     "data": {
      "text/plain": [
       "16-element Vector{String}:\n",
       " \".DS_Store\"\n",
       " \"CO2_cap.csv\"\n",
       " \"Demand_data.csv\"\n",
       " \"Fuels_data.csv\"\n",
       " \"Generators_variability.csv\"\n",
       " \"Minimum_capacity_requirement.csv\"\n",
       " \"Network.csv\"\n",
       " \"README.md\"\n",
       " \"Resource_minimum_capacity_requirement.csv\"\n",
       " \"Results\"\n",
       " \"Run.jl\"\n",
       " \"TDR_Results\"\n",
       " \"policies\"\n",
       " \"resources\"\n",
       " \"settings\"\n",
       " \"system\""
      ]
     },
     "execution_count": 2,
     "metadata": {},
     "output_type": "execute_result"
    }
   ],
   "source": [
    "cd(readdir,\"example_systems/1_three_zones\")"
   ]
  },
  {
   "cell_type": "markdown",
   "id": "69dc6e2b",
   "metadata": {},
   "source": [
    "`Run_genx_case` defines the __setup__, which are the settings in `genx_settings.yml`. From there, either `run_genx_case_simple(case, mysetup)` or`run_genx_case_multistage(case, mysetup)` is called. Both of these define the __inputs__ and __optimizer__. The inputs are a variety of parameters specified by the settings and csv files found in the folder. The optimizer is either specified in `Run.jl`, or is set to HiGHS by default. Both of these functions then call `generate_model(mysetup, myinputs, OPTIMIZER)`, which is the main subject of this tutorial."
   ]
  },
  {
   "cell_type": "markdown",
   "id": "3d36b816",
   "metadata": {},
   "source": [
    "As in the above example, `generate_model` utilizes the JuMP functions `Model()`, `@expression`, `@variable`, and `@constraints` to form a model. This section goes through `generate_model` and explains how the expressions are formed to create the model."
   ]
  },
  {
   "cell_type": "markdown",
   "id": "80b29206",
   "metadata": {},
   "source": [
    "#### Arguments <a id=\"Arguments\"></a>"
   ]
  },
  {
   "cell_type": "markdown",
   "id": "7cd1edbf",
   "metadata": {},
   "source": [
    "`Generate_model` takes three arguments: setup, inputs, and optimizer:"
   ]
  },
  {
   "cell_type": "markdown",
   "id": "5b27948a",
   "metadata": {},
   "source": [
    "To generate the arguments, we have to set a case path (this is set automatically when `Run.jl` is called):"
   ]
  },
  {
   "cell_type": "code",
   "execution_count": 3,
   "id": "8163a1d3",
   "metadata": {},
   "outputs": [
    {
     "name": "stderr",
     "output_type": "stream",
     "text": [
      "\u001b[32m\u001b[1m    Updating\u001b[22m\u001b[39m registry at `~/.julia/registries/General.toml`\n"
     ]
    },
    {
     "ename": "LoadError",
     "evalue": "expected package `GenX [5d317b1e]` to be registered",
     "output_type": "error",
     "traceback": [
      "expected package `GenX [5d317b1e]` to be registered",
      "",
      "Stacktrace:",
      "  [1] pkgerror(msg::String)",
      "    @ Pkg.Types /Applications/Julia-1.9.app/Contents/Resources/julia/share/julia/stdlib/v1.9/Pkg/src/Types.jl:69",
      "  [2] check_registered",
      "    @ /Applications/Julia-1.9.app/Contents/Resources/julia/share/julia/stdlib/v1.9/Pkg/src/Operations.jl:1284 [inlined]",
      "  [3] up(ctx::Pkg.Types.Context, pkgs::Vector{Pkg.Types.PackageSpec}, level::Pkg.Types.UpgradeLevel; skip_writing_project::Bool, preserve::Nothing)",
      "    @ Pkg.Operations /Applications/Julia-1.9.app/Contents/Resources/julia/share/julia/stdlib/v1.9/Pkg/src/Operations.jl:1533",
      "  [4] up(ctx::Pkg.Types.Context, pkgs::Vector{Pkg.Types.PackageSpec}; level::Pkg.Types.UpgradeLevel, mode::Pkg.Types.PackageMode, preserve::Nothing, update_registry::Bool, skip_writing_project::Bool, kwargs::Base.Pairs{Symbol, Union{}, Tuple{}, NamedTuple{(), Tuple{}}})",
      "    @ Pkg.API /Applications/Julia-1.9.app/Contents/Resources/julia/share/julia/stdlib/v1.9/Pkg/src/API.jl:348",
      "  [5] up",
      "    @ /Applications/Julia-1.9.app/Contents/Resources/julia/share/julia/stdlib/v1.9/Pkg/src/API.jl:323 [inlined]",
      "  [6] #up#48",
      "    @ /Applications/Julia-1.9.app/Contents/Resources/julia/share/julia/stdlib/v1.9/Pkg/src/API.jl:161 [inlined]",
      "  [7] up",
      "    @ /Applications/Julia-1.9.app/Contents/Resources/julia/share/julia/stdlib/v1.9/Pkg/src/API.jl:161 [inlined]",
      "  [8] instantiate(ctx::Pkg.Types.Context; manifest::Nothing, update_registry::Bool, verbose::Bool, platform::Base.BinaryPlatforms.Platform, allow_build::Bool, allow_autoprecomp::Bool, kwargs::Base.Pairs{Symbol, Union{}, Tuple{}, NamedTuple{(), Tuple{}}})",
      "    @ Pkg.API /Applications/Julia-1.9.app/Contents/Resources/julia/share/julia/stdlib/v1.9/Pkg/src/API.jl:1677",
      "  [9] instantiate",
      "    @ /Applications/Julia-1.9.app/Contents/Resources/julia/share/julia/stdlib/v1.9/Pkg/src/API.jl:1653 [inlined]",
      " [10] instantiate(; kwargs::Base.Pairs{Symbol, Union{}, Tuple{}, NamedTuple{(), Tuple{}}})",
      "    @ Pkg.API /Applications/Julia-1.9.app/Contents/Resources/julia/share/julia/stdlib/v1.9/Pkg/src/API.jl:1652",
      " [11] instantiate()",
      "    @ Pkg.API /Applications/Julia-1.9.app/Contents/Resources/julia/share/julia/stdlib/v1.9/Pkg/src/API.jl:1652",
      " [12] top-level scope",
      "    @ In[3]:2"
     ]
    }
   ],
   "source": [
    "using Pkg\n",
    "Pkg.instantiate()"
   ]
  },
  {
   "cell_type": "code",
   "execution_count": 4,
   "id": "84251e21",
   "metadata": {},
   "outputs": [
    {
     "data": {
      "text/plain": [
       "\"example_systems/1_three_zones\""
      ]
     },
     "execution_count": 4,
     "metadata": {},
     "output_type": "execute_result"
    }
   ],
   "source": [
    "case = joinpath(\"example_systems/1_three_zones\") "
   ]
  },
  {
   "cell_type": "markdown",
   "id": "d1c872b5",
   "metadata": {},
   "source": [
    "Setup includes the settings from `genx_settings.yml` along with the default settings found in `configure_settings.jl`. The function `configure_settings` combines the two."
   ]
  },
  {
   "cell_type": "code",
   "execution_count": 5,
   "id": "42da44fc",
   "metadata": {},
   "outputs": [
    {
     "name": "stdout",
     "output_type": "stream",
     "text": [
      "Configuring Settings\n"
     ]
    },
    {
     "data": {
      "text/plain": [
       "Dict{Any, Any} with 28 entries:\n",
       "  \"HydrogenHourlyMatching\"             => 0\n",
       "  \"NetworkExpansion\"                   => 1\n",
       "  \"TimeDomainReductionFolder\"          => \"TDR_Results\"\n",
       "  \"WriteOutputs\"                       => \"full\"\n",
       "  \"EnableJuMPStringNames\"              => 1\n",
       "  \"ParameterScale\"                     => 1\n",
       "  \"EnergyShareRequirement\"             => 0\n",
       "  \"PrintModel\"                         => 0\n",
       "  \"TimeDomainReduction\"                => 1\n",
       "  \"Trans_Loss_Segments\"                => 1\n",
       "  \"CapacityReserveMargin\"              => 0\n",
       "  \"ModelingtoGenerateAlternativeSlack\" => 0.1\n",
       "  \"MethodofMorris\"                     => 0\n",
       "  \"Reserves\"                           => 0\n",
       "  \"StorageLosses\"                      => 1\n",
       "  \"MultiStage\"                         => 0\n",
       "  \"IncludeLossesInESR\"                 => 0\n",
       "  \"ComputeConflicts\"                   => 1\n",
       "  \"OverwriteResults\"                   => 0\n",
       "  \"WriteOutputsSettingsDict\"           => Dict{String, Bool}(\"WriteReserveMargi…\n",
       "  \"VirtualChargeDischargeCost\"         => 1\n",
       "  \"UCommit\"                            => 2\n",
       "  \"ModelingToGenerateAlternatives\"     => 0\n",
       "  \"ResourcePath\"                       => \"Resources\"\n",
       "  \"MaxCapReq\"                          => 0\n",
       "  ⋮                                    => ⋮"
      ]
     },
     "execution_count": 5,
     "metadata": {},
     "output_type": "execute_result"
    }
   ],
   "source": [
    "genx_settings = GenX.get_settings_path(case, \"genx_settings.yml\") # Settings YAML file path\n",
    "writeoutput_settings = GenX.get_settings_path(case, \"output_settings.yml\") # Set output path\n",
    "setup = GenX.configure_settings(genx_settings,writeoutput_settings) # Combines genx_settings with defaults not specified in the file"
   ]
  },
  {
   "cell_type": "markdown",
   "id": "f108c66d",
   "metadata": {},
   "source": [
    "It's here that we create the folder `TDR_Results` before generating the model. This occurs if TimeDomainReduction is set to 1 in the setup. As a reminder, `TDR_Results` is __not__ overwritten when called again. You may need to delete an already existing TDR folder before running the cell below."
   ]
  },
  {
   "cell_type": "code",
   "execution_count": 7,
   "id": "c0b3a1bf",
   "metadata": {},
   "outputs": [
    {
     "name": "stdout",
     "output_type": "stream",
     "text": [
      "Clustering Time Series Data (Grouped)...\n",
      "Reading Input CSV Files\n",
      "Network.csv Successfully Read!\n",
      "Demand (load) data Successfully Read!\n",
      "Fuels_data.csv Successfully Read!\n"
     ]
    },
    {
     "name": "stderr",
     "output_type": "stream",
     "text": [
      "\u001b[36m\u001b[1m[ \u001b[22m\u001b[39m\u001b[36m\u001b[1mInfo: \u001b[22m\u001b[39mThermal.csv Successfully Read.\n",
      "\u001b[36m\u001b[1m[ \u001b[22m\u001b[39m\u001b[36m\u001b[1mInfo: \u001b[22m\u001b[39mVre.csv Successfully Read.\n",
      "\u001b[36m\u001b[1m[ \u001b[22m\u001b[39m\u001b[36m\u001b[1mInfo: \u001b[22m\u001b[39mStorage.csv Successfully Read.\n"
     ]
    },
    {
     "name": "stdout",
     "output_type": "stream",
     "text": [
      "\n",
      "Summary of resources loaded into the model:\n",
      "-------------------------------------------------------\n",
      "\tResource type \t\tNumber of resources\n",
      "=======================================================\n",
      "\tThermal        \t\t3\n",
      "\tVRE            \t\t4\n",
      "\tStorage        \t\t3\n",
      "=======================================================\n",
      "Total number of resources: 10\n",
      "-------------------------------------------------------\n",
      "Generators_variability.csv Successfully Read!\n",
      "Validating time basis\n",
      "Minimum_capacity_requirement.csv Successfully Read!\n",
      "CO2_cap.csv Successfully Read!\n",
      "CSV Files Successfully Read In From example_systems/1_three_zones\n",
      "Error: Geography Key 1 is invalid. Select `System' or `Zone'.\n"
     ]
    },
    {
     "data": {
      "text/plain": [
       "Dict{String, Any} with 9 entries:\n",
       "  \"RMSE\"          => Dict(\"ME_NG\"=>0.224016, \"ME_onshore_wind_z3\"=>0.314726, \"D…\n",
       "  \"OutputDF\"      => \u001b[1m1848×19 DataFrame\u001b[0m\u001b[0m…\n",
       "  \"ColToZoneMap\"  => Dict(\"Demand_MW_z3\"=>3, \"CT_battery_z2\"=>2, \"MA_natural_ga…\n",
       "  \"ClusterObject\" => KmeansResult{Matrix{Float64}, Float64, Int64}([-0.712597 1…\n",
       "  \"TDRsetup\"      => Dict{Any, Any}(\"IterativelyAddPeriods\"=>1, \"ExtremePeriods…\n",
       "  \"Assignments\"   => [1, 1, 1, 1, 2, 11, 2, 3, 3, 4  …  7, 5, 10, 10, 10, 10, 1…\n",
       "  \"InputDF\"       => \u001b[1m1680×52 DataFrame\u001b[0m\u001b[0m…\n",
       "  \"Weights\"       => [673.846, 336.923, 505.385, 673.846, 842.308, 1010.77, 134…\n",
       "  \"Centers\"       => Any[4, 5, 8, 12, 17, 20, 23, 28, 34, 48, 49]"
      ]
     },
     "execution_count": 7,
     "metadata": {},
     "output_type": "execute_result"
    }
   ],
   "source": [
    "TDRpath = joinpath(case, setup[\"TimeDomainReductionFolder\"])\n",
    "settings_path = GenX.get_settings_path(case)\n",
    "\n",
    "if setup[\"TimeDomainReduction\"] == 1\n",
    "    GenX.prevent_doubled_timedomainreduction(case)\n",
    "    if !GenX.time_domain_reduced_files_exist(TDRpath)\n",
    "        println(\"Clustering Time Series Data (Grouped)...\")\n",
    "        GenX.cluster_inputs(case, settings_path, setup)\n",
    "    else\n",
    "        println(\"Time Series Data Already Clustered.\")\n",
    "    end\n",
    "end"
   ]
  },
  {
   "cell_type": "markdown",
   "id": "da83ff82",
   "metadata": {},
   "source": [
    "Then we configure the optimizer:"
   ]
  },
  {
   "cell_type": "code",
   "execution_count": 8,
   "id": "c2048713",
   "metadata": {},
   "outputs": [],
   "source": [
    "OPTIMIZER =  GenX.configure_solver(settings_path,HiGHS.Optimizer);"
   ]
  },
  {
   "cell_type": "markdown",
   "id": "efbe1a98",
   "metadata": {},
   "source": [
    "The function `configure_solver` sets a <a href=\"https://jump.dev/MathOptInterface.jl/stable/\" target=\"_blank\">MathOptInterface</a> optimizer so it can be used in the JuMP model as the optimizer. It also goes into the settings file for the specified solver (in this case HiGHS, so `1_three_zones/Settings/highs_settings.yml`) and uses the settings to configure the solver to be used later. For more information on the settings, see Tutorial 6.\n",
    "\n",
    "\n",
    "\n"
   ]
  },
  {
   "cell_type": "code",
   "execution_count": 9,
   "id": "65e35646",
   "metadata": {},
   "outputs": [
    {
     "data": {
      "text/plain": [
       "MathOptInterface.OptimizerWithAttributes"
      ]
     },
     "execution_count": 9,
     "metadata": {},
     "output_type": "execute_result"
    }
   ],
   "source": [
    "typeof(OPTIMIZER)"
   ]
  },
  {
   "cell_type": "markdown",
   "id": "c5bdf90a",
   "metadata": {},
   "source": [
    "The \"inputs\" argument is generated by the function `load_inputs` from the case in `run_genx_case_simple` (or multistage). If TDR is set to 1 in the settings file, then `load_inputs` will draw some of the files from the `TDR_Results` folder. `TDR_Results` is produced when the case is run. "
   ]
  },
  {
   "cell_type": "code",
   "execution_count": 10,
   "id": "f8a83eac",
   "metadata": {},
   "outputs": [
    {
     "name": "stdout",
     "output_type": "stream",
     "text": [
      "Reading Input CSV Files\n",
      "Network.csv Successfully Read!\n",
      "Demand (load) data Successfully Read!\n",
      "Fuels_data.csv Successfully Read!\n",
      "\n",
      "Summary of resources loaded into the model:\n",
      "-------------------------------------------------------\n",
      "\tResource type \t\tNumber of resources\n",
      "=======================================================\n",
      "\tThermal        \t\t3\n",
      "\tVRE            \t\t4\n",
      "\tStorage        \t\t3\n",
      "=======================================================\n",
      "Total number of resources: 10\n",
      "-------------------------------------------------------\n",
      "Generators_variability.csv Successfully Read!\n",
      "Validating time basis\n",
      "Minimum_capacity_requirement.csv Successfully Read!\n",
      "CO2_cap.csv Successfully Read!\n",
      "CSV Files Successfully Read In From example_systems/1_three_zones\n"
     ]
    },
    {
     "name": "stderr",
     "output_type": "stream",
     "text": [
      "\u001b[36m\u001b[1m[ \u001b[22m\u001b[39m\u001b[36m\u001b[1mInfo: \u001b[22m\u001b[39mThermal.csv Successfully Read.\n",
      "\u001b[36m\u001b[1m[ \u001b[22m\u001b[39m\u001b[36m\u001b[1mInfo: \u001b[22m\u001b[39mVre.csv Successfully Read.\n",
      "\u001b[36m\u001b[1m[ \u001b[22m\u001b[39m\u001b[36m\u001b[1mInfo: \u001b[22m\u001b[39mStorage.csv Successfully Read.\n"
     ]
    },
    {
     "data": {
      "text/plain": [
       "Dict{Any, Any} with 73 entries:\n",
       "  \"Z\"                         => 3\n",
       "  \"LOSS_LINES\"                => [1, 2]\n",
       "  \"STOR_HYDRO_SHORT_DURATION\" => Int64[]\n",
       "  \"RET_CAP_CHARGE\"            => Set{Int64}()\n",
       "  \"pC_D_Curtail\"              => [50.0, 45.0, 27.5, 10.0]\n",
       "  \"pTrans_Max_Possible\"       => [5.9, 4.0]\n",
       "  \"pNet_Map\"                  => [1.0 -1.0 0.0; 1.0 0.0 -1.0]\n",
       "  \"omega\"                     => [4.01099, 4.01099, 4.01099, 4.01099, 4.01099, …\n",
       "  \"pMax_Line_Reinforcement\"   => [2.95, 2.0]\n",
       "  \"RET_CAP_ENERGY\"            => Int64[]\n",
       "  \"RESOURCES\"                 => AbstractResource[…\n",
       "  \"COMMIT\"                    => [1, 2, 3]\n",
       "  \"pMax_D_Curtail\"            => [1.0, 0.04, 0.024, 0.003]\n",
       "  \"STOR_ALL\"                  => [8, 9, 10]\n",
       "  \"THERM_ALL\"                 => [1, 2, 3]\n",
       "  \"dfCO2CapZones\"             => [1 0 0; 0 1 0; 0 0 1]\n",
       "  \"REP_PERIOD\"                => 11\n",
       "  \"MinCapReq\"                 => [5.0, 10.0, 6.0]\n",
       "  \"PWFU_Num_Segments\"         => 0\n",
       "  \"STOR_LONG_DURATION\"        => Int64[]\n",
       "  \"THERM_COMMIT_PWFU\"         => Int64[]\n",
       "  \"STOR_SYMMETRIC\"            => [8, 9, 10]\n",
       "  \"VRE\"                       => [4, 5, 6, 7]\n",
       "  \"RETRO\"                     => Int64[]\n",
       "  \"THERM_COMMIT\"              => [1, 2, 3]\n",
       "  ⋮                           => ⋮"
      ]
     },
     "execution_count": 10,
     "metadata": {},
     "output_type": "execute_result"
    }
   ],
   "source": [
    "inputs = GenX.load_inputs(setup, case)"
   ]
  },
  {
   "cell_type": "markdown",
   "id": "24a94e66",
   "metadata": {},
   "source": [
    "Now that we have our arguments, we're ready to generate the model itself."
   ]
  },
  {
   "cell_type": "markdown",
   "id": "bc356489",
   "metadata": {},
   "source": [
    "#### Run generate_model <a id=\"Run\"></a>"
   ]
  },
  {
   "cell_type": "markdown",
   "id": "98296933",
   "metadata": {},
   "source": [
    "This subsection replicates the arguments in the function `generate_model`.  __Note:__ Running some of these cells for a second time will throw an error as the code will attempt to define a new expression with the name of an existing expression. To run the Tutorial again, clear and restart the kernel."
   ]
  },
  {
   "cell_type": "markdown",
   "id": "18dca755",
   "metadata": {},
   "source": [
    " First, we initialize a model and define the time step and zone variables"
   ]
  },
  {
   "cell_type": "code",
   "execution_count": 11,
   "id": "b41f9a6f",
   "metadata": {},
   "outputs": [
    {
     "data": {
      "text/plain": [
       "A JuMP Model\n",
       "Feasibility problem with:\n",
       "Variables: 0\n",
       "Model mode: AUTOMATIC\n",
       "CachingOptimizer state: EMPTY_OPTIMIZER\n",
       "Solver name: HiGHS"
      ]
     },
     "execution_count": 11,
     "metadata": {},
     "output_type": "execute_result"
    }
   ],
   "source": [
    "EP = Model(OPTIMIZER)  # From JuMP"
   ]
  },
  {
   "cell_type": "code",
   "execution_count": 12,
   "id": "d7706343",
   "metadata": {},
   "outputs": [],
   "source": [
    "T = inputs[\"T\"];   # Number of time steps (hours)\n",
    "Z = inputs[\"Z\"];   # Number of zones"
   ]
  },
  {
   "cell_type": "markdown",
   "id": "3fe89ab5",
   "metadata": {},
   "source": [
    "Next, the dummy variable vZERO, the objective function, the power balance expression, and zone generation expression are all initialized to zero:"
   ]
  },
  {
   "cell_type": "code",
   "execution_count": 13,
   "id": "36181aca",
   "metadata": {},
   "outputs": [
    {
     "data": {
      "text/plain": [
       "3×1848 Matrix{Int64}:\n",
       " 0  0  0  0  0  0  0  0  0  0  0  0  0  …  0  0  0  0  0  0  0  0  0  0  0  0\n",
       " 0  0  0  0  0  0  0  0  0  0  0  0  0     0  0  0  0  0  0  0  0  0  0  0  0\n",
       " 0  0  0  0  0  0  0  0  0  0  0  0  0     0  0  0  0  0  0  0  0  0  0  0  0"
      ]
     },
     "execution_count": 13,
     "metadata": {},
     "output_type": "execute_result"
    }
   ],
   "source": [
    "# Introduce dummy variable fixed to zero to ensure that expressions like eTotalCap,\n",
    "# eTotalCapCharge, eTotalCapEnergy and eAvail_Trans_Cap all have a JuMP variable\n",
    "@variable(EP, vZERO == 0);\n",
    "\n",
    "# Initialize Power Balance Expression\n",
    "# Expression for \"baseline\" power balance constraint\n",
    "@expression(EP, ePowerBalance[t=1:T, z=1:Z], 0)\n",
    "\n",
    "# Initialize Objective Function Expression\n",
    "@expression(EP, eObj, 0)\n",
    "\n",
    "# Initialize Total Generation per Zone\n",
    "@expression(EP, eGenerationByZone[z=1:Z, t=1:T], 0)"
   ]
  },
  {
   "cell_type": "markdown",
   "id": "97724c39",
   "metadata": {},
   "source": [
    "Next, we go through some of the settings in setup and, if they've been set to be utilized (i.e. have a nonzero value), define expressions from their corresponding input files:"
   ]
  },
  {
   "cell_type": "code",
   "execution_count": 14,
   "id": "640cce10",
   "metadata": {},
   "outputs": [],
   "source": [
    "if setup[\"CapacityReserveMargin\"] > 0\n",
    "    @expression(EP, eCapResMarBalance[res=1:inputs[\"NCapacityReserveMargin\"], t=1:T], 0)\n",
    "end\n",
    "\n",
    "if setup[\"EnergyShareRequirement\"] >= 1\n",
    "    @expression(EP, eESR[ESR=1:inputs[\"nESR\"]], 0)\n",
    "end\n",
    "\n",
    "if setup[\"MinCapReq\"] == 1\n",
    "    @expression(EP, eMinCapRes[mincap = 1:inputs[\"NumberOfMinCapReqs\"]], 0)\n",
    "end\n",
    "\n",
    "if setup[\"MaxCapReq\"] == 1\n",
    "    @expression(EP, eMaxCapRes[maxcap = 1:inputs[\"NumberOfMaxCapReqs\"]], 0)\n",
    "end"
   ]
  },
  {
   "cell_type": "markdown",
   "id": "1ba991ce",
   "metadata": {},
   "source": [
    "The other settings will be used later on."
   ]
  },
  {
   "cell_type": "markdown",
   "id": "b08c6390",
   "metadata": {},
   "source": [
    "Next, we define the model infrastructure using functions found in `src/core`. These take entries from inputs and setup to create more expressions in our model (EP). To see what the functions do in more detail, see the source code and <a href=\"https://genxproject.github.io/GenX/dev/core/#Discharge\" target=\"_blank\">core documentation</a>."
   ]
  },
  {
   "cell_type": "code",
   "execution_count": 15,
   "id": "c170ed0d",
   "metadata": {},
   "outputs": [
    {
     "name": "stdout",
     "output_type": "stream",
     "text": [
      "Discharge Module\n"
     ]
    },
    {
     "ename": "LoadError",
     "evalue": "MethodError: no method matching add_to_expression!(::Int64, ::AffExpr)\n\n\u001b[0mClosest candidates are:\n\u001b[0m  add_to_expression!(\u001b[91m::GenericNonlinearExpr\u001b[39m, ::Any...)\n\u001b[0m\u001b[90m   @\u001b[39m \u001b[36mJuMP\u001b[39m \u001b[90m~/.julia/packages/JuMP/HjlGr/src/\u001b[39m\u001b[90m\u001b[4mnlp_expr.jl:1147\u001b[24m\u001b[39m\n\u001b[0m  add_to_expression!(\u001b[91m::GenericAffExpr{S, V}\u001b[39m, ::GenericAffExpr{T, V}) where {S, T, V}\n\u001b[0m\u001b[90m   @\u001b[39m \u001b[36mJuMP\u001b[39m \u001b[90m~/.julia/packages/JuMP/HjlGr/src/\u001b[39m\u001b[90m\u001b[4maff_expr.jl:442\u001b[24m\u001b[39m\n\u001b[0m  add_to_expression!(\u001b[91m::GenericAffExpr{C, V}\u001b[39m, ::GenericAffExpr{C, V}, \u001b[91m::Union{Number, LinearAlgebra.UniformScaling}\u001b[39m) where {C, V}\n\u001b[0m\u001b[90m   @\u001b[39m \u001b[36mJuMP\u001b[39m \u001b[90m~/.julia/packages/JuMP/HjlGr/src/\u001b[39m\u001b[90m\u001b[4maff_expr.jl:501\u001b[24m\u001b[39m\n\u001b[0m  ...\n",
     "output_type": "error",
     "traceback": [
      "MethodError: no method matching add_to_expression!(::Int64, ::AffExpr)\n\n\u001b[0mClosest candidates are:\n\u001b[0m  add_to_expression!(\u001b[91m::GenericNonlinearExpr\u001b[39m, ::Any...)\n\u001b[0m\u001b[90m   @\u001b[39m \u001b[36mJuMP\u001b[39m \u001b[90m~/.julia/packages/JuMP/HjlGr/src/\u001b[39m\u001b[90m\u001b[4mnlp_expr.jl:1147\u001b[24m\u001b[39m\n\u001b[0m  add_to_expression!(\u001b[91m::GenericAffExpr{S, V}\u001b[39m, ::GenericAffExpr{T, V}) where {S, T, V}\n\u001b[0m\u001b[90m   @\u001b[39m \u001b[36mJuMP\u001b[39m \u001b[90m~/.julia/packages/JuMP/HjlGr/src/\u001b[39m\u001b[90m\u001b[4maff_expr.jl:442\u001b[24m\u001b[39m\n\u001b[0m  add_to_expression!(\u001b[91m::GenericAffExpr{C, V}\u001b[39m, ::GenericAffExpr{C, V}, \u001b[91m::Union{Number, LinearAlgebra.UniformScaling}\u001b[39m) where {C, V}\n\u001b[0m\u001b[90m   @\u001b[39m \u001b[36mJuMP\u001b[39m \u001b[90m~/.julia/packages/JuMP/HjlGr/src/\u001b[39m\u001b[90m\u001b[4maff_expr.jl:501\u001b[24m\u001b[39m\n\u001b[0m  ...\n",
      "",
      "Stacktrace:",
      " [1] discharge!(EP::Model, inputs::Dict{Any, Any}, setup::Dict{Any, Any})",
      "   @ GenX ~/.julia/packages/GenX/o3fha/src/model/core/discharge/discharge.jl:37",
      " [2] top-level scope",
      "   @ In[15]:2"
     ]
    }
   ],
   "source": [
    "# Infrastructure\n",
    "GenX.discharge!(EP, inputs, setup)\n",
    "\n",
    "GenX.non_served_energy!(EP, inputs, setup)\n",
    "\n",
    "GenX.investment_discharge!(EP, inputs, setup)\n",
    "\n",
    "if setup[\"UCommit\"] > 0\n",
    "    GenX.ucommit!(EP, inputs, setup)\n",
    "end\n",
    "\n",
    "GenX.emissions!(EP, inputs)\n",
    "\n",
    "if setup[\"Reserves\"] > 0\n",
    "    GenX.reserves!(EP, inputs, setup)\n",
    "end\n",
    "\n",
    "if Z > 1\n",
    "    GenX.transmission!(EP, inputs, setup)\n",
    "end\n"
   ]
  },
  {
   "cell_type": "markdown",
   "id": "c0f9189b",
   "metadata": {},
   "source": [
    "We then define variables and expressions based on the resources in the inputs and setup arguments. The details of these can be found in the `src/resources` folder and the \"Resources\" folder under Model Function Reference in the documentation:"
   ]
  },
  {
   "cell_type": "code",
   "execution_count": null,
   "id": "e1778e61",
   "metadata": {},
   "outputs": [],
   "source": [
    "# Technologies\n",
    "# Model constraints, variables, expression related to dispatchable renewable resources\n",
    "\n",
    "if !isempty(inputs[\"VRE\"])\n",
    "    GenX.curtailable_variable_renewable!(EP, inputs, setup)\n",
    "end\n",
    "\n",
    "# Model constraints, variables, expression related to non-dispatchable renewable resources\n",
    "if !isempty(inputs[\"MUST_RUN\"])\n",
    "    GenX/must_run!(EP, inputs, setup)\n",
    "end\n",
    "\n",
    "# Model constraints, variables, expression related to energy storage modeling\n",
    "if !isempty(inputs[\"STOR_ALL\"])\n",
    "    GenX.storage!(EP, inputs, setup)\n",
    "end\n",
    "\n",
    "# Model constraints, variables, expression related to reservoir hydropower resources\n",
    "if !isempty(inputs[\"HYDRO_RES\"])\n",
    "    GenX.hydro_res!(EP, inputs, setup)\n",
    "end\n",
    "\n",
    "# Model constraints, variables, expression related to reservoir hydropower resources with long duration storage\n",
    "if inputs[\"REP_PERIOD\"] > 1 && !isempty(inputs[\"STOR_HYDRO_LONG_DURATION\"])\n",
    "    GenX.hydro_inter_period_linkage!(EP, inputs)\n",
    "end\n",
    "\n",
    "# Model constraints, variables, expression related to demand flexibility resources\n",
    "if !isempty(inputs[\"FLEX\"])\n",
    "    GenX.flexible_demand!(EP, inputs, setup)\n",
    "end\n",
    "\n",
    "# Model constraints, variables, expression related to thermal resource technologies\n",
    "if !isempty(inputs[\"THERM_ALL\"])\n",
    "    GenX.thermal!(EP, inputs, setup)\n",
    "end\n",
    "\n",
    "# Model constraints, variables, expression related to retrofit technologies\n",
    "if !isempty(inputs[\"RETRO\"])\n",
    "    EP = GenX.retrofit(EP, inputs)\n",
    "end\n"
   ]
  },
  {
   "cell_type": "markdown",
   "id": "117c71c7",
   "metadata": {},
   "source": [
    "Finally, we define expressions and variables using policies outlined in the inputs. These functions can be found in `src/policies` and in the <a href=\"https://genxproject.github.io/GenX/dev/policies/\" target=\"_blank\">policies documentation</a>:"
   ]
  },
  {
   "cell_type": "code",
   "execution_count": null,
   "id": "94104a91",
   "metadata": {},
   "outputs": [],
   "source": [
    "# Policies\n",
    "# CO2 emissions limits\n",
    "#if setup[\"CO2Cap\"] > 0\n",
    " #   GenX.co2_cap!(EP, inputs, setup)\n",
    "#end\n",
    "\n",
    "# Endogenous Retirements\n",
    "if setup[\"MultiStage\"] > 0\n",
    "    GenX.endogenous_retirement!(EP, inputs, setup)\n",
    "end\n",
    "\n",
    "# Energy Share Requirement\n",
    "if setup[\"EnergyShareRequirement\"] >= 1\n",
    "    GenX.energy_share_requirement!(EP, inputs, setup)\n",
    "end\n",
    "\n",
    "#Capacity Reserve Margin\n",
    "if setup[\"CapacityReserveMargin\"] > 0\n",
    "    GenX.cap_reserve_margin!(EP, inputs, setup)\n",
    "end\n",
    "\n",
    "if (setup[\"MinCapReq\"] == 1)\n",
    "    GenX.minimum_capacity_requirement!(EP, inputs, setup)\n",
    "end\n",
    "\n",
    "if setup[\"MaxCapReq\"] == 1\n",
    "    GenX.maximum_capacity_requirement!(EP, inputs, setup)\n",
    "end\n"
   ]
  },
  {
   "cell_type": "markdown",
   "id": "75f5d07e",
   "metadata": {},
   "source": [
    "The expressions and variables for the model have all been defined! All that's left to do is define the constraints and objective function."
   ]
  },
  {
   "cell_type": "markdown",
   "id": "e7aaf306",
   "metadata": {},
   "source": [
    "The  <a href=\"https://genxproject.github.io/GenX/dev/objective_function/\" target=\"_blank\">objective</a>  here is to minimize "
   ]
  },
  {
   "cell_type": "code",
   "execution_count": null,
   "id": "73427d72",
   "metadata": {},
   "outputs": [],
   "source": [
    "@objective(EP,Min,EP[:eObj])"
   ]
  },
  {
   "cell_type": "markdown",
   "id": "681de783",
   "metadata": {},
   "source": [
    "Our constraint is the <a href=\"https://genxproject.github.io/GenX/dev/power_balance/#Power-Balancewhich \" target=\"_blank\">power balance</a>, which is set here to have to meet the demand of the network. The demand is outlined in the last columns of `Load_data.csv`, and is set to inputs in from the `load_load_data` function within `load_inputs`, used in `run_genx_case`."
   ]
  },
  {
   "cell_type": "code",
   "execution_count": null,
   "id": "2fb0c14a",
   "metadata": {},
   "outputs": [],
   "source": [
    "## Power balance constraints\n",
    "# demand = generation + storage discharge - storage charge - demand deferral + deferred demand satisfaction - demand curtailment (NSE)\n",
    "#          + incoming power flows - outgoing power flows - flow losses - charge of heat storage + generation from NACC\n",
    "@constraint(EP, cPowerBalance[t=1:T, z=1:Z], EP[:ePowerBalance][t,z] == inputs[\"pD\"][t,z])\n"
   ]
  },
  {
   "cell_type": "markdown",
   "id": "92ebe939",
   "metadata": {},
   "source": [
    "After this final constraint is defined, `generate_model` finishes compiling the EP, and `run_genx_simple` (or multistage) uses `solve_model` to solve the EP. This will be described in Tutorial 5."
   ]
  },
  {
   "cell_type": "code",
   "execution_count": null,
   "id": "a05c6f3b",
   "metadata": {},
   "outputs": [],
   "source": []
  }
 ],
 "metadata": {
  "@webio": {
   "lastCommId": null,
   "lastKernelId": null
  },
  "kernelspec": {
   "display_name": "Julia 1.9.2",
   "language": "julia",
   "name": "julia-1.9"
  },
  "language_info": {
   "file_extension": ".jl",
   "mimetype": "application/julia",
   "name": "julia",
   "version": "1.9.2"
  }
 },
 "nbformat": 4,
 "nbformat_minor": 5
}
