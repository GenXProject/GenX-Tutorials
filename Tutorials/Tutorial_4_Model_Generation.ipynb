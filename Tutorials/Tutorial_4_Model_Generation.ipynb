{
 "cells": [
  {
   "cell_type": "markdown",
   "id": "ba6a05de",
   "metadata": {},
   "source": [
    "# Tutorial 4: Model Generation"
   ]
  },
  {
   "cell_type": "markdown",
   "id": "e1dac019",
   "metadata": {},
   "source": [
    "To run GenX, we use the file `Run.jl`. This file will solve the optimization problem and generate the output files as described in the documentation and previous tutorial. It does so by first generating the model, then solving the model, both according to settings described in `genx_settings.yml`. However, `Run.jl` only contains one commmand, `run_genx_case!(dirname(@__FILE__))`. This can be confusing for users viewing the files for the first time. In reality, this function signals many more functions to run, generating and solving the model. This tutorial explains how the model in GenX is generated. The next tutorial will then describe how it is solved."
   ]
  },
  {
   "cell_type": "markdown",
   "id": "e3ee0f53",
   "metadata": {},
   "source": [
    "We'll start by explaining JuMP, the optimization package that GenX uses to generate and solve the model."
   ]
  },
  {
   "cell_type": "markdown",
   "id": "a4d346c0",
   "metadata": {},
   "source": [
    "### JuMP "
   ]
  },
  {
   "cell_type": "markdown",
   "id": "3156389f",
   "metadata": {},
   "source": [
    "<img src=\"files/jump_logo.png\" style=\"width: 450px; height: auto\" align=\"left\">"
   ]
  },
  {
   "cell_type": "markdown",
   "id": "a05a2287",
   "metadata": {},
   "source": [
    "JuMP is a modeling language for Julia. It allows users to create models for optimization problems, define variables and constraints, and apply a variety of solvers for the model. "
   ]
  },
  {
   "cell_type": "markdown",
   "id": "fb8d6bdc",
   "metadata": {},
   "source": [
    "GenX is a __Linear Program (LP)__, which is a form of optimization problem in which a linear objective is minimized (or maximized) according to a set of linear constraints. For more information on LPs, see the <a href=\"https://en.wikipedia.org/wiki/Linear_programming\" target=\"_blank\">Wikipedia</a>. "
   ]
  },
  {
   "cell_type": "code",
   "execution_count": 1,
   "id": "a9ef6dcd",
   "metadata": {},
   "outputs": [],
   "source": [
    "using JuMP\n",
    "using HiGHS"
   ]
  },
  {
   "cell_type": "markdown",
   "id": "08cc4fbb",
   "metadata": {},
   "source": [
    "Let's say we want to build a power grid consisting of and coal and wind plants. We want to decrease the cost of producing energy while still meeting a certain emissions threshold and full grid demand. Coal plants are cheaper to build and run but have higher emissions than wind farms. To find the minimum cost of a power grid meeting these constraints, we construct an LP using JuMP."
   ]
  },
  {
   "cell_type": "markdown",
   "id": "6b27efe5",
   "metadata": {},
   "source": [
    "\\begin{align}\n",
    "& \\min 10 x + 15 y &\\text{Objective function (cost)}\\\\ \n",
    "& \\text{s.t.} & \\\\\n",
    "& x + y \\geq 10 &\\text{Grid Demand}\\\\\n",
    "& 55x + 120y \\leq \\ 1000 &\\text{Construction constraint}\\\\\n",
    "& 20 x + 5 y \\leq 550 &\\text{Emissions constraint} \\\\\n",
    "& x, y \\geq 0 &\\text{Non-negativity constraints}\\\\\n",
    "\\end{align}\n",
    "\n"
   ]
  },
  {
   "cell_type": "markdown",
   "id": "3352aec3",
   "metadata": {},
   "source": [
    "The core of the JuMP model is the function `Model()`, which creates the structure of our LP. `Model()` takes an optimizer as its input."
   ]
  },
  {
   "cell_type": "code",
   "execution_count": 2,
   "id": "a9945823",
   "metadata": {},
   "outputs": [
    {
     "data": {
      "text/plain": [
       "A JuMP Model\n",
       "Feasibility problem with:\n",
       "Variables: 0\n",
       "Model mode: AUTOMATIC\n",
       "CachingOptimizer state: EMPTY_OPTIMIZER\n",
       "Solver name: HiGHS"
      ]
     },
     "execution_count": 2,
     "metadata": {},
     "output_type": "execute_result"
    }
   ],
   "source": [
    "power = Model(HiGHS.Optimizer)"
   ]
  },
  {
   "cell_type": "markdown",
   "id": "bfc8c191",
   "metadata": {},
   "source": [
    "The model needs variables, defined using the JuMP function `@variable`:"
   ]
  },
  {
   "cell_type": "code",
   "execution_count": 3,
   "id": "32a200e2",
   "metadata": {},
   "outputs": [
    {
     "data": {
      "text/latex": [
       "$ y $"
      ],
      "text/plain": [
       "y"
      ]
     },
     "execution_count": 3,
     "metadata": {},
     "output_type": "execute_result"
    }
   ],
   "source": [
    "@variable(power,x) # Coal\n",
    "@variable(power,y) # Wind"
   ]
  },
  {
   "cell_type": "markdown",
   "id": "74622269",
   "metadata": {},
   "source": [
    "Using the JuMP function `@constraint`, we can add the constraints of the model:"
   ]
  },
  {
   "cell_type": "code",
   "execution_count": 4,
   "id": "1aa690b4",
   "metadata": {},
   "outputs": [
    {
     "data": {
      "text/latex": [
       "$$ x + y \\geq 10 $$"
      ],
      "text/plain": [
       "demand : x + y ≥ 10"
      ]
     },
     "execution_count": 4,
     "metadata": {},
     "output_type": "execute_result"
    }
   ],
   "source": [
    "@constraint(power, non_neg_x, x >= 0) # Non-negativity constraint (can't have negative power plants!)\n",
    "@constraint(power, non_neg_y, y >= 0) # Non-negativity constraint\n",
    "\n",
    "@constraint(power, emissions, 20x + 5y <= 550) # Emisisons constraint\n",
    "@constraint(power, construction_costs, 55x + 120y <= 1000) # Cost of constructing a new plant\n",
    "\n",
    "@constraint(power, demand, x + y >= 10) # Grid demand\n"
   ]
  },
  {
   "cell_type": "markdown",
   "id": "3f866173",
   "metadata": {},
   "source": [
    "Next, the function `@expression` defines an expression that can be used in either a constraint or objective function. In GenX, expressions are defined throughout the model generation and put into constraints and the objective function later."
   ]
  },
  {
   "cell_type": "code",
   "execution_count": 5,
   "id": "c28c6c46",
   "metadata": {},
   "outputs": [
    {
     "data": {
      "text/latex": [
       "$ 10 x + 15 y $"
      ],
      "text/plain": [
       "10 x + 15 y"
      ]
     },
     "execution_count": 5,
     "metadata": {},
     "output_type": "execute_result"
    }
   ],
   "source": [
    "@expression(power,objective,10x+15y)"
   ]
  },
  {
   "cell_type": "markdown",
   "id": "3dc98c35",
   "metadata": {},
   "source": [
    "Finally, we define the objective function itself:"
   ]
  },
  {
   "cell_type": "code",
   "execution_count": 6,
   "id": "7521881d",
   "metadata": {},
   "outputs": [
    {
     "data": {
      "text/latex": [
       "$ 10 x + 15 y $"
      ],
      "text/plain": [
       "10 x + 15 y"
      ]
     },
     "execution_count": 6,
     "metadata": {},
     "output_type": "execute_result"
    }
   ],
   "source": [
    "@objective(power, Min, objective)"
   ]
  },
  {
   "cell_type": "markdown",
   "id": "4527886e",
   "metadata": {},
   "source": [
    "Our model is now set up! "
   ]
  },
  {
   "cell_type": "code",
   "execution_count": 7,
   "id": "399e2977",
   "metadata": {},
   "outputs": [
    {
     "data": {
      "text/latex": [
       "$$ \\begin{aligned}\n",
       "\\min\\quad & 10 x + 15 y\\\\\n",
       "\\text{Subject to} \\quad & x \\geq 0\\\\\n",
       " & y \\geq 0\\\\\n",
       " & x + y \\geq 10\\\\\n",
       " & 20 x + 5 y \\leq 550\\\\\n",
       " & 55 x + 120 y \\leq 1000\\\\\n",
       "\\end{aligned} $$"
      ]
     },
     "metadata": {},
     "output_type": "display_data"
    }
   ],
   "source": [
    "print(power)"
   ]
  },
  {
   "cell_type": "markdown",
   "id": "5c5d3583",
   "metadata": {},
   "source": [
    "In the next Tutorial, we go over how to use JuMP to solve the model we've constructed."
   ]
  },
  {
   "cell_type": "markdown",
   "id": "f5703912",
   "metadata": {},
   "source": [
    "When `Run.jl` is called, the model for GenX is constructed in a similar way, but with many more factors to consider. The next section goes over how the GenX model is constructed before it is solved."
   ]
  },
  {
   "cell_type": "markdown",
   "id": "62728894",
   "metadata": {},
   "source": [
    "### Generate Model"
   ]
  },
  {
   "cell_type": "markdown",
   "id": "1cd9bce5",
   "metadata": {},
   "source": [
    "The basic structure of the way `Run.jl` generates and solves the model is as follows:"
   ]
  },
  {
   "cell_type": "markdown",
   "id": "a2ff61f5",
   "metadata": {},
   "source": [
    "<img src=\"files/LatexHierarchy.png\" style=\"width: 650px; height: auto\" align=\"left\">"
   ]
  },
  {
   "cell_type": "markdown",
   "id": "57d6ae0c",
   "metadata": {},
   "source": [
    "The function `run_genx_case(case)` takes the \"case\" as its input. The case is all of the input files and settings found in the same folder as `Run.jl`. For example, in `SmallNewEngland/OneZone`, the case is:"
   ]
  },
  {
   "cell_type": "markdown",
   "id": "9fc15b3b",
   "metadata": {},
   "source": [
    "<img src=\"files/OneZoneCase.png\" style=\"width: auto; height: 500px\" align=\"left\">"
   ]
  },
  {
   "cell_type": "markdown",
   "id": "69dc6e2b",
   "metadata": {},
   "source": [
    "`Run_genx_case` defines the __setup__, which are the settings in `genx_settings.yml`. From there, either `run_genx_case_simple(case, mysetup)` or`run_genx_case_multistage(case, mysetup)` is called. Both of these define the __inputs__ and __optimizer__. The optimizer is the solver as specified in `genx_settings.yml`, and the inputs are a variety of parameters specified by the settings and csv files found in the folder. Both of these functions then call `generate_model(mysetup, myinputs, OPTIMIZER)`, which is the main subject of this tutorial."
   ]
  },
  {
   "cell_type": "markdown",
   "id": "3d36b816",
   "metadata": {},
   "source": [
    "As in the above example, `generate_model` utilizes the JuMP functions `Model()`, `@expression`, `@variable`, and `@constraints` to form a model. This section goes through `generate_model` and explains how the expressions are formed to create the model."
   ]
  },
  {
   "cell_type": "markdown",
   "id": "80b29206",
   "metadata": {},
   "source": [
    "#### Arguments"
   ]
  },
  {
   "cell_type": "markdown",
   "id": "7cd1edbf",
   "metadata": {},
   "source": [
    "`Generate_model` takes three arguments: setup, inputs, and optimizer:"
   ]
  },
  {
   "cell_type": "markdown",
   "id": "5b27948a",
   "metadata": {},
   "source": [
    "To generate the arguments, we have to set a case path (this is set automatically when `Run.jl` is called):"
   ]
  },
  {
   "cell_type": "code",
   "execution_count": 9,
   "id": "8163a1d3",
   "metadata": {},
   "outputs": [],
   "source": [
    "using GenX"
   ]
  },
  {
   "cell_type": "code",
   "execution_count": 10,
   "id": "84251e21",
   "metadata": {},
   "outputs": [
    {
     "data": {
      "text/plain": [
       "\"Example_Systems_Tutorials/SmallNewEngland/OneZone\""
      ]
     },
     "execution_count": 10,
     "metadata": {},
     "output_type": "execute_result"
    }
   ],
   "source": [
    "case = joinpath(\"Example_Systems_Tutorials/SmallNewEngland/OneZone\") "
   ]
  },
  {
   "cell_type": "markdown",
   "id": "d1c872b5",
   "metadata": {},
   "source": [
    "Setup includes the settings from `genx_settings.yml` along with the default settings found in `configure_settings.jl`. The function `configure_settings` combines the two."
   ]
  },
  {
   "cell_type": "code",
   "execution_count": 11,
   "id": "42da44fc",
   "metadata": {},
   "outputs": [
    {
     "name": "stdout",
     "output_type": "stream",
     "text": [
      "Configuring Settings\n"
     ]
    },
    {
     "data": {
      "text/plain": [
       "Dict{Any, Any} with 24 entries:\n",
       "  \"NetworkExpansion\"                        => 0\n",
       "  \"TimeDomainReductionFolder\"               => \"TDR_Results\"\n",
       "  \"EnableJuMPStringNames\"                   => false\n",
       "  \"Trans_Loss_Segments\"                     => 1\n",
       "  \"ModelingtoGenerateAlternativeSlack\"      => 0.1\n",
       "  \"Solver\"                                  => \"HiGHS\"\n",
       "  \"Reserves\"                                => 0\n",
       "  \"MultiStage\"                              => 0\n",
       "  \"OverwriteResults\"                        => 0\n",
       "  \"ModelingToGenerateAlternatives\"          => 0\n",
       "  \"MaxCapReq\"                               => 1\n",
       "  \"MinCapReq\"                               => 1\n",
       "  \"CO2Cap\"                                  => 2\n",
       "  \"WriteShadowPrices\"                       => 1\n",
       "  \"ModelingToGenerateAlternativeIterations\" => 3\n",
       "  \"ParameterScale\"                          => 1\n",
       "  \"EnergyShareRequirement\"                  => 1\n",
       "  \"PrintModel\"                              => 0\n",
       "  \"TimeDomainReduction\"                     => 1\n",
       "  \"CapacityReserveMargin\"                   => 1\n",
       "  \"MethodofMorris\"                          => 0\n",
       "  \"StorageLosses\"                           => 1\n",
       "  \"IncludeLossesInESR\"                      => 0\n",
       "  \"UCommit\"                                 => 2"
      ]
     },
     "execution_count": 11,
     "metadata": {},
     "output_type": "execute_result"
    }
   ],
   "source": [
    "genx_settings = GenX.get_settings_path(case, \"genx_settings.yml\") # Settings YAML file path\n",
    "setup = GenX.configure_settings(genx_settings) # Combines genx_settings with defaults not specified in the file"
   ]
  },
  {
   "cell_type": "markdown",
   "id": "da83ff82",
   "metadata": {},
   "source": [
    "The optimizer argument is taken from setup:"
   ]
  },
  {
   "cell_type": "code",
   "execution_count": 23,
   "id": "c2048713",
   "metadata": {},
   "outputs": [],
   "source": [
    "settings_path = GenX.get_settings_path(case)\n",
    "# Goes into highs settings -- separate notebook\n",
    "OPTIMIZER =  GenX.configure_solver(setup[\"Solver\"], settings_path);"
   ]
  },
  {
   "cell_type": "markdown",
   "id": "efbe1a98",
   "metadata": {},
   "source": [
    "The function `configure_solver` converts the string from \"Solver\" to a <a href=\"https://jump.dev/MathOptInterface.jl/stable/\" target=\"_blank\">MathOptInterface</a> optimizer so it can be used in the JuMP model as the optimizer. It also goes into the settings file for the specified solver (in this case HiGHS, so `OneZone/Settings/highs_settings.yml`) and uses the settings to configure the solver to be used later.\n",
    "\n",
    "\n",
    "\n"
   ]
  },
  {
   "cell_type": "code",
   "execution_count": 54,
   "id": "65e35646",
   "metadata": {},
   "outputs": [
    {
     "data": {
      "text/plain": [
       "MathOptInterface.OptimizerWithAttributes"
      ]
     },
     "execution_count": 54,
     "metadata": {},
     "output_type": "execute_result"
    }
   ],
   "source": [
    "typeof(OPTIMIZER)"
   ]
  },
  {
   "cell_type": "markdown",
   "id": "c5bdf90a",
   "metadata": {},
   "source": [
    "The \"inputs\" argument is generated by the function `load_inputs` from the case in `run_genx_case_simple` (or multistage). If TDR is set to 1 in the settings file, then `load_inputs` will draw some of the files from the `TDR_Results` folder. `TDR_Results` is produced when the case is run. "
   ]
  },
  {
   "cell_type": "code",
   "execution_count": 55,
   "id": "f8a83eac",
   "metadata": {},
   "outputs": [
    {
     "name": "stdout",
     "output_type": "stream",
     "text": [
      "Reading Input CSV Files\n",
      "Network.csv Successfully Read!\n",
      "Load_data.csv Successfully Read!\n",
      "Fuels_data.csv Successfully Read!\n",
      "Generators_data.csv Successfully Read!\n",
      "Generators_variability.csv Successfully Read!\n",
      "Validating time basis\n",
      "Capacity_reserve_margin.csv Successfully Read!\n",
      "Minimum_capacity_requirement.csv Successfully Read!\n",
      "Maximum_capacity_requirement.csv Successfully Read!\n",
      "Energy_share_requirement.csv Successfully Read!\n",
      "CO2_cap.csv Successfully Read!\n",
      "CSV Files Successfully Read In From Example_Systems_Tutorials/SmallNewEngland/OneZone\n"
     ]
    },
    {
     "data": {
      "text/plain": [
       "Dict{Any, Any} with 66 entries:\n",
       "  \"Z\"                   => 1\n",
       "  \"LOSS_LINES\"          => [1]\n",
       "  \"RET_CAP_CHARGE\"      => Int64[]\n",
       "  \"pC_D_Curtail\"        => [50.0]\n",
       "  \"dfGen\"               => \u001b[1m4×68 DataFrame\u001b[0m\u001b[0m…\n",
       "  \"pTrans_Max_Possible\" => [2.95]\n",
       "  \"pNet_Map\"            => [1.0;;]\n",
       "  \"omega\"               => [1.00275, 1.00275, 1.00275, 1.00275, 1.00275, 1.0027…\n",
       "  \"RET_CAP_ENERGY\"      => [4]\n",
       "  \"RESOURCES\"           => String31[\"natural_gas_combined_cycle\", \"solar_pv\", \"…\n",
       "  \"COMMIT\"              => [1]\n",
       "  \"pMax_D_Curtail\"      => [1]\n",
       "  \"STOR_ALL\"            => [4]\n",
       "  \"THERM_ALL\"           => [1]\n",
       "  \"dfCO2CapZones\"       => [1;;]\n",
       "  \"REP_PERIOD\"          => 48\n",
       "  \"MinCapReq\"           => [5.0, 10.0, 6.0]\n",
       "  \"STOR_LONG_DURATION\"  => Int64[]\n",
       "  \"dfCapRes\"            => [0.156;;]\n",
       "  \"STOR_SYMMETRIC\"      => [4]\n",
       "  \"VRE\"                 => [2, 3]\n",
       "  \"RETRO\"               => Int64[]\n",
       "  \"THERM_COMMIT\"        => [1]\n",
       "  \"TRANS_LOSS_SEGS\"     => 1\n",
       "  \"H\"                   => 168\n",
       "  ⋮                     => ⋮"
      ]
     },
     "execution_count": 55,
     "metadata": {},
     "output_type": "execute_result"
    }
   ],
   "source": [
    "inputs = GenX.load_inputs(setup, case)"
   ]
  },
  {
   "cell_type": "markdown",
   "id": "24a94e66",
   "metadata": {},
   "source": [
    "Now that we have our arguments, we're ready to generate the model itself."
   ]
  },
  {
   "cell_type": "markdown",
   "id": "bc356489",
   "metadata": {},
   "source": [
    "#### Run generate_model"
   ]
  },
  {
   "cell_type": "markdown",
   "id": "98296933",
   "metadata": {},
   "source": [
    "This subsection replicates the arguments in the function `generate_model`. __Note:__ Running some of these cells for a second time will throw an error as the code will attempt to define a new expression with the name of an existing expression. To run the Tutorial again, clear and restart the kernel."
   ]
  },
  {
   "cell_type": "markdown",
   "id": "18dca755",
   "metadata": {},
   "source": [
    " First, we initialize a model and define the time step and zone variables"
   ]
  },
  {
   "cell_type": "code",
   "execution_count": 56,
   "id": "b41f9a6f",
   "metadata": {},
   "outputs": [
    {
     "data": {
      "text/plain": [
       "A JuMP Model\n",
       "Feasibility problem with:\n",
       "Variables: 0\n",
       "Model mode: AUTOMATIC\n",
       "CachingOptimizer state: EMPTY_OPTIMIZER\n",
       "Solver name: HiGHS"
      ]
     },
     "execution_count": 56,
     "metadata": {},
     "output_type": "execute_result"
    }
   ],
   "source": [
    "EP = Model(OPTIMIZER)  # From JuMP"
   ]
  },
  {
   "cell_type": "code",
   "execution_count": 57,
   "id": "d7706343",
   "metadata": {},
   "outputs": [],
   "source": [
    "T = inputs[\"T\"];   # Number of time steps (hours)\n",
    "Z = inputs[\"Z\"];   # Number of zones"
   ]
  },
  {
   "cell_type": "markdown",
   "id": "3fe89ab5",
   "metadata": {},
   "source": [
    "Next, the dummy variable vZERO, the objective function, the power balance expression, and zone generation expression are all initialized to zero:"
   ]
  },
  {
   "cell_type": "code",
   "execution_count": 59,
   "id": "36181aca",
   "metadata": {},
   "outputs": [
    {
     "ename": "LoadError",
     "evalue": "An object of name vZERO is already attached to this model. If this\n    is intended, consider using the anonymous construction syntax, e.g.,\n    `x = @variable(model, [1:N], ...)` where the name of the object does\n    not appear inside the macro.\n\n    Alternatively, use `unregister(model, :vZERO)` to first unregister\n    the existing name from the model. Note that this will not delete the\n    object; it will just remove the reference at `model[:vZERO]`.\n",
     "output_type": "error",
     "traceback": [
      "An object of name vZERO is already attached to this model. If this\n    is intended, consider using the anonymous construction syntax, e.g.,\n    `x = @variable(model, [1:N], ...)` where the name of the object does\n    not appear inside the macro.\n\n    Alternatively, use `unregister(model, :vZERO)` to first unregister\n    the existing name from the model. Note that this will not delete the\n    object; it will just remove the reference at `model[:vZERO]`.\n",
      "",
      "Stacktrace:",
      " [1] error(s::String)",
      "   @ Base ./error.jl:35",
      " [2] _error_if_cannot_register(model::Model, name::Symbol)",
      "   @ JuMP ~/.julia/packages/JuMP/027Gt/src/macros.jl:393",
      " [3] macro expansion",
      "   @ ~/.julia/packages/JuMP/027Gt/src/macros.jl:382 [inlined]",
      " [4] top-level scope",
      "   @ In[59]:3"
     ]
    }
   ],
   "source": [
    "# Introduce dummy variable fixed to zero to ensure that expressions like eTotalCap,\n",
    "# eTotalCapCharge, eTotalCapEnergy and eAvail_Trans_Cap all have a JuMP variable\n",
    "@variable(EP, vZERO == 0);\n",
    "\n",
    "# Initialize Power Balance Expression\n",
    "# Expression for \"baseline\" power balance constraint\n",
    "@expression(EP, ePowerBalance[t=1:T, z=1:Z], 0)\n",
    "\n",
    "# Initialize Objective Function Expression\n",
    "@expression(EP, eObj, 0)\n",
    "\n",
    "# Initialize Total Generation per Zone\n",
    "@expression(EP, eGenerationByZone[z=1:Z, t=1:T], 0)"
   ]
  },
  {
   "cell_type": "markdown",
   "id": "97724c39",
   "metadata": {},
   "source": [
    "Next, we go through some of the settings in setup and, if they've been set to be utilized (i.e. have a nonzero value), define expressions from their corresponding input files:"
   ]
  },
  {
   "cell_type": "code",
   "execution_count": 60,
   "id": "640cce10",
   "metadata": {},
   "outputs": [
    {
     "data": {
      "text/plain": [
       "3-element Vector{Int64}:\n",
       " 0\n",
       " 0\n",
       " 0"
      ]
     },
     "execution_count": 60,
     "metadata": {},
     "output_type": "execute_result"
    }
   ],
   "source": [
    "if setup[\"CapacityReserveMargin\"] > 0\n",
    "    @expression(EP, eCapResMarBalance[res=1:inputs[\"NCapacityReserveMargin\"], t=1:T], 0)\n",
    "end\n",
    "\n",
    "if setup[\"EnergyShareRequirement\"] >= 1\n",
    "    @expression(EP, eESR[ESR=1:inputs[\"nESR\"]], 0)\n",
    "end\n",
    "\n",
    "if setup[\"MinCapReq\"] == 1\n",
    "    @expression(EP, eMinCapRes[mincap = 1:inputs[\"NumberOfMinCapReqs\"]], 0)\n",
    "end\n",
    "\n",
    "if setup[\"MaxCapReq\"] == 1\n",
    "    @expression(EP, eMaxCapRes[maxcap = 1:inputs[\"NumberOfMaxCapReqs\"]], 0)\n",
    "end"
   ]
  },
  {
   "cell_type": "markdown",
   "id": "1ba991ce",
   "metadata": {},
   "source": [
    "The other settings will be used later on."
   ]
  },
  {
   "cell_type": "markdown",
   "id": "b08c6390",
   "metadata": {},
   "source": [
    "Next, we define the model infrastructure using functions found in `src/core`. These take entries from inputs and setup to create more expressions in our model (EP). To see what the functions do in more detail, see the source code and <a href=\"https://genxproject.github.io/GenX/dev/core/#Discharge\" target=\"_blank\">core documentation</a>."
   ]
  },
  {
   "cell_type": "code",
   "execution_count": 61,
   "id": "c170ed0d",
   "metadata": {},
   "outputs": [
    {
     "name": "stdout",
     "output_type": "stream",
     "text": [
      "Discharge Module\n",
      "Non-served Energy Module\n",
      "Investment Discharge Module\n",
      "Unit Commitment Module\n",
      "Emissions Module (for CO2 Policy modularization\n"
     ]
    }
   ],
   "source": [
    "# Infrastructure\n",
    "GenX.discharge!(EP, inputs, setup)\n",
    "\n",
    "GenX.non_served_energy!(EP, inputs, setup)\n",
    "\n",
    "GenX.investment_discharge!(EP, inputs, setup)\n",
    "\n",
    "if setup[\"UCommit\"] > 0\n",
    "    GenX.ucommit!(EP, inputs, setup)\n",
    "end\n",
    "\n",
    "GenX.emissions!(EP, inputs)\n",
    "\n",
    "if setup[\"Reserves\"] > 0\n",
    "    GenX.reserves!(EP, inputs, setup)\n",
    "end\n",
    "\n",
    "if Z > 1\n",
    "    GenX.transmission!(EP, inputs, setup)\n",
    "end\n"
   ]
  },
  {
   "cell_type": "markdown",
   "id": "c0f9189b",
   "metadata": {},
   "source": [
    "We then define variables and expressions based on the resources in the inputs and setup arguments. The details of these can be found in the `src/resources` folder and the \"Resources\" folder under Model Function Reference in the documentation:"
   ]
  },
  {
   "cell_type": "code",
   "execution_count": 62,
   "id": "e1778e61",
   "metadata": {},
   "outputs": [
    {
     "name": "stdout",
     "output_type": "stream",
     "text": [
      "Dispatchable Resources Module\n",
      "Storage Resources Module\n",
      "Storage Investment Module\n",
      "Storage Core Resources Module\n",
      "Storage Resources with Symmetric Charge/Discharge Capacity Module\n",
      "Thermal (Unit Commitment) Resources Module\n"
     ]
    }
   ],
   "source": [
    "# Technologies\n",
    "# Model constraints, variables, expression related to dispatchable renewable resources\n",
    "\n",
    "if !isempty(inputs[\"VRE\"])\n",
    "    GenX.curtailable_variable_renewable!(EP, inputs, setup)\n",
    "end\n",
    "\n",
    "# Model constraints, variables, expression related to non-dispatchable renewable resources\n",
    "if !isempty(inputs[\"MUST_RUN\"])\n",
    "    GenX/must_run!(EP, inputs, setup)\n",
    "end\n",
    "\n",
    "# Model constraints, variables, expression related to energy storage modeling\n",
    "if !isempty(inputs[\"STOR_ALL\"])\n",
    "    GenX.storage!(EP, inputs, setup)\n",
    "end\n",
    "\n",
    "# Model constraints, variables, expression related to reservoir hydropower resources\n",
    "if !isempty(inputs[\"HYDRO_RES\"])\n",
    "    GenX.hydro_res!(EP, inputs, setup)\n",
    "end\n",
    "\n",
    "# Model constraints, variables, expression related to reservoir hydropower resources with long duration storage\n",
    "if inputs[\"REP_PERIOD\"] > 1 && !isempty(inputs[\"STOR_HYDRO_LONG_DURATION\"])\n",
    "    GenX.hydro_inter_period_linkage!(EP, inputs)\n",
    "end\n",
    "\n",
    "# Model constraints, variables, expression related to demand flexibility resources\n",
    "if !isempty(inputs[\"FLEX\"])\n",
    "    GenX.flexible_demand!(EP, inputs, setup)\n",
    "end\n",
    "\n",
    "# Model constraints, variables, expression related to thermal resource technologies\n",
    "if !isempty(inputs[\"THERM_ALL\"])\n",
    "    GenX.thermal!(EP, inputs, setup)\n",
    "end\n",
    "\n",
    "# Model constraints, variables, expression related to retrofit technologies\n",
    "if !isempty(inputs[\"RETRO\"])\n",
    "    EP = GenX.retrofit(EP, inputs)\n",
    "end\n"
   ]
  },
  {
   "cell_type": "markdown",
   "id": "117c71c7",
   "metadata": {},
   "source": [
    "Finally, we define expressions and variables using policies outlined in the inputs. These functions can be found in `src/policies` and in the <a href=\"https://genxproject.github.io/GenX/dev/policies/\" target=\"_blank\">policies documentation</a>:"
   ]
  },
  {
   "cell_type": "code",
   "execution_count": 63,
   "id": "94104a91",
   "metadata": {},
   "outputs": [
    {
     "name": "stdout",
     "output_type": "stream",
     "text": [
      "C02 Policies Module\n",
      "Energy Share Requirement Policies Module\n",
      "Capacity Reserve Margin Policies Module\n",
      "Minimum Capacity Requirement Module\n",
      "Maximum Capacity Requirement Module\n"
     ]
    },
    {
     "data": {
      "text/plain": [
       "3-element Vector{ConstraintRef{Model, MathOptInterface.ConstraintIndex{MathOptInterface.ScalarAffineFunction{Float64}, MathOptInterface.LessThan{Float64}}, ScalarShape}}:\n",
       " cZoneMaxCapReq[1] : -vRETCAP[2] + vCAP[2] ≤ 50\n",
       " cZoneMaxCapReq[2] : -vRETCAP[3] + vCAP[3] ≤ 100\n",
       " cZoneMaxCapReq[3] : -vRETCAP[4] + vCAP[4] ≤ 60"
      ]
     },
     "execution_count": 63,
     "metadata": {},
     "output_type": "execute_result"
    }
   ],
   "source": [
    "# Policies\n",
    "# CO2 emissions limits\n",
    "if setup[\"CO2Cap\"] > 0\n",
    "    GenX.co2_cap!(EP, inputs, setup)\n",
    "end\n",
    "\n",
    "# Endogenous Retirements\n",
    "if setup[\"MultiStage\"] > 0\n",
    "    GenX.endogenous_retirement!(EP, inputs, setup)\n",
    "end\n",
    "\n",
    "# Energy Share Requirement\n",
    "if setup[\"EnergyShareRequirement\"] >= 1\n",
    "    GenX.energy_share_requirement!(EP, inputs, setup)\n",
    "end\n",
    "\n",
    "#Capacity Reserve Margin\n",
    "if setup[\"CapacityReserveMargin\"] > 0\n",
    "    GenX.cap_reserve_margin!(EP, inputs, setup)\n",
    "end\n",
    "\n",
    "if (setup[\"MinCapReq\"] == 1)\n",
    "    GenX.minimum_capacity_requirement!(EP, inputs, setup)\n",
    "end\n",
    "\n",
    "if setup[\"MaxCapReq\"] == 1\n",
    "    GenX.maximum_capacity_requirement!(EP, inputs, setup)\n",
    "end\n"
   ]
  },
  {
   "cell_type": "markdown",
   "id": "75f5d07e",
   "metadata": {},
   "source": [
    "The expressions and variables for the model have all been defined! All that's left to do is define the constraints and objective function."
   ]
  },
  {
   "cell_type": "markdown",
   "id": "e7aaf306",
   "metadata": {},
   "source": [
    "The  <a href=\"https://genxproject.github.io/GenX/dev/objective_function/\" target=\"_blank\">objective</a>  here is to minimize "
   ]
  },
  {
   "cell_type": "code",
   "execution_count": 64,
   "id": "73427d72",
   "metadata": {},
   "outputs": [
    {
     "data": {
      "text/latex": [
       "$ 0.04289792857142858 vP_{1,1} + 0.0001002747252747253 vP_{3,1} + 0.00015041208791208792 vP_{4,1} + 0.04289792857142858 vP_{1,2} + 0.0001002747252747253 vP_{3,2} + 0.00015041208791208792 vP_{4,2} + 0.04289792857142858 vP_{1,3} + 0.0001002747252747253 vP_{3,3} + 0.00015041208791208792 vP_{4,3} + 0.04289792857142858 vP_{1,4} + 0.0001002747252747253 vP_{3,4} + 0.00015041208791208792 vP_{4,4} + 0.04289792857142858 vP_{1,5} + 0.0001002747252747253 vP_{3,5} + 0.00015041208791208792 vP_{4,5} + 0.04289792857142858 vP_{1,6} + 0.0001002747252747253 vP_{3,6} + 0.00015041208791208792 vP_{4,6} + 0.04289792857142858 vP_{1,7} + 0.0001002747252747253 vP_{3,7} + 0.00015041208791208792 vP_{4,7} + 0.04289792857142858 vP_{1,8} + 0.0001002747252747253 vP_{3,8} + 0.00015041208791208792 vP_{4,8} + 0.04289792857142858 vP_{1,9} + 0.0001002747252747253 vP_{3,9} + 0.00015041208791208792 vP_{4,9} + 0.04289792857142858 vP_{1,10} + 0.0001002747252747253 vP_{3,10} + 0.00015041208791208792 vP_{4,10} + [[\\ldots\\text{48334 terms omitted}\\ldots]] + 0.00015041208791208792 vCHARGE_{4,8035} + 0.00015041208791208792 vCHARGE_{4,8036} + 0.00015041208791208792 vCHARGE_{4,8037} + 0.00015041208791208792 vCHARGE_{4,8038} + 0.00015041208791208792 vCHARGE_{4,8039} + 0.00015041208791208792 vCHARGE_{4,8040} + 0.00015041208791208792 vCHARGE_{4,8041} + 0.00015041208791208792 vCHARGE_{4,8042} + 0.00015041208791208792 vCHARGE_{4,8043} + 0.00015041208791208792 vCHARGE_{4,8044} + 0.00015041208791208792 vCHARGE_{4,8045} + 0.00015041208791208792 vCHARGE_{4,8046} + 0.00015041208791208792 vCHARGE_{4,8047} + 0.00015041208791208792 vCHARGE_{4,8048} + 0.00015041208791208792 vCHARGE_{4,8049} + 0.00015041208791208792 vCHARGE_{4,8050} + 0.00015041208791208792 vCHARGE_{4,8051} + 0.00015041208791208792 vCHARGE_{4,8052} + 0.00015041208791208792 vCHARGE_{4,8053} + 0.00015041208791208792 vCHARGE_{4,8054} + 0.00015041208791208792 vCHARGE_{4,8055} + 0.00015041208791208792 vCHARGE_{4,8056} + 0.00015041208791208792 vCHARGE_{4,8057} + 0.00015041208791208792 vCHARGE_{4,8058} + 0.00015041208791208792 vCHARGE_{4,8059} + 0.00015041208791208792 vCHARGE_{4,8060} + 0.00015041208791208792 vCHARGE_{4,8061} + 0.00015041208791208792 vCHARGE_{4,8062} + 0.00015041208791208792 vCHARGE_{4,8063} + 0.00015041208791208792 vCHARGE_{4,8064} $"
      ],
      "text/plain": [
       "0.04289792857142858 vP[1,1] + 0.0001002747252747253 vP[3,1] + 0.00015041208791208792 vP[4,1] + 0.04289792857142858 vP[1,2] + 0.0001002747252747253 vP[3,2] + 0.00015041208791208792 vP[4,2] + 0.04289792857142858 vP[1,3] + 0.0001002747252747253 vP[3,3] + 0.00015041208791208792 vP[4,3] + 0.04289792857142858 vP[1,4] + 0.0001002747252747253 vP[3,4] + 0.00015041208791208792 vP[4,4] + 0.04289792857142858 vP[1,5] + 0.0001002747252747253 vP[3,5] + 0.00015041208791208792 vP[4,5] + 0.04289792857142858 vP[1,6] + 0.0001002747252747253 vP[3,6] + 0.00015041208791208792 vP[4,6] + 0.04289792857142858 vP[1,7] + 0.0001002747252747253 vP[3,7] + 0.00015041208791208792 vP[4,7] + 0.04289792857142858 vP[1,8] + 0.0001002747252747253 vP[3,8] + 0.00015041208791208792 vP[4,8] + 0.04289792857142858 vP[1,9] + 0.0001002747252747253 vP[3,9] + 0.00015041208791208792 vP[4,9] + 0.04289792857142858 vP[1,10] + 0.0001002747252747253 vP[3,10] + 0.00015041208791208792 vP[4,10] + [[...48334 terms omitted...]] + 0.00015041208791208792 vCHARGE[4,8035] + 0.00015041208791208792 vCHARGE[4,8036] + 0.00015041208791208792 vCHARGE[4,8037] + 0.00015041208791208792 vCHARGE[4,8038] + 0.00015041208791208792 vCHARGE[4,8039] + 0.00015041208791208792 vCHARGE[4,8040] + 0.00015041208791208792 vCHARGE[4,8041] + 0.00015041208791208792 vCHARGE[4,8042] + 0.00015041208791208792 vCHARGE[4,8043] + 0.00015041208791208792 vCHARGE[4,8044] + 0.00015041208791208792 vCHARGE[4,8045] + 0.00015041208791208792 vCHARGE[4,8046] + 0.00015041208791208792 vCHARGE[4,8047] + 0.00015041208791208792 vCHARGE[4,8048] + 0.00015041208791208792 vCHARGE[4,8049] + 0.00015041208791208792 vCHARGE[4,8050] + 0.00015041208791208792 vCHARGE[4,8051] + 0.00015041208791208792 vCHARGE[4,8052] + 0.00015041208791208792 vCHARGE[4,8053] + 0.00015041208791208792 vCHARGE[4,8054] + 0.00015041208791208792 vCHARGE[4,8055] + 0.00015041208791208792 vCHARGE[4,8056] + 0.00015041208791208792 vCHARGE[4,8057] + 0.00015041208791208792 vCHARGE[4,8058] + 0.00015041208791208792 vCHARGE[4,8059] + 0.00015041208791208792 vCHARGE[4,8060] + 0.00015041208791208792 vCHARGE[4,8061] + 0.00015041208791208792 vCHARGE[4,8062] + 0.00015041208791208792 vCHARGE[4,8063] + 0.00015041208791208792 vCHARGE[4,8064]"
      ]
     },
     "execution_count": 64,
     "metadata": {},
     "output_type": "execute_result"
    }
   ],
   "source": [
    "@objective(EP,Min,EP[:eObj])"
   ]
  },
  {
   "cell_type": "markdown",
   "id": "681de783",
   "metadata": {},
   "source": [
    "Our constraint is the <a href=\"https://genxproject.github.io/GenX/dev/power_balance/#Power-Balancewhich \" target=\"_blank\">power balance</a>, which is set here to have to meet the demand of the network. The demand is outlined in the last columns of `Load_data.csv`, and is set to inputs in from the `load_load_data` function within `load_inputs`, used in `run_genx_case`."
   ]
  },
  {
   "cell_type": "code",
   "execution_count": 65,
   "id": "2fb0c14a",
   "metadata": {},
   "outputs": [
    {
     "data": {
      "text/plain": [
       "8064×1 Matrix{ConstraintRef{Model, MathOptInterface.ConstraintIndex{MathOptInterface.ScalarAffineFunction{Float64}, MathOptInterface.EqualTo{Float64}}, ScalarShape}}:\n",
       " cPowerBalance[1,1] : vP[1,1] + vP[2,1] + vP[3,1] + vP[4,1] + vNSE[1,1,1] - vCHARGE[4,1] = 11.162\n",
       " cPowerBalance[2,1] : vP[1,2] + vP[2,2] + vP[3,2] + vP[4,2] + vNSE[1,2,1] - vCHARGE[4,2] = 10.556\n",
       " cPowerBalance[3,1] : vP[1,3] + vP[2,3] + vP[3,3] + vP[4,3] + vNSE[1,3,1] - vCHARGE[4,3] = 10.105\n",
       " cPowerBalance[4,1] : vP[1,4] + vP[2,4] + vP[3,4] + vP[4,4] + vNSE[1,4,1] - vCHARGE[4,4] = 9.878\n",
       " cPowerBalance[5,1] : vP[1,5] + vP[2,5] + vP[3,5] + vP[4,5] + vNSE[1,5,1] - vCHARGE[4,5] = 9.843\n",
       " cPowerBalance[6,1] : vP[1,6] + vP[2,6] + vP[3,6] + vP[4,6] + vNSE[1,6,1] - vCHARGE[4,6] = 10.017\n",
       " cPowerBalance[7,1] : vP[1,7] + vP[2,7] + vP[3,7] + vP[4,7] + vNSE[1,7,1] - vCHARGE[4,7] = 10.39\n",
       " cPowerBalance[8,1] : vP[1,8] + vP[2,8] + vP[3,8] + vP[4,8] + vNSE[1,8,1] - vCHARGE[4,8] = 10.727\n",
       " cPowerBalance[9,1] : vP[1,9] + vP[2,9] + vP[3,9] + vP[4,9] + vNSE[1,9,1] - vCHARGE[4,9] = 11.298\n",
       " cPowerBalance[10,1] : vP[1,10] + vP[2,10] + vP[3,10] + vP[4,10] + vNSE[1,10,1] - vCHARGE[4,10] = 11.859\n",
       " cPowerBalance[11,1] : vP[1,11] + vP[2,11] + vP[3,11] + vP[4,11] + vNSE[1,11,1] - vCHARGE[4,11] = 12.196\n",
       " cPowerBalance[12,1] : vP[1,12] + vP[2,12] + vP[3,12] + vP[4,12] + vNSE[1,12,1] - vCHARGE[4,12] = 12.321\n",
       " cPowerBalance[13,1] : vP[1,13] + vP[2,13] + vP[3,13] + vP[4,13] + vNSE[1,13,1] - vCHARGE[4,13] = 12.381\n",
       " ⋮\n",
       " cPowerBalance[8053,1] : vP[1,8053] + vP[2,8053] + vP[3,8053] + vP[4,8053] + vNSE[1,8053,1] - vCHARGE[4,8053] = 14.448\n",
       " cPowerBalance[8054,1] : vP[1,8054] + vP[2,8054] + vP[3,8054] + vP[4,8054] + vNSE[1,8054,1] - vCHARGE[4,8054] = 14.34\n",
       " cPowerBalance[8055,1] : vP[1,8055] + vP[2,8055] + vP[3,8055] + vP[4,8055] + vNSE[1,8055,1] - vCHARGE[4,8055] = 14.221\n",
       " cPowerBalance[8056,1] : vP[1,8056] + vP[2,8056] + vP[3,8056] + vP[4,8056] + vNSE[1,8056,1] - vCHARGE[4,8056] = 14.341\n",
       " cPowerBalance[8057,1] : vP[1,8057] + vP[2,8057] + vP[3,8057] + vP[4,8057] + vNSE[1,8057,1] - vCHARGE[4,8057] = 15.635\n",
       " cPowerBalance[8058,1] : vP[1,8058] + vP[2,8058] + vP[3,8058] + vP[4,8058] + vNSE[1,8058,1] - vCHARGE[4,8058] = 16.803\n",
       " cPowerBalance[8059,1] : vP[1,8059] + vP[2,8059] + vP[3,8059] + vP[4,8059] + vNSE[1,8059,1] - vCHARGE[4,8059] = 16.745\n",
       " cPowerBalance[8060,1] : vP[1,8060] + vP[2,8060] + vP[3,8060] + vP[4,8060] + vNSE[1,8060,1] - vCHARGE[4,8060] = 16.333\n",
       " cPowerBalance[8061,1] : vP[1,8061] + vP[2,8061] + vP[3,8061] + vP[4,8061] + vNSE[1,8061,1] - vCHARGE[4,8061] = 15.872\n",
       " cPowerBalance[8062,1] : vP[1,8062] + vP[2,8062] + vP[3,8062] + vP[4,8062] + vNSE[1,8062,1] - vCHARGE[4,8062] = 15.076\n",
       " cPowerBalance[8063,1] : vP[1,8063] + vP[2,8063] + vP[3,8063] + vP[4,8063] + vNSE[1,8063,1] - vCHARGE[4,8063] = 14.028\n",
       " cPowerBalance[8064,1] : vP[1,8064] + vP[2,8064] + vP[3,8064] + vP[4,8064] + vNSE[1,8064,1] - vCHARGE[4,8064] = 12.925"
      ]
     },
     "execution_count": 65,
     "metadata": {},
     "output_type": "execute_result"
    }
   ],
   "source": [
    "## Power balance constraints\n",
    "# demand = generation + storage discharge - storage charge - demand deferral + deferred demand satisfaction - demand curtailment (NSE)\n",
    "#          + incoming power flows - outgoing power flows - flow losses - charge of heat storage + generation from NACC\n",
    "@constraint(EP, cPowerBalance[t=1:T, z=1:Z], EP[:ePowerBalance][t,z] == inputs[\"pD\"][t,z])\n"
   ]
  },
  {
   "cell_type": "markdown",
   "id": "92ebe939",
   "metadata": {},
   "source": [
    "After this final constraint is defined, `generate_model` finishes compiling the EP, and `run_genx_simple` (or multistage) uses `solve_model` to solve the EP. This will be described in Tutorial 5."
   ]
  },
  {
   "cell_type": "code",
   "execution_count": 38,
   "id": "a8871a09",
   "metadata": {
    "scrolled": true
   },
   "outputs": [
    {
     "name": "stdout",
     "output_type": "stream",
     "text": [
      "Running HiGHS 1.6.0: Copyright (c) 2023 HiGHS under MIT licence terms\n",
      "Presolving model\n",
      "157007 rows, 76364 cols, 595249 nonzeros\n",
      "152388 rows, 71749 cols, 587432 nonzeros\n",
      "Presolve : Reductions: rows 152388(-25036); columns 71749(-8903); elements 587432(-137358)\n",
      "Solving the presolved LP\n",
      "Using EKK dual simplex solver - serial\n",
      "  Iteration        Objective     Infeasibilities num(sum)\n",
      "          0    -4.4974988214e+00 Ph1: 210(1059.56); Du: 25(4.4975) 0s\n",
      "      14403     3.7321888741e+03 Pr: 19197(364547); Du: 0(0.00425049) 5s\n",
      "      27459     4.4285103696e+03 Pr: 19383(17297.9); Du: 0(0.00517012) 10s\n",
      "      34564     4.5820458045e+03 Pr: 20937(370009); Du: 0(0.00245122) 16s\n",
      "      39641     5.2847085429e+03 Pr: 23964(141513); Du: 0(0.0016621) 21s\n",
      "      45351     6.1477702795e+03 Pr: 22936(393380); Du: 0(0.00202401) 26s\n",
      "      49026     6.8126518125e+03 Pr: 19326(109347); Du: 0(0.00227764) 31s\n",
      "      52496     7.3790256984e+03 Pr: 19370(36507.3); Du: 0(0.00230824) 37s\n",
      "      55932     7.8636010108e+03 Pr: 45048(161870); Du: 0(0.00279086) 42s\n",
      "      59122     8.1054243540e+03 Pr: 18934(67457.9); Du: 0(0.00309782) 48s\n",
      "      62021     8.3237018021e+03 Pr: 28642(830310); Du: 0(0.00320288) 54s\n",
      "      65218     8.5252697855e+03 Pr: 16052(21700.7); Du: 0(0.00352675) 60s\n",
      "      67822     8.6901843225e+03 Pr: 29389(523530); Du: 0(0.00406562) 65s\n",
      "      71288     8.9884979235e+03 Pr: 11812(5910.84); Du: 0(0.00371068) 71s\n",
      "      74457     9.3669500194e+03 Pr: 12426(10446.7); Du: 0(0.0035647) 77s\n",
      "      77650     9.6214204468e+03 Pr: 25281(587124); Du: 0(0.00394983) 83s\n",
      "      80311     9.7598939819e+03 Pr: 13257(21774); Du: 0(0.0039294) 88s\n",
      "      83399     9.9595349570e+03 Pr: 24177(118757); Du: 0(0.00399379) 94s\n",
      "      86205     1.0134364845e+04 Pr: 12106(5302.69); Du: 0(0.00424874) 99s\n",
      "      89048     1.0212024086e+04 Pr: 63641(5.66955e+06); Du: 0(0.00442145) 104s\n",
      "      92512     1.0290103194e+04 Pr: 4894(785.84); Du: 0(0.00390938) 109s\n",
      "      95268     1.0350785249e+04 Pr: 4242(3626.11); Du: 0(0.00361522) 115s\n",
      "      98490     1.0413500226e+04 Pr: 74255(703198); Du: 0(0.00369287) 121s\n",
      "     101469     1.0439759986e+04 Pr: 18540(22163.4); Du: 0(0.0037265) 126s\n",
      "     102453     1.0441915052e+04 Pr: 0(0); Du: 0(6.26718e-06) 128s\n",
      "     102453     1.0441915052e+04 Pr: 0(0); Du: 0(6.26718e-06) 128s\n",
      "Using EKK dual simplex solver - serial\n",
      "  Iteration        Objective     Infeasibilities num(sum)\n",
      "     102453     1.0442842099e+04 Pr: 1(0.00138138); Du: 0(0.00713075) 128s\n",
      "     102455     1.0441915052e+04 Pr: 0(0); Du: 0(2.75762e-14) 128s\n",
      "     102455     1.0441915052e+04 Pr: 0(0); Du: 0(2.75762e-14) 128s\n",
      "Solving the original LP from the solution after postsolve\n",
      "Model   status      : Optimal\n",
      "Simplex   iterations: 102455\n",
      "Objective value     :  1.0441915052e+04\n",
      "HiGHS run time      :        128.44\n"
     ]
    }
   ],
   "source": [
    "optimize!(EP)"
   ]
  },
  {
   "cell_type": "code",
   "execution_count": 46,
   "id": "0d0b0afe",
   "metadata": {},
   "outputs": [
    {
     "data": {
      "text/plain": [
       "1-element Vector{Nothing}:\n",
       " nothing"
      ]
     },
     "execution_count": 46,
     "metadata": {},
     "output_type": "execute_result"
    }
   ],
   "source": [
    "fix.(EP[:vCO2Cap_slack],0.0)"
   ]
  },
  {
   "cell_type": "code",
   "execution_count": 47,
   "id": "771851af",
   "metadata": {},
   "outputs": [
    {
     "data": {
      "text/plain": [
       "1-element Vector{Nothing}:\n",
       " nothing"
      ]
     },
     "execution_count": 47,
     "metadata": {},
     "output_type": "execute_result"
    }
   ],
   "source": [
    "set_normalized_rhs.(EP[:cCO2Emissions_systemwide],0.0)"
   ]
  },
  {
   "cell_type": "code",
   "execution_count": 48,
   "id": "16a3f63b",
   "metadata": {},
   "outputs": [
    {
     "data": {
      "text/plain": [
       "1-element Vector{ConstraintRef{Model, MathOptInterface.ConstraintIndex{MathOptInterface.ScalarAffineFunction{Float64}, MathOptInterface.LessThan{Float64}}, ScalarShape}}:\n",
       " cCO2Emissions_systemwide[1] : 0.39531886538461547 vP[1,1] + 0.050137362637362654 vP[4,1] + 0.39531886538461547 vP[1,2] + 0.050137362637362654 vP[4,2] + 0.39531886538461547 vP[1,3] + 0.050137362637362654 vP[4,3] + 0.39531886538461547 vP[1,4] + 0.050137362637362654 vP[4,4] + 0.39531886538461547 vP[1,5] + 0.050137362637362654 vP[4,5] + 0.39531886538461547 vP[1,6] + 0.050137362637362654 vP[4,6] + 0.39531886538461547 vP[1,7] + 0.050137362637362654 vP[4,7] + 0.39531886538461547 vP[1,8] + 0.050137362637362654 vP[4,8] + 0.39531886538461547 vP[1,9] + 0.050137362637362654 vP[4,9] + 0.39531886538461547 vP[1,10] + 0.050137362637362654 vP[4,10] + 0.39531886538461547 vP[1,11] + 0.050137362637362654 vP[4,11] + 0.39531886538461547 vP[1,12] + 0.050137362637362654 vP[4,12] + 0.39531886538461547 vP[1,13] + 0.050137362637362654 vP[4,13] + 0.39531886538461547 vP[1,14] + 0.050137362637362654 vP[4,14] + 0.39531886538461547 vP[1,15] + 0.050137362637362654 vP[4,15] + [[...40261 terms omitted...]] - 0.050137362637362654 vCHARGE[4,8036] - 0.050137362637362654 vCHARGE[4,8037] - 0.050137362637362654 vCHARGE[4,8038] - 0.050137362637362654 vCHARGE[4,8039] - 0.050137362637362654 vCHARGE[4,8040] - 0.050137362637362654 vCHARGE[4,8041] - 0.050137362637362654 vCHARGE[4,8042] - 0.050137362637362654 vCHARGE[4,8043] - 0.050137362637362654 vCHARGE[4,8044] - 0.050137362637362654 vCHARGE[4,8045] - 0.050137362637362654 vCHARGE[4,8046] - 0.050137362637362654 vCHARGE[4,8047] - 0.050137362637362654 vCHARGE[4,8048] - 0.050137362637362654 vCHARGE[4,8049] - 0.050137362637362654 vCHARGE[4,8050] - 0.050137362637362654 vCHARGE[4,8051] - 0.050137362637362654 vCHARGE[4,8052] - 0.050137362637362654 vCHARGE[4,8053] - 0.050137362637362654 vCHARGE[4,8054] - 0.050137362637362654 vCHARGE[4,8055] - 0.050137362637362654 vCHARGE[4,8056] - 0.050137362637362654 vCHARGE[4,8057] - 0.050137362637362654 vCHARGE[4,8058] - 0.050137362637362654 vCHARGE[4,8059] - 0.050137362637362654 vCHARGE[4,8060] - 0.050137362637362654 vCHARGE[4,8061] - 0.050137362637362654 vCHARGE[4,8062] - 0.050137362637362654 vCHARGE[4,8063] - 0.050137362637362654 vCHARGE[4,8064] - vCO2Cap_slack[1] ≤ 0"
      ]
     },
     "execution_count": 48,
     "metadata": {},
     "output_type": "execute_result"
    }
   ],
   "source": [
    "EP[:cCO2Emissions_systemwide]"
   ]
  },
  {
   "cell_type": "code",
   "execution_count": 49,
   "id": "62db51f2",
   "metadata": {},
   "outputs": [
    {
     "name": "stdout",
     "output_type": "stream",
     "text": [
      "Solving LP without presolve or with basis\n",
      "Using EKK dual simplex solver - serial\n",
      "  Iteration        Objective     Infeasibilities num(sum)\n",
      "          0     1.3782725147e+04 Pr: 12632(27720.9); Du: 0(0.00358283) 55s\n",
      "       1619     1.4436193060e+04 Pr: 30309(2.63287e+06); Du: 0(0.00361683) 60s\n",
      "       3522     1.5242287444e+04 Pr: 12218(734005); Du: 0(0.00410721) 66s\n",
      "       5503     1.5494700178e+04 Pr: 9791(111884); Du: 0(0.00443937) 72s\n",
      "       7322     1.5972713586e+04 Pr: 3415(6396.61); Du: 0(0.00462718) 77s\n",
      "       9363     1.6155221298e+04 Pr: 0(0); Du: 0(0.00458984) 82s\n",
      "       9363     1.6154606217e+04 Pr: 0(0); Du: 0(7.6346e-12) 82s\n",
      "Model   status      : Optimal\n",
      "Simplex   iterations: 9363\n",
      "Objective value     :  1.6154606217e+04\n",
      "HiGHS run time      :         82.63\n"
     ]
    }
   ],
   "source": [
    "optimize!(EP)"
   ]
  },
  {
   "cell_type": "code",
   "execution_count": 51,
   "id": "0aa43fd6",
   "metadata": {},
   "outputs": [
    {
     "data": {
      "text/plain": [
       "1-element Vector{Float64}:\n",
       " 0.0"
      ]
     },
     "execution_count": 51,
     "metadata": {},
     "output_type": "execute_result"
    }
   ],
   "source": [
    "value.(EP[:vCO2Cap_slack])"
   ]
  },
  {
   "cell_type": "code",
   "execution_count": 52,
   "id": "c60aba1e",
   "metadata": {},
   "outputs": [
    {
     "data": {
      "text/plain": [
       "1×8064×1 Array{Float64, 3}:\n",
       "[:, :, 1] =\n",
       " 0.0  0.0  0.0  0.0  0.0  0.0  0.0  0.0  …  0.0  0.0  0.0  0.0  0.0  0.0  0.0"
      ]
     },
     "execution_count": 52,
     "metadata": {},
     "output_type": "execute_result"
    }
   ],
   "source": [
    "value.(EP[:vNSE])"
   ]
  },
  {
   "cell_type": "code",
   "execution_count": null,
   "id": "a05c6f3b",
   "metadata": {},
   "outputs": [],
   "source": []
  }
 ],
 "metadata": {
  "@webio": {
   "lastCommId": null,
   "lastKernelId": null
  },
  "kernelspec": {
   "display_name": "Julia 1.9.2",
   "language": "julia",
   "name": "julia-1.9"
  },
  "language_info": {
   "file_extension": ".jl",
   "mimetype": "application/julia",
   "name": "julia",
   "version": "1.9.2"
  }
 },
 "nbformat": 4,
 "nbformat_minor": 5
}
